{
 "cells": [
  {
   "cell_type": "code",
   "execution_count": 1,
   "id": "b040608c-b6b2-484a-97ec-0d2c3ae19811",
   "metadata": {},
   "outputs": [
    {
     "name": "stdout",
     "output_type": "stream",
     "text": [
      "The history saving thread hit an unexpected error (DatabaseError('database disk image is malformed',)).History will not be written to the database.\n"
     ]
    }
   ],
   "source": [
    "import os\n",
    "import matplotlib.pyplot as plt\n",
    "import datetime\n",
    "import time\n",
    "import matplotlib.gridspec as gridspec\n",
    "\n",
    "import numpy as np\n",
    "import pandas as pd\n",
    "import seaborn as sns\n",
    "\n",
    "from itertools import compress\n",
    "\n",
    "from helpers.expr_data_pickle5 import ExprDataPickle5 as ExprData\n",
    "from helpers.scale_data import ScaleData\n",
    "from helpers.similarity_nophase import SimilarityNoPhase as Similarity\n",
    "from helpers.feature_selection_nopearson import FeatureSelectionNoPearson as FeatureSelection\n",
    "\n",
    "from sklearn.metrics import accuracy_score, f1_score, precision_score, recall_score, classification_report, confusion_matrix\n",
    "\n",
    "import warnings\n",
    "warnings.filterwarnings(\"ignore\")"
   ]
  },
  {
   "cell_type": "code",
   "execution_count": 2,
   "id": "9bfa50a2-27bc-4d9e-bac2-fd57b5e49124",
   "metadata": {},
   "outputs": [],
   "source": [
    "import random\n",
    "np.random.seed(47907)\n",
    "random.seed(15213)"
   ]
  },
  {
   "cell_type": "code",
   "execution_count": 3,
   "id": "143a1999-c295-448b-a08f-2d7f4ee45f2f",
   "metadata": {},
   "outputs": [],
   "source": [
    "OVERALL_PLOT = False"
   ]
  },
  {
   "cell_type": "code",
   "execution_count": 4,
   "id": "69b597f4-f58e-480c-9856-b48fa0de744b",
   "metadata": {},
   "outputs": [],
   "source": [
    "# read in the performance metrics for each experiment\n",
    "data_all = ExprData()\n",
    "data_all.load_pickle()\n",
    "data_all = data_all.merge_tpch()\n",
    "data = data_all.remove_by_wlname(['xml', 'ycsb'])\n",
    "ycsb_data = data_all.remove_by_wlname(['xml', 'tpcc', 'tpch', 'twitter'])\n",
    "data = data.merge_tpch()"
   ]
  },
  {
   "cell_type": "code",
   "execution_count": 5,
   "id": "75d7eb4e-4754-466f-949a-d6725cf07912",
   "metadata": {},
   "outputs": [],
   "source": [
    "candid_idx = len(ycsb_data.wl_names) - 3\n",
    "all_groups = ['10', '11', '12']\n",
    "candidate_group = '10'\n",
    "ycsb_data = ycsb_data.remove_by_group([g for g in all_groups if g != candidate_group])"
   ]
  },
  {
   "cell_type": "code",
   "execution_count": 6,
   "id": "a63f0cd5-7796-4199-9720-0a9d91b719d1",
   "metadata": {},
   "outputs": [],
   "source": [
    "X_label = 'SKU'\n",
    "expr_label = 'EXPR'\n",
    "y_true_label = 'Y_TRUE'\n",
    "y_pred_label = 'Y_PRED'\n",
    "suffix_labels = ['_small', '_large']"
   ]
  },
  {
   "cell_type": "code",
   "execution_count": 7,
   "id": "f74f5e95-30ac-42ce-b1d8-6310c9b7a4c5",
   "metadata": {},
   "outputs": [
    {
     "name": "stdout",
     "output_type": "stream",
     "text": [
      "120 120 120 120\n"
     ]
    }
   ],
   "source": [
    "# similarity for all\n",
    "new_data = data.keep_complete_exprs()\n",
    "\n",
    "scaler = ScaleData()\n",
    "plan_mtxs, plan_col_ranges = scaler.scale(new_data.plan_mtxs)\n",
    "perf_mtxs, perf_col_ranges = scaler.scale(new_data.perf_mtxs)\n",
    "\n",
    "simi_calc_all = Similarity(new_data, plan_mtxs, plan_col_ranges, perf_mtxs, perf_col_ranges)\n",
    "simi_calc_all.calc_bined_mtx() # all plan features\n",
    "\n",
    "simi_calc = simi_calc_all\n",
    "fs = FeatureSelection(simi_calc)\n",
    "\n",
    "all_top_7 = fs.select_features(7, 'fANOVA', est_name=None, direction=None, feature_type=None)"
   ]
  },
  {
   "cell_type": "code",
   "execution_count": 8,
   "id": "0df02f90-bcd6-4342-9a00-cfce693deb80",
   "metadata": {},
   "outputs": [],
   "source": [
    "sampled_data = new_data.sample_data()"
   ]
  },
  {
   "cell_type": "code",
   "execution_count": 9,
   "id": "71e5e309-a1d7-4819-897b-4ce9d1c27e91",
   "metadata": {},
   "outputs": [],
   "source": [
    "data_by_type = sampled_data.split_by_type()"
   ]
  },
  {
   "cell_type": "code",
   "execution_count": 10,
   "id": "c0ec1e18-1336-4752-9197-e588b9cc17a5",
   "metadata": {},
   "outputs": [],
   "source": [
    "sampled_by_type = sampled_data.split_by_type()\n",
    "for ty, expr_set in sampled_by_type.items():\n",
    "    sub_by_term = expr_set.split_by_term()\n",
    "    sampled_by_type[ty] = sub_by_term"
   ]
  },
  {
   "cell_type": "code",
   "execution_count": 11,
   "id": "eec20f3a-879b-40e4-b01d-cfdae88bf47b",
   "metadata": {},
   "outputs": [],
   "source": [
    "def get_top_k_features(simi_calc, k=7):\n",
    "    # Use top-k feature from all features\n",
    "    fs = FeatureSelection(simi_calc)\n",
    "    \n",
    "    top_k = fs.select_features(k, 'fANOVA', est_name=None, direction=None, feature_type=None)\n",
    "    plan_top_k = fs.select_features(k, 'fANOVA', est_name=None, direction=None, feature_type='plan')\n",
    "    print(top_k)\n",
    "    print(plan_top_k)\n",
    "    return top_k, plan_top_k"
   ]
  },
  {
   "cell_type": "code",
   "execution_count": 12,
   "id": "fda868aa-4f7c-49e7-830e-9e92d05d5889",
   "metadata": {},
   "outputs": [],
   "source": [
    "def unroll_mtx(mtx):\n",
    "    return (mtx.T).ravel()"
   ]
  },
  {
   "cell_type": "code",
   "execution_count": 13,
   "id": "39a91724-4843-4ac3-8c50-f91d79646729",
   "metadata": {},
   "outputs": [],
   "source": [
    "def unroll_all(simi_calc, keep_dims):\n",
    "    ndarrs = [np.array(b[:, keep_dims].astype(float)) for b in simi_calc.cumulative_bined]\n",
    "    unrolled_ndarrs = np.array([unroll_mtx(b) for b in ndarrs])\n",
    "    return unrolled_ndarrs"
   ]
  },
  {
   "cell_type": "code",
   "execution_count": 14,
   "id": "86f50be2-f21d-46ce-b20b-65eed7e96283",
   "metadata": {},
   "outputs": [],
   "source": [
    "def get_cpu_nums_as_X(l):\n",
    "    return np.array([int(e[3:]) for e in l]).reshape(-1, 1)"
   ]
  },
  {
   "cell_type": "code",
   "execution_count": 15,
   "id": "4455fbfe-8ca0-4f27-90d1-6a475cb1d6cb",
   "metadata": {},
   "outputs": [],
   "source": [
    "def plot_prediction(dfs, method, show_fig=True):\n",
    "    # plot all trends \n",
    "    colors = ['#1b9e77','#7570b3','#d95f02','#e7298a']\n",
    "    fig, ax = plt.subplots()\n",
    "        \n",
    "    pred_label_add = False\n",
    "    # exprs = []\n",
    "    pred_color = colors[0]\n",
    "    overall_expr_label_add = False\n",
    "    expr_tracker = 0\n",
    "    for df in dfs:\n",
    "        expr_label_add = False\n",
    "        \n",
    "        expr_label_add = False\n",
    "        for _, row in df.iterrows():\n",
    "            run_color = colors[1+expr_tracker%3]\n",
    "            curr_x = [row[f'{X_label}{suffix}'] for suffix in suffix_labels]\n",
    "            expr_tracker += 1\n",
    "            true_y = [row[f'{y_true_label}{suffix}'] for suffix in suffix_labels]\n",
    "            pred_y = [row[f'{y_true_label}{suffix_labels[0]}'], row[f'{y_pred_label}{suffix_labels[1]}']]\n",
    "            \n",
    "            if not pred_label_add:\n",
    "                pred_label_add = True\n",
    "                pred_l = ax.plot(curr_x, pred_y, '-o', color=pred_color, linewidth=1, label='Predict_y')\n",
    "            else:\n",
    "                ax.plot(curr_x, pred_y, '-o', color=pred_color, linewidth=1)\n",
    "                \n",
    "            if not overall_expr_label_add:\n",
    "                if not expr_label_add and expr_tracker % 3 == 2:\n",
    "                    expr = ax.plot(curr_x, true_y, '-', color=run_color, alpha=0.5, linewidth=1.5, label='True_y')\n",
    "                    expr_label_add = True\n",
    "                else:\n",
    "                    ax.plot(curr_x, true_y, '-', color=run_color, alpha=0.5, linewidth=1.5, label='  ')\n",
    "            else:\n",
    "                ax.plot(curr_x, true_y, '-', color=run_color, alpha=0.5, linewidth=1.5)\n",
    "        overall_expr_label_add = True\n",
    "\n",
    "                \n",
    "    ax.set_xlabel('Num CPU')\n",
    "    ax.set_ylabel('Throughput')\n",
    "    \n",
    "    ax.axis('tight')\n",
    "    \n",
    "    # l = ax.legend([tuple(exprs), pred_l], ['True_y', 'Predict_y'])\n",
    "    plt.legend(bbox_to_anchor=(0,0.15), loc=\"lower left\")\n",
    "    plt.savefig(f'figs/prediction/ycs_pred_{method}.pdf', bbox_inches = 'tight')\n",
    "    if show_fig:\n",
    "        plt.show()\n",
    "    else:\n",
    "        plt.close() "
   ]
  },
  {
   "cell_type": "code",
   "execution_count": 16,
   "id": "652be4b2-5a71-41ef-a1e0-b91b8fbd5bc2",
   "metadata": {},
   "outputs": [],
   "source": [
    "'''\n",
    "Use a dictionary of models\n",
    "- key: (lower SKU, higher SKU)\n",
    "- value: model\n",
    "'''\n",
    "def predict(model_dicts, X, y_true, expr_idxs, method, show_fig=True):\n",
    "    overall_data = pd.DataFrame(zip(X, expr_idxs, y_true), columns=[X_label, expr_label, y_true_label])\n",
    "\n",
    "    # for each pair of SKU\n",
    "    num_cpus = np.sort(np.unique(X))\n",
    "    test_scores = []\n",
    "    models, datas_big, datas_small = [], [], []\n",
    "    dfs = []\n",
    "    \n",
    "    for i in range(len(num_cpus)):\n",
    "        for j in range(i, len(num_cpus)):\n",
    "            if i == j:\n",
    "                continue\n",
    "            cpu_a = num_cpus[i] # smaller\n",
    "            cpu_b = num_cpus[j] # larger\n",
    "            \n",
    "            curr_smaller = overall_data[overall_data[X_label] == cpu_a]\n",
    "            curr_bigger = overall_data[overall_data[X_label] == cpu_b]\n",
    "            \n",
    "            new_preds = []\n",
    "            \n",
    "            for model_dict in model_dicts:            \n",
    "                new_y_true, new_y_pred = [], []\n",
    "\n",
    "                curr_smaller_pred = model_dict[(cpu_a, cpu_b)].predict(curr_smaller[X_label].to_numpy().reshape(-1, 1))\n",
    "                curr_bigger_pred = model_dict[(cpu_a, cpu_b)].predict(curr_bigger[X_label].to_numpy().reshape(-1, 1))\n",
    "                curr_smaller = curr_smaller.assign(Y_PRED=curr_smaller_pred)\n",
    "                curr_bigger = curr_bigger.assign(Y_PRED=curr_bigger_pred)\n",
    "\n",
    "                for _, smaller_row in curr_smaller.iterrows():\n",
    "                    curr_expr_idx = smaller_row[expr_label]\n",
    "                    curr_diff = smaller_row[y_true_label] - smaller_row[y_pred_label]\n",
    "                    bigger_row = curr_bigger[curr_bigger[expr_label] == curr_expr_idx]\n",
    "                    assert(bigger_row.shape[0] == 1)\n",
    "                    bigger_row = bigger_row.iloc[0]\n",
    "                    new_y_true.append(bigger_row[y_true_label])\n",
    "                    new_y_pred.append(bigger_row[y_pred_label] + curr_diff)\n",
    "                new_preds.append(new_y_pred)\n",
    "            \n",
    "            curr_bigger = curr_bigger.assign(Y_PRED=np.mean(np.array(new_preds), axis=0))\n",
    "            df = pd.merge(curr_smaller, curr_bigger, on=[expr_label], suffixes=suffix_labels)\n",
    "            dfs.append(df)\n",
    "            \n",
    "            new_y_true = np.array(new_y_true)\n",
    "            new_y_pred = np.array(new_y_pred) \n",
    "            \n",
    "            score = np.sqrt(((new_y_true-new_y_pred)**2).mean())/(np.max(new_y_true) - np.min(new_y_true))\n",
    "            test_scores.append(score)\n",
    "                \n",
    "            models.append(model_dict[(cpu_a, cpu_b)])\n",
    "            datas_small.append(curr_smaller)\n",
    "            datas_big.append(curr_bigger)\n",
    "\n",
    "    plot_prediction(dfs, method, show_fig)\n",
    "    print(np.max(y) - np.min(y))\n",
    "    # overall_score = np.sqrt((np.array(test_scores)**2).mean())/(np.max(y) - np.min(y))\n",
    "    overall_score = np.mean(test_scores)\n",
    "    return overall_score"
   ]
  },
  {
   "cell_type": "code",
   "execution_count": 17,
   "id": "f6b8de12-d047-4fe5-94e1-72a5481fd76f",
   "metadata": {},
   "outputs": [],
   "source": [
    "ycsb_X = get_cpu_nums_as_X(ycsb_data.cpu_nums)\n",
    "ycsb_y = np.array(ycsb_data.wl_throughput)\n",
    "ycsb_expr = np.array(ycsb_data.sampled_run_idx)"
   ]
  },
  {
   "cell_type": "code",
   "execution_count": 18,
   "id": "6faf7365-a1fd-4677-b1c4-ae37deced173",
   "metadata": {},
   "outputs": [],
   "source": [
    "random_effect = 'EXPR_ID'\n",
    "fixed_effect = 'SKU_VALUE'\n",
    "target_metric = 'throughput'"
   ]
  },
  {
   "cell_type": "code",
   "execution_count": 19,
   "id": "94e4c457-25e3-4144-badc-088491341f6c",
   "metadata": {},
   "outputs": [],
   "source": [
    "from sklearn.model_selection import KFold\n",
    "from sklearn.metrics import r2_score"
   ]
  },
  {
   "cell_type": "code",
   "execution_count": 20,
   "id": "38b05bb4-941f-458f-941e-11b6f1b924b5",
   "metadata": {},
   "outputs": [],
   "source": [
    "all_results = {}\n",
    "all_times = {}"
   ]
  },
  {
   "cell_type": "markdown",
   "id": "853ef5fa-96df-4ccf-a241-0a2ab4de040b",
   "metadata": {},
   "source": [
    "## MARS\n",
    "\n",
    "random_effect = 'EXPR_ID'\n",
    "fixed_effect = 'SKU_VALUE'\n",
    "target_metric = 'throughput'"
   ]
  },
  {
   "cell_type": "code",
   "execution_count": 21,
   "id": "3437faae-50d4-4e85-969f-186faa098e41",
   "metadata": {},
   "outputs": [],
   "source": [
    "from sklearn.model_selection import KFold\n",
    "from sklearn.metrics import r2_score\n",
    "from sklearn.model_selection import GridSearchCV\n",
    "\n",
    "from pyearth import Earth\n",
    "# import plotly.graph_objects as go # for data visualization\n",
    "# import plotly.express as px # for data visualization"
   ]
  },
  {
   "cell_type": "code",
   "execution_count": 22,
   "id": "99cce4f9-0e20-42bf-9a16-42db0b3be616",
   "metadata": {},
   "outputs": [],
   "source": [
    "random_effect = 'EXPR_ID'\n",
    "fixed_effect = 'SKU_VALUE'\n",
    "target_metric = 'throughput'\n",
    "\n",
    "X_label = fixed_effect\n",
    "y_label = target_metric"
   ]
  },
  {
   "cell_type": "code",
   "execution_count": 23,
   "id": "4d9f1e6a-85d3-43fc-81ea-a637483078b0",
   "metadata": {},
   "outputs": [],
   "source": [
    "# def plot_mars_graph_all(model, data, groups, metric, fig_name, show_fig=False):\n",
    "def plot_mars(models, X, y, workload_name, group_type, groupping_id, show_fig=False):\n",
    "    colors = sns.color_palette()\n",
    "    if workload_name == 'tpcc':\n",
    "        color = colors[0]\n",
    "    elif workload_name == 'tpch':\n",
    "        color = colors[1]\n",
    "    elif workload_name == 'twitter':\n",
    "        color = colors[2]\n",
    "    else:\n",
    "        color = colors[3]\n",
    "    colors = ['#1b9e77','#d95f02','#7570b3','#e7298a','#66a61e','#e6ab02','#a6761d','#666666']\n",
    "    \n",
    "    x_new = np.linspace(0, np.max(X)*1.1, 100)\n",
    "    \n",
    "    plt.figure(figsize=(4, 3))\n",
    "    ax = plt.axes()\n",
    "    ax.scatter(X.reshape(-1,1), y, color=color)\n",
    "    for model in models:\n",
    "        y_new = model.predict(x_new[:, np.newaxis])\n",
    "        ax.plot(x_new, y_new, color=color)\n",
    "    \n",
    "    # y_new = model.predict(x_new[:, np.newaxis])\n",
    "    # ax.plot(x_new, y_new, color=color)\n",
    "    \n",
    "    ax.set_xlabel('Num CPU')\n",
    "    ax.set_ylabel('Throughput')\n",
    "    \n",
    "    ax.axis('tight')\n",
    "    plt.savefig(f'figs/prediction/mars_all_{workload_name}_{group_type}_{groupping_id}.pdf', bbox_inches = 'tight')\n",
    "    if show_fig:\n",
    "        plt.show()\n",
    "    else:\n",
    "        plt.close() "
   ]
  },
  {
   "cell_type": "code",
   "execution_count": 24,
   "id": "d2963121-64b0-4928-b8f7-06e66115ab76",
   "metadata": {},
   "outputs": [],
   "source": [
    "def build_mars_model(X, y, wl_name, grouping_type, groupping_id, expr_ids, plot=False, show_fig=False):\n",
    "    metrics = [fixed_effect, random_effect, target_metric]\n",
    "    zipped = zip(X, expr_ids, y)\n",
    "\n",
    "    # append fixed effect and random effect to data\n",
    "    curr_data = pd.DataFrame(zipped, columns=metrics)\n",
    "    curr_data['tag'] = curr_data[fixed_effect].astype(str) + \"_\" + curr_data[random_effect].astype(str)\n",
    "    x_columns = [fixed_effect]\n",
    "    num_cpus = np.sort(np.unique(X))\n",
    "\n",
    "    train_rmses, test_rmses = [], []\n",
    "    \n",
    "    train_time = 0\n",
    "    \n",
    "    k = 5\n",
    "    models = []   \n",
    "    kf = KFold(n_splits=k, shuffle=True)\n",
    "    for train_index, test_index in kf.split(curr_data):\n",
    "        start = time.time()\n",
    "        data = curr_data.iloc[train_index]\n",
    "        test = curr_data.iloc[test_index]\n",
    "        \n",
    "        model = Earth(enable_pruning=True, max_terms=10, allow_linear=True, max_degree=1, penalty=1, endspan_alpha=0.01)\n",
    "        model.fit(data[x_columns], data[target_metric])\n",
    "\n",
    "        test_preds = np.array(model.predict(test[x_columns]))\n",
    "        train_preds = model.predict(data[x_columns])\n",
    "        \n",
    "        end = time.time()\n",
    "        train_time += end - start\n",
    "        \n",
    "        for i in range(len(num_cpus)):\n",
    "            for j in range(i, len(num_cpus)):\n",
    "                if i == j:\n",
    "                    continue\n",
    "                cpu_a = num_cpus[i] # smaller\n",
    "                cpu_b = num_cpus[j] # larger\n",
    "                curr_mask = [x_lab == cpu_a or x_lab == cpu_b for x_lab in test[fixed_effect].to_list()]\n",
    "                \n",
    "                curr_y_true = test[y_label].to_numpy()[curr_mask]\n",
    "                rmse = np.sqrt(((curr_y_true-test_preds[curr_mask])**2).mean())\n",
    "                n_rmse = rmse / (np.max(curr_y_true)-np.min(curr_y_true))\n",
    "                test_rmses.append(n_rmse)\n",
    "                \n",
    "                curr_mask = [x_lab == cpu_a or x_lab == cpu_b for x_lab in data[fixed_effect].to_list()]\n",
    "                \n",
    "                curr_y_true = data[y_label].to_numpy()[curr_mask]\n",
    "                rmse = np.sqrt(((curr_y_true-train_preds[curr_mask])**2).mean())\n",
    "                n_rmse = rmse / (np.max(curr_y_true)-np.min(curr_y_true))\n",
    "                train_rmses.append(n_rmse)\n",
    "\n",
    "    models.append(model)\n",
    "    train_time /= k\n",
    "    \n",
    "    # calculate overall rmse\n",
    "    overall_train_rmse = np.mean(train_rmses)\n",
    "    overall_test_rmse = np.mean(test_rmses)\n",
    "    \n",
    "    plot_mars(models, X, y, wl_name, grouping_type, groupping_id, show_fig)\n",
    "\n",
    "    # return overall_test_r2, overall_train_r2\n",
    "    return overall_test_rmse, overall_train_rmse, train_time"
   ]
  },
  {
   "cell_type": "code",
   "execution_count": 25,
   "id": "e962c026-18bd-453b-ad86-7836b6ef03dc",
   "metadata": {},
   "outputs": [
    {
     "name": "stdout",
     "output_type": "stream",
     "text": [
      "Group Id: 1, wl name tpcc, terminal num 32\n",
      "Test r2 = 0.27910385348973527, Train r2 = 0.21215965665837488\n",
      "Group Id: 2, wl name tpch, terminal num 1\n",
      "Test r2 = 0.24949788426955885, Train r2 = 0.21253593112209543\n",
      "Group Id: 3, wl name twitter, terminal num 32\n",
      "Test r2 = 0.30682257991682527, Train r2 = 0.22376672381477422\n",
      "Group Id: 4, wl name twitter, terminal num 8\n",
      "Test r2 = 0.3559548810563378, Train r2 = 0.30675069035426555\n",
      "Group Id: 7, wl name tpcc, terminal num 8\n",
      "Test r2 = 0.3047005540270078, Train r2 = 0.2601810962531474\n",
      "Group Id: 8, wl name tpcc, terminal num 4\n",
      "Test r2 = 0.3014340370604629, Train r2 = 0.2526542375444124\n",
      "Group Id: 9, wl name twitter, terminal num 4\n",
      "Test r2 = 0.30171753960538716, Train r2 = 0.28651591349780475\n",
      "Mean: Test r2 = 0.2998901899179022, Train r2 = 0.2506520356064107\n",
      "Median: Test r2 = 0.30171753960538716, Train r2 = 0.2526542375444124\n"
     ]
    }
   ],
   "source": [
    "test_r, train_r = [], []\n",
    "group_to_model_dict = {} \n",
    "all_results['MARS'] = {}\n",
    "all_times['MARS'] = {}\n",
    "\n",
    "for ty, curr_data in data_by_type.items():\n",
    "    name = curr_data.wl_names[0]\n",
    "    term = curr_data.terminal_num[0]\n",
    "    if name not in all_results['MARS']:\n",
    "        all_results['MARS'][name] = {}\n",
    "        all_times['MARS'][name] = {}\n",
    "    print(f'Group Id: {ty}, wl name {name}, terminal num {term}')\n",
    "    X = get_cpu_nums_as_X(curr_data.cpu_nums).flatten()\n",
    "    y = curr_data.wl_throughput\n",
    "    out_name = '{}_group{}_term{}'.format(curr_data.wl_names[0], ty, curr_data.terminal_num[0])\n",
    "    \n",
    "    expr_idxs = list(map(int, curr_data.run_idx))\n",
    "    test_r2_mean, train_r2_mean, train_time = build_mars_model(X, y, curr_data.wl_names[0], \n",
    "                                                               'group', curr_data.wl_groups[0], expr_idxs,\n",
    "                                                               plot=OVERALL_PLOT, show_fig=False)\n",
    "\n",
    "    test_r.append(test_r2_mean)\n",
    "    train_r.append(train_r2_mean)\n",
    "    all_results['MARS'][name][term] = test_r2_mean\n",
    "    all_times['MARS'][name][term] = train_time\n",
    "    print('Test r2 = {}, Train r2 = {}'.format(test_r2_mean, train_r2_mean))\n",
    "print('Mean: Test r2 = {}, Train r2 = {}'.format(np.mean(test_r), np.mean(train_r)))\n",
    "print('Median: Test r2 = {}, Train r2 = {}'.format(np.median(test_r), np.median(train_r)))"
   ]
  },
  {
   "cell_type": "code",
   "execution_count": 26,
   "id": "cda89986-0b02-4dde-917c-136a68b23ae0",
   "metadata": {},
   "outputs": [
    {
     "name": "stdout",
     "output_type": "stream",
     "text": [
      "& MARS &  0.0187 &  0.301 & 0.305 & 0.279 & 0.302 & 0.356 & 0.307 & 0.249 & 0.3 \\\\ \\hline \\hline\n"
     ]
    }
   ],
   "source": [
    "terminals = [4, 8, 32]\n",
    "workloads = ['tpcc', 'twitter', 'tpch']\n",
    "methods = ['MARS']\n",
    "\n",
    "for me in methods:\n",
    "    curr_line = ''\n",
    "    scs = []\n",
    "    times = []\n",
    "    for wl in workloads:\n",
    "        if wl == 'tpch':\n",
    "            sc = abs(all_results[me][wl][1])\n",
    "            curr_line += f' {sc:.3f} &'\n",
    "            scs.append(sc)\n",
    "            times.append(all_times[me][wl][1])\n",
    "        else:\n",
    "            for ter in terminals:\n",
    "                sc = abs(all_results[me][wl][ter])\n",
    "                curr_line += f' {sc:.3f} &'\n",
    "                scs.append(sc)\n",
    "                times.append(all_times[me][wl][ter])\n",
    "    curr_line += f' {np.mean(scs):.3}'\n",
    "    curr_line += \" \\\\\\\\ \\hline \\hline\"\n",
    "    curr_line = f'& {me} & ' + f' {np.mean(times):.4f} & ' + curr_line\n",
    "    print(curr_line)"
   ]
  },
  {
   "cell_type": "code",
   "execution_count": 27,
   "id": "f66c96b5-1df8-4782-9f29-b4fa05a2b8ed",
   "metadata": {},
   "outputs": [],
   "source": [
    "def plot_mars_indi(models, datas, workload_name, group_type, groupping_id, show_fig=False):\n",
    "    colors = sns.color_palette()\n",
    "    if workload_name == 'tpcc':\n",
    "        color = colors[0]\n",
    "    elif workload_name == 'tpch':\n",
    "        color = colors[1]\n",
    "    elif workload_name == 'twitter':\n",
    "        color = colors[2]\n",
    "    else:\n",
    "        color = colors[3]\n",
    "    colors = ['#1b9e77','#d95f02','#7570b3','#e7298a','#66a61e','#e6ab02','#a6761d','#666666']\n",
    "        \n",
    "    fig, ax = plt.subplots()\n",
    "\n",
    "    for model, data, line_c in zip(models, datas, colors):\n",
    "        x_new = np.linspace(np.max(data[X_label]), np.min(data[X_label]), num=100).reshape(-1, 1)\n",
    "        y_new = model.predict(x_new)\n",
    "        ax.scatter(data[X_label], data[y_label], color=color)\n",
    "        ax.plot(x_new, y_new, color=line_c, linestyle='--')\n",
    "    \n",
    "    ax.set_xlabel('Num CPU')\n",
    "    ax.set_ylabel('Throughput')\n",
    "    \n",
    "    ax.axis('tight')\n",
    "    plt.savefig(f'figs/prediction/mars_pair_{workload_name}_{group_type}_{groupping_id}.pdf', bbox_inches = 'tight')\n",
    "    if show_fig:\n",
    "        plt.show()\n",
    "    else:\n",
    "        plt.close() "
   ]
  },
  {
   "cell_type": "code",
   "execution_count": 28,
   "id": "f9b39b59-a85f-4aee-960d-70db53f7f302",
   "metadata": {},
   "outputs": [],
   "source": [
    "def build_mars_model_indi(X, y, wl_name, grouping_type, groupping_id, plot=False, show_fig=False):  \n",
    "    metrics = [X_label, y_label]\n",
    "    zipped = zip(X, y)\n",
    "    \n",
    "    overall_data = pd.DataFrame(zipped, columns=metrics)\n",
    "\n",
    "    train_rmses, test_rmses = [], []\n",
    "    model_dict = {}\n",
    "    \n",
    "    k = 5\n",
    "    kf = KFold(n_splits=k, shuffle=True)\n",
    "\n",
    "    models, datas = [], []\n",
    "    num_cpus = np.sort(np.unique(X))\n",
    "    prev_cpu = num_cpus[0]\n",
    "\n",
    "    start = time.time()\n",
    "    for i in range(len(num_cpus)):\n",
    "        for j in range(i, len(num_cpus)):\n",
    "            if i == j:\n",
    "                continue\n",
    "            cpu_a = num_cpus[i] # smaller\n",
    "            cpu_b = num_cpus[j] # larger\n",
    "            curr_data = overall_data[ (overall_data[fixed_effect] == cpu_a) | (overall_data[fixed_effect] == cpu_b) ]\n",
    "            datas.append(curr_data)\n",
    "            for train_index, test_index in kf.split(curr_data):\n",
    "                data = curr_data.iloc[train_index]\n",
    "                test = curr_data.iloc[test_index]\n",
    "                model = Earth(enable_pruning=True, max_terms=10, allow_linear=True, max_degree=1, penalty=2, endspan_alpha=0.01)\n",
    "                model.fit(data[[X_label]], data[y_label])\n",
    "                \n",
    "                test_preds = model.predict(test[[X_label]])\n",
    "                train_preds = model.predict(data[[X_label]])\n",
    "\n",
    "                rmse = np.sqrt(((test[y_label].to_list()-test_preds)**2).mean())\n",
    "                n_rmse = rmse / (np.max(test[y_label])-np.min(test[y_label]))\n",
    "                test_rmses.append(n_rmse)\n",
    "\n",
    "                rmse = np.sqrt(((data[y_label].to_list()-train_preds)**2).mean())\n",
    "                n_rmse = rmse / (np.max(data[y_label])-np.min(data[y_label]))\n",
    "                train_rmses.append(n_rmse)\n",
    "\n",
    "            models.append(model)\n",
    "            model_dict[(cpu_a, cpu_b)] = model \n",
    "    end = time.time()\n",
    "    \n",
    "    train_time = (end - start) / k\n",
    "    \n",
    "    if plot:\n",
    "        # plot the last one as example\n",
    "        plot_mars_indi(models, datas, wl_name, grouping_type, groupping_id, show_fig)\n",
    "\n",
    "    # calculate overall rmse\n",
    "    overall_train_rmse = np.mean(train_rmses)\n",
    "    overall_test_rmse = np.mean(test_rmses)\n",
    "\n",
    "    return overall_test_rmse, overall_train_rmse, model_dict, train_time"
   ]
  },
  {
   "cell_type": "code",
   "execution_count": 29,
   "id": "6be18272-e711-41e1-95f0-2a3aabee4c05",
   "metadata": {},
   "outputs": [
    {
     "name": "stdout",
     "output_type": "stream",
     "text": [
      "Group Id: 1, wl name tpcc, terminal num 32\n",
      "Test r2 = 0.296887620210349, Train r2 = 0.21011264266256846\n",
      "Group Id: 2, wl name tpch, terminal num 1\n",
      "Test r2 = 0.2584213337738302, Train r2 = 0.21185772407578427\n",
      "Group Id: 3, wl name twitter, terminal num 32\n",
      "Test r2 = 0.2988455823705918, Train r2 = 0.21168784618053255\n",
      "Group Id: 4, wl name twitter, terminal num 8\n",
      "Test r2 = 0.3373294413532188, Train r2 = 0.2562963116528993\n",
      "Group Id: 7, wl name tpcc, terminal num 8\n",
      "Test r2 = 0.321697180632675, Train r2 = 0.2558118638149167\n",
      "Group Id: 8, wl name tpcc, terminal num 4\n",
      "Test r2 = 0.30367078568200656, Train r2 = 0.22973852416631596\n",
      "Group Id: 9, wl name twitter, terminal num 4\n",
      "Test r2 = 0.28581370267773903, Train r2 = 0.2684376177138559\n",
      "Mean: Test r2 = 0.3003808066714872, Train r2 = 0.2348489328952676\n",
      "Median: Test r2 = 0.2988455823705918, Train r2 = 0.22973852416631596\n"
     ]
    }
   ],
   "source": [
    "test_r, train_r = [], []\n",
    "group_to_model_dict = {} \n",
    "all_results['MARS'] = {}\n",
    "all_times['MARS'] = {}\n",
    "\n",
    "for ty, curr_data in data_by_type.items():\n",
    "    name = curr_data.wl_names[0]\n",
    "    term = curr_data.terminal_num[0]\n",
    "    if name not in all_results['MARS']:\n",
    "        all_results['MARS'][name] = {}\n",
    "        all_times['MARS'][name] = {}\n",
    "    print(f'Group Id: {ty}, wl name {name}, terminal num {term}')    \n",
    "    \n",
    "    X = get_cpu_nums_as_X(curr_data.cpu_nums).flatten()\n",
    "    y = curr_data.wl_throughput\n",
    "    out_name = '{}_group{}_term{}'.format(curr_data.wl_names[0], ty, curr_data.terminal_num[0])\n",
    "    \n",
    "    expr_idxs = list(map(int, curr_data.run_idx))\n",
    "    test_r2_mean, train_r2_mean, model_dict, train_time = build_mars_model_indi(X, y, curr_data.wl_names[0], \n",
    "                                                                                'group', curr_data.wl_groups[0], \n",
    "                                                                                plot=OVERALL_PLOT, show_fig=False)\n",
    "    group_to_model_dict[ty] = model_dict\n",
    "    test_r.append(test_r2_mean)\n",
    "    train_r.append(train_r2_mean)\n",
    "    all_results['MARS'][name][term] = test_r2_mean\n",
    "    all_times['MARS'][name][term] = train_time\n",
    "    print('Test r2 = {}, Train r2 = {}'.format(test_r2_mean, train_r2_mean))\n",
    "    \n",
    "print('Mean: Test r2 = {}, Train r2 = {}'.format(np.mean(test_r), np.mean(train_r)))\n",
    "print('Median: Test r2 = {}, Train r2 = {}'.format(np.median(test_r), np.median(train_r)))"
   ]
  },
  {
   "cell_type": "code",
   "execution_count": 30,
   "id": "0047f399-ba04-4f80-972f-b86856b0ff71",
   "metadata": {},
   "outputs": [
    {
     "data": {
      "image/png": "[encoded data removed]",
      "text/plain": [
       "<Figure size 432x288 with 1 Axes>"
      ]
     },
     "metadata": {
      "needs_background": "light"
     },
     "output_type": "display_data"
    },
    {
     "name": "stdout",
     "output_type": "stream",
     "text": [
      "294.74722222222226\n",
      "Overall ycsb nrmse: 0.3951537473702855\n"
     ]
    }
   ],
   "source": [
    "# most similar expr idx\n",
    "min_run_idx = 0\n",
    "# min_group = '1'\n",
    "min_groups = ['1', '7', '8',]\n",
    "\n",
    "model_dict = [group_to_model_dict[min_group] for min_group in min_groups]\n",
    "simi_expr = data_all.get_by_run_idx(min_run_idx)\n",
    "\n",
    "overall_score = predict(model_dict, ycsb_X, ycsb_y, ycsb_expr, 'MARS', True)\n",
    "\n",
    "print('Overall ycsb nrmse: {}'.format(overall_score))"
   ]
  },
  {
   "cell_type": "code",
   "execution_count": 31,
   "id": "26372cc1-8dd0-4805-8c90-cfc90fbe44e2",
   "metadata": {},
   "outputs": [
    {
     "name": "stdout",
     "output_type": "stream",
     "text": [
      "& MARS &  0.1164 &  0.304 & 0.322 & 0.297 & 0.286 & 0.337 & 0.299 & 0.258 & 0.3 \\\\ \\hline \\hline\n"
     ]
    }
   ],
   "source": [
    "terminals = [4, 8, 32]\n",
    "workloads = ['tpcc', 'twitter', 'tpch']\n",
    "methods = ['MARS']\n",
    "\n",
    "for me in methods:\n",
    "    curr_line = ''\n",
    "    scs = []\n",
    "    times = []\n",
    "    for wl in workloads:\n",
    "        if wl == 'tpch':\n",
    "            sc = abs(all_results[me][wl][1])\n",
    "            curr_line += f' {sc:.3f} &'\n",
    "            scs.append(sc)\n",
    "            times.append(all_times[me][wl][1])\n",
    "        else:\n",
    "            for ter in terminals:\n",
    "                sc = abs(all_results[me][wl][ter])\n",
    "                curr_line += f' {sc:.3f} &'\n",
    "                scs.append(sc)\n",
    "                times.append(all_times[me][wl][ter])\n",
    "    curr_line += f' {np.mean(scs):.3}'\n",
    "    curr_line += \" \\\\\\\\ \\hline \\hline\"\n",
    "    curr_line = f'& {me} & ' + f' {np.mean(times):.4f} & ' + curr_line\n",
    "    print(curr_line)"
   ]
  },
  {
   "cell_type": "code",
   "execution_count": null,
   "id": "9e5dd482-5eb6-4b56-906a-f4666c4138f1",
   "metadata": {},
   "outputs": [],
   "source": []
  },
  {
   "cell_type": "code",
   "execution_count": null,
   "id": "0338e184-e38e-4c7a-a23b-a7b954b21500",
   "metadata": {},
   "outputs": [],
   "source": []
  }
 ],
 "metadata": {
  "kernelspec": {
   "display_name": "older_python",
   "language": "python",
   "name": "older_python"
  },
  "language_info": {
   "codemirror_mode": {
    "name": "ipython",
    "version": 3
   },
   "file_extension": ".py",
   "mimetype": "text/x-python",
   "name": "python",
   "nbconvert_exporter": "python",
   "pygments_lexer": "ipython3",
   "version": "3.6.5"
  }
 },
 "nbformat": 4,
 "nbformat_minor": 5
}
