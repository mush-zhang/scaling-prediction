{
 "cells": [
  {
   "cell_type": "code",
   "execution_count": 1,
   "id": "82d2893a-4626-423a-a869-15027fdf9941",
   "metadata": {},
   "outputs": [],
   "source": [
    "import os\n",
    "import matplotlib.pyplot as plt\n",
    "import datetime\n",
    "import json\n",
    "import matplotlib.gridspec as gridspec\n",
    "\n",
    "import numpy as np\n",
    "import pandas as pd\n",
    "import seaborn as sns\n",
    "\n",
    "from itertools import compress\n",
    "\n",
    "from helpers.expr_data import ExprData\n",
    "from helpers.scale_data import ScaleData\n",
    "from helpers.similarity import Similarity\n",
    "from helpers.feature_selection import FeatureSelection\n",
    "\n",
    "from sklearn.metrics import accuracy_score, f1_score, precision_score, recall_score, classification_report, confusion_matrix\n",
    "\n",
    "import warnings\n",
    "warnings.filterwarnings(\"ignore\")"
   ]
  },
  {
   "cell_type": "code",
   "execution_count": 2,
   "id": "faf51e67-03cf-4219-93ee-969711f5b3e6",
   "metadata": {},
   "outputs": [],
   "source": [
    "k=1 # k for knn"
   ]
  },
  {
   "cell_type": "code",
   "execution_count": 3,
   "id": "fd8760b8-0e9b-4217-999a-3ebcd6104270",
   "metadata": {},
   "outputs": [],
   "source": [
    "import random\n",
    "np.random.seed(47907)\n",
    "random.seed(15213)"
   ]
  },
  {
   "cell_type": "code",
   "execution_count": 4,
   "id": "928d9dd1-5f90-4a30-96d8-16fa2f7776a4",
   "metadata": {},
   "outputs": [],
   "source": [
    "def pred_stats(simi_calc, n=k, dependent=True, print_label=False):\n",
    "    true_labels = simi_calc.data.wl_names\n",
    "    pred_labels = simi_calc.simi_pred(n, dependent)\n",
    "    if print_label:\n",
    "        print(true_labels)\n",
    "        print(pred_labels)\n",
    "    acc = accuracy_score(true_labels, pred_labels)\n",
    "    prec = precision_score(true_labels, pred_labels, average='macro')\n",
    "    f1 = f1_score(true_labels, pred_labels, average='macro')\n",
    "    rec = recall_score(true_labels, pred_labels, average='macro')\n",
    "    return acc, prec, f1, rec"
   ]
  },
  {
   "cell_type": "markdown",
   "id": "b05bc856-da97-4fb7-9c30-2daa9a3579fd",
   "metadata": {},
   "source": [
    "### Comparing Feature Sets"
   ]
  },
  {
   "cell_type": "code",
   "execution_count": 5,
   "id": "46a922d4-6182-40d1-b11c-652adf83dd9f",
   "metadata": {},
   "outputs": [],
   "source": [
    "data = ExprData()\n",
    "data.load_pickle()\n",
    "data = data.remove_by_wlname(['ycsb', 'xml'])\n",
    "data = data.fix_tpch()\n",
    "data_by_sku = data.split_by_sku()\n",
    "\n",
    "# use for later distinguish btw plan and system metrics\n",
    "perf_features = data.perf_feature_cols\n",
    "plan_features = data.plan_feature_cols\n",
    "all_features = data.feature_cols\n",
    "\n",
    "feature_name_all = ['plan_3', 'plan_7', 'plan', 'resource_3', 'resource_5', 'resource', 'all_3', 'all_7', 'all']\n",
    "feature_name_plan = ['plan_3', 'plan_7', 'plan']\n",
    "feature_name_perf = ['resource_3', 'resource_5', 'resource']"
   ]
  },
  {
   "cell_type": "code",
   "execution_count": 6,
   "id": "cceb5409-1f93-49bb-97e3-e5ed283ff457",
   "metadata": {},
   "outputs": [
    {
     "name": "stdout",
     "output_type": "stream",
     "text": [
      "The history saving thread hit an unexpected error (DatabaseError('database disk image is malformed')).History will not be written to the database.\n"
     ]
    }
   ],
   "source": [
    "# the result sku_result is a dict with its key the SKU,\n",
    "# the value a list, the classification accuracy for each f_num\n",
    "simi_dict = {}\n",
    "\n",
    "for sku in data_by_sku.keys():\n",
    "    if 'ter' in sku or 'xml' in sku:\n",
    "        continue\n",
    "    curr_data = data_by_sku[sku]\n",
    "    scaler = ScaleData()\n",
    "    plan_mtxs, plan_col_ranges = scaler.scale(curr_data.plan_mtxs)\n",
    "    perf_mtxs, perf_col_ranges = scaler.scale(curr_data.perf_mtxs)\n",
    "\n",
    "    simi_calc = Similarity(curr_data, plan_mtxs, plan_col_ranges, perf_mtxs, perf_col_ranges)\n",
    "    simi_calc.calc_bined_mtx() # all features\n",
    "    simi_dict[sku] = simi_calc"
   ]
  },
  {
   "cell_type": "code",
   "execution_count": 7,
   "id": "9b8c0f04-5aaf-4477-857f-5eb05852b135",
   "metadata": {},
   "outputs": [],
   "source": [
    "# Pick one cpu setting (cpu=16 for example)\n",
    "simi_calc = simi_dict['cpu16']"
   ]
  },
  {
   "cell_type": "code",
   "execution_count": null,
   "id": "73c40c49-4c4a-4bfe-ae3f-caa7f7a92a03",
   "metadata": {},
   "outputs": [
    {
     "name": "stdout",
     "output_type": "stream",
     "text": [
      "for all 7 resource features\n",
      "tpcc: # non empty bins = 17, average perc = 4.11764705882353\n",
      "---\n",
      "tpcc: # non empty bins = 16, average perc = 4.375\n",
      "---\n",
      "tpcc: # non empty bins = 17, average perc = 4.117647058823529\n",
      "---\n",
      "tpcc: # non empty bins = 12, average perc = 5.833333333333333\n",
      "---\n",
      "tpcc: # non empty bins = 12, average perc = 5.833333333333333\n",
      "---\n",
      "tpcc: # non empty bins = 13, average perc = 5.384615384615385\n",
      "---\n",
      "tpcc: # non empty bins = 12, average perc = 5.833333333333333\n",
      "---\n",
      "tpcc: # non empty bins = 13, average perc = 5.384615384615385\n",
      "---\n",
      "tpcc: # non empty bins = 11, average perc = 6.363636363636363\n",
      "---\n",
      "tpch: # non empty bins = 24, average perc = 2.9166666666666665\n",
      "---\n",
      "tpch: # non empty bins = 25, average perc = 2.8\n",
      "---\n",
      "tpch: # non empty bins = 23, average perc = 3.0434782608695654\n",
      "---\n",
      "tpch: # non empty bins = 24, average perc = 2.9166666666666665\n",
      "---\n",
      "tpch: # non empty bins = 25, average perc = 2.8\n",
      "---\n",
      "tpch: # non empty bins = 25, average perc = 2.8\n",
      "---\n",
      "tpch: # non empty bins = 26, average perc = 2.6923076923076925\n",
      "---\n",
      "tpch: # non empty bins = 25, average perc = 2.8\n",
      "---\n",
      "tpch: # non empty bins = 24, average perc = 2.9166666666666665\n",
      "---\n",
      "twitter: # non empty bins = 11, average perc = 6.363636363636363\n",
      "---\n",
      "twitter: # non empty bins = 10, average perc = 7.0\n",
      "---\n",
      "twitter: # non empty bins = 10, average perc = 7.0\n",
      "---\n",
      "twitter: # non empty bins = 10, average perc = 7.0\n",
      "---\n",
      "twitter: # non empty bins = 9, average perc = 7.777777777777778\n",
      "---\n",
      "twitter: # non empty bins = 9, average perc = 7.777777777777778\n",
      "---\n",
      "twitter: # non empty bins = 10, average perc = 7.0\n",
      "---\n",
      "twitter: # non empty bins = 9, average perc = 7.777777777777778\n",
      "---\n",
      "twitter: # non empty bins = 9, average perc = 7.777777777777778\n",
      "---\n"
     ]
    }
   ],
   "source": [
    "print('for all 7 resource features')\n",
    "for c_list, wl_name in zip(simi_calc.perf_bined, simi_calc.data.wl_names):\n",
    "    count = 0\n",
    "    value = 0    \n",
    "    for i in range(c_list.shape[1]):\n",
    "        for j in range(c_list.shape[0]):\n",
    "            if c_list[j][i] > 0:\n",
    "                count += 1\n",
    "                value +=  c_list[j][i]\n",
    "    print(f'{wl_name}: # non empty bins = {count}, average perc = {value/count}')\n",
    "    print('---')"
   ]
  },
  {
   "cell_type": "code",
   "execution_count": 9,
   "id": "e8535f2c-5835-4c56-a8cd-c53e762bafcc",
   "metadata": {
    "tags": []
   },
   "outputs": [
    {
     "name": "stdout",
     "output_type": "stream",
     "text": [
      "(27, 27, 29)\n",
      "(27, 27, 29)\n",
      "(27, 27, 22)\n",
      "(27, 27, 7)\n",
      "(27, 27, 22)\n",
      "(27, 27, 7)\n"
     ]
    }
   ],
   "source": [
    "# Use top-k feature from all features\n",
    "fs = FeatureSelection(simi_calc)\n",
    "\n",
    "top_3 = fs.select_features(3, 'fANOVA', est_name=None, direction=None, feature_type=None)\n",
    "top_7 = fs.select_features(7, 'fANOVA', est_name=None, direction=None, feature_type=None)\n",
    "plan_top_3 = fs.select_features(3, 'fANOVA', est_name=None, direction=None, feature_type='plan')\n",
    "perf_top_3 = fs.select_features(3, 'fANOVA', est_name=None, direction=None, feature_type='perf')\n",
    "plan_top_7 = fs.select_features(7, 'fANOVA', est_name=None, direction=None, feature_type='plan')\n",
    "perf_top_5 = fs.select_features(5, 'fANOVA', est_name=None, direction=None, feature_type='perf')\n",
    "\n",
    "features_all = [plan_top_3, plan_top_7, plan_features, perf_top_3, perf_top_5, perf_features, top_3, top_7, all_features]\n",
    "features_plan = [plan_top_3, plan_top_7, plan_features]\n",
    "features_perf = [perf_top_3, perf_top_5, perf_features]"
   ]
  },
  {
   "cell_type": "code",
   "execution_count": 10,
   "id": "f384a04d-eba4-4737-b039-1526058f22d1",
   "metadata": {},
   "outputs": [
    {
     "data": {
      "text/plain": [
       "['CPU_UTILIZATION',\n",
       " 'CPU_EFFECTIVE',\n",
       " 'MEM_UTILIZATION',\n",
       " 'IOPS_TOTAL',\n",
       " 'READ_WRITE_RATIO',\n",
       " 'LOCK_REQ_ABS',\n",
       " 'LOCK_WAIT_ABS']"
      ]
     },
     "execution_count": 10,
     "metadata": {},
     "output_type": "execute_result"
    }
   ],
   "source": [
    "perf_features"
   ]
  },
  {
   "cell_type": "code",
   "execution_count": 11,
   "id": "7f3f196c-f819-42c5-8e8a-1fd7a8778343",
   "metadata": {},
   "outputs": [
    {
     "data": {
      "text/plain": [
       "['AvgRowSize', 'StatementSubTreeCost', 'LOCK_WAIT_ABS']"
      ]
     },
     "execution_count": 11,
     "metadata": {},
     "output_type": "execute_result"
    }
   ],
   "source": [
    "top_3"
   ]
  },
  {
   "cell_type": "code",
   "execution_count": 12,
   "id": "790c020f-2bb0-4890-a4e4-39ccb60b61c9",
   "metadata": {},
   "outputs": [
    {
     "data": {
      "text/plain": [
       "['AvgRowSize',\n",
       " 'StatementSubTreeCost',\n",
       " 'LOCK_WAIT_ABS',\n",
       " 'CachedPlanSize',\n",
       " 'MEM_UTILIZATION',\n",
       " 'MaxCompileMemory',\n",
       " 'TableCardinality']"
      ]
     },
     "execution_count": 12,
     "metadata": {},
     "output_type": "execute_result"
    }
   ],
   "source": [
    "top_7"
   ]
  },
  {
   "cell_type": "code",
   "execution_count": 13,
   "id": "92fa317c-8e92-42af-ad70-cb488ba6f335",
   "metadata": {},
   "outputs": [
    {
     "data": {
      "text/plain": [
       "['StatementSubTreeCost', 'AvgRowSize', 'CachedPlanSize']"
      ]
     },
     "execution_count": 13,
     "metadata": {},
     "output_type": "execute_result"
    }
   ],
   "source": [
    "plan_top_3"
   ]
  },
  {
   "cell_type": "code",
   "execution_count": 14,
   "id": "30885b9d-63e7-41e9-986c-00d8682a39aa",
   "metadata": {},
   "outputs": [
    {
     "data": {
      "text/plain": [
       "['StatementSubTreeCost',\n",
       " 'AvgRowSize',\n",
       " 'CachedPlanSize',\n",
       " 'MaxCompileMemory',\n",
       " 'CompileMemory',\n",
       " 'TableCardinality',\n",
       " 'EstimateIO']"
      ]
     },
     "execution_count": 14,
     "metadata": {},
     "output_type": "execute_result"
    }
   ],
   "source": [
    "plan_top_7"
   ]
  },
  {
   "cell_type": "code",
   "execution_count": 15,
   "id": "a2f197b9-a74a-4ff5-846d-52d675ca8f31",
   "metadata": {},
   "outputs": [
    {
     "data": {
      "text/plain": [
       "['LOCK_WAIT_ABS', 'MEM_UTILIZATION', 'LOCK_REQ_ABS']"
      ]
     },
     "execution_count": 15,
     "metadata": {},
     "output_type": "execute_result"
    }
   ],
   "source": [
    "perf_top_3"
   ]
  },
  {
   "cell_type": "code",
   "execution_count": 16,
   "id": "87978801-ac7a-49f3-b5c3-fd2c7bbad4b1",
   "metadata": {},
   "outputs": [
    {
     "data": {
      "text/plain": [
       "['LOCK_WAIT_ABS',\n",
       " 'MEM_UTILIZATION',\n",
       " 'LOCK_REQ_ABS',\n",
       " 'CPU_UTILIZATION',\n",
       " 'CPU_EFFECTIVE']"
      ]
     },
     "execution_count": 16,
     "metadata": {},
     "output_type": "execute_result"
    }
   ],
   "source": [
    "perf_top_5"
   ]
  },
  {
   "cell_type": "code",
   "execution_count": 17,
   "id": "50ffa4de-fb77-4665-8b7a-22cb4fbbec8e",
   "metadata": {},
   "outputs": [
    {
     "name": "stdout",
     "output_type": "stream",
     "text": [
      "for top 7 plan features\n",
      "tpcc: # non empty bins = 14, average perc = 5.000000000000001\n",
      "---\n",
      "tpcc: # non empty bins = 14, average perc = 4.999999999999999\n",
      "---\n",
      "tpcc: # non empty bins = 14, average perc = 5.0\n",
      "---\n",
      "tpcc: # non empty bins = 14, average perc = 5.000000000000001\n",
      "---\n",
      "tpcc: # non empty bins = 14, average perc = 5.0\n",
      "---\n",
      "tpcc: # non empty bins = 14, average perc = 5.0\n",
      "---\n",
      "tpcc: # non empty bins = 14, average perc = 5.0\n",
      "---\n",
      "tpcc: # non empty bins = 14, average perc = 5.0\n",
      "---\n",
      "tpcc: # non empty bins = 14, average perc = 5.000000000000001\n",
      "---\n",
      "tpch: # non empty bins = 32, average perc = 2.1875\n",
      "---\n",
      "tpch: # non empty bins = 32, average perc = 2.1875000000000004\n",
      "---\n",
      "tpch: # non empty bins = 32, average perc = 2.1875000000000004\n",
      "---\n",
      "tpch: # non empty bins = 32, average perc = 2.1875\n",
      "---\n",
      "tpch: # non empty bins = 32, average perc = 2.1875\n",
      "---\n",
      "tpch: # non empty bins = 32, average perc = 2.1875\n",
      "---\n",
      "tpch: # non empty bins = 32, average perc = 2.1875\n",
      "---\n",
      "tpch: # non empty bins = 32, average perc = 2.1875\n",
      "---\n",
      "tpch: # non empty bins = 33, average perc = 2.121212121212121\n",
      "---\n",
      "twitter: # non empty bins = 13, average perc = 5.384615384615385\n",
      "---\n",
      "twitter: # non empty bins = 13, average perc = 5.384615384615385\n",
      "---\n",
      "twitter: # non empty bins = 13, average perc = 5.384615384615385\n",
      "---\n",
      "twitter: # non empty bins = 13, average perc = 5.384615384615385\n",
      "---\n",
      "twitter: # non empty bins = 13, average perc = 5.384615384615385\n",
      "---\n",
      "twitter: # non empty bins = 13, average perc = 5.384615384615385\n",
      "---\n",
      "twitter: # non empty bins = 13, average perc = 5.384615384615385\n",
      "---\n",
      "twitter: # non empty bins = 13, average perc = 5.384615384615385\n",
      "---\n",
      "twitter: # non empty bins = 13, average perc = 5.384615384615385\n",
      "---\n"
     ]
    }
   ],
   "source": [
    "keep_cols = simi_calc.filter_by_features(plan_top_7)\n",
    "print('for top 7 plan features')\n",
    "\n",
    "for c_list, wl_name in zip(simi_calc.plan_bined, simi_calc.data.wl_names):\n",
    "    count = 0\n",
    "    value = 0 \n",
    "    for i in range(c_list.shape[1]):\n",
    "        if i not in keep_cols:\n",
    "            continue\n",
    "        # print([round(j,2) for j in c_list[  : ,i]])\n",
    "        for j in range(c_list.shape[0]):\n",
    "            if c_list[j][i] > 0:\n",
    "                count += 1\n",
    "                value +=  c_list[j][i]\n",
    "    print(f'{wl_name}: # non empty bins = {count}, average perc = {value/count}')\n",
    "    print('---')"
   ]
  },
  {
   "cell_type": "code",
   "execution_count": 18,
   "id": "9b6e4119-46ee-42c3-bb44-a3decd760b8a",
   "metadata": {},
   "outputs": [
    {
     "name": "stdout",
     "output_type": "stream",
     "text": [
      "for all plan features\n",
      "tpcc: # non empty bins = 29, average perc = 7.5862068965517215\n",
      "---\n",
      "tpcc: # non empty bins = 29, average perc = 7.5862068965517215\n",
      "---\n",
      "tpcc: # non empty bins = 29, average perc = 7.586206896551722\n",
      "---\n",
      "tpcc: # non empty bins = 29, average perc = 7.586206896551723\n",
      "---\n",
      "tpcc: # non empty bins = 29, average perc = 7.586206896551723\n",
      "---\n",
      "tpcc: # non empty bins = 29, average perc = 7.586206896551722\n",
      "---\n",
      "tpcc: # non empty bins = 29, average perc = 7.5862068965517215\n",
      "---\n",
      "tpcc: # non empty bins = 29, average perc = 7.586206896551722\n",
      "---\n",
      "tpcc: # non empty bins = 29, average perc = 7.586206896551721\n",
      "---\n",
      "tpch: # non empty bins = 73, average perc = 3.0136986301369846\n",
      "---\n",
      "tpch: # non empty bins = 73, average perc = 3.013698630136985\n",
      "---\n",
      "tpch: # non empty bins = 75, average perc = 2.9333333333333322\n",
      "---\n",
      "tpch: # non empty bins = 72, average perc = 3.0555555555555545\n",
      "---\n",
      "tpch: # non empty bins = 73, average perc = 3.0136986301369846\n",
      "---\n",
      "tpch: # non empty bins = 73, average perc = 3.0136986301369846\n",
      "---\n",
      "tpch: # non empty bins = 73, average perc = 3.0136986301369855\n",
      "---\n",
      "tpch: # non empty bins = 75, average perc = 2.933333333333333\n",
      "---\n",
      "tpch: # non empty bins = 76, average perc = 2.8947368421052637\n",
      "---\n",
      "twitter: # non empty bins = 29, average perc = 7.586206896551722\n",
      "---\n",
      "twitter: # non empty bins = 29, average perc = 7.586206896551722\n",
      "---\n",
      "twitter: # non empty bins = 29, average perc = 7.586206896551722\n",
      "---\n",
      "twitter: # non empty bins = 29, average perc = 7.586206896551723\n",
      "---\n",
      "twitter: # non empty bins = 29, average perc = 7.586206896551723\n",
      "---\n",
      "twitter: # non empty bins = 29, average perc = 7.586206896551723\n",
      "---\n",
      "twitter: # non empty bins = 29, average perc = 7.586206896551722\n",
      "---\n",
      "twitter: # non empty bins = 29, average perc = 7.586206896551722\n",
      "---\n",
      "twitter: # non empty bins = 29, average perc = 7.586206896551722\n",
      "---\n"
     ]
    }
   ],
   "source": [
    "print('for all plan features')\n",
    "\n",
    "for c_list, wl_name in zip(simi_calc.plan_bined, simi_calc.data.wl_names):\n",
    "    count = 0\n",
    "    value = 0 \n",
    "    for i in range(c_list.shape[1]):\n",
    "        # print([round(j,2) for j in c_list[  : ,i]])\n",
    "        for j in range(c_list.shape[0]):\n",
    "            if c_list[j][i] > 0:\n",
    "                count += 1\n",
    "                value +=  c_list[j][i]\n",
    "    print(f'{wl_name}: # non empty bins = {count}, average perc = {value/count}')\n",
    "    print('---')"
   ]
  },
  {
   "cell_type": "code",
   "execution_count": 19,
   "id": "dd17e7a2-1f99-448c-9c82-7bfdd1c1e594",
   "metadata": {},
   "outputs": [],
   "source": [
    "df = pd.DataFrame(columns=['method','feature_set','accuracy','precision','f1','recall'])"
   ]
  },
  {
   "cell_type": "markdown",
   "id": "9969b4e3-5eca-47dc-bd79-7de90379324d",
   "metadata": {},
   "source": [
    "### TS Norm"
   ]
  },
  {
   "cell_type": "code",
   "execution_count": 20,
   "id": "016ca40f-a307-4911-95d5-c4a028c063cf",
   "metadata": {},
   "outputs": [
    {
     "name": "stdout",
     "output_type": "stream",
     "text": [
      "['tpcc', 'tpcc', 'tpcc', 'tpcc', 'tpcc', 'tpcc', 'tpcc', 'tpcc', 'tpcc', 'tpch', 'tpch', 'tpch', 'tpch', 'tpch', 'tpch', 'tpch', 'tpch', 'tpch', 'twitter', 'twitter', 'twitter', 'twitter', 'twitter', 'twitter', 'twitter', 'twitter', 'twitter']\n",
      "['tpcc', 'tpcc', 'tpcc', 'tpcc', 'tpcc', 'tpcc', 'tpcc', 'tpcc', 'tpcc', 'tpch', 'tpch', 'tpch', 'tpch', 'tpch', 'tpch', 'tpch', 'tpch', 'tpch', 'twitter', 'twitter', 'twitter', 'twitter', 'twitter', 'twitter', 'twitter', 'twitter', 'twitter']\n",
      "['tpcc', 'tpcc', 'tpcc', 'tpcc', 'tpcc', 'tpcc', 'tpcc', 'tpcc', 'tpcc', 'tpch', 'tpch', 'tpch', 'tpch', 'tpch', 'tpch', 'tpch', 'tpch', 'tpch', 'twitter', 'twitter', 'twitter', 'twitter', 'twitter', 'twitter', 'twitter', 'twitter', 'twitter']\n",
      "['tpcc', 'tpcc', 'tpcc', 'tpcc', 'tpcc', 'tpcc', 'tpcc', 'tpcc', 'tpcc', 'tpch', 'tpch', 'tpch', 'tpch', 'tpch', 'tpch', 'tpch', 'tpch', 'tpch', 'twitter', 'twitter', 'twitter', 'twitter', 'twitter', 'twitter', 'twitter', 'twitter', 'twitter']\n",
      "['tpcc', 'tpcc', 'tpcc', 'tpcc', 'tpcc', 'tpcc', 'tpcc', 'tpcc', 'tpcc', 'tpch', 'tpch', 'tpch', 'tpch', 'tpch', 'tpch', 'tpch', 'tpch', 'tpch', 'twitter', 'twitter', 'twitter', 'twitter', 'twitter', 'twitter', 'twitter', 'twitter', 'twitter']\n",
      "['tpcc', 'tpcc', 'tpcc', 'tpcc', 'tpcc', 'tpcc', 'tpcc', 'tpcc', 'tpcc', 'tpch', 'tpch', 'tpch', 'tpch', 'tpch', 'tpch', 'tpch', 'tpch', 'tpch', 'twitter', 'twitter', 'twitter', 'twitter', 'twitter', 'twitter', 'twitter', 'twitter', 'twitter']\n"
     ]
    }
   ],
   "source": [
    "for feature_group, feature_group_name in zip(features_perf, feature_name_perf):\n",
    "    simi_calc.calc_simi_matrix(perf_feature_names=feature_group, norm_type='l21')\n",
    "    result_stats = pred_stats(simi_calc, n=k, dependent=True, print_label=True)\n",
    "    df.loc[len(df)] = ['L21-Norm', feature_group_name, *result_stats]  # adding a row"
   ]
  },
  {
   "cell_type": "code",
   "execution_count": 21,
   "id": "71352b7e-e89d-40e4-8d80-079046f1d4ad",
   "metadata": {},
   "outputs": [
    {
     "data": {
      "text/html": [
       "<div>\n",
       "<style scoped>\n",
       "    .dataframe tbody tr th:only-of-type {\n",
       "        vertical-align: middle;\n",
       "    }\n",
       "\n",
       "    .dataframe tbody tr th {\n",
       "        vertical-align: top;\n",
       "    }\n",
       "\n",
       "    .dataframe thead th {\n",
       "        text-align: right;\n",
       "    }\n",
       "</style>\n",
       "<table border=\"1\" class=\"dataframe\">\n",
       "  <thead>\n",
       "    <tr style=\"text-align: right;\">\n",
       "      <th></th>\n",
       "      <th>method</th>\n",
       "      <th>feature_set</th>\n",
       "      <th>accuracy</th>\n",
       "      <th>precision</th>\n",
       "      <th>f1</th>\n",
       "      <th>recall</th>\n",
       "    </tr>\n",
       "  </thead>\n",
       "  <tbody>\n",
       "    <tr>\n",
       "      <th>0</th>\n",
       "      <td>L21-Norm</td>\n",
       "      <td>resource_3</td>\n",
       "      <td>1.0</td>\n",
       "      <td>1.0</td>\n",
       "      <td>1.0</td>\n",
       "      <td>1.0</td>\n",
       "    </tr>\n",
       "    <tr>\n",
       "      <th>1</th>\n",
       "      <td>L21-Norm</td>\n",
       "      <td>resource_5</td>\n",
       "      <td>1.0</td>\n",
       "      <td>1.0</td>\n",
       "      <td>1.0</td>\n",
       "      <td>1.0</td>\n",
       "    </tr>\n",
       "    <tr>\n",
       "      <th>2</th>\n",
       "      <td>L21-Norm</td>\n",
       "      <td>resource</td>\n",
       "      <td>1.0</td>\n",
       "      <td>1.0</td>\n",
       "      <td>1.0</td>\n",
       "      <td>1.0</td>\n",
       "    </tr>\n",
       "  </tbody>\n",
       "</table>\n",
       "</div>"
      ],
      "text/plain": [
       "     method feature_set  accuracy  precision   f1  recall\n",
       "0  L21-Norm  resource_3       1.0        1.0  1.0     1.0\n",
       "1  L21-Norm  resource_5       1.0        1.0  1.0     1.0\n",
       "2  L21-Norm    resource       1.0        1.0  1.0     1.0"
      ]
     },
     "execution_count": 21,
     "metadata": {},
     "output_type": "execute_result"
    }
   ],
   "source": [
    "df"
   ]
  },
  {
   "cell_type": "code",
   "execution_count": 22,
   "id": "e3761bef-9427-4a1b-aec8-f7cc7b550c91",
   "metadata": {},
   "outputs": [],
   "source": [
    "for feature_group, feature_group_name in zip(features_perf, feature_name_perf):\n",
    "    simi_calc.calc_simi_matrix(perf_feature_names=feature_group, norm_type='l11')\n",
    "    result_stats = pred_stats(simi_calc, n=k, dependent=True)\n",
    "    df.loc[len(df)] = ['L11-Norm', feature_group_name, *result_stats] "
   ]
  },
  {
   "cell_type": "code",
   "execution_count": 23,
   "id": "a5f5b16b-4cdd-43db-850a-56ad3b356d57",
   "metadata": {},
   "outputs": [
    {
     "data": {
      "text/html": [
       "<div>\n",
       "<style scoped>\n",
       "    .dataframe tbody tr th:only-of-type {\n",
       "        vertical-align: middle;\n",
       "    }\n",
       "\n",
       "    .dataframe tbody tr th {\n",
       "        vertical-align: top;\n",
       "    }\n",
       "\n",
       "    .dataframe thead th {\n",
       "        text-align: right;\n",
       "    }\n",
       "</style>\n",
       "<table border=\"1\" class=\"dataframe\">\n",
       "  <thead>\n",
       "    <tr style=\"text-align: right;\">\n",
       "      <th></th>\n",
       "      <th>method</th>\n",
       "      <th>feature_set</th>\n",
       "      <th>accuracy</th>\n",
       "      <th>precision</th>\n",
       "      <th>f1</th>\n",
       "      <th>recall</th>\n",
       "    </tr>\n",
       "  </thead>\n",
       "  <tbody>\n",
       "    <tr>\n",
       "      <th>3</th>\n",
       "      <td>L11-Norm</td>\n",
       "      <td>resource_3</td>\n",
       "      <td>1.0</td>\n",
       "      <td>1.0</td>\n",
       "      <td>1.0</td>\n",
       "      <td>1.0</td>\n",
       "    </tr>\n",
       "    <tr>\n",
       "      <th>4</th>\n",
       "      <td>L11-Norm</td>\n",
       "      <td>resource_5</td>\n",
       "      <td>1.0</td>\n",
       "      <td>1.0</td>\n",
       "      <td>1.0</td>\n",
       "      <td>1.0</td>\n",
       "    </tr>\n",
       "    <tr>\n",
       "      <th>5</th>\n",
       "      <td>L11-Norm</td>\n",
       "      <td>resource</td>\n",
       "      <td>1.0</td>\n",
       "      <td>1.0</td>\n",
       "      <td>1.0</td>\n",
       "      <td>1.0</td>\n",
       "    </tr>\n",
       "  </tbody>\n",
       "</table>\n",
       "</div>"
      ],
      "text/plain": [
       "     method feature_set  accuracy  precision   f1  recall\n",
       "3  L11-Norm  resource_3       1.0        1.0  1.0     1.0\n",
       "4  L11-Norm  resource_5       1.0        1.0  1.0     1.0\n",
       "5  L11-Norm    resource       1.0        1.0  1.0     1.0"
      ]
     },
     "execution_count": 23,
     "metadata": {},
     "output_type": "execute_result"
    }
   ],
   "source": [
    "df[df['method'] == 'L11-Norm']"
   ]
  },
  {
   "cell_type": "code",
   "execution_count": 24,
   "id": "4457a64f-7737-4213-9c55-a03a0ad9bc4b",
   "metadata": {},
   "outputs": [],
   "source": [
    "for feature_group, feature_group_name in zip(features_perf, feature_name_perf):\n",
    "    simi_calc.calc_simi_matrix(perf_feature_names=feature_group, norm_type='fro')\n",
    "    result_stats = pred_stats(simi_calc, n=k, dependent=True)\n",
    "    df.loc[len(df)] = ['Fro-Norm', feature_group_name, *result_stats] "
   ]
  },
  {
   "cell_type": "code",
   "execution_count": 25,
   "id": "a37033c5-0d05-4ced-9585-72da75617583",
   "metadata": {},
   "outputs": [
    {
     "data": {
      "text/html": [
       "<div>\n",
       "<style scoped>\n",
       "    .dataframe tbody tr th:only-of-type {\n",
       "        vertical-align: middle;\n",
       "    }\n",
       "\n",
       "    .dataframe tbody tr th {\n",
       "        vertical-align: top;\n",
       "    }\n",
       "\n",
       "    .dataframe thead th {\n",
       "        text-align: right;\n",
       "    }\n",
       "</style>\n",
       "<table border=\"1\" class=\"dataframe\">\n",
       "  <thead>\n",
       "    <tr style=\"text-align: right;\">\n",
       "      <th></th>\n",
       "      <th>method</th>\n",
       "      <th>feature_set</th>\n",
       "      <th>accuracy</th>\n",
       "      <th>precision</th>\n",
       "      <th>f1</th>\n",
       "      <th>recall</th>\n",
       "    </tr>\n",
       "  </thead>\n",
       "  <tbody>\n",
       "    <tr>\n",
       "      <th>6</th>\n",
       "      <td>Fro-Norm</td>\n",
       "      <td>resource_3</td>\n",
       "      <td>1.0</td>\n",
       "      <td>1.0</td>\n",
       "      <td>1.0</td>\n",
       "      <td>1.0</td>\n",
       "    </tr>\n",
       "    <tr>\n",
       "      <th>7</th>\n",
       "      <td>Fro-Norm</td>\n",
       "      <td>resource_5</td>\n",
       "      <td>1.0</td>\n",
       "      <td>1.0</td>\n",
       "      <td>1.0</td>\n",
       "      <td>1.0</td>\n",
       "    </tr>\n",
       "    <tr>\n",
       "      <th>8</th>\n",
       "      <td>Fro-Norm</td>\n",
       "      <td>resource</td>\n",
       "      <td>1.0</td>\n",
       "      <td>1.0</td>\n",
       "      <td>1.0</td>\n",
       "      <td>1.0</td>\n",
       "    </tr>\n",
       "  </tbody>\n",
       "</table>\n",
       "</div>"
      ],
      "text/plain": [
       "     method feature_set  accuracy  precision   f1  recall\n",
       "6  Fro-Norm  resource_3       1.0        1.0  1.0     1.0\n",
       "7  Fro-Norm  resource_5       1.0        1.0  1.0     1.0\n",
       "8  Fro-Norm    resource       1.0        1.0  1.0     1.0"
      ]
     },
     "execution_count": 25,
     "metadata": {},
     "output_type": "execute_result"
    }
   ],
   "source": [
    "df[df['method'] == 'Fro-Norm']"
   ]
  },
  {
   "cell_type": "code",
   "execution_count": 26,
   "id": "219e76f0-328d-46ef-8e6e-d086dae8c27e",
   "metadata": {},
   "outputs": [],
   "source": [
    "for feature_group, feature_group_name in zip(features_perf, feature_name_perf):\n",
    "    simi_calc.calc_simi_matrix(perf_feature_names=feature_group, norm_type='canb')\n",
    "    result_stats = pred_stats(simi_calc, n=k, dependent=True)\n",
    "    df.loc[len(df)] = ['Canb-Norm', feature_group_name, *result_stats] "
   ]
  },
  {
   "cell_type": "code",
   "execution_count": 27,
   "id": "24194aea-93d1-4913-9b07-aafb61e24ccc",
   "metadata": {},
   "outputs": [
    {
     "data": {
      "text/html": [
       "<div>\n",
       "<style scoped>\n",
       "    .dataframe tbody tr th:only-of-type {\n",
       "        vertical-align: middle;\n",
       "    }\n",
       "\n",
       "    .dataframe tbody tr th {\n",
       "        vertical-align: top;\n",
       "    }\n",
       "\n",
       "    .dataframe thead th {\n",
       "        text-align: right;\n",
       "    }\n",
       "</style>\n",
       "<table border=\"1\" class=\"dataframe\">\n",
       "  <thead>\n",
       "    <tr style=\"text-align: right;\">\n",
       "      <th></th>\n",
       "      <th>method</th>\n",
       "      <th>feature_set</th>\n",
       "      <th>accuracy</th>\n",
       "      <th>precision</th>\n",
       "      <th>f1</th>\n",
       "      <th>recall</th>\n",
       "    </tr>\n",
       "  </thead>\n",
       "  <tbody>\n",
       "    <tr>\n",
       "      <th>9</th>\n",
       "      <td>Canb-Norm</td>\n",
       "      <td>resource_3</td>\n",
       "      <td>1.0</td>\n",
       "      <td>1.0</td>\n",
       "      <td>1.0</td>\n",
       "      <td>1.0</td>\n",
       "    </tr>\n",
       "    <tr>\n",
       "      <th>10</th>\n",
       "      <td>Canb-Norm</td>\n",
       "      <td>resource_5</td>\n",
       "      <td>1.0</td>\n",
       "      <td>1.0</td>\n",
       "      <td>1.0</td>\n",
       "      <td>1.0</td>\n",
       "    </tr>\n",
       "    <tr>\n",
       "      <th>11</th>\n",
       "      <td>Canb-Norm</td>\n",
       "      <td>resource</td>\n",
       "      <td>1.0</td>\n",
       "      <td>1.0</td>\n",
       "      <td>1.0</td>\n",
       "      <td>1.0</td>\n",
       "    </tr>\n",
       "  </tbody>\n",
       "</table>\n",
       "</div>"
      ],
      "text/plain": [
       "       method feature_set  accuracy  precision   f1  recall\n",
       "9   Canb-Norm  resource_3       1.0        1.0  1.0     1.0\n",
       "10  Canb-Norm  resource_5       1.0        1.0  1.0     1.0\n",
       "11  Canb-Norm    resource       1.0        1.0  1.0     1.0"
      ]
     },
     "execution_count": 27,
     "metadata": {},
     "output_type": "execute_result"
    }
   ],
   "source": [
    "df[df['method'] == 'Canb-Norm']"
   ]
  },
  {
   "cell_type": "code",
   "execution_count": 28,
   "id": "65677d9e-e506-49cf-b997-10b1a17f3d57",
   "metadata": {},
   "outputs": [],
   "source": [
    "for feature_group, feature_group_name in zip(features_perf, feature_name_perf):\n",
    "    simi_calc.calc_simi_matrix(perf_feature_names=feature_group, norm_type='corr')\n",
    "    result_stats = pred_stats(simi_calc, n=k, dependent=True)\n",
    "    df.loc[len(df)] = ['Corr-Norm', feature_group_name, *result_stats] "
   ]
  },
  {
   "cell_type": "code",
   "execution_count": 29,
   "id": "eba61721-056d-4aa4-8980-1e1bd23aed50",
   "metadata": {},
   "outputs": [
    {
     "data": {
      "text/html": [
       "<div>\n",
       "<style scoped>\n",
       "    .dataframe tbody tr th:only-of-type {\n",
       "        vertical-align: middle;\n",
       "    }\n",
       "\n",
       "    .dataframe tbody tr th {\n",
       "        vertical-align: top;\n",
       "    }\n",
       "\n",
       "    .dataframe thead th {\n",
       "        text-align: right;\n",
       "    }\n",
       "</style>\n",
       "<table border=\"1\" class=\"dataframe\">\n",
       "  <thead>\n",
       "    <tr style=\"text-align: right;\">\n",
       "      <th></th>\n",
       "      <th>method</th>\n",
       "      <th>feature_set</th>\n",
       "      <th>accuracy</th>\n",
       "      <th>precision</th>\n",
       "      <th>f1</th>\n",
       "      <th>recall</th>\n",
       "    </tr>\n",
       "  </thead>\n",
       "  <tbody>\n",
       "    <tr>\n",
       "      <th>12</th>\n",
       "      <td>Corr-Norm</td>\n",
       "      <td>resource_3</td>\n",
       "      <td>0.629630</td>\n",
       "      <td>0.462963</td>\n",
       "      <td>0.518519</td>\n",
       "      <td>0.629630</td>\n",
       "    </tr>\n",
       "    <tr>\n",
       "      <th>13</th>\n",
       "      <td>Corr-Norm</td>\n",
       "      <td>resource_5</td>\n",
       "      <td>0.629630</td>\n",
       "      <td>0.462963</td>\n",
       "      <td>0.518519</td>\n",
       "      <td>0.629630</td>\n",
       "    </tr>\n",
       "    <tr>\n",
       "      <th>14</th>\n",
       "      <td>Corr-Norm</td>\n",
       "      <td>resource</td>\n",
       "      <td>0.333333</td>\n",
       "      <td>0.222222</td>\n",
       "      <td>0.217172</td>\n",
       "      <td>0.333333</td>\n",
       "    </tr>\n",
       "  </tbody>\n",
       "</table>\n",
       "</div>"
      ],
      "text/plain": [
       "       method feature_set  accuracy  precision        f1    recall\n",
       "12  Corr-Norm  resource_3  0.629630   0.462963  0.518519  0.629630\n",
       "13  Corr-Norm  resource_5  0.629630   0.462963  0.518519  0.629630\n",
       "14  Corr-Norm    resource  0.333333   0.222222  0.217172  0.333333"
      ]
     },
     "execution_count": 29,
     "metadata": {},
     "output_type": "execute_result"
    }
   ],
   "source": [
    "df[df['method'] == 'Corr-Norm']"
   ]
  },
  {
   "cell_type": "code",
   "execution_count": 30,
   "id": "9d8aaa30-9e23-4267-b5a5-dd9911d8fa09",
   "metadata": {},
   "outputs": [],
   "source": [
    "for feature_group, feature_group_name in zip(features_perf, feature_name_perf):\n",
    "    simi_calc.calc_simi_matrix(perf_feature_names=feature_group, norm_type='chi2')\n",
    "    result_stats = pred_stats(simi_calc, n=k, dependent=True)\n",
    "    df.loc[len(df)] = ['Chi2-Norm', feature_group_name, *result_stats] "
   ]
  },
  {
   "cell_type": "code",
   "execution_count": 31,
   "id": "4757bd6e-d19a-45c0-90b4-dc709e5afa08",
   "metadata": {},
   "outputs": [
    {
     "data": {
      "text/html": [
       "<div>\n",
       "<style scoped>\n",
       "    .dataframe tbody tr th:only-of-type {\n",
       "        vertical-align: middle;\n",
       "    }\n",
       "\n",
       "    .dataframe tbody tr th {\n",
       "        vertical-align: top;\n",
       "    }\n",
       "\n",
       "    .dataframe thead th {\n",
       "        text-align: right;\n",
       "    }\n",
       "</style>\n",
       "<table border=\"1\" class=\"dataframe\">\n",
       "  <thead>\n",
       "    <tr style=\"text-align: right;\">\n",
       "      <th></th>\n",
       "      <th>method</th>\n",
       "      <th>feature_set</th>\n",
       "      <th>accuracy</th>\n",
       "      <th>precision</th>\n",
       "      <th>f1</th>\n",
       "      <th>recall</th>\n",
       "    </tr>\n",
       "  </thead>\n",
       "  <tbody>\n",
       "    <tr>\n",
       "      <th>15</th>\n",
       "      <td>Chi2-Norm</td>\n",
       "      <td>resource_3</td>\n",
       "      <td>0.333333</td>\n",
       "      <td>0.222222</td>\n",
       "      <td>0.217172</td>\n",
       "      <td>0.333333</td>\n",
       "    </tr>\n",
       "    <tr>\n",
       "      <th>16</th>\n",
       "      <td>Chi2-Norm</td>\n",
       "      <td>resource_5</td>\n",
       "      <td>0.333333</td>\n",
       "      <td>0.222222</td>\n",
       "      <td>0.217172</td>\n",
       "      <td>0.333333</td>\n",
       "    </tr>\n",
       "    <tr>\n",
       "      <th>17</th>\n",
       "      <td>Chi2-Norm</td>\n",
       "      <td>resource</td>\n",
       "      <td>0.333333</td>\n",
       "      <td>0.222222</td>\n",
       "      <td>0.217172</td>\n",
       "      <td>0.333333</td>\n",
       "    </tr>\n",
       "  </tbody>\n",
       "</table>\n",
       "</div>"
      ],
      "text/plain": [
       "       method feature_set  accuracy  precision        f1    recall\n",
       "15  Chi2-Norm  resource_3  0.333333   0.222222  0.217172  0.333333\n",
       "16  Chi2-Norm  resource_5  0.333333   0.222222  0.217172  0.333333\n",
       "17  Chi2-Norm    resource  0.333333   0.222222  0.217172  0.333333"
      ]
     },
     "execution_count": 31,
     "metadata": {},
     "output_type": "execute_result"
    }
   ],
   "source": [
    "df[df['method'] == 'Chi2-Norm']"
   ]
  },
  {
   "cell_type": "markdown",
   "id": "59c85b71-8e5c-4750-9af6-6a8138695ca2",
   "metadata": {},
   "source": [
    "### Hist-FP"
   ]
  },
  {
   "cell_type": "code",
   "execution_count": 32,
   "id": "0c48ef29-5f89-4c19-8417-ffd2b68797e4",
   "metadata": {},
   "outputs": [
    {
     "name": "stdout",
     "output_type": "stream",
     "text": [
      "resource_3\n",
      "['tpcc', 'tpcc', 'tpcc', 'tpcc', 'tpcc', 'tpcc', 'tpcc', 'tpcc', 'tpcc', 'tpch', 'tpch', 'tpch', 'tpch', 'tpch', 'tpch', 'tpch', 'tpch', 'tpch', 'twitter', 'twitter', 'twitter', 'twitter', 'twitter', 'twitter', 'twitter', 'twitter', 'twitter']\n",
      "['tpcc', 'tpcc', 'tpcc', 'tpcc', 'tpcc', 'tpcc', 'tpcc', 'tpcc', 'tpcc', 'tpch', 'tpch', 'tpch', 'tpch', 'tpch', 'tpch', 'tpch', 'tpch', 'tpch', 'twitter', 'twitter', 'twitter', 'twitter', 'twitter', 'twitter', 'twitter', 'twitter', 'twitter']\n",
      "resource_5\n",
      "['tpcc', 'tpcc', 'tpcc', 'tpcc', 'tpcc', 'tpcc', 'tpcc', 'tpcc', 'tpcc', 'tpch', 'tpch', 'tpch', 'tpch', 'tpch', 'tpch', 'tpch', 'tpch', 'tpch', 'twitter', 'twitter', 'twitter', 'twitter', 'twitter', 'twitter', 'twitter', 'twitter', 'twitter']\n",
      "['tpcc', 'tpcc', 'tpcc', 'tpcc', 'tpcc', 'tpcc', 'tpcc', 'tpcc', 'tpcc', 'tpch', 'tpch', 'tpch', 'tpch', 'tpch', 'tpch', 'tpch', 'tpch', 'tpch', 'twitter', 'twitter', 'twitter', 'twitter', 'twitter', 'twitter', 'twitter', 'twitter', 'twitter']\n",
      "resource\n",
      "['tpcc', 'tpcc', 'tpcc', 'tpcc', 'tpcc', 'tpcc', 'tpcc', 'tpcc', 'tpcc', 'tpch', 'tpch', 'tpch', 'tpch', 'tpch', 'tpch', 'tpch', 'tpch', 'tpch', 'twitter', 'twitter', 'twitter', 'twitter', 'twitter', 'twitter', 'twitter', 'twitter', 'twitter']\n",
      "['tpcc', 'tpcc', 'tpcc', 'tpcc', 'tpcc', 'tpcc', 'tpcc', 'tpcc', 'tpcc', 'tpch', 'tpch', 'tpch', 'tpch', 'tpch', 'tpch', 'tpch', 'tpch', 'tpch', 'twitter', 'twitter', 'twitter', 'twitter', 'twitter', 'twitter', 'twitter', 'twitter', 'twitter']\n"
     ]
    }
   ],
   "source": [
    "for feature_group, feature_group_name in zip(features_all, feature_name_all):\n",
    "    simi_calc.calc_dist_simi_matrix(cumulative=True, feature_names=feature_group, norm_type='l21')\n",
    "    tag = 'resource' in feature_group_name\n",
    "    if tag:\n",
    "        print(feature_group_name)\n",
    "    result_stats = pred_stats(simi_calc, n=k, dependent=True, print_label=tag)\n",
    "    df.loc[len(df)] = ['Hist-FP-L21', feature_group_name, *result_stats] "
   ]
  },
  {
   "cell_type": "code",
   "execution_count": 33,
   "id": "4faabb1d-74be-4cae-b849-b942545d5e7e",
   "metadata": {},
   "outputs": [],
   "source": [
    "for feature_group, feature_group_name in zip(features_all, feature_name_all):\n",
    "    simi_calc.calc_dist_simi_matrix(cumulative=True, feature_names=feature_group, norm_type='l11')\n",
    "    result_stats = pred_stats(simi_calc, n=k, dependent=True)\n",
    "    df.loc[len(df)] = ['Hist-FP-L11', feature_group_name, *result_stats] "
   ]
  },
  {
   "cell_type": "code",
   "execution_count": 34,
   "id": "86a10e09-ffc4-4f47-9328-8cf44deb28f5",
   "metadata": {},
   "outputs": [],
   "source": [
    "for feature_group, feature_group_name in zip(features_all, feature_name_all):\n",
    "    simi_calc.calc_dist_simi_matrix(cumulative=True, feature_names=feature_group, norm_type='fro')\n",
    "    result_stats = pred_stats(simi_calc, n=k, dependent=True)\n",
    "    df.loc[len(df)] = ['Hist-FP-Fro', feature_group_name, *result_stats] "
   ]
  },
  {
   "cell_type": "code",
   "execution_count": 35,
   "id": "a42006d4-c09f-4c94-84ad-215585e5e46c",
   "metadata": {},
   "outputs": [],
   "source": [
    "for feature_group, feature_group_name in zip(features_all, feature_name_all):\n",
    "    simi_calc.calc_dist_simi_matrix(cumulative=True, feature_names=feature_group, norm_type='canb')\n",
    "    result_stats = pred_stats(simi_calc, n=k, dependent=True)\n",
    "    df.loc[len(df)] = ['Hist-FP-Canb', feature_group_name, *result_stats] "
   ]
  },
  {
   "cell_type": "code",
   "execution_count": 36,
   "id": "500cd79d-c6e3-4923-99f0-7921a225b71a",
   "metadata": {},
   "outputs": [],
   "source": [
    "for feature_group, feature_group_name in zip(features_all, feature_name_all):\n",
    "    simi_calc.calc_dist_simi_matrix(cumulative=True, feature_names=feature_group, norm_type='chi2')\n",
    "    result_stats = pred_stats(simi_calc, n=k, dependent=True)\n",
    "    df.loc[len(df)] = ['Hist-FP-Chi2', feature_group_name, *result_stats] "
   ]
  },
  {
   "cell_type": "markdown",
   "id": "ba24ead3-37fa-4c42-b12e-a4ee2130d563",
   "metadata": {
    "tags": []
   },
   "source": [
    "#### Phase Stats FP Distance Measure"
   ]
  },
  {
   "cell_type": "code",
   "execution_count": 37,
   "id": "700a089c-a41c-434e-906b-1289fb23e8b1",
   "metadata": {},
   "outputs": [],
   "source": [
    "for feature_group, feature_group_name in zip(features_all, feature_name_all):\n",
    "    simi_calc.calc_phase_simi_matrix(feature_names=feature_group, cpd='Kernel', penalty=15, norm_type='l21')\n",
    "    result_stats = pred_stats(simi_calc, n=k, dependent=True)\n",
    "    df.loc[len(df)] = ['Phase-FP-L21', feature_group_name, *result_stats] "
   ]
  },
  {
   "cell_type": "code",
   "execution_count": 38,
   "id": "7fa89551-7e30-40b8-956e-fee1593d760b",
   "metadata": {},
   "outputs": [],
   "source": [
    "for feature_group, feature_group_name in zip(features_all, feature_name_all):\n",
    "    simi_calc.calc_phase_simi_matrix(feature_names=feature_group, cpd='Kernel', penalty=15, norm_type='l11')\n",
    "    result_stats = pred_stats(simi_calc, n=k, dependent=True)\n",
    "    df.loc[len(df)] = ['Phase-FP-L11', feature_group_name, *result_stats] "
   ]
  },
  {
   "cell_type": "code",
   "execution_count": 39,
   "id": "fdc790c0-4acf-4520-9b00-70813fae05d9",
   "metadata": {},
   "outputs": [],
   "source": [
    "for feature_group, feature_group_name in zip(features_all, feature_name_all):\n",
    "    simi_calc.calc_phase_simi_matrix(feature_names=feature_group, cpd='Kernel', penalty=15, norm_type='fro')\n",
    "    result_stats = pred_stats(simi_calc, n=k, dependent=True)\n",
    "    df.loc[len(df)] = ['Phase-FP-Fro', feature_group_name, *result_stats] "
   ]
  },
  {
   "cell_type": "code",
   "execution_count": 40,
   "id": "8ba0baad-18df-4da0-ad5c-4330b4a16fa0",
   "metadata": {},
   "outputs": [],
   "source": [
    "for feature_group, feature_group_name in zip(features_all, feature_name_all):\n",
    "    simi_calc.calc_phase_simi_matrix(feature_names=feature_group, cpd='Kernel', penalty=15, norm_type='Canb')\n",
    "    result_stats = pred_stats(simi_calc, n=k, dependent=True)\n",
    "    df.loc[len(df)] = ['Phase-FP-Canb', feature_group_name, *result_stats] "
   ]
  },
  {
   "cell_type": "markdown",
   "id": "7df9b32f-5a6d-4cf1-80a7-55e0b338c779",
   "metadata": {},
   "source": [
    "#### Dependent DTW"
   ]
  },
  {
   "cell_type": "code",
   "execution_count": 41,
   "id": "b9352869-a83d-4974-ac99-096c62f3450a",
   "metadata": {},
   "outputs": [],
   "source": [
    "for feature_group, feature_group_name in zip(features_perf, feature_name_perf):\n",
    "    simi_calc.calc_dtw_simi_matrix(perf_feature_names=feature_group)\n",
    "    result_stats = pred_stats(simi_calc, n=k, dependent=True)\n",
    "    df.loc[len(df)] = ['Dependent-DTW', feature_group_name, *result_stats] "
   ]
  },
  {
   "cell_type": "markdown",
   "id": "472981cc-a3e1-4b0f-9fb1-f8b208ac7297",
   "metadata": {},
   "source": [
    "#### Independent DTW"
   ]
  },
  {
   "cell_type": "code",
   "execution_count": 42,
   "id": "44f8f2c3-83ec-4a38-90d2-9eeb080d40b9",
   "metadata": {},
   "outputs": [],
   "source": [
    "for feature_group, feature_group_name in zip(features_perf, feature_name_perf):\n",
    "    simi_calc.calc_ind_dtw_simi_matrix(perf_feature_names=feature_group)\n",
    "    result_stats = pred_stats(simi_calc, n=k, dependent=False)\n",
    "    df.loc[len(df)] = ['Independent-DTW', feature_group_name, *result_stats] "
   ]
  },
  {
   "cell_type": "markdown",
   "id": "be4b2adf-6db0-4067-a5d2-ed1a7f9d21e0",
   "metadata": {},
   "source": [
    "#### Dependent LCSS"
   ]
  },
  {
   "cell_type": "code",
   "execution_count": 43,
   "id": "8a8b83fc-96c9-469c-aeac-d276adadd8aa",
   "metadata": {},
   "outputs": [],
   "source": [
    "for feature_group, feature_group_name in zip(features_perf, feature_name_perf):\n",
    "    simi_calc.calc_lcss_simi_matrix(perf_feature_names=feature_group)\n",
    "    result_stats = pred_stats(simi_calc, n=k, dependent=True)\n",
    "    df.loc[len(df)] = ['Dependent-LCSS', feature_group_name, *result_stats] "
   ]
  },
  {
   "cell_type": "markdown",
   "id": "fb47887a-7c61-4b4b-a0f6-12f4402affca",
   "metadata": {},
   "source": [
    "#### Independent LCSS"
   ]
  },
  {
   "cell_type": "code",
   "execution_count": null,
   "id": "42fa99eb-f2c5-4499-8882-7d587534725a",
   "metadata": {},
   "outputs": [],
   "source": [
    "for feature_group, feature_group_name in zip(features_perf, feature_name_perf):\n",
    "    simi_calc.calc_ind_lcss_simi_matrix(perf_feature_names=feature_group)\n",
    "    result_stats = pred_stats(simi_calc, n=k, dependent=False)\n",
    "    df.loc[len(df)] = ['Independent-LCSS', feature_group_name, *result_stats] "
   ]
  },
  {
   "cell_type": "markdown",
   "id": "ce31bc31-5bd9-484d-a9e1-38cb52280869",
   "metadata": {},
   "source": [
    "### Comparing methods"
   ]
  },
  {
   "cell_type": "code",
   "execution_count": null,
   "id": "ad6dfe32-f077-4601-94c9-5ca364190edf",
   "metadata": {},
   "outputs": [
    {
     "data": {
      "text/html": [
       "<div>\n",
       "<style scoped>\n",
       "    .dataframe tbody tr th:only-of-type {\n",
       "        vertical-align: middle;\n",
       "    }\n",
       "\n",
       "    .dataframe tbody tr th {\n",
       "        vertical-align: top;\n",
       "    }\n",
       "\n",
       "    .dataframe thead th {\n",
       "        text-align: right;\n",
       "    }\n",
       "</style>\n",
       "<table border=\"1\" class=\"dataframe\">\n",
       "  <thead>\n",
       "    <tr style=\"text-align: right;\">\n",
       "      <th></th>\n",
       "      <th>method</th>\n",
       "      <th>feature_set</th>\n",
       "      <th>accuracy</th>\n",
       "      <th>precision</th>\n",
       "      <th>f1</th>\n",
       "      <th>recall</th>\n",
       "    </tr>\n",
       "  </thead>\n",
       "  <tbody>\n",
       "    <tr>\n",
       "      <th>18</th>\n",
       "      <td>Hist-FP-L21</td>\n",
       "      <td>plan_3</td>\n",
       "      <td>1.0</td>\n",
       "      <td>1.0</td>\n",
       "      <td>1.0</td>\n",
       "      <td>1.0</td>\n",
       "    </tr>\n",
       "    <tr>\n",
       "      <th>19</th>\n",
       "      <td>Hist-FP-L21</td>\n",
       "      <td>plan_7</td>\n",
       "      <td>1.0</td>\n",
       "      <td>1.0</td>\n",
       "      <td>1.0</td>\n",
       "      <td>1.0</td>\n",
       "    </tr>\n",
       "    <tr>\n",
       "      <th>20</th>\n",
       "      <td>Hist-FP-L21</td>\n",
       "      <td>plan</td>\n",
       "      <td>1.0</td>\n",
       "      <td>1.0</td>\n",
       "      <td>1.0</td>\n",
       "      <td>1.0</td>\n",
       "    </tr>\n",
       "    <tr>\n",
       "      <th>21</th>\n",
       "      <td>Hist-FP-L21</td>\n",
       "      <td>resource_3</td>\n",
       "      <td>1.0</td>\n",
       "      <td>1.0</td>\n",
       "      <td>1.0</td>\n",
       "      <td>1.0</td>\n",
       "    </tr>\n",
       "    <tr>\n",
       "      <th>22</th>\n",
       "      <td>Hist-FP-L21</td>\n",
       "      <td>resource_5</td>\n",
       "      <td>1.0</td>\n",
       "      <td>1.0</td>\n",
       "      <td>1.0</td>\n",
       "      <td>1.0</td>\n",
       "    </tr>\n",
       "    <tr>\n",
       "      <th>23</th>\n",
       "      <td>Hist-FP-L21</td>\n",
       "      <td>resource</td>\n",
       "      <td>1.0</td>\n",
       "      <td>1.0</td>\n",
       "      <td>1.0</td>\n",
       "      <td>1.0</td>\n",
       "    </tr>\n",
       "    <tr>\n",
       "      <th>24</th>\n",
       "      <td>Hist-FP-L21</td>\n",
       "      <td>all_3</td>\n",
       "      <td>1.0</td>\n",
       "      <td>1.0</td>\n",
       "      <td>1.0</td>\n",
       "      <td>1.0</td>\n",
       "    </tr>\n",
       "    <tr>\n",
       "      <th>25</th>\n",
       "      <td>Hist-FP-L21</td>\n",
       "      <td>all_7</td>\n",
       "      <td>1.0</td>\n",
       "      <td>1.0</td>\n",
       "      <td>1.0</td>\n",
       "      <td>1.0</td>\n",
       "    </tr>\n",
       "    <tr>\n",
       "      <th>26</th>\n",
       "      <td>Hist-FP-L21</td>\n",
       "      <td>all</td>\n",
       "      <td>1.0</td>\n",
       "      <td>1.0</td>\n",
       "      <td>1.0</td>\n",
       "      <td>1.0</td>\n",
       "    </tr>\n",
       "  </tbody>\n",
       "</table>\n",
       "</div>"
      ],
      "text/plain": [
       "         method feature_set  accuracy  precision   f1  recall\n",
       "18  Hist-FP-L21      plan_3       1.0        1.0  1.0     1.0\n",
       "19  Hist-FP-L21      plan_7       1.0        1.0  1.0     1.0\n",
       "20  Hist-FP-L21        plan       1.0        1.0  1.0     1.0\n",
       "21  Hist-FP-L21  resource_3       1.0        1.0  1.0     1.0\n",
       "22  Hist-FP-L21  resource_5       1.0        1.0  1.0     1.0\n",
       "23  Hist-FP-L21    resource       1.0        1.0  1.0     1.0\n",
       "24  Hist-FP-L21       all_3       1.0        1.0  1.0     1.0\n",
       "25  Hist-FP-L21       all_7       1.0        1.0  1.0     1.0\n",
       "26  Hist-FP-L21         all       1.0        1.0  1.0     1.0"
      ]
     },
     "execution_count": 45,
     "metadata": {},
     "output_type": "execute_result"
    }
   ],
   "source": [
    "df[df['method'] == 'Hist-FP-L21']"
   ]
  },
  {
   "cell_type": "code",
   "execution_count": null,
   "id": "0e3a404b-c713-43c1-9fec-9045802ef497",
   "metadata": {},
   "outputs": [
    {
     "data": {
      "text/html": [
       "<div>\n",
       "<style scoped>\n",
       "    .dataframe tbody tr th:only-of-type {\n",
       "        vertical-align: middle;\n",
       "    }\n",
       "\n",
       "    .dataframe tbody tr th {\n",
       "        vertical-align: top;\n",
       "    }\n",
       "\n",
       "    .dataframe thead th {\n",
       "        text-align: right;\n",
       "    }\n",
       "</style>\n",
       "<table border=\"1\" class=\"dataframe\">\n",
       "  <thead>\n",
       "    <tr style=\"text-align: right;\">\n",
       "      <th></th>\n",
       "      <th>method</th>\n",
       "      <th>feature_set</th>\n",
       "      <th>accuracy</th>\n",
       "      <th>precision</th>\n",
       "      <th>f1</th>\n",
       "      <th>recall</th>\n",
       "    </tr>\n",
       "  </thead>\n",
       "  <tbody>\n",
       "    <tr>\n",
       "      <th>36</th>\n",
       "      <td>Hist-FP-Fro</td>\n",
       "      <td>plan_3</td>\n",
       "      <td>1.0</td>\n",
       "      <td>1.0</td>\n",
       "      <td>1.0</td>\n",
       "      <td>1.0</td>\n",
       "    </tr>\n",
       "    <tr>\n",
       "      <th>37</th>\n",
       "      <td>Hist-FP-Fro</td>\n",
       "      <td>plan_7</td>\n",
       "      <td>1.0</td>\n",
       "      <td>1.0</td>\n",
       "      <td>1.0</td>\n",
       "      <td>1.0</td>\n",
       "    </tr>\n",
       "    <tr>\n",
       "      <th>38</th>\n",
       "      <td>Hist-FP-Fro</td>\n",
       "      <td>plan</td>\n",
       "      <td>1.0</td>\n",
       "      <td>1.0</td>\n",
       "      <td>1.0</td>\n",
       "      <td>1.0</td>\n",
       "    </tr>\n",
       "    <tr>\n",
       "      <th>39</th>\n",
       "      <td>Hist-FP-Fro</td>\n",
       "      <td>resource_3</td>\n",
       "      <td>1.0</td>\n",
       "      <td>1.0</td>\n",
       "      <td>1.0</td>\n",
       "      <td>1.0</td>\n",
       "    </tr>\n",
       "    <tr>\n",
       "      <th>40</th>\n",
       "      <td>Hist-FP-Fro</td>\n",
       "      <td>resource_5</td>\n",
       "      <td>1.0</td>\n",
       "      <td>1.0</td>\n",
       "      <td>1.0</td>\n",
       "      <td>1.0</td>\n",
       "    </tr>\n",
       "    <tr>\n",
       "      <th>41</th>\n",
       "      <td>Hist-FP-Fro</td>\n",
       "      <td>resource</td>\n",
       "      <td>1.0</td>\n",
       "      <td>1.0</td>\n",
       "      <td>1.0</td>\n",
       "      <td>1.0</td>\n",
       "    </tr>\n",
       "    <tr>\n",
       "      <th>42</th>\n",
       "      <td>Hist-FP-Fro</td>\n",
       "      <td>all_3</td>\n",
       "      <td>1.0</td>\n",
       "      <td>1.0</td>\n",
       "      <td>1.0</td>\n",
       "      <td>1.0</td>\n",
       "    </tr>\n",
       "    <tr>\n",
       "      <th>43</th>\n",
       "      <td>Hist-FP-Fro</td>\n",
       "      <td>all_7</td>\n",
       "      <td>1.0</td>\n",
       "      <td>1.0</td>\n",
       "      <td>1.0</td>\n",
       "      <td>1.0</td>\n",
       "    </tr>\n",
       "    <tr>\n",
       "      <th>44</th>\n",
       "      <td>Hist-FP-Fro</td>\n",
       "      <td>all</td>\n",
       "      <td>1.0</td>\n",
       "      <td>1.0</td>\n",
       "      <td>1.0</td>\n",
       "      <td>1.0</td>\n",
       "    </tr>\n",
       "  </tbody>\n",
       "</table>\n",
       "</div>"
      ],
      "text/plain": [
       "         method feature_set  accuracy  precision   f1  recall\n",
       "36  Hist-FP-Fro      plan_3       1.0        1.0  1.0     1.0\n",
       "37  Hist-FP-Fro      plan_7       1.0        1.0  1.0     1.0\n",
       "38  Hist-FP-Fro        plan       1.0        1.0  1.0     1.0\n",
       "39  Hist-FP-Fro  resource_3       1.0        1.0  1.0     1.0\n",
       "40  Hist-FP-Fro  resource_5       1.0        1.0  1.0     1.0\n",
       "41  Hist-FP-Fro    resource       1.0        1.0  1.0     1.0\n",
       "42  Hist-FP-Fro       all_3       1.0        1.0  1.0     1.0\n",
       "43  Hist-FP-Fro       all_7       1.0        1.0  1.0     1.0\n",
       "44  Hist-FP-Fro         all       1.0        1.0  1.0     1.0"
      ]
     },
     "execution_count": 46,
     "metadata": {},
     "output_type": "execute_result"
    }
   ],
   "source": [
    "df[df['method'] == 'Hist-FP-Fro']"
   ]
  },
  {
   "cell_type": "code",
   "execution_count": null,
   "id": "3b57787b-2a48-4096-81db-4c25f5e09424",
   "metadata": {},
   "outputs": [
    {
     "data": {
      "text/html": [
       "<div>\n",
       "<style scoped>\n",
       "    .dataframe tbody tr th:only-of-type {\n",
       "        vertical-align: middle;\n",
       "    }\n",
       "\n",
       "    .dataframe tbody tr th {\n",
       "        vertical-align: top;\n",
       "    }\n",
       "\n",
       "    .dataframe thead th {\n",
       "        text-align: right;\n",
       "    }\n",
       "</style>\n",
       "<table border=\"1\" class=\"dataframe\">\n",
       "  <thead>\n",
       "    <tr style=\"text-align: right;\">\n",
       "      <th></th>\n",
       "      <th>method</th>\n",
       "      <th>feature_set</th>\n",
       "      <th>accuracy</th>\n",
       "      <th>precision</th>\n",
       "      <th>f1</th>\n",
       "      <th>recall</th>\n",
       "    </tr>\n",
       "  </thead>\n",
       "  <tbody>\n",
       "    <tr>\n",
       "      <th>63</th>\n",
       "      <td>Phase-FP-L21</td>\n",
       "      <td>plan_3</td>\n",
       "      <td>1.000000</td>\n",
       "      <td>1.000000</td>\n",
       "      <td>1.000000</td>\n",
       "      <td>1.000000</td>\n",
       "    </tr>\n",
       "    <tr>\n",
       "      <th>64</th>\n",
       "      <td>Phase-FP-L21</td>\n",
       "      <td>plan_7</td>\n",
       "      <td>1.000000</td>\n",
       "      <td>1.000000</td>\n",
       "      <td>1.000000</td>\n",
       "      <td>1.000000</td>\n",
       "    </tr>\n",
       "    <tr>\n",
       "      <th>65</th>\n",
       "      <td>Phase-FP-L21</td>\n",
       "      <td>plan</td>\n",
       "      <td>1.000000</td>\n",
       "      <td>1.000000</td>\n",
       "      <td>1.000000</td>\n",
       "      <td>1.000000</td>\n",
       "    </tr>\n",
       "    <tr>\n",
       "      <th>66</th>\n",
       "      <td>Phase-FP-L21</td>\n",
       "      <td>resource_3</td>\n",
       "      <td>1.000000</td>\n",
       "      <td>1.000000</td>\n",
       "      <td>1.000000</td>\n",
       "      <td>1.000000</td>\n",
       "    </tr>\n",
       "    <tr>\n",
       "      <th>67</th>\n",
       "      <td>Phase-FP-L21</td>\n",
       "      <td>resource_5</td>\n",
       "      <td>0.962963</td>\n",
       "      <td>0.966667</td>\n",
       "      <td>0.962848</td>\n",
       "      <td>0.962963</td>\n",
       "    </tr>\n",
       "    <tr>\n",
       "      <th>68</th>\n",
       "      <td>Phase-FP-L21</td>\n",
       "      <td>resource</td>\n",
       "      <td>1.000000</td>\n",
       "      <td>1.000000</td>\n",
       "      <td>1.000000</td>\n",
       "      <td>1.000000</td>\n",
       "    </tr>\n",
       "    <tr>\n",
       "      <th>69</th>\n",
       "      <td>Phase-FP-L21</td>\n",
       "      <td>all_3</td>\n",
       "      <td>0.962963</td>\n",
       "      <td>0.966667</td>\n",
       "      <td>0.962848</td>\n",
       "      <td>0.962963</td>\n",
       "    </tr>\n",
       "    <tr>\n",
       "      <th>70</th>\n",
       "      <td>Phase-FP-L21</td>\n",
       "      <td>all_7</td>\n",
       "      <td>1.000000</td>\n",
       "      <td>1.000000</td>\n",
       "      <td>1.000000</td>\n",
       "      <td>1.000000</td>\n",
       "    </tr>\n",
       "    <tr>\n",
       "      <th>71</th>\n",
       "      <td>Phase-FP-L21</td>\n",
       "      <td>all</td>\n",
       "      <td>1.000000</td>\n",
       "      <td>1.000000</td>\n",
       "      <td>1.000000</td>\n",
       "      <td>1.000000</td>\n",
       "    </tr>\n",
       "  </tbody>\n",
       "</table>\n",
       "</div>"
      ],
      "text/plain": [
       "          method feature_set  accuracy  precision        f1    recall\n",
       "63  Phase-FP-L21      plan_3  1.000000   1.000000  1.000000  1.000000\n",
       "64  Phase-FP-L21      plan_7  1.000000   1.000000  1.000000  1.000000\n",
       "65  Phase-FP-L21        plan  1.000000   1.000000  1.000000  1.000000\n",
       "66  Phase-FP-L21  resource_3  1.000000   1.000000  1.000000  1.000000\n",
       "67  Phase-FP-L21  resource_5  0.962963   0.966667  0.962848  0.962963\n",
       "68  Phase-FP-L21    resource  1.000000   1.000000  1.000000  1.000000\n",
       "69  Phase-FP-L21       all_3  0.962963   0.966667  0.962848  0.962963\n",
       "70  Phase-FP-L21       all_7  1.000000   1.000000  1.000000  1.000000\n",
       "71  Phase-FP-L21         all  1.000000   1.000000  1.000000  1.000000"
      ]
     },
     "execution_count": 47,
     "metadata": {},
     "output_type": "execute_result"
    }
   ],
   "source": [
    "df[df['method'] == 'Phase-FP-L21']"
   ]
  },
  {
   "cell_type": "code",
   "execution_count": null,
   "id": "d84e4a7f-cb29-452b-bbad-03f59ea5670a",
   "metadata": {},
   "outputs": [
    {
     "data": {
      "text/html": [
       "<div>\n",
       "<style scoped>\n",
       "    .dataframe tbody tr th:only-of-type {\n",
       "        vertical-align: middle;\n",
       "    }\n",
       "\n",
       "    .dataframe tbody tr th {\n",
       "        vertical-align: top;\n",
       "    }\n",
       "\n",
       "    .dataframe thead th {\n",
       "        text-align: right;\n",
       "    }\n",
       "</style>\n",
       "<table border=\"1\" class=\"dataframe\">\n",
       "  <thead>\n",
       "    <tr style=\"text-align: right;\">\n",
       "      <th></th>\n",
       "      <th>method</th>\n",
       "      <th>feature_set</th>\n",
       "      <th>accuracy</th>\n",
       "      <th>precision</th>\n",
       "      <th>f1</th>\n",
       "      <th>recall</th>\n",
       "    </tr>\n",
       "  </thead>\n",
       "  <tbody>\n",
       "    <tr>\n",
       "      <th>99</th>\n",
       "      <td>Dependent-DTW</td>\n",
       "      <td>resource_3</td>\n",
       "      <td>1.0</td>\n",
       "      <td>1.0</td>\n",
       "      <td>1.0</td>\n",
       "      <td>1.0</td>\n",
       "    </tr>\n",
       "    <tr>\n",
       "      <th>100</th>\n",
       "      <td>Dependent-DTW</td>\n",
       "      <td>resource_5</td>\n",
       "      <td>1.0</td>\n",
       "      <td>1.0</td>\n",
       "      <td>1.0</td>\n",
       "      <td>1.0</td>\n",
       "    </tr>\n",
       "    <tr>\n",
       "      <th>101</th>\n",
       "      <td>Dependent-DTW</td>\n",
       "      <td>resource</td>\n",
       "      <td>1.0</td>\n",
       "      <td>1.0</td>\n",
       "      <td>1.0</td>\n",
       "      <td>1.0</td>\n",
       "    </tr>\n",
       "  </tbody>\n",
       "</table>\n",
       "</div>"
      ],
      "text/plain": [
       "            method feature_set  accuracy  precision   f1  recall\n",
       "99   Dependent-DTW  resource_3       1.0        1.0  1.0     1.0\n",
       "100  Dependent-DTW  resource_5       1.0        1.0  1.0     1.0\n",
       "101  Dependent-DTW    resource       1.0        1.0  1.0     1.0"
      ]
     },
     "execution_count": 48,
     "metadata": {},
     "output_type": "execute_result"
    }
   ],
   "source": [
    "df[df['method'] == 'Dependent-DTW']"
   ]
  },
  {
   "cell_type": "code",
   "execution_count": null,
   "id": "1bad046d-bede-4b01-93f8-b7c086e5fa65",
   "metadata": {},
   "outputs": [
    {
     "data": {
      "text/html": [
       "<div>\n",
       "<style scoped>\n",
       "    .dataframe tbody tr th:only-of-type {\n",
       "        vertical-align: middle;\n",
       "    }\n",
       "\n",
       "    .dataframe tbody tr th {\n",
       "        vertical-align: top;\n",
       "    }\n",
       "\n",
       "    .dataframe thead th {\n",
       "        text-align: right;\n",
       "    }\n",
       "</style>\n",
       "<table border=\"1\" class=\"dataframe\">\n",
       "  <thead>\n",
       "    <tr style=\"text-align: right;\">\n",
       "      <th></th>\n",
       "      <th>method</th>\n",
       "      <th>feature_set</th>\n",
       "      <th>accuracy</th>\n",
       "      <th>precision</th>\n",
       "      <th>f1</th>\n",
       "      <th>recall</th>\n",
       "    </tr>\n",
       "  </thead>\n",
       "  <tbody>\n",
       "    <tr>\n",
       "      <th>102</th>\n",
       "      <td>Independent-DTW</td>\n",
       "      <td>resource_3</td>\n",
       "      <td>1.0</td>\n",
       "      <td>1.0</td>\n",
       "      <td>1.0</td>\n",
       "      <td>1.0</td>\n",
       "    </tr>\n",
       "    <tr>\n",
       "      <th>103</th>\n",
       "      <td>Independent-DTW</td>\n",
       "      <td>resource_5</td>\n",
       "      <td>1.0</td>\n",
       "      <td>1.0</td>\n",
       "      <td>1.0</td>\n",
       "      <td>1.0</td>\n",
       "    </tr>\n",
       "    <tr>\n",
       "      <th>104</th>\n",
       "      <td>Independent-DTW</td>\n",
       "      <td>resource</td>\n",
       "      <td>1.0</td>\n",
       "      <td>1.0</td>\n",
       "      <td>1.0</td>\n",
       "      <td>1.0</td>\n",
       "    </tr>\n",
       "  </tbody>\n",
       "</table>\n",
       "</div>"
      ],
      "text/plain": [
       "              method feature_set  accuracy  precision   f1  recall\n",
       "102  Independent-DTW  resource_3       1.0        1.0  1.0     1.0\n",
       "103  Independent-DTW  resource_5       1.0        1.0  1.0     1.0\n",
       "104  Independent-DTW    resource       1.0        1.0  1.0     1.0"
      ]
     },
     "execution_count": 49,
     "metadata": {},
     "output_type": "execute_result"
    }
   ],
   "source": [
    "df[df['method'] == 'Independent-DTW']"
   ]
  },
  {
   "cell_type": "code",
   "execution_count": null,
   "id": "bd5c3518-95f1-4c86-8b29-7e10c0de6f7e",
   "metadata": {},
   "outputs": [
    {
     "data": {
      "text/html": [
       "<div>\n",
       "<style scoped>\n",
       "    .dataframe tbody tr th:only-of-type {\n",
       "        vertical-align: middle;\n",
       "    }\n",
       "\n",
       "    .dataframe tbody tr th {\n",
       "        vertical-align: top;\n",
       "    }\n",
       "\n",
       "    .dataframe thead th {\n",
       "        text-align: right;\n",
       "    }\n",
       "</style>\n",
       "<table border=\"1\" class=\"dataframe\">\n",
       "  <thead>\n",
       "    <tr style=\"text-align: right;\">\n",
       "      <th></th>\n",
       "      <th>method</th>\n",
       "      <th>feature_set</th>\n",
       "      <th>accuracy</th>\n",
       "      <th>precision</th>\n",
       "      <th>f1</th>\n",
       "      <th>recall</th>\n",
       "    </tr>\n",
       "  </thead>\n",
       "  <tbody>\n",
       "    <tr>\n",
       "      <th>105</th>\n",
       "      <td>Dependent-LCSS</td>\n",
       "      <td>resource_3</td>\n",
       "      <td>0.888889</td>\n",
       "      <td>0.916667</td>\n",
       "      <td>0.885714</td>\n",
       "      <td>0.888889</td>\n",
       "    </tr>\n",
       "    <tr>\n",
       "      <th>106</th>\n",
       "      <td>Dependent-LCSS</td>\n",
       "      <td>resource_5</td>\n",
       "      <td>0.888889</td>\n",
       "      <td>0.916667</td>\n",
       "      <td>0.885714</td>\n",
       "      <td>0.888889</td>\n",
       "    </tr>\n",
       "    <tr>\n",
       "      <th>107</th>\n",
       "      <td>Dependent-LCSS</td>\n",
       "      <td>resource</td>\n",
       "      <td>0.888889</td>\n",
       "      <td>0.916667</td>\n",
       "      <td>0.885714</td>\n",
       "      <td>0.888889</td>\n",
       "    </tr>\n",
       "  </tbody>\n",
       "</table>\n",
       "</div>"
      ],
      "text/plain": [
       "             method feature_set  accuracy  precision        f1    recall\n",
       "105  Dependent-LCSS  resource_3  0.888889   0.916667  0.885714  0.888889\n",
       "106  Dependent-LCSS  resource_5  0.888889   0.916667  0.885714  0.888889\n",
       "107  Dependent-LCSS    resource  0.888889   0.916667  0.885714  0.888889"
      ]
     },
     "execution_count": 50,
     "metadata": {},
     "output_type": "execute_result"
    }
   ],
   "source": [
    "df[df['method'] == 'Dependent-LCSS']"
   ]
  },
  {
   "cell_type": "code",
   "execution_count": null,
   "id": "9e28a7e4-086f-4361-8784-6cce1db8c7be",
   "metadata": {},
   "outputs": [
    {
     "data": {
      "text/html": [
       "<div>\n",
       "<style scoped>\n",
       "    .dataframe tbody tr th:only-of-type {\n",
       "        vertical-align: middle;\n",
       "    }\n",
       "\n",
       "    .dataframe tbody tr th {\n",
       "        vertical-align: top;\n",
       "    }\n",
       "\n",
       "    .dataframe thead th {\n",
       "        text-align: right;\n",
       "    }\n",
       "</style>\n",
       "<table border=\"1\" class=\"dataframe\">\n",
       "  <thead>\n",
       "    <tr style=\"text-align: right;\">\n",
       "      <th></th>\n",
       "      <th>method</th>\n",
       "      <th>feature_set</th>\n",
       "      <th>accuracy</th>\n",
       "      <th>precision</th>\n",
       "      <th>f1</th>\n",
       "      <th>recall</th>\n",
       "    </tr>\n",
       "  </thead>\n",
       "  <tbody>\n",
       "    <tr>\n",
       "      <th>108</th>\n",
       "      <td>Independent-LCSS</td>\n",
       "      <td>resource_3</td>\n",
       "      <td>1.0</td>\n",
       "      <td>1.0</td>\n",
       "      <td>1.0</td>\n",
       "      <td>1.0</td>\n",
       "    </tr>\n",
       "    <tr>\n",
       "      <th>109</th>\n",
       "      <td>Independent-LCSS</td>\n",
       "      <td>resource_5</td>\n",
       "      <td>1.0</td>\n",
       "      <td>1.0</td>\n",
       "      <td>1.0</td>\n",
       "      <td>1.0</td>\n",
       "    </tr>\n",
       "    <tr>\n",
       "      <th>110</th>\n",
       "      <td>Independent-LCSS</td>\n",
       "      <td>resource</td>\n",
       "      <td>1.0</td>\n",
       "      <td>1.0</td>\n",
       "      <td>1.0</td>\n",
       "      <td>1.0</td>\n",
       "    </tr>\n",
       "  </tbody>\n",
       "</table>\n",
       "</div>"
      ],
      "text/plain": [
       "               method feature_set  accuracy  precision   f1  recall\n",
       "108  Independent-LCSS  resource_3       1.0        1.0  1.0     1.0\n",
       "109  Independent-LCSS  resource_5       1.0        1.0  1.0     1.0\n",
       "110  Independent-LCSS    resource       1.0        1.0  1.0     1.0"
      ]
     },
     "execution_count": 51,
     "metadata": {},
     "output_type": "execute_result"
    }
   ],
   "source": [
    "df[df['method'] == 'Independent-LCSS']"
   ]
  },
  {
   "cell_type": "code",
   "execution_count": null,
   "id": "6fbc018b-2578-4566-a3a0-046e54d99e65",
   "metadata": {},
   "outputs": [
    {
     "data": {
      "text/html": [
       "<div>\n",
       "<style scoped>\n",
       "    .dataframe tbody tr th:only-of-type {\n",
       "        vertical-align: middle;\n",
       "    }\n",
       "\n",
       "    .dataframe tbody tr th {\n",
       "        vertical-align: top;\n",
       "    }\n",
       "\n",
       "    .dataframe thead th {\n",
       "        text-align: right;\n",
       "    }\n",
       "</style>\n",
       "<table border=\"1\" class=\"dataframe\">\n",
       "  <thead>\n",
       "    <tr style=\"text-align: right;\">\n",
       "      <th></th>\n",
       "      <th>method</th>\n",
       "      <th>feature_set</th>\n",
       "      <th>accuracy</th>\n",
       "      <th>precision</th>\n",
       "      <th>f1</th>\n",
       "      <th>recall</th>\n",
       "    </tr>\n",
       "  </thead>\n",
       "  <tbody>\n",
       "    <tr>\n",
       "      <th>0</th>\n",
       "      <td>L21-Norm</td>\n",
       "      <td>resource_3</td>\n",
       "      <td>1.0</td>\n",
       "      <td>1.0</td>\n",
       "      <td>1.0</td>\n",
       "      <td>1.0</td>\n",
       "    </tr>\n",
       "    <tr>\n",
       "      <th>1</th>\n",
       "      <td>L21-Norm</td>\n",
       "      <td>resource_5</td>\n",
       "      <td>1.0</td>\n",
       "      <td>1.0</td>\n",
       "      <td>1.0</td>\n",
       "      <td>1.0</td>\n",
       "    </tr>\n",
       "    <tr>\n",
       "      <th>2</th>\n",
       "      <td>L21-Norm</td>\n",
       "      <td>resource</td>\n",
       "      <td>1.0</td>\n",
       "      <td>1.0</td>\n",
       "      <td>1.0</td>\n",
       "      <td>1.0</td>\n",
       "    </tr>\n",
       "  </tbody>\n",
       "</table>\n",
       "</div>"
      ],
      "text/plain": [
       "     method feature_set  accuracy  precision   f1  recall\n",
       "0  L21-Norm  resource_3       1.0        1.0  1.0     1.0\n",
       "1  L21-Norm  resource_5       1.0        1.0  1.0     1.0\n",
       "2  L21-Norm    resource       1.0        1.0  1.0     1.0"
      ]
     },
     "execution_count": 52,
     "metadata": {},
     "output_type": "execute_result"
    }
   ],
   "source": [
    "df[df['method'] == 'L21-Norm']"
   ]
  },
  {
   "cell_type": "code",
   "execution_count": null,
   "id": "4b366bf6-93d9-4a0f-96c6-cbdc74f2119c",
   "metadata": {},
   "outputs": [
    {
     "data": {
      "text/html": [
       "<div>\n",
       "<style scoped>\n",
       "    .dataframe tbody tr th:only-of-type {\n",
       "        vertical-align: middle;\n",
       "    }\n",
       "\n",
       "    .dataframe tbody tr th {\n",
       "        vertical-align: top;\n",
       "    }\n",
       "\n",
       "    .dataframe thead th {\n",
       "        text-align: right;\n",
       "    }\n",
       "</style>\n",
       "<table border=\"1\" class=\"dataframe\">\n",
       "  <thead>\n",
       "    <tr style=\"text-align: right;\">\n",
       "      <th></th>\n",
       "      <th>method</th>\n",
       "      <th>feature_set</th>\n",
       "      <th>accuracy</th>\n",
       "      <th>precision</th>\n",
       "      <th>f1</th>\n",
       "      <th>recall</th>\n",
       "    </tr>\n",
       "  </thead>\n",
       "  <tbody>\n",
       "    <tr>\n",
       "      <th>3</th>\n",
       "      <td>L11-Norm</td>\n",
       "      <td>resource_3</td>\n",
       "      <td>1.0</td>\n",
       "      <td>1.0</td>\n",
       "      <td>1.0</td>\n",
       "      <td>1.0</td>\n",
       "    </tr>\n",
       "    <tr>\n",
       "      <th>4</th>\n",
       "      <td>L11-Norm</td>\n",
       "      <td>resource_5</td>\n",
       "      <td>1.0</td>\n",
       "      <td>1.0</td>\n",
       "      <td>1.0</td>\n",
       "      <td>1.0</td>\n",
       "    </tr>\n",
       "    <tr>\n",
       "      <th>5</th>\n",
       "      <td>L11-Norm</td>\n",
       "      <td>resource</td>\n",
       "      <td>1.0</td>\n",
       "      <td>1.0</td>\n",
       "      <td>1.0</td>\n",
       "      <td>1.0</td>\n",
       "    </tr>\n",
       "  </tbody>\n",
       "</table>\n",
       "</div>"
      ],
      "text/plain": [
       "     method feature_set  accuracy  precision   f1  recall\n",
       "3  L11-Norm  resource_3       1.0        1.0  1.0     1.0\n",
       "4  L11-Norm  resource_5       1.0        1.0  1.0     1.0\n",
       "5  L11-Norm    resource       1.0        1.0  1.0     1.0"
      ]
     },
     "execution_count": 53,
     "metadata": {},
     "output_type": "execute_result"
    }
   ],
   "source": [
    "df[df['method'] == 'L11-Norm']"
   ]
  },
  {
   "cell_type": "code",
   "execution_count": null,
   "id": "877049cf-ee54-481e-b549-126e96450158",
   "metadata": {},
   "outputs": [],
   "source": [
    "all_correct = df[df['accuracy'] == 1]"
   ]
  },
  {
   "cell_type": "code",
   "execution_count": null,
   "id": "c471f1c7-5d1a-47a6-8d7d-525d1baff0b9",
   "metadata": {},
   "outputs": [
    {
     "name": "stdout",
     "output_type": "stream",
     "text": [
      "     method feature_set  accuracy  precision   f1  recall\n",
      "0  L21-Norm  resource_3       1.0        1.0  1.0     1.0\n",
      "1  L21-Norm  resource_5       1.0        1.0  1.0     1.0\n",
      "2  L21-Norm    resource       1.0        1.0  1.0     1.0\n",
      "     method feature_set  accuracy  precision   f1  recall\n",
      "3  L11-Norm  resource_3       1.0        1.0  1.0     1.0\n",
      "4  L11-Norm  resource_5       1.0        1.0  1.0     1.0\n",
      "5  L11-Norm    resource       1.0        1.0  1.0     1.0\n",
      "     method feature_set  accuracy  precision   f1  recall\n",
      "6  Fro-Norm  resource_3       1.0        1.0  1.0     1.0\n",
      "7  Fro-Norm  resource_5       1.0        1.0  1.0     1.0\n",
      "8  Fro-Norm    resource       1.0        1.0  1.0     1.0\n",
      "       method feature_set  accuracy  precision   f1  recall\n",
      "9   Canb-Norm  resource_3       1.0        1.0  1.0     1.0\n",
      "10  Canb-Norm  resource_5       1.0        1.0  1.0     1.0\n",
      "11  Canb-Norm    resource       1.0        1.0  1.0     1.0\n",
      "         method feature_set  accuracy  precision   f1  recall\n",
      "18  Hist-FP-L21      plan_3       1.0        1.0  1.0     1.0\n",
      "19  Hist-FP-L21      plan_7       1.0        1.0  1.0     1.0\n",
      "20  Hist-FP-L21        plan       1.0        1.0  1.0     1.0\n",
      "21  Hist-FP-L21  resource_3       1.0        1.0  1.0     1.0\n",
      "22  Hist-FP-L21  resource_5       1.0        1.0  1.0     1.0\n",
      "23  Hist-FP-L21    resource       1.0        1.0  1.0     1.0\n",
      "24  Hist-FP-L21       all_3       1.0        1.0  1.0     1.0\n",
      "25  Hist-FP-L21       all_7       1.0        1.0  1.0     1.0\n",
      "26  Hist-FP-L21         all       1.0        1.0  1.0     1.0\n",
      "         method feature_set  accuracy  precision   f1  recall\n",
      "27  Hist-FP-L11      plan_3       1.0        1.0  1.0     1.0\n",
      "28  Hist-FP-L11      plan_7       1.0        1.0  1.0     1.0\n",
      "29  Hist-FP-L11        plan       1.0        1.0  1.0     1.0\n",
      "30  Hist-FP-L11  resource_3       1.0        1.0  1.0     1.0\n",
      "31  Hist-FP-L11  resource_5       1.0        1.0  1.0     1.0\n",
      "32  Hist-FP-L11    resource       1.0        1.0  1.0     1.0\n",
      "33  Hist-FP-L11       all_3       1.0        1.0  1.0     1.0\n",
      "34  Hist-FP-L11       all_7       1.0        1.0  1.0     1.0\n",
      "35  Hist-FP-L11         all       1.0        1.0  1.0     1.0\n",
      "         method feature_set  accuracy  precision   f1  recall\n",
      "36  Hist-FP-Fro      plan_3       1.0        1.0  1.0     1.0\n",
      "37  Hist-FP-Fro      plan_7       1.0        1.0  1.0     1.0\n",
      "38  Hist-FP-Fro        plan       1.0        1.0  1.0     1.0\n",
      "39  Hist-FP-Fro  resource_3       1.0        1.0  1.0     1.0\n",
      "40  Hist-FP-Fro  resource_5       1.0        1.0  1.0     1.0\n",
      "41  Hist-FP-Fro    resource       1.0        1.0  1.0     1.0\n",
      "42  Hist-FP-Fro       all_3       1.0        1.0  1.0     1.0\n",
      "43  Hist-FP-Fro       all_7       1.0        1.0  1.0     1.0\n",
      "44  Hist-FP-Fro         all       1.0        1.0  1.0     1.0\n",
      "          method feature_set  accuracy  precision   f1  recall\n",
      "45  Hist-FP-Canb      plan_3       1.0        1.0  1.0     1.0\n",
      "46  Hist-FP-Canb      plan_7       1.0        1.0  1.0     1.0\n",
      "47  Hist-FP-Canb        plan       1.0        1.0  1.0     1.0\n",
      "48  Hist-FP-Canb  resource_3       1.0        1.0  1.0     1.0\n",
      "49  Hist-FP-Canb  resource_5       1.0        1.0  1.0     1.0\n",
      "50  Hist-FP-Canb    resource       1.0        1.0  1.0     1.0\n",
      "51  Hist-FP-Canb       all_3       1.0        1.0  1.0     1.0\n",
      "52  Hist-FP-Canb       all_7       1.0        1.0  1.0     1.0\n",
      "53  Hist-FP-Canb         all       1.0        1.0  1.0     1.0\n",
      "          method feature_set  accuracy  precision   f1  recall\n",
      "54  Hist-FP-Chi2      plan_3       1.0        1.0  1.0     1.0\n",
      "          method feature_set  accuracy  precision   f1  recall\n",
      "63  Phase-FP-L21      plan_3       1.0        1.0  1.0     1.0\n",
      "64  Phase-FP-L21      plan_7       1.0        1.0  1.0     1.0\n",
      "65  Phase-FP-L21        plan       1.0        1.0  1.0     1.0\n",
      "66  Phase-FP-L21  resource_3       1.0        1.0  1.0     1.0\n",
      "68  Phase-FP-L21    resource       1.0        1.0  1.0     1.0\n",
      "70  Phase-FP-L21       all_7       1.0        1.0  1.0     1.0\n",
      "71  Phase-FP-L21         all       1.0        1.0  1.0     1.0\n",
      "          method feature_set  accuracy  precision   f1  recall\n",
      "72  Phase-FP-L11      plan_3       1.0        1.0  1.0     1.0\n",
      "73  Phase-FP-L11      plan_7       1.0        1.0  1.0     1.0\n",
      "74  Phase-FP-L11        plan       1.0        1.0  1.0     1.0\n",
      "75  Phase-FP-L11  resource_3       1.0        1.0  1.0     1.0\n",
      "76  Phase-FP-L11  resource_5       1.0        1.0  1.0     1.0\n",
      "77  Phase-FP-L11    resource       1.0        1.0  1.0     1.0\n",
      "79  Phase-FP-L11       all_7       1.0        1.0  1.0     1.0\n",
      "80  Phase-FP-L11         all       1.0        1.0  1.0     1.0\n",
      "          method feature_set  accuracy  precision   f1  recall\n",
      "81  Phase-FP-Fro      plan_3       1.0        1.0  1.0     1.0\n",
      "82  Phase-FP-Fro      plan_7       1.0        1.0  1.0     1.0\n",
      "83  Phase-FP-Fro        plan       1.0        1.0  1.0     1.0\n",
      "88  Phase-FP-Fro       all_7       1.0        1.0  1.0     1.0\n",
      "89  Phase-FP-Fro         all       1.0        1.0  1.0     1.0\n",
      "            method feature_set  accuracy  precision   f1  recall\n",
      "99   Dependent-DTW  resource_3       1.0        1.0  1.0     1.0\n",
      "100  Dependent-DTW  resource_5       1.0        1.0  1.0     1.0\n",
      "101  Dependent-DTW    resource       1.0        1.0  1.0     1.0\n",
      "              method feature_set  accuracy  precision   f1  recall\n",
      "102  Independent-DTW  resource_3       1.0        1.0  1.0     1.0\n",
      "103  Independent-DTW  resource_5       1.0        1.0  1.0     1.0\n",
      "104  Independent-DTW    resource       1.0        1.0  1.0     1.0\n",
      "               method feature_set  accuracy  precision   f1  recall\n",
      "108  Independent-LCSS  resource_3       1.0        1.0  1.0     1.0\n",
      "109  Independent-LCSS  resource_5       1.0        1.0  1.0     1.0\n",
      "110  Independent-LCSS    resource       1.0        1.0  1.0     1.0\n"
     ]
    }
   ],
   "source": [
    "for name in all_correct['method'].unique():\n",
    "    print(all_correct[all_correct['method'] == name])"
   ]
  },
  {
   "cell_type": "code",
   "execution_count": null,
   "id": "ecac864b-2a97-4613-8305-a4fc777fd0a8",
   "metadata": {},
   "outputs": [
    {
     "name": "stdout",
     "output_type": "stream",
     "text": [
      "['L21-Norm' 'L11-Norm' 'Fro-Norm' 'Canb-Norm' 'Hist-FP-L21' 'Hist-FP-L11'\n",
      " 'Hist-FP-Fro' 'Hist-FP-Canb' 'Hist-FP-Chi2' 'Phase-FP-L21' 'Phase-FP-L11'\n",
      " 'Phase-FP-Fro' 'Dependent-DTW' 'Independent-DTW' 'Independent-LCSS']\n"
     ]
    }
   ],
   "source": [
    "print(all_correct['method'].unique())"
   ]
  },
  {
   "cell_type": "code",
   "execution_count": null,
   "id": "a437a59e-41ed-405e-aa5d-3639771d5484",
   "metadata": {},
   "outputs": [
    {
     "name": "stdout",
     "output_type": "stream",
     "text": [
      "['resource_3' 'resource_5' 'resource' 'plan_3' 'plan_7' 'plan' 'all_3'\n",
      " 'all_7' 'all']\n"
     ]
    }
   ],
   "source": [
    "print(all_correct['feature_set'].unique())"
   ]
  },
  {
   "cell_type": "code",
   "execution_count": null,
   "id": "8f8d24bf-fd7f-4372-be88-4792210f03f6",
   "metadata": {},
   "outputs": [],
   "source": [
    "temp = all_correct.drop_duplicates()"
   ]
  },
  {
   "cell_type": "code",
   "execution_count": null,
   "id": "3cb80c93-c7c5-4622-96e4-59046cc8ca14",
   "metadata": {},
   "outputs": [
    {
     "data": {
      "text/plain": [
       "(78, 6)"
      ]
     },
     "execution_count": 59,
     "metadata": {},
     "output_type": "execute_result"
    }
   ],
   "source": [
    "all_correct.shape"
   ]
  },
  {
   "cell_type": "code",
   "execution_count": null,
   "id": "5736f401-7875-4748-ba50-930da5552f76",
   "metadata": {},
   "outputs": [
    {
     "data": {
      "text/plain": [
       "0.0"
      ]
     },
     "execution_count": 60,
     "metadata": {},
     "output_type": "execute_result"
    }
   ],
   "source": [
    "df['accuracy'].min()"
   ]
  },
  {
   "cell_type": "code",
   "execution_count": null,
   "id": "a5ad420d-3ea5-49d1-ada7-c4d351224e46",
   "metadata": {},
   "outputs": [
    {
     "data": {
      "text/plain": [
       "0.8595261928595261"
      ]
     },
     "execution_count": 61,
     "metadata": {},
     "output_type": "execute_result"
    }
   ],
   "source": [
    "df['accuracy'].mean()"
   ]
  },
  {
   "cell_type": "code",
   "execution_count": null,
   "id": "336a166e-c139-4260-b9bd-af6ae0335f5a",
   "metadata": {},
   "outputs": [
    {
     "data": {
      "text/plain": [
       "1.0"
      ]
     },
     "execution_count": 62,
     "metadata": {},
     "output_type": "execute_result"
    }
   ],
   "source": [
    "df['accuracy'].median()"
   ]
  },
  {
   "cell_type": "code",
   "execution_count": null,
   "id": "b7ec0058-3718-41bb-a8ad-6b23f21946e2",
   "metadata": {},
   "outputs": [
    {
     "data": {
      "text/plain": [
       "0.26203978497885105"
      ]
     },
     "execution_count": 63,
     "metadata": {},
     "output_type": "execute_result"
    }
   ],
   "source": [
    "df['accuracy'].std()"
   ]
  },
  {
   "cell_type": "code",
   "execution_count": null,
   "id": "90cd0b98-b5e0-4a3a-a65f-2f735ba40a68",
   "metadata": {},
   "outputs": [
    {
     "name": "stdout",
     "output_type": "stream",
     "text": [
      "(111, 6)\n"
     ]
    }
   ],
   "source": [
    "print(df.shape)"
   ]
  },
  {
   "cell_type": "code",
   "execution_count": null,
   "id": "aab5e808-897e-4deb-93d4-712e855190d9",
   "metadata": {},
   "outputs": [],
   "source": [
    "lower = df[df['accuracy'] <= df['accuracy'].quantile(0.25)]"
   ]
  },
  {
   "cell_type": "code",
   "execution_count": null,
   "id": "2cf17b14-0f49-4d39-af0c-cc753c168a11",
   "metadata": {},
   "outputs": [
    {
     "data": {
      "text/html": [
       "<div>\n",
       "<style scoped>\n",
       "    .dataframe tbody tr th:only-of-type {\n",
       "        vertical-align: middle;\n",
       "    }\n",
       "\n",
       "    .dataframe tbody tr th {\n",
       "        vertical-align: top;\n",
       "    }\n",
       "\n",
       "    .dataframe thead th {\n",
       "        text-align: right;\n",
       "    }\n",
       "</style>\n",
       "<table border=\"1\" class=\"dataframe\">\n",
       "  <thead>\n",
       "    <tr style=\"text-align: right;\">\n",
       "      <th></th>\n",
       "      <th>method</th>\n",
       "      <th>feature_set</th>\n",
       "      <th>accuracy</th>\n",
       "      <th>precision</th>\n",
       "      <th>f1</th>\n",
       "      <th>recall</th>\n",
       "    </tr>\n",
       "  </thead>\n",
       "  <tbody>\n",
       "    <tr>\n",
       "      <th>12</th>\n",
       "      <td>Corr-Norm</td>\n",
       "      <td>resource_3</td>\n",
       "      <td>0.629630</td>\n",
       "      <td>0.462963</td>\n",
       "      <td>0.518519</td>\n",
       "      <td>0.629630</td>\n",
       "    </tr>\n",
       "    <tr>\n",
       "      <th>13</th>\n",
       "      <td>Corr-Norm</td>\n",
       "      <td>resource_5</td>\n",
       "      <td>0.629630</td>\n",
       "      <td>0.462963</td>\n",
       "      <td>0.518519</td>\n",
       "      <td>0.629630</td>\n",
       "    </tr>\n",
       "    <tr>\n",
       "      <th>14</th>\n",
       "      <td>Corr-Norm</td>\n",
       "      <td>resource</td>\n",
       "      <td>0.333333</td>\n",
       "      <td>0.222222</td>\n",
       "      <td>0.217172</td>\n",
       "      <td>0.333333</td>\n",
       "    </tr>\n",
       "    <tr>\n",
       "      <th>15</th>\n",
       "      <td>Chi2-Norm</td>\n",
       "      <td>resource_3</td>\n",
       "      <td>0.333333</td>\n",
       "      <td>0.222222</td>\n",
       "      <td>0.217172</td>\n",
       "      <td>0.333333</td>\n",
       "    </tr>\n",
       "    <tr>\n",
       "      <th>16</th>\n",
       "      <td>Chi2-Norm</td>\n",
       "      <td>resource_5</td>\n",
       "      <td>0.333333</td>\n",
       "      <td>0.222222</td>\n",
       "      <td>0.217172</td>\n",
       "      <td>0.333333</td>\n",
       "    </tr>\n",
       "    <tr>\n",
       "      <th>17</th>\n",
       "      <td>Chi2-Norm</td>\n",
       "      <td>resource</td>\n",
       "      <td>0.333333</td>\n",
       "      <td>0.222222</td>\n",
       "      <td>0.217172</td>\n",
       "      <td>0.333333</td>\n",
       "    </tr>\n",
       "    <tr>\n",
       "      <th>55</th>\n",
       "      <td>Hist-FP-Chi2</td>\n",
       "      <td>plan_7</td>\n",
       "      <td>0.333333</td>\n",
       "      <td>0.111111</td>\n",
       "      <td>0.166667</td>\n",
       "      <td>0.333333</td>\n",
       "    </tr>\n",
       "    <tr>\n",
       "      <th>56</th>\n",
       "      <td>Hist-FP-Chi2</td>\n",
       "      <td>plan</td>\n",
       "      <td>0.333333</td>\n",
       "      <td>0.222222</td>\n",
       "      <td>0.217172</td>\n",
       "      <td>0.333333</td>\n",
       "    </tr>\n",
       "    <tr>\n",
       "      <th>57</th>\n",
       "      <td>Hist-FP-Chi2</td>\n",
       "      <td>resource_3</td>\n",
       "      <td>0.666667</td>\n",
       "      <td>0.500000</td>\n",
       "      <td>0.555556</td>\n",
       "      <td>0.666667</td>\n",
       "    </tr>\n",
       "    <tr>\n",
       "      <th>58</th>\n",
       "      <td>Hist-FP-Chi2</td>\n",
       "      <td>resource_5</td>\n",
       "      <td>0.333333</td>\n",
       "      <td>0.111111</td>\n",
       "      <td>0.166667</td>\n",
       "      <td>0.333333</td>\n",
       "    </tr>\n",
       "    <tr>\n",
       "      <th>59</th>\n",
       "      <td>Hist-FP-Chi2</td>\n",
       "      <td>resource</td>\n",
       "      <td>0.333333</td>\n",
       "      <td>0.111111</td>\n",
       "      <td>0.166667</td>\n",
       "      <td>0.333333</td>\n",
       "    </tr>\n",
       "    <tr>\n",
       "      <th>60</th>\n",
       "      <td>Hist-FP-Chi2</td>\n",
       "      <td>all_3</td>\n",
       "      <td>0.666667</td>\n",
       "      <td>0.500000</td>\n",
       "      <td>0.555556</td>\n",
       "      <td>0.666667</td>\n",
       "    </tr>\n",
       "    <tr>\n",
       "      <th>61</th>\n",
       "      <td>Hist-FP-Chi2</td>\n",
       "      <td>all_7</td>\n",
       "      <td>0.000000</td>\n",
       "      <td>0.000000</td>\n",
       "      <td>0.000000</td>\n",
       "      <td>0.000000</td>\n",
       "    </tr>\n",
       "    <tr>\n",
       "      <th>62</th>\n",
       "      <td>Hist-FP-Chi2</td>\n",
       "      <td>all</td>\n",
       "      <td>0.333333</td>\n",
       "      <td>0.222222</td>\n",
       "      <td>0.217172</td>\n",
       "      <td>0.333333</td>\n",
       "    </tr>\n",
       "    <tr>\n",
       "      <th>84</th>\n",
       "      <td>Phase-FP-Fro</td>\n",
       "      <td>resource_3</td>\n",
       "      <td>0.666667</td>\n",
       "      <td>0.500000</td>\n",
       "      <td>0.555556</td>\n",
       "      <td>0.666667</td>\n",
       "    </tr>\n",
       "    <tr>\n",
       "      <th>85</th>\n",
       "      <td>Phase-FP-Fro</td>\n",
       "      <td>resource_5</td>\n",
       "      <td>0.703704</td>\n",
       "      <td>0.843137</td>\n",
       "      <td>0.630769</td>\n",
       "      <td>0.703704</td>\n",
       "    </tr>\n",
       "    <tr>\n",
       "      <th>90</th>\n",
       "      <td>Phase-FP-Canb</td>\n",
       "      <td>plan_3</td>\n",
       "      <td>0.333333</td>\n",
       "      <td>0.111111</td>\n",
       "      <td>0.166667</td>\n",
       "      <td>0.333333</td>\n",
       "    </tr>\n",
       "    <tr>\n",
       "      <th>91</th>\n",
       "      <td>Phase-FP-Canb</td>\n",
       "      <td>plan_7</td>\n",
       "      <td>0.333333</td>\n",
       "      <td>0.111111</td>\n",
       "      <td>0.166667</td>\n",
       "      <td>0.333333</td>\n",
       "    </tr>\n",
       "    <tr>\n",
       "      <th>92</th>\n",
       "      <td>Phase-FP-Canb</td>\n",
       "      <td>plan</td>\n",
       "      <td>0.333333</td>\n",
       "      <td>0.111111</td>\n",
       "      <td>0.166667</td>\n",
       "      <td>0.333333</td>\n",
       "    </tr>\n",
       "    <tr>\n",
       "      <th>93</th>\n",
       "      <td>Phase-FP-Canb</td>\n",
       "      <td>resource_3</td>\n",
       "      <td>0.333333</td>\n",
       "      <td>0.111111</td>\n",
       "      <td>0.166667</td>\n",
       "      <td>0.333333</td>\n",
       "    </tr>\n",
       "    <tr>\n",
       "      <th>94</th>\n",
       "      <td>Phase-FP-Canb</td>\n",
       "      <td>resource_5</td>\n",
       "      <td>0.333333</td>\n",
       "      <td>0.111111</td>\n",
       "      <td>0.166667</td>\n",
       "      <td>0.333333</td>\n",
       "    </tr>\n",
       "    <tr>\n",
       "      <th>95</th>\n",
       "      <td>Phase-FP-Canb</td>\n",
       "      <td>resource</td>\n",
       "      <td>0.333333</td>\n",
       "      <td>0.111111</td>\n",
       "      <td>0.166667</td>\n",
       "      <td>0.333333</td>\n",
       "    </tr>\n",
       "    <tr>\n",
       "      <th>96</th>\n",
       "      <td>Phase-FP-Canb</td>\n",
       "      <td>all_3</td>\n",
       "      <td>0.333333</td>\n",
       "      <td>0.111111</td>\n",
       "      <td>0.166667</td>\n",
       "      <td>0.333333</td>\n",
       "    </tr>\n",
       "    <tr>\n",
       "      <th>97</th>\n",
       "      <td>Phase-FP-Canb</td>\n",
       "      <td>all_7</td>\n",
       "      <td>0.333333</td>\n",
       "      <td>0.111111</td>\n",
       "      <td>0.166667</td>\n",
       "      <td>0.333333</td>\n",
       "    </tr>\n",
       "    <tr>\n",
       "      <th>98</th>\n",
       "      <td>Phase-FP-Canb</td>\n",
       "      <td>all</td>\n",
       "      <td>0.333333</td>\n",
       "      <td>0.111111</td>\n",
       "      <td>0.166667</td>\n",
       "      <td>0.333333</td>\n",
       "    </tr>\n",
       "    <tr>\n",
       "      <th>105</th>\n",
       "      <td>Dependent-LCSS</td>\n",
       "      <td>resource_3</td>\n",
       "      <td>0.888889</td>\n",
       "      <td>0.916667</td>\n",
       "      <td>0.885714</td>\n",
       "      <td>0.888889</td>\n",
       "    </tr>\n",
       "    <tr>\n",
       "      <th>106</th>\n",
       "      <td>Dependent-LCSS</td>\n",
       "      <td>resource_5</td>\n",
       "      <td>0.888889</td>\n",
       "      <td>0.916667</td>\n",
       "      <td>0.885714</td>\n",
       "      <td>0.888889</td>\n",
       "    </tr>\n",
       "    <tr>\n",
       "      <th>107</th>\n",
       "      <td>Dependent-LCSS</td>\n",
       "      <td>resource</td>\n",
       "      <td>0.888889</td>\n",
       "      <td>0.916667</td>\n",
       "      <td>0.885714</td>\n",
       "      <td>0.888889</td>\n",
       "    </tr>\n",
       "  </tbody>\n",
       "</table>\n",
       "</div>"
      ],
      "text/plain": [
       "             method feature_set  accuracy  precision        f1    recall\n",
       "12        Corr-Norm  resource_3  0.629630   0.462963  0.518519  0.629630\n",
       "13        Corr-Norm  resource_5  0.629630   0.462963  0.518519  0.629630\n",
       "14        Corr-Norm    resource  0.333333   0.222222  0.217172  0.333333\n",
       "15        Chi2-Norm  resource_3  0.333333   0.222222  0.217172  0.333333\n",
       "16        Chi2-Norm  resource_5  0.333333   0.222222  0.217172  0.333333\n",
       "17        Chi2-Norm    resource  0.333333   0.222222  0.217172  0.333333\n",
       "55     Hist-FP-Chi2      plan_7  0.333333   0.111111  0.166667  0.333333\n",
       "56     Hist-FP-Chi2        plan  0.333333   0.222222  0.217172  0.333333\n",
       "57     Hist-FP-Chi2  resource_3  0.666667   0.500000  0.555556  0.666667\n",
       "58     Hist-FP-Chi2  resource_5  0.333333   0.111111  0.166667  0.333333\n",
       "59     Hist-FP-Chi2    resource  0.333333   0.111111  0.166667  0.333333\n",
       "60     Hist-FP-Chi2       all_3  0.666667   0.500000  0.555556  0.666667\n",
       "61     Hist-FP-Chi2       all_7  0.000000   0.000000  0.000000  0.000000\n",
       "62     Hist-FP-Chi2         all  0.333333   0.222222  0.217172  0.333333\n",
       "84     Phase-FP-Fro  resource_3  0.666667   0.500000  0.555556  0.666667\n",
       "85     Phase-FP-Fro  resource_5  0.703704   0.843137  0.630769  0.703704\n",
       "90    Phase-FP-Canb      plan_3  0.333333   0.111111  0.166667  0.333333\n",
       "91    Phase-FP-Canb      plan_7  0.333333   0.111111  0.166667  0.333333\n",
       "92    Phase-FP-Canb        plan  0.333333   0.111111  0.166667  0.333333\n",
       "93    Phase-FP-Canb  resource_3  0.333333   0.111111  0.166667  0.333333\n",
       "94    Phase-FP-Canb  resource_5  0.333333   0.111111  0.166667  0.333333\n",
       "95    Phase-FP-Canb    resource  0.333333   0.111111  0.166667  0.333333\n",
       "96    Phase-FP-Canb       all_3  0.333333   0.111111  0.166667  0.333333\n",
       "97    Phase-FP-Canb       all_7  0.333333   0.111111  0.166667  0.333333\n",
       "98    Phase-FP-Canb         all  0.333333   0.111111  0.166667  0.333333\n",
       "105  Dependent-LCSS  resource_3  0.888889   0.916667  0.885714  0.888889\n",
       "106  Dependent-LCSS  resource_5  0.888889   0.916667  0.885714  0.888889\n",
       "107  Dependent-LCSS    resource  0.888889   0.916667  0.885714  0.888889"
      ]
     },
     "execution_count": 66,
     "metadata": {},
     "output_type": "execute_result"
    }
   ],
   "source": [
    "lower"
   ]
  },
  {
   "cell_type": "code",
   "execution_count": null,
   "id": "364e86ad-4ffe-4f4b-9426-89ee575256d8",
   "metadata": {},
   "outputs": [
    {
     "name": "stdout",
     "output_type": "stream",
     "text": [
      "(28, 6)\n"
     ]
    }
   ],
   "source": [
    "print(lower.shape)"
   ]
  },
  {
   "cell_type": "code",
   "execution_count": null,
   "id": "f2c54a36-b046-4e4f-a556-bab8d1413404",
   "metadata": {},
   "outputs": [],
   "source": []
  }
 ],
 "metadata": {
  "kernelspec": {
   "display_name": "workload_insights",
   "language": "python",
   "name": "workload_insights"
  },
  "language_info": {
   "codemirror_mode": {
    "name": "ipython",
    "version": 3
   },
   "file_extension": ".py",
   "mimetype": "text/x-python",
   "name": "python",
   "nbconvert_exporter": "python",
   "pygments_lexer": "ipython3",
   "version": "3.9.13"
  }
 },
 "nbformat": 4,
 "nbformat_minor": 5
}
