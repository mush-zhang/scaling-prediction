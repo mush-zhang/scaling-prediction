{
 "cells": [
  {
   "cell_type": "code",
   "execution_count": 1,
   "id": "b040608c-b6b2-484a-97ec-0d2c3ae19811",
   "metadata": {},
   "outputs": [],
   "source": [
    "import os\n",
    "import matplotlib.pyplot as plt\n",
    "import datetime\n",
    "import time\n",
    "import matplotlib.gridspec as gridspec\n",
    "\n",
    "import pickle\n",
    "import numpy as np\n",
    "import pandas as pd\n",
    "import seaborn as sns\n",
    "\n",
    "from itertools import compress\n",
    "\n",
    "from helpers.expr_data import ExprData\n",
    "from helpers.scale_data import ScaleData\n",
    "from helpers.similarity import Similarity\n",
    "from helpers.feature_selection import FeatureSelection\n",
    "\n",
    "from sklearn.metrics import accuracy_score, f1_score, precision_score, recall_score, classification_report, confusion_matrix\n",
    "from sklearn.model_selection import KFold\n",
    "from sklearn.metrics import r2_score\n",
    "from sklearn.metrics import root_mean_squared_error as rmse_score\n",
    "from sklearn.metrics import mean_squared_error\n",
    "from sklearn.metrics import make_scorer\n",
    "\n",
    "import warnings\n",
    "warnings.filterwarnings(\"ignore\")"
   ]
  },
  {
   "cell_type": "code",
   "execution_count": 2,
   "id": "9d594928-08fc-4400-9e2a-53dbdfbc941c",
   "metadata": {
    "tags": []
   },
   "outputs": [],
   "source": [
    "SMALL_SIZE = 15\n",
    "MEDIUM_SIZE = 18\n",
    "BIGGER_SIZE = 22\n",
    "SMALL_SMALL_SIZE = 10\n",
    "\n",
    "plt.rc('font', size=SMALL_SIZE)          # controls default text sizes\n",
    "plt.rc('axes', titlesize=SMALL_SIZE)     # fontsize of the axes title\n",
    "plt.rc('axes', labelsize=MEDIUM_SIZE)    # fontsize of the x and y labels\n",
    "plt.rc('xtick', labelsize=SMALL_SIZE)    # fontsize of the tick labels\n",
    "plt.rc('ytick', labelsize=SMALL_SIZE)    # fontsize of the tick labels\n",
    "# plt.rc('legend', fontsize=SMALL_SIZE)    # legend fontsize\n",
    "\n",
    "plt.rc('legend', fontsize=SMALL_SMALL_SIZE)    # legend fontsize\n",
    "plt.rc('figure', titlesize=BIGGER_SIZE)  # fontsize of the figure title"
   ]
  },
  {
   "cell_type": "code",
   "execution_count": 3,
   "id": "9bfa50a2-27bc-4d9e-bac2-fd57b5e49124",
   "metadata": {},
   "outputs": [],
   "source": [
    "import random\n",
    "np.random.seed(42)\n",
    "random.seed(42)"
   ]
  },
  {
   "cell_type": "code",
   "execution_count": 4,
   "id": "81476861-84a8-48ab-a27b-94cb2ec900d0",
   "metadata": {},
   "outputs": [],
   "source": [
    "OVERALL_PLOT = False\n",
    "# for measuring modeling time"
   ]
  },
  {
   "cell_type": "code",
   "execution_count": 5,
   "id": "affb933d-d824-40f1-8b2d-28048f580cab",
   "metadata": {},
   "outputs": [],
   "source": [
    "def nrmse_score(y_true, y_pred):\n",
    "    return rmse_score(y_true, y_pred)/(np.max(y_true)-np.min(y_true))\n",
    "\n",
    "score_func = make_scorer(nrmse_score, greater_is_better=False)"
   ]
  },
  {
   "cell_type": "code",
   "execution_count": 6,
   "id": "69b597f4-f58e-480c-9856-b48fa0de744b",
   "metadata": {},
   "outputs": [],
   "source": [
    "# read in the performance metrics for each experiment\n",
    "data_all = ExprData()\n",
    "data_all.load_pickle()\n",
    "data_all = data_all.merge_tpch()"
   ]
  },
  {
   "cell_type": "code",
   "execution_count": 7,
   "id": "8a8deacf-a0d5-4277-a8ae-2514e8276426",
   "metadata": {},
   "outputs": [],
   "source": [
    "data = data_all.remove_by_wlname(['xml', 'ycsb'])\n",
    "ycsb_data = data_all.remove_by_wlname(['xml', 'tpcc', 'tpch', 'twitter'])"
   ]
  },
  {
   "cell_type": "code",
   "execution_count": 8,
   "id": "df2670a1-ef37-4336-b0ef-3189c99ce691",
   "metadata": {},
   "outputs": [],
   "source": [
    "candid_idx = len(ycsb_data.wl_names) - 3\n",
    "all_groups = ['10', '11', '12']\n",
    "candidate_group = '10'\n",
    "ycsb_data = ycsb_data.remove_by_group([g for g in all_groups if g != candidate_group])"
   ]
  },
  {
   "cell_type": "code",
   "execution_count": 9,
   "id": "c8917a89-a4cb-4143-90ee-179a903a6b25",
   "metadata": {},
   "outputs": [],
   "source": [
    "X_label = 'SKU'\n",
    "expr_label = 'EXPR'\n",
    "y_true_label = 'Y_TRUE'\n",
    "y_pred_label = 'Y_PRED'\n",
    "suffix_labels = ['_small', '_large']"
   ]
  },
  {
   "cell_type": "code",
   "execution_count": 10,
   "id": "f74f5e95-30ac-42ce-b1d8-6310c9b7a4c5",
   "metadata": {},
   "outputs": [
    {
     "name": "stdout",
     "output_type": "stream",
     "text": [
      "(108, 108, 22)\n",
      "(108, 108, 29)\n"
     ]
    }
   ],
   "source": [
    "# similarity for all\n",
    "new_data = data.keep_complete_exprs()\n",
    "\n",
    "scaler = ScaleData()\n",
    "plan_mtxs, plan_col_ranges = scaler.scale(new_data.plan_mtxs)\n",
    "perf_mtxs, perf_col_ranges = scaler.scale(new_data.perf_mtxs)\n",
    "\n",
    "simi_calc_all = Similarity(new_data, plan_mtxs, plan_col_ranges, perf_mtxs, perf_col_ranges)\n",
    "simi_calc_all.calc_bined_mtx() # all plan features\n",
    "\n",
    "simi_calc = simi_calc_all\n",
    "fs = FeatureSelection(simi_calc)\n",
    "\n",
    "plan_top_7 = fs.select_features(7, 'fANOVA', est_name=None, direction=None, feature_type='plan')\n",
    "all_top_7 = fs.select_features(7, 'fANOVA', est_name=None, direction=None, feature_type=None)"
   ]
  },
  {
   "cell_type": "code",
   "execution_count": 11,
   "id": "93512db2-ba16-4cfc-bba4-32a3d99ca077",
   "metadata": {},
   "outputs": [
    {
     "name": "stdout",
     "output_type": "stream",
     "text": [
      "['AvgRowSize', 'CachedPlanSize', 'SerialRequiredMemory', 'CompileMemory', 'StatementSubTreeCost', 'LOCK_REQ_ABS', 'SerialDesiredMemory']\n"
     ]
    }
   ],
   "source": [
    "print(all_top_7)"
   ]
  },
  {
   "cell_type": "code",
   "execution_count": 12,
   "id": "0df02f90-bcd6-4342-9a00-cfce693deb80",
   "metadata": {},
   "outputs": [],
   "source": [
    "sampled_data = new_data.sample_data()"
   ]
  },
  {
   "cell_type": "code",
   "execution_count": 13,
   "id": "4b3c1c57-5a80-487f-ace3-ce8b333b2a62",
   "metadata": {},
   "outputs": [
    {
     "name": "stdout",
     "output_type": "stream",
     "text": [
      "1080\n"
     ]
    }
   ],
   "source": [
    "print(len(sampled_data.wl_groups))"
   ]
  },
  {
   "cell_type": "code",
   "execution_count": 14,
   "id": "71e5e309-a1d7-4819-897b-4ce9d1c27e91",
   "metadata": {},
   "outputs": [],
   "source": [
    "data_by_type = sampled_data.split_by_type()"
   ]
  },
  {
   "cell_type": "code",
   "execution_count": 15,
   "id": "c0ec1e18-1336-4752-9197-e588b9cc17a5",
   "metadata": {},
   "outputs": [],
   "source": [
    "sampled_by_type = sampled_data.split_by_type()\n",
    "for ty, expr_set in sampled_by_type.items():\n",
    "    sub_by_term = expr_set.split_by_term()\n",
    "    sampled_by_type[ty] = sub_by_term"
   ]
  },
  {
   "cell_type": "code",
   "execution_count": 16,
   "id": "eec20f3a-879b-40e4-b01d-cfdae88bf47b",
   "metadata": {},
   "outputs": [],
   "source": [
    "def get_top_k_features(simi_calc, k=7):\n",
    "    # Use top-k feature from all features\n",
    "    fs = FeatureSelection(simi_calc)\n",
    "    \n",
    "    top_k = fs.select_features(k, 'MutualInfoGain', est_name=None, direction=None, feature_type=None)\n",
    "    plan_top_k = fs.select_features(k, 'MutualInfoGain', est_name=None, direction=None, feature_type='plan')\n",
    "    print(top_k)\n",
    "    print(plan_top_k)\n",
    "    return top_k, plan_top_k"
   ]
  },
  {
   "cell_type": "code",
   "execution_count": 17,
   "id": "fda868aa-4f7c-49e7-830e-9e92d05d5889",
   "metadata": {},
   "outputs": [],
   "source": [
    "def unroll_mtx(mtx):\n",
    "    return (mtx.T).ravel()"
   ]
  },
  {
   "cell_type": "code",
   "execution_count": 18,
   "id": "39a91724-4843-4ac3-8c50-f91d79646729",
   "metadata": {},
   "outputs": [],
   "source": [
    "def unroll_all(simi_calc, keep_dims):\n",
    "    ndarrs = [np.array(b[:, keep_dims].astype(float)) for b in simi_calc.cumulative_bined]\n",
    "    unrolled_ndarrs = np.array([unroll_mtx(b) for b in ndarrs])\n",
    "    return unrolled_ndarrs"
   ]
  },
  {
   "cell_type": "code",
   "execution_count": 19,
   "id": "86f50be2-f21d-46ce-b20b-65eed7e96283",
   "metadata": {},
   "outputs": [],
   "source": [
    "def get_cpu_nums_as_X(l):\n",
    "    return np.array([int(e[3:]) for e in l]).reshape(-1, 1)"
   ]
  },
  {
   "cell_type": "code",
   "execution_count": 20,
   "id": "d09fa0a4-def2-4b8d-bc91-0991ad18be37",
   "metadata": {},
   "outputs": [],
   "source": [
    "def scorer(skus, y_true, y_pred, expr_idxs):\n",
    "    X_label = 'SKU'\n",
    "    expr_label = 'EXPR'\n",
    "    y_true_label = 'Y_TRUE'\n",
    "    y_pred_label = 'Y_PRED'\n",
    "    overall_data = pd.DataFrame(zip(skus, expr_idxs, y_true, y_pred), columns=[X_label, expr_label, y_true_label, y_pred_label])\n",
    "\n",
    "    # for each pair of SKU\n",
    "    num_cpus = np.sort(np.unique(skus))\n",
    "\n",
    "    new_y_true, new_y_pred = [], []\n",
    "\n",
    "    for i in range(len(num_cpus)):\n",
    "        for j in range(i, len(num_cpus)):\n",
    "            if i == j:\n",
    "                continue\n",
    "            cpu_a = num_cpus[i] # smaller\n",
    "            cpu_b = num_cpus[j] # larger\n",
    "            \n",
    "            curr_smaller = overall_data[overall_data[X_label] == cpu_a]\n",
    "            curr_bigger = overall_data[overall_data[X_label] == cpu_b]\n",
    "\n",
    "            for _, smaller_row in curr_smaller.iterrows():\n",
    "                curr_expr_idx = smaller_row[expr_label]\n",
    "                curr_diff = smaller_row[y_true_label] - smaller_row[y_pred_label]\n",
    "                bigger_row = curr_bigger[curr_bigger[expr_label] == curr_expr_idx]\n",
    "                assert(bigger_row.shape[0] == 1)\n",
    "                bigger_row = bigger_row.iloc[0]\n",
    "                new_y_true.append(bigger_row[y_true_label])\n",
    "                new_y_pred.append(bigger_row[y_pred_label] + curr_diff)\n",
    "    new_y_true = np.array(new_y_true)\n",
    "    new_y_pred = np.array(new_y_pred)\n",
    "    return r2_score(new_y_true, new_y_pred)"
   ]
  },
  {
   "cell_type": "code",
   "execution_count": 38,
   "id": "2556e04c-c6ce-4ed9-a43d-3c6fd1950196",
   "metadata": {},
   "outputs": [],
   "source": [
    "def plot_prediction(dfs, X, y, expr_idxs, method, plot=True, show_fig=True):\n",
    "    # plot all trends \n",
    "    colors = ['#1b9e77','#7570b3','#d95f02','#e7298a']\n",
    "    fig, ax = plt.subplots(figsize=(4,3.6))\n",
    "        \n",
    "    pred_label_add = False\n",
    "    pred_color = colors[0]\n",
    "    overall_expr_label_add = False\n",
    "    expr_tracker = 0\n",
    "    \n",
    "    all_true_tracker = {}\n",
    "        \n",
    "    color_map = [colors[1+idx%3] for idx, _ in enumerate(expr_idxs)]\n",
    "    ax.scatter(X, y, color=color_map)\n",
    "    \n",
    "    for df in dfs:\n",
    "        expr_c = 1\n",
    "        expr_label_add = False\n",
    "        for _, row in df.iterrows():\n",
    "            run_color = colors[1+expr_tracker%3]\n",
    "            curr_x = [row[f'{X_label}{suffix}'] for suffix in suffix_labels]\n",
    "            expr_tracker += 1\n",
    "            true_y = [row[f'{y_true_label}{suffix}'] for suffix in suffix_labels]\n",
    "            \n",
    "            for x, y in zip(np.array(curr_x).flatten(), true_y):\n",
    "                if x not in all_true_tracker:\n",
    "                    all_true_tracker[x] = []\n",
    "                all_true_tracker[x].append(y)\n",
    "                \n",
    "            if not overall_expr_label_add:\n",
    "                if not expr_label_add and expr_tracker % 3 == 2:\n",
    "                    expr = ax.plot(curr_x, true_y, '-', color=run_color, alpha=0.5, linewidth=1.5, label=f'Expr{expr_c} True_y')\n",
    "                    expr_label_add = True\n",
    "                else:\n",
    "                    ax.plot(curr_x, true_y, '-', color=run_color, alpha=0.5, linewidth=1.5, label=f'Expr{expr_c} True_y')\n",
    "            else:\n",
    "                ax.plot(curr_x, true_y, '-', color=run_color, alpha=0.5, linewidth=1.5)\n",
    "            expr_c += 1\n",
    "        overall_expr_label_add = True\n",
    "        \n",
    "    for df in dfs:\n",
    "        for _, row in df.iterrows():\n",
    "            curr_x = [row[f'{X_label}{suffix}'] for suffix in suffix_labels]\n",
    "            pred_y = [row[f'{y_true_label}{suffix_labels[0]}'], row[f'{y_pred_label}{suffix_labels[1]}']]\n",
    "            \n",
    "            if not pred_label_add:\n",
    "                pred_label_add = True\n",
    "                pred_l = ax.plot(curr_x, pred_y, '-o', color=pred_color, linewidth=1, label='Predict_y')\n",
    "            else:\n",
    "                ax.plot(curr_x, pred_y, '-o', color=pred_color, linewidth=1)\n",
    "    \n",
    "    true_x = np.sort(list(all_true_tracker.keys()))\n",
    "    mean_true_y = [np.mean(all_true_tracker[key]) for key in true_x]\n",
    "    ax.plot(true_x, mean_true_y, '-', color='#fc8d62', linewidth=15, alpha=0.3, label='Mean_True_y')\n",
    "\n",
    "                \n",
    "    ax.set_xlabel('Num CPU')\n",
    "    ax.set_ylabel('Throughput')\n",
    "    \n",
    "    ax.axis('tight')\n",
    "    plt.legend(bbox_to_anchor=(0, 1, 1, 0), loc='lower left', ncol=2, mode=\"expand\")\n",
    "\n",
    "    # plt.legend(bbox_to_anchor=(1,0.3,),loc=\"lower left\", ncols=1)\n",
    "    plt.savefig(f'figs/prediction/ycs_pred_{method}.pdf', bbox_inches = 'tight')\n",
    "    if show_fig:\n",
    "        plt.show()\n",
    "    else:\n",
    "        plt.close() "
   ]
  },
  {
   "cell_type": "code",
   "execution_count": 23,
   "id": "240bdad1-7cc2-4e06-86b8-4b36e9daf519",
   "metadata": {
    "tags": []
   },
   "outputs": [],
   "source": [
    "'''\n",
    "Use a dictionary of models\n",
    "- key: (lower SKU, higher SKU)\n",
    "- value: model\n",
    "'''\n",
    "def predict(model_dicts, X, y_true, expr_idxs, method, plot=True, show_fig=True):\n",
    "    overall_data = pd.DataFrame(zip(X, expr_idxs, y_true), columns=[X_label, expr_label, y_true_label])\n",
    "\n",
    "    # for each pair of SKU\n",
    "    num_cpus = np.sort(np.unique(X))\n",
    "    test_scores = []\n",
    "    models, datas_big, datas_small = [], [], []\n",
    "    dfs = []\n",
    "    \n",
    "    for i in range(len(num_cpus)):\n",
    "        for j in range(i, len(num_cpus)):\n",
    "            if i == j:\n",
    "                continue\n",
    "            cpu_a = num_cpus[i] # smaller\n",
    "            cpu_b = num_cpus[j] # larger\n",
    "            \n",
    "            curr_smaller = overall_data[overall_data[X_label] == cpu_a]\n",
    "            curr_bigger = overall_data[overall_data[X_label] == cpu_b]\n",
    "            \n",
    "            new_preds = []\n",
    "            \n",
    "            for model_dict in model_dicts:            \n",
    "                new_y_true, new_y_pred = [], []\n",
    "\n",
    "                curr_smaller_pred = model_dict[(cpu_a, cpu_b)].predict(curr_smaller[X_label].to_numpy().reshape(-1, 1))\n",
    "                curr_bigger_pred = model_dict[(cpu_a, cpu_b)].predict(curr_bigger[X_label].to_numpy().reshape(-1, 1))\n",
    "                curr_smaller = curr_smaller.assign(Y_PRED=curr_smaller_pred)\n",
    "                curr_bigger = curr_bigger.assign(Y_PRED=curr_bigger_pred)\n",
    "\n",
    "                for _, smaller_row in curr_smaller.iterrows():\n",
    "                    curr_expr_idx = smaller_row[expr_label]\n",
    "                    curr_diff = smaller_row[y_true_label] - smaller_row[y_pred_label]\n",
    "                    bigger_row = curr_bigger[curr_bigger[expr_label] == curr_expr_idx]\n",
    "                    assert(bigger_row.shape[0] == 1)\n",
    "                    bigger_row = bigger_row.iloc[0]\n",
    "                    new_y_true.append(bigger_row[y_true_label])\n",
    "                    new_y_pred.append(bigger_row[y_pred_label] + curr_diff)\n",
    "                new_preds.append(new_y_pred)\n",
    "            \n",
    "            curr_bigger = curr_bigger.assign(Y_PRED=np.mean(np.array(new_preds), axis=0))\n",
    "            df = pd.merge(curr_smaller, curr_bigger, on=[expr_label], suffixes=suffix_labels)\n",
    "            dfs.append(df)\n",
    "            \n",
    "            new_y_true = np.array(new_y_true)\n",
    "            new_y_pred = np.array(new_y_pred) \n",
    "            \n",
    "            score = rmse_score(new_y_true, new_y_pred)/(np.max(new_y_true) - np.min(new_y_true))\n",
    "            test_scores.append(score)\n",
    "                \n",
    "            models.append(model_dict[(cpu_a, cpu_b)])\n",
    "            datas_small.append(curr_smaller)\n",
    "            datas_big.append(curr_bigger)\n",
    "\n",
    "    print(test_scores)\n",
    "    if plot:\n",
    "        plot_prediction(dfs, X, y_true, expr_idxs, method, show_fig)\n",
    "    print(np.max(y) - np.min(y))\n",
    "    # overall_score = np.sqrt((np.array(test_scores)**2).mean())/(np.max(y) - np.min(y))\n",
    "    overall_score = np.mean(test_scores)\n",
    "    return overall_score"
   ]
  },
  {
   "cell_type": "code",
   "execution_count": 24,
   "id": "dd62e6d3-8c48-4381-b3b8-f3457ad4507d",
   "metadata": {
    "tags": []
   },
   "outputs": [],
   "source": [
    "'''\n",
    "Use a dictionary of models\n",
    "- key: (lower SKU, higher SKU)\n",
    "- value: model\n",
    "'''\n",
    "def predict_pair(model_dicts, sku_pair, X, y_true, expr_idxs, method, plot=True, show_fig=True):\n",
    "    overall_data = pd.DataFrame(zip(X, expr_idxs, y_true), columns=[X_label, expr_label, y_true_label])\n",
    "\n",
    "    # for each pair of SKU\n",
    "    num_cpus = np.sort(np.unique(X))\n",
    "    test_scores = []\n",
    "    models, datas_big, datas_small = [], [], []\n",
    "    dfs = []\n",
    "    \n",
    "    for i in range(len(num_cpus)):\n",
    "        for j in range(i, len(num_cpus)):\n",
    "            print(i, j, sku_pair)\n",
    "            if i != sku_pair[0] or j != sku_pair[1]:\n",
    "                continue\n",
    "            cpu_a = num_cpus[i] # smaller\n",
    "            cpu_b = num_cpus[j] # larger\n",
    "            \n",
    "            curr_smaller = overall_data[overall_data[X_label] == cpu_a]\n",
    "            curr_bigger = overall_data[overall_data[X_label] == cpu_b]\n",
    "            \n",
    "            new_preds = []\n",
    "            \n",
    "            for model_dict in model_dicts:            \n",
    "                new_y_true, new_y_pred = [], []\n",
    "\n",
    "                curr_smaller_pred = model_dict[(cpu_a, cpu_b)].predict(curr_smaller[X_label].to_numpy().reshape(-1, 1))\n",
    "                curr_bigger_pred = model_dict[(cpu_a, cpu_b)].predict(curr_bigger[X_label].to_numpy().reshape(-1, 1))\n",
    "                curr_smaller = curr_smaller.assign(Y_PRED=curr_smaller_pred)\n",
    "                curr_bigger = curr_bigger.assign(Y_PRED=curr_bigger_pred)\n",
    "\n",
    "                for _, smaller_row in curr_smaller.iterrows():\n",
    "                    curr_expr_idx = smaller_row[expr_label]\n",
    "                    curr_diff = smaller_row[y_true_label] - smaller_row[y_pred_label]\n",
    "                    bigger_row = curr_bigger[curr_bigger[expr_label] == curr_expr_idx]\n",
    "                    assert(bigger_row.shape[0] == 1)\n",
    "                    bigger_row = bigger_row.iloc[0]\n",
    "                    new_y_true.append(bigger_row[y_true_label])\n",
    "                    new_y_pred.append(bigger_row[y_pred_label] + curr_diff)\n",
    "                new_preds.append(new_y_pred)\n",
    "            \n",
    "            curr_bigger = curr_bigger.assign(Y_PRED=np.mean(np.array(new_preds), axis=0))\n",
    "            df = pd.merge(curr_smaller, curr_bigger, on=[expr_label], suffixes=suffix_labels)\n",
    "            dfs.append(df)\n",
    "            \n",
    "            new_y_true = np.array(new_y_true)\n",
    "            new_y_pred = np.array(new_y_pred) \n",
    "            \n",
    "            score = rmse_score(new_y_true, new_y_pred)/(np.max(new_y_true) - np.min(new_y_true))\n",
    "            test_scores.append(score)\n",
    "                \n",
    "            models.append(model_dict[(cpu_a, cpu_b)])\n",
    "            datas_small.append(curr_smaller)\n",
    "            datas_big.append(curr_bigger)\n",
    "            \n",
    "    print(test_scores)\n",
    "\n",
    "    if plot:\n",
    "        plot_prediction(dfs, X, y_true, expr_idxs, method, show_fig)\n",
    "    overall_score = np.mean(test_scores)\n",
    "    return overall_score"
   ]
  },
  {
   "cell_type": "code",
   "execution_count": 25,
   "id": "4671fa42-e34d-4ed8-ab47-38603494895f",
   "metadata": {},
   "outputs": [],
   "source": [
    "ycsb_X = get_cpu_nums_as_X(ycsb_data.cpu_nums)\n",
    "ycsb_y = np.array(ycsb_data.wl_throughput)\n",
    "ycsb_expr = np.array(ycsb_data.sampled_run_idx)"
   ]
  },
  {
   "cell_type": "code",
   "execution_count": 26,
   "id": "f56deaad-b448-492b-ac93-85d28bf1ed21",
   "metadata": {},
   "outputs": [],
   "source": [
    "all_results = {}\n",
    "all_times = {}"
   ]
  },
  {
   "cell_type": "markdown",
   "id": "00318153-e6bc-457a-8723-c789810864bb",
   "metadata": {},
   "source": [
    "## Regression\n",
    "\n",
    "Use only CPU number and target (throughput)"
   ]
  },
  {
   "cell_type": "code",
   "execution_count": 27,
   "id": "b4fb0f65-42ff-4b7b-91eb-3379ad6aa832",
   "metadata": {},
   "outputs": [],
   "source": [
    "from sklearn.linear_model import LinearRegression\n",
    "X_label = 'cpu_num'\n",
    "y_label = 'throughput'"
   ]
  },
  {
   "cell_type": "code",
   "execution_count": 28,
   "id": "80d85743-29e1-4d7c-954b-a48f4cce6972",
   "metadata": {
    "tags": []
   },
   "outputs": [],
   "source": [
    "def plot_regeressions_indi(models, datas, workload_name, group_type, groupping_id, plot=True, show_fig=True):\n",
    "    colors = sns.color_palette()\n",
    "    if workload_name == 'tpcc':\n",
    "        color = colors[0]\n",
    "    elif workload_name == 'tpch':\n",
    "        color = colors[1]\n",
    "    elif workload_name == 'twitter':\n",
    "        color = colors[2]\n",
    "    else:\n",
    "        color = colors[3]\n",
    "    colors = ['#1b9e77','#d95f02','#7570b3','#e7298a','#66a61e','#e6ab02','#a6761d','#666666']\n",
    "        \n",
    "    fig, ax = plt.subplots(figsize=(4,3.6))\n",
    "\n",
    "    for model, data, i in zip(models, datas, list(range(len(models)))):\n",
    "        x_new = np.linspace(np.min(data[X_label])[0], np.max(data[X_label])[0], num=100).reshape(-1, 1)\n",
    "        y_new = model.predict(x_new)\n",
    "        ax.scatter(data[X_label], data[y_label], color=color)\n",
    "        ax.plot(x_new, y_new, color=colors[i], linestyle='--', label='{}-{}'.format(np.min(data[X_label])[0], np.max(data[X_label])[0]))\n",
    "    \n",
    "    ax.set_xlabel('Num CPU')\n",
    "    ax.set_ylabel('Throughput')\n",
    " \n",
    "    ax.axis('tight')\n",
    "    plt.legend(loc='best', ncol=2)\n",
    "    plt.savefig(f'figs/prediction/regr_pair_{workload_name}_{group_type}_{groupping_id}.pdf', bbox_inches = 'tight')\n",
    "    if show_fig:\n",
    "        plt.show()\n",
    "    else:\n",
    "        plt.close() "
   ]
  },
  {
   "cell_type": "code",
   "execution_count": 29,
   "id": "f301f1b1-1168-4faa-87b3-d4c4dd10671f",
   "metadata": {},
   "outputs": [],
   "source": [
    "def build_regression_model_indi(X, y, expr_idxs, wl_name, grouping_type, groupping_id, plot=True, show_fig=True): \n",
    "    train_scores, test_scores = [], []\n",
    "\n",
    "    run_label = 'RUN_IDX'\n",
    "    overall_data = pd.DataFrame(zip(X, y, expr_idxs), columns=[X_label, y_label, run_label])\n",
    "\n",
    "    k = 5\n",
    "    kf = KFold(n_splits=k, shuffle=True)\n",
    "    uq_idx = np.unique(expr_idxs)\n",
    "    num_cpus = np.sort(np.unique(X))\n",
    "\n",
    "    models, datas = [], []\n",
    "    \n",
    "    model_dict = {}\n",
    "    train_time = 0\n",
    "\n",
    "    for i in range(len(num_cpus)):\n",
    "        for j in range(i, len(num_cpus)):\n",
    "            if i == j:\n",
    "                continue\n",
    "            cpu_a = num_cpus[i] # smaller\n",
    "            cpu_b = num_cpus[j] # larger\n",
    "            curr_data = overall_data[ (overall_data[X_label] == cpu_a) | (overall_data[X_label] == cpu_b) ]\n",
    "            datas.append(curr_data)\n",
    "            start = time.time()\n",
    "            # select by sampled run idx \n",
    "            for train_run_idxs, test_run_idxs in kf.split(uq_idx):\n",
    "                train_runs = uq_idx[train_run_idxs]\n",
    "                test_runs = uq_idx[test_run_idxs]\n",
    "                train_index = [i for i, value in enumerate(curr_data[run_label].to_list()) if value in train_runs]\n",
    "                test_index = [i for i, value in enumerate(curr_data[run_label].to_list()) if value in test_runs]\n",
    "                # train_index = curr_data[run_label] in train_runs\n",
    "                # test_index = curr_data[run_label] in test_runs\n",
    "                \n",
    "                data = curr_data.iloc[train_index]\n",
    "                test = curr_data.iloc[test_index]\n",
    "                \n",
    "                reg = LinearRegression()\n",
    "                reg.fit(data[[X_label]], data[y_label])\n",
    "                test_pred = reg.predict(test[[X_label]])\n",
    "                train_pred = reg.predict(data[[X_label]])\n",
    "\n",
    "                score = rmse_score(test[y_label], test_pred)/(np.max(test[y_label]) - np.min(test[y_label]))\n",
    "                test_scores.append(score)\n",
    "                \n",
    "                score = rmse_score(data[y_label], train_pred)/(np.max(data[y_label]) - np.min(data[y_label]))\n",
    "                train_scores.append(score)\n",
    "            end = time.time()\n",
    "            train_time += (end - start) / k\n",
    "            \n",
    "            models.append(reg)\n",
    "            model_dict[(cpu_a, cpu_b)] = reg\n",
    "                        \n",
    "    # plot the last one as example\n",
    "    if plot:\n",
    "        plot_regeressions_indi(models, datas, wl_name, grouping_type, groupping_id, show_fig)\n",
    "    overall_test = np.mean(test_scores)\n",
    "    overall_train = np.mean(train_scores)\n",
    "\n",
    "    return overall_test, overall_train, model_dict, train_time"
   ]
  },
  {
   "cell_type": "code",
   "execution_count": 30,
   "id": "69f11589-139d-4d11-a87d-c09e344d2775",
   "metadata": {},
   "outputs": [
    {
     "name": "stdout",
     "output_type": "stream",
     "text": [
      "Group Id: 1, wl name tpcc, terminal num 32\n",
      "Test rmse         = 0.2920315754652549, Train rmse         = 0.22625319349140013\n",
      "Group Id: 2, wl name tpch, terminal num 1\n",
      "Test rmse         = 0.24265651626780382, Train rmse         = 0.19071177833764222\n",
      "Group Id: 3, wl name twitter, terminal num 32\n",
      "Test rmse         = 0.3282252388735014, Train rmse         = 0.23155076155216017\n",
      "Group Id: 4, wl name twitter, terminal num 8\n",
      "Test rmse         = 0.28932360014886577, Train rmse         = 0.23762113459505\n",
      "Group Id: 7, wl name tpcc, terminal num 8\n",
      "Test rmse         = 0.3046838683771656, Train rmse         = 0.2538041404687983\n",
      "Group Id: 8, wl name tpcc, terminal num 4\n",
      "Test rmse         = 0.2829773557832245, Train rmse         = 0.2247771584941554\n",
      "Group Id: 9, wl name twitter, terminal num 4\n",
      "Test rmse         = 0.34267156586293623, Train rmse         = 0.2737987998003151\n",
      "Overall test nrmse: 0.2975099601112503; train 0.2975099601112503\n"
     ]
    }
   ],
   "source": [
    "all_tests, all_trains = [], []\n",
    "group_to_model_dict = {} \n",
    "all_results['Regression'] = {}\n",
    "all_times['Regression'] = {}\n",
    "for ty, curr_data in data_by_type.items():\n",
    "    name = curr_data.wl_names[0]\n",
    "    term = curr_data.terminal_num[0]\n",
    "    if name not in all_results['Regression']:\n",
    "        all_results['Regression'][name] = {}    \n",
    "        all_times['Regression'][name] = {}\n",
    "\n",
    "    print(f'Group Id: {ty}, wl name {name}, terminal num {term}')\n",
    "    X = get_cpu_nums_as_X(curr_data.cpu_nums)\n",
    "    y = np.array(curr_data.wl_throughput)\n",
    "    test_r2_mean, train_r2_mean, model_dict, train_time = build_regression_model_indi(X, y, np.array(curr_data.sampled_run_idx), name, 'group', curr_data.wl_groups[0], plot=OVERALL_PLOT, show_fig=True)\n",
    "    group_to_model_dict[ty] = model_dict\n",
    "    print('Test rmse         = {}, Train rmse         = {}'.format(test_r2_mean, train_r2_mean)) \n",
    "    all_tests.append(test_r2_mean)\n",
    "    all_trains.append(train_r2_mean)\n",
    "    all_results['Regression'][name][term] = test_r2_mean\n",
    "    all_times['Regression'][name][term] = train_time\n",
    "\n",
    "print('Overall test nrmse: {}; train {}'.format(np.mean(all_tests), np.mean(all_tests)))"
   ]
  },
  {
   "cell_type": "code",
   "execution_count": 31,
   "id": "0faf5d8d-cc67-4175-a4a3-5d35e5fe7a8f",
   "metadata": {},
   "outputs": [
    {
     "name": "stdout",
     "output_type": "stream",
     "text": [
      "[0.07389151048990596, 0.07881305059258885, 0.8308475160186006, 0.052013420320252496, 0.7008195315061003, 0.6392257392320971]\n"
     ]
    },
    {
     "data": {
      "image/png": "[encoded data removed]",
      "text/plain": [
       "<Figure size 400x360 with 1 Axes>"
      ]
     },
     "metadata": {},
     "output_type": "display_data"
    },
    {
     "name": "stdout",
     "output_type": "stream",
     "text": [
      "298.8083333333334\n",
      "Overall ycsb nrmse: 0.39593512802659087\n"
     ]
    }
   ],
   "source": [
    "# most similar expr idx\n",
    "min_run_idx = 0\n",
    "min_groups = ['8', '7'] # '1' '2' '5' '6']\n",
    "\n",
    "model_dict = [group_to_model_dict[min_group] for min_group in min_groups]\n",
    "\n",
    "overall_score = predict(model_dict, ycsb_X, ycsb_y, ycsb_expr, 'regression', True)\n",
    "\n",
    "print('Overall ycsb nrmse: {}'.format(overall_score))"
   ]
  },
  {
   "cell_type": "markdown",
   "id": "7971e759-904e-40c9-a868-ef8ecd40128e",
   "metadata": {},
   "source": [
    "## SVM\n",
    "\n",
    "Use only CPU number and target (throughput)"
   ]
  },
  {
   "cell_type": "code",
   "execution_count": 32,
   "id": "14c11db2-f1be-4d03-a4fc-ca035c0291f1",
   "metadata": {},
   "outputs": [],
   "source": [
    "from sklearn.svm import SVR\n",
    "from sklearn.model_selection import GridSearchCV"
   ]
  },
  {
   "cell_type": "code",
   "execution_count": 33,
   "id": "755db352-96ed-4a6c-8dc5-49d8e3ac83c5",
   "metadata": {},
   "outputs": [],
   "source": [
    "def plot_svrs_indi(models, datas, workload_name, group_type, groupping_id, plot=True, show_fig=True):\n",
    "    colors = sns.color_palette()\n",
    "    if workload_name == 'tpcc':\n",
    "        color = colors[0]\n",
    "    elif workload_name == 'tpch':\n",
    "        color = colors[1]\n",
    "    elif workload_name == 'twitter':\n",
    "        color = colors[2]\n",
    "    else:\n",
    "        color = colors[3]\n",
    "    colors = ['#1b9e77','#d95f02','#7570b3','#e7298a','#66a61e','#e6ab02','#a6761d','#666666']\n",
    "    fig, ax = plt.subplots(figsize=(4,3.6))\n",
    "\n",
    "    for model, data, line_color in zip(models, datas, colors):\n",
    "        x_new = np.linspace(np.min(data[X_label]), np.max(data[X_label]), num=100).reshape(-1, 1)\n",
    "        y_new = model.predict(x_new)\n",
    "        ax.scatter(data[X_label], data[y_label], color=color)\n",
    "        # ax.plot(x_new, y_new, color=color, linestyle='--')\n",
    "        ax.plot(x_new, y_new, color=line_color, linestyle='--', label='{}-{}'.format(np.min(data[X_label])[0], np.max(data[X_label])[0]))\n",
    "\n",
    "    ax.set_xlabel('Num CPU')\n",
    "    ax.set_ylabel('Throughput')\n",
    "    \n",
    "    ax.axis('tight')\n",
    "    plt.legend(loc='best', ncol=2)\n",
    "    plt.savefig(f'figs/prediction/svr_pair_{workload_name}_{group_type}_{groupping_id}.pdf', bbox_inches = 'tight')\n",
    "    if show_fig:\n",
    "        plt.show()\n",
    "    else:\n",
    "        plt.close() "
   ]
  },
  {
   "cell_type": "code",
   "execution_count": 34,
   "id": "8de6d524-55a2-4a5a-9014-429ea2ab199a",
   "metadata": {},
   "outputs": [],
   "source": [
    "def build_svm_model_indi(X, y, wl_name, grouping_type, groupping_id, plot=True, show_fig=True):  \n",
    "    metrics = [X_label, y_label]\n",
    "    zipped = zip(X, y)\n",
    "    \n",
    "    # append fixed effect and random effect to data\n",
    "    overall_data = pd.DataFrame(zipped, columns=metrics)\n",
    "\n",
    "    train_scores, test_scores = [], []\n",
    "\n",
    "    models, datas = [], []\n",
    "    model_dict = {}\n",
    "    \n",
    "    # epsilon range: according to this paper: http://adrem.uantwerpen.be/bibrem/pubs/IJCNN2007.pdf\n",
    "    # C range: https://www.csie.ntu.edu.tw/~cjlin/papers/guide/guide.pdf\n",
    "    \n",
    "    # Cross validation grid search (best parameters) \n",
    "    # c_range = np.logspace(1, 100, 10) # 1 and 100\n",
    "    c_range = np.logspace(-5, 5, base=2.0, num=5) # 1 and 100\n",
    "    epsilon_range = np.linspace(10 ** -3, 1, 5) # 1-e3 and 1\n",
    "    # gamma_range = np.logspace(-4, 0, 20) # 2^{-15} to 2^3\n",
    "    degree_range = np.array(list(range(1, 5)))\n",
    "    tuned_parameters = [{'kernel': ['rbf'],'C': c_range, 'epsilon': epsilon_range}, # 'gamma':gamma_range,\n",
    "                        {'kernel': ['linear'], 'C': c_range, 'epsilon': epsilon_range}, # 'gamma':gamma_range,\n",
    "                        {'kernel': ['poly'], 'C': c_range, 'degree': degree_range, 'epsilon': epsilon_range} # 'gamma':gamma_range,\n",
    "                       ]\n",
    "\n",
    "    num_cpus = np.sort(np.unique(X))\n",
    "    prev_cpu = num_cpus[0]\n",
    "    \n",
    "    train_time = 0\n",
    "\n",
    "    for i in range(len(num_cpus)):\n",
    "        for j in range(i, len(num_cpus)):\n",
    "            if i == j:\n",
    "                continue\n",
    "            cpu_a = num_cpus[i] # smaller\n",
    "            cpu_b = num_cpus[j] # larger\n",
    "            curr_data = overall_data[ (overall_data[X_label] == cpu_a) | (overall_data[X_label] == cpu_b) ]\n",
    "            \n",
    "            svr = SVR()\n",
    "            datas.append(curr_data)\n",
    "            clf = GridSearchCV(svr,param_grid=tuned_parameters,verbose=0, n_jobs=4,\n",
    "                               cv=5, \n",
    "                               scoring=score_func, #'neg_root_mean_squared_error', #'neg_mean_squared_error', #'r2', \n",
    "                               return_train_score=True)\n",
    "            clf.fit(curr_data[[X_label]], curr_data[y_label])           \n",
    "            best_params = clf.best_params_\n",
    "            results = pd.DataFrame.from_dict(clf.cv_results_)\n",
    "            results_best = results[results['params'] == best_params].reset_index()\n",
    "            train_time += results_best['mean_fit_time'][0]\n",
    "            \n",
    "#             print(\"writing\", cpu_a, cpu_b)\n",
    "#             with open(f\"model_pkl/svm_pairwise{groupping_id}-{i}-{j}.pkl\", \"wb\") as f:\n",
    "#                 pickle.dump(clf, f)\n",
    "\n",
    "            test_scores.append(results_best.iloc[0]['mean_test_score'])\n",
    "            train_scores.append(results_best.iloc[0]['mean_train_score'])\n",
    "            models.append(clf)\n",
    "            model_dict[(cpu_a, cpu_b)] = clf\n",
    "            print(f'NRMSE from {cpu_a} to {cpu_b} is {test_scores[-1]}')\n",
    "\n",
    "    # plot the last one as example\n",
    "    if plot:\n",
    "        plot_svrs_indi(models, datas, wl_name, grouping_type, groupping_id, show_fig)\n",
    "\n",
    "    overall_test = np.mean(test_scores)\n",
    "    overall_train = np.mean(train_scores)\n",
    "    return overall_test, overall_train, model_dict, train_time"
   ]
  },
  {
   "cell_type": "code",
   "execution_count": 35,
   "id": "37c36496-835b-497e-930d-80e7de9cb173",
   "metadata": {},
   "outputs": [
    {
     "name": "stdout",
     "output_type": "stream",
     "text": [
      "Group Id: 1, wl name tpcc, terminal num 32\n",
      "NRMSE from 2 to 4 is -0.35117226873562335\n",
      "NRMSE from 2 to 8 is -0.29872469103129273\n",
      "NRMSE from 2 to 16 is -0.23012122145633823\n",
      "NRMSE from 4 to 8 is -0.29734154545336466\n",
      "NRMSE from 4 to 16 is -0.23761594275940084\n",
      "NRMSE from 8 to 16 is -0.2664438312781213\n",
      "Test rmse = -0.28023658345235686, Train rmse = -0.2443920644221206\n",
      "Group Id: 2, wl name tpch, terminal num 1\n",
      "NRMSE from 2 to 4 is -0.24111660919297914\n",
      "NRMSE from 2 to 8 is -0.24534950415239692\n",
      "NRMSE from 2 to 16 is -0.24751495905979898\n",
      "NRMSE from 4 to 8 is -0.24280938312546718\n",
      "NRMSE from 4 to 16 is -0.2447207194693864\n",
      "NRMSE from 8 to 16 is -0.2512322467655542\n",
      "Test rmse = -0.24545723696093047, Train rmse = -0.19383693724767778\n",
      "Group Id: 3, wl name twitter, terminal num 32\n",
      "NRMSE from 2 to 4 is -0.31031254925828466\n",
      "NRMSE from 2 to 8 is -0.3166111701347448\n",
      "NRMSE from 2 to 16 is -0.293607341777806\n",
      "NRMSE from 4 to 8 is -0.30369581715298477\n",
      "NRMSE from 4 to 16 is -0.27886558958347046\n",
      "NRMSE from 8 to 16 is -0.2587537886372129\n",
      "Test rmse = -0.29364104275741726, Train rmse = -0.23540215130469247\n",
      "Group Id: 4, wl name twitter, terminal num 8\n",
      "NRMSE from 2 to 4 is -0.2841281970036749\n",
      "NRMSE from 2 to 8 is -0.31687075625369765\n",
      "NRMSE from 2 to 16 is -0.27964130345700206\n",
      "NRMSE from 4 to 8 is -0.24083804882254953\n",
      "NRMSE from 4 to 16 is -0.30366213960349386\n",
      "NRMSE from 8 to 16 is -0.2363948922448511\n",
      "Test rmse = -0.27692255623087814, Train rmse = -0.23918075370285488\n",
      "Group Id: 7, wl name tpcc, terminal num 8\n",
      "NRMSE from 2 to 4 is -0.323193768796396\n",
      "NRMSE from 2 to 8 is -0.3574347130043295\n",
      "NRMSE from 2 to 16 is -0.23564682255642816\n",
      "NRMSE from 4 to 8 is -0.3286367788433908\n",
      "NRMSE from 4 to 16 is -0.24046476406816336\n",
      "NRMSE from 8 to 16 is -0.2584010150249897\n",
      "Test rmse = -0.2906296437156162, Train rmse = -0.25845402948578117\n",
      "Group Id: 8, wl name tpcc, terminal num 4\n",
      "NRMSE from 2 to 4 is -0.2813592019954371\n",
      "NRMSE from 2 to 8 is -0.2888046130645751\n",
      "NRMSE from 2 to 16 is -0.24132732242192362\n",
      "NRMSE from 4 to 8 is -0.30882383404766867\n",
      "NRMSE from 4 to 16 is -0.21661843513811027\n",
      "NRMSE from 8 to 16 is -0.251915239676861\n",
      "Test rmse = -0.26480810772409596, Train rmse = -0.23053046446954817\n",
      "Group Id: 9, wl name twitter, terminal num 4\n",
      "NRMSE from 2 to 4 is -0.3376721601162368\n",
      "NRMSE from 2 to 8 is -0.28895839338210105\n",
      "NRMSE from 2 to 16 is -0.32080619346358125\n",
      "NRMSE from 4 to 8 is -0.2849732391720575\n",
      "NRMSE from 4 to 16 is -0.3041615261082868\n",
      "NRMSE from 8 to 16 is -0.31400441345954583\n",
      "Test rmse = -0.30842932095030157, Train rmse = -0.29049963823865604\n",
      "Overall test nrmse: -0.2800177845416566, train -0.2800177845416566\n"
     ]
    }
   ],
   "source": [
    "all_tests, all_trains = [], []\n",
    "group_to_model_dict = {}\n",
    "all_results['SVM'] = {}\n",
    "all_times['SVM'] = {}\n",
    "\n",
    "for ty, curr_data in data_by_type.items():\n",
    "    name = curr_data.wl_names[0]\n",
    "    term = curr_data.terminal_num[0]\n",
    "    if name not in all_results['SVM']:\n",
    "        all_results['SVM'][name] = {}\n",
    "        all_times['SVM'][name] = {}\n",
    "    print(f'Group Id: {ty}, wl name {name}, terminal num {term}')\n",
    "    X = get_cpu_nums_as_X(curr_data.cpu_nums)\n",
    "    y = np.array(curr_data.wl_throughput)\n",
    "    test_r2_mean, train_r2_mean, model_dict, train_time = build_svm_model_indi(X, y, \n",
    "                                                                               curr_data.wl_names[0], 'group', \n",
    "                                                                               curr_data.wl_groups[0], \n",
    "                                                                               plot=OVERALL_PLOT, show_fig=False)\n",
    "    group_to_model_dict[ty] = model_dict\n",
    "    print('Test rmse = {}, Train rmse = {}'.format(test_r2_mean, train_r2_mean))     \n",
    "    all_tests.append(test_r2_mean)\n",
    "    all_trains.append(train_r2_mean)\n",
    "    all_results['SVM'][name][term] = test_r2_mean\n",
    "    all_times['SVM'][name][term] = train_time\n",
    "\n",
    "print('Overall test nrmse: {}, train {}'.format(np.mean(all_tests), np.mean(all_tests)))"
   ]
  },
  {
   "cell_type": "code",
   "execution_count": 36,
   "id": "fee34e5f-62a5-46fa-886a-80412482a67f",
   "metadata": {},
   "outputs": [
    {
     "name": "stdout",
     "output_type": "stream",
     "text": [
      "[0.07364725390604053, 0.07886102119097921, 0.8307924980854298, 0.05188096558016448, 0.7006287599392236, 0.6379466356468979]\n"
     ]
    },
    {
     "data": {
      "image/png": "[encoded data removed]",
      "text/plain": [
       "<Figure size 400x360 with 1 Axes>"
      ]
     },
     "metadata": {},
     "output_type": "display_data"
    },
    {
     "name": "stdout",
     "output_type": "stream",
     "text": [
      "298.8083333333334\n",
      "Overall ycsb nrmse: 0.3956261890581225\n"
     ]
    }
   ],
   "source": [
    "# most similar expr idx\n",
    "min_run_idx = 0\n",
    "\n",
    "model_dict = [group_to_model_dict[min_group] for min_group in min_groups]\n",
    "simi_expr = data_all.get_by_run_idx(min_run_idx)\n",
    "\n",
    "overall_score = predict(model_dict, ycsb_X, ycsb_y, ycsb_expr, 'svm', True)\n",
    "\n",
    "print('Overall ycsb nrmse: {}'.format(overall_score))"
   ]
  },
  {
   "cell_type": "code",
   "execution_count": 39,
   "id": "cb616d7a-40aa-4a4e-b280-7d069a2b7b22",
   "metadata": {},
   "outputs": [
    {
     "name": "stdout",
     "output_type": "stream",
     "text": [
      "0 0 (0, 2)\n",
      "0 1 (0, 2)\n",
      "0 2 (0, 2)\n",
      "0 3 (0, 2)\n",
      "1 1 (0, 2)\n",
      "1 2 (0, 2)\n",
      "1 3 (0, 2)\n",
      "2 2 (0, 2)\n",
      "2 3 (0, 2)\n",
      "3 3 (0, 2)\n",
      "[0.07886102119097921]\n"
     ]
    },
    {
     "data": {
      "image/png": "[encoded data removed]",
      "text/plain": [
       "<Figure size 400x360 with 1 Axes>"
      ]
     },
     "metadata": {},
     "output_type": "display_data"
    },
    {
     "name": "stdout",
     "output_type": "stream",
     "text": [
      "Overall ycsb nrmse: 0.07886102119097921\n"
     ]
    }
   ],
   "source": [
    "# most similar expr idx\n",
    "min_run_idx = 0\n",
    "\n",
    "model_dict = [group_to_model_dict[min_group] for min_group in min_groups]\n",
    "simi_expr = data_all.get_by_run_idx(min_run_idx)\n",
    "\n",
    "overall_score = predict_pair(model_dict, (0, 2), ycsb_X, ycsb_y, ycsb_expr, 'svm-2-8', True)\n",
    "\n",
    "print('Overall ycsb nrmse: {}'.format(overall_score))"
   ]
  },
  {
   "cell_type": "markdown",
   "id": "a17da977-a020-4817-8895-4f9fac2cdda4",
   "metadata": {},
   "source": [
    "## LME \n",
    "\n",
    "#### Per run"
   ]
  },
  {
   "cell_type": "code",
   "execution_count": 40,
   "id": "6faf7365-a1fd-4677-b1c4-ae37deced173",
   "metadata": {},
   "outputs": [],
   "source": [
    "random_effect = 'EXPR_ID'\n",
    "fixed_effect = 'SKU_VALUE'\n",
    "target_metric = 'throughput'"
   ]
  },
  {
   "cell_type": "code",
   "execution_count": 41,
   "id": "94e4c457-25e3-4144-badc-088491341f6c",
   "metadata": {},
   "outputs": [
    {
     "name": "stdout",
     "output_type": "stream",
     "text": [
      "0.14.0\n"
     ]
    }
   ],
   "source": [
    "import statsmodels\n",
    "print(statsmodels.__version__)\n",
    "import statsmodels.api as sm\n",
    "import statsmodels.formula.api as smf\n",
    "from statsmodels.tools.sm_exceptions import ConvergenceWarning"
   ]
  },
  {
   "cell_type": "code",
   "execution_count": 42,
   "id": "223790c8-b0ad-415f-8907-bf75ce9ac431",
   "metadata": {},
   "outputs": [],
   "source": [
    "def plot_lmm_graphs_indi(model_parameters_dfs, fixed_effects_covs, datas, groups, metric, fig_name, plot=True, show_fig=True):\n",
    "    n_groups = groups.size\n",
    "    # fig, axs = plt.subplots(1, n_groups, figsize=(n_groups*12, 9), sharey=True, sharex=True)\n",
    "    color_map = [\"darkorange\", \"limegreen\", \"royalblue\"] #, \"#2ecc71\"]\n",
    "\n",
    "\n",
    "    colors = ['#1b9e77','#d95f02','#7570b3','#e7298a','#66a61e','#e6ab02','#a6761d','#666666']\n",
    "    fig, axs = plt.subplots(1,3, figsize=(12, 4), sharey=True)\n",
    "\n",
    "    for model_parameters_df, fixed_effects_cov, data, line_color in zip(model_parameters_dfs, fixed_effects_covs, datas, colors):\n",
    "        t = np.linspace(np.min(data[fixed_effect]), np.max(data[fixed_effect]), num=100)\n",
    "        for expr_idx, c, ax in zip(groups, color_map, axs):\n",
    "            group_data = data.loc[data[random_effect] == expr_idx]\n",
    "            group_data.plot.scatter(fixed_effect, metric, ax=ax, color=c)\n",
    "            group_params = model_parameters_df.loc[expr_idx]\n",
    "            # group_params = model_parameters_df.loc[model_parameters_df[random_effect] == expr_idx]|\n",
    "            regression_line = group_params['alpha'] + group_params['beta'] * t\n",
    "            # ax.plot(t, regression_line, color=c, linestyle='--')\n",
    "            ax.plot(t, regression_line, color=line_color, linestyle='--', label='{}-{}'.format(np.min(data[fixed_effect]), np.max(data[fixed_effect])))\n",
    "\n",
    "            # This is derived by expanding the following expression using the bi-linearity of covariance:\n",
    "            #     var(alpha_fe + alpha_re + (beta_fe + beta_re) * t)\n",
    "            # We're assuming that cov(fe, re) = 0, which I believe is true?\n",
    "            prediction_sd = np.sqrt(\n",
    "                group_params['var_alpha'] + 2 * t * group_params['cov_alpha_beta'] + group_params['var_beta'] * t**2\n",
    "                + fixed_effects_cov['intercept'] + 2 * t * fixed_effects_cov['intercept_slope'] + fixed_effects_cov['slope'] * t**2\n",
    "            )\n",
    "            upper_band, lower_band = regression_line + 2 * prediction_sd, regression_line - 2 * prediction_sd\n",
    "            ax.fill_between(t, upper_band, lower_band, alpha=0.05, color=c)\n",
    "    # ax.set_title(fig_name)\n",
    "    for ax in axs:\n",
    "        ax.set_xlabel('Num CPU')\n",
    "        ax.set_ylabel('Throughput')\n",
    "    plt.legend(loc='best', ncol=2)\n",
    "\n",
    "    plt.savefig(f'figs/prediction/lmm_pair_nosd_{fig_name}.pdf', bbox_inches = 'tight')\n",
    "    if show_fig:\n",
    "        plt.show()\n",
    "    else:\n",
    "        plt.close()"
   ]
  },
  {
   "cell_type": "code",
   "execution_count": 43,
   "id": "e0455174-e591-4e36-b93b-a72220cb87b1",
   "metadata": {},
   "outputs": [],
   "source": [
    "def build_lmm_models_indi(X, y, expr_ids, feature_names, fig_name, plot=True, num_bins=10):\n",
    "\n",
    "    metrics = [fixed_effect, random_effect, target_metric]\n",
    "    zipped = zip(X, expr_ids, y)\n",
    "    \n",
    "    # append fixed effect and random effect to data\n",
    "    overall_data = pd.DataFrame(zipped, columns=metrics)\n",
    "\n",
    "    train_rmses, test_rmses = [], []\n",
    "\n",
    "    model_parameters_dfs = []\n",
    "    fixed_effects_covs = []\n",
    "    datas = []\n",
    "    model_dict = {}\n",
    "    \n",
    "    k = 5\n",
    "    kf = KFold(n_splits=k, shuffle=True)\n",
    "\n",
    "    num_cpus = np.sort(np.unique(X))\n",
    "    prev_cpu = num_cpus[0]\n",
    "    \n",
    "    train_time = 0\n",
    "\n",
    "    for i in range(len(num_cpus)):\n",
    "        for j in range(i, len(num_cpus)):\n",
    "            if i == j:\n",
    "                continue\n",
    "            cpu_a = num_cpus[i] # smaller\n",
    "            cpu_b = num_cpus[j] # larger\n",
    "            curr_data = overall_data[ (overall_data[fixed_effect] == cpu_a) | (overall_data[fixed_effect] == cpu_b) ]\n",
    "            start = time.time()\n",
    "            for train_index, test_index in kf.split(curr_data):\n",
    "                data = curr_data.iloc[train_index]\n",
    "                test = curr_data.iloc[test_index]\n",
    "                with warnings.catch_warnings():\n",
    "                    # Parameter is often on the boundary\n",
    "                    warnings.simplefilter(\"ignore\", ConvergenceWarning)\n",
    "                    md = smf.mixedlm(\"{} ~ SKU_VALUE\".format(target_metric), data, groups=data[random_effect], re_formula=\"~SKU_VALUE\")\n",
    "                    # groups to sku type and \n",
    "                    mdf = md.fit(method=[\"cg\"])#, max_iter=1000)\n",
    "                y_predict = mdf.fittedvalues\n",
    "                test_pred = mdf.predict(exog=test)\n",
    "        \n",
    "                rmse = rmse_score(test[target_metric].to_list(), test_pred)\n",
    "                n_rmse = nrmse_score(test[target_metric], test_pred)\n",
    "                test_rmses.append(n_rmse)\n",
    "        \n",
    "                rmse = rmse_score(data[target_metric].to_list(), y_predict)\n",
    "                n_rmse = nrmse_score(data[target_metric], y_predict)\n",
    "                train_rmses.append(n_rmse)\n",
    "                fe, re, recov = mdf.fe_params, mdf.random_effects, mdf.random_effects_cov\n",
    "            end = time.time()\n",
    "            train_time += (end - start)/k\n",
    "            \n",
    "            groups = data[random_effect].unique()       \n",
    "            model_parameters_df = pd.DataFrame([\n",
    "                [fe[0] + re[idx][0], fe[1] + re[idx][1], recov[idx].iloc[0, 0], recov[idx].iloc[0, 1], recov[idx].iloc[1, 1]]\n",
    "                for idx in groups\n",
    "            ], columns=['alpha', 'beta', 'var_alpha', 'cov_alpha_beta', 'var_beta'], index=groups)\n",
    "    \n",
    "            fixed_effects_cov = {\n",
    "                'intercept': mdf.cov_params().loc['Intercept', 'Intercept'],\n",
    "                'slope': mdf.cov_params().loc[fixed_effect, fixed_effect],\n",
    "                'intercept_slope': mdf.cov_params().loc['Intercept', fixed_effect],\n",
    "            }\n",
    "            \n",
    "            datas.append(data)\n",
    "            model_parameters_dfs.append(model_parameters_df)\n",
    "            fixed_effects_covs.append(fixed_effects_cov)\n",
    "                \n",
    "    # calculate overall rmse\n",
    "    overall_train_rmse = np.mean(train_rmses)\n",
    "    overall_test_rmse = np.mean(test_rmses)\n",
    "    if plot:\n",
    "        plot_lmm_graphs_indi(model_parameters_dfs, fixed_effects_covs, datas, groups, target_metric, fig_name+\"_\"+target_metric, plot=True, show_fig=True)\n",
    "    # return overall_test_r2, overall_train_r2\n",
    "    return overall_test_rmse, overall_train_rmse, train_time"
   ]
  },
  {
   "cell_type": "code",
   "execution_count": 44,
   "id": "25124d17-bc6f-4d9b-ae14-0a87e571e19f",
   "metadata": {
    "scrolled": true
   },
   "outputs": [
    {
     "name": "stdout",
     "output_type": "stream",
     "text": [
      "Group Id: 1, wl name tpcc, terminal num 32\n",
      "Test rmse = 0.27875015953171467, Train rmse = 0.06704129460267459\n",
      "Group Id: 2, wl name tpch, terminal num 1\n",
      "Test rmse = 0.23725091865134387, Train rmse = 0.183846574527247\n",
      "Group Id: 3, wl name twitter, terminal num 32\n",
      "Test rmse = 0.3056251726225947, Train rmse = 0.10871703755157829\n",
      "Group Id: 4, wl name twitter, terminal num 8\n",
      "Test rmse = 0.2817274531791089, Train rmse = 0.06416735064583358\n",
      "Group Id: 7, wl name tpcc, terminal num 8\n",
      "Test rmse = 0.29516014728129203, Train rmse = 0.0684444755312792\n",
      "Group Id: 8, wl name tpcc, terminal num 4\n",
      "Test rmse = 0.28324409330511835, Train rmse = 0.07741389324097521\n",
      "Group Id: 9, wl name twitter, terminal num 4\n",
      "Test rmse = 0.30456300698189315, Train rmse = 0.03290174812554001\n",
      "Overall test nrmse: 0.28376013593615224; train 0.08607605346073256\n"
     ]
    }
   ],
   "source": [
    "all_tests, all_trains = [], []\n",
    "all_results['LMM'] = {}\n",
    "all_times['LMM'] = {}\n",
    "\n",
    "for ty, curr_data in data_by_type.items():\n",
    "    name = curr_data.wl_names[0]\n",
    "    term = curr_data.terminal_num[0]\n",
    "    if name not in all_results['LMM']:\n",
    "        all_results['LMM'][name] = {}\n",
    "        all_times['LMM'][name] = {}\n",
    "    print(f'Group Id: {ty}, wl name {name}, terminal num {term}')\n",
    "\n",
    "    X = get_cpu_nums_as_X(curr_data.cpu_nums).flatten()\n",
    "    y = curr_data.wl_throughput\n",
    "    out_name = '{}_group{}_term{}'.format(curr_data.wl_names[0], ty, curr_data.terminal_num[0])\n",
    "    \n",
    "    expr_idxs = list(map(int, curr_data.run_idx))\n",
    "\n",
    "    test_r2_mean, train_r2_mean, train_time = build_lmm_models_indi(X, y, expr_idxs, all_top_7, out_name, plot=OVERALL_PLOT, num_bins=10)\n",
    "    print('Test rmse = {}, Train rmse = {}'.format(test_r2_mean, train_r2_mean))  \n",
    "    all_tests.append(test_r2_mean)\n",
    "    all_trains.append(train_r2_mean)\n",
    "    all_results['LMM'][name][term] = test_r2_mean\n",
    "    all_times['LMM'][name][term] = train_time\n",
    "\n",
    "print('Overall test nrmse: {}; train {}'.format(np.mean(all_tests), np.mean(all_trains)))"
   ]
  },
  {
   "cell_type": "markdown",
   "id": "d0b8e81b-2658-4cd8-aea9-a3bcd20e4b93",
   "metadata": {},
   "source": [
    "## Gradient Boosting"
   ]
  },
  {
   "cell_type": "code",
   "execution_count": 45,
   "id": "fd969d89-9ead-4954-adae-b3c5ddb3a5b4",
   "metadata": {},
   "outputs": [],
   "source": [
    "from sklearn.ensemble import GradientBoostingRegressor"
   ]
  },
  {
   "cell_type": "code",
   "execution_count": 46,
   "id": "ca3e3ab4-14ba-4b4c-a8d1-e0d0a2140724",
   "metadata": {},
   "outputs": [],
   "source": [
    "def plot_gbs_indi(models, datas, workload_name, group_type, groupping_id, plot=True, show_fig=True):\n",
    "    colors = sns.color_palette()\n",
    "    if workload_name == 'tpcc':\n",
    "        color = colors[0]\n",
    "    elif workload_name == 'tpch':\n",
    "        color = colors[1]\n",
    "    elif workload_name == 'twitter':\n",
    "        color = colors[2]\n",
    "    else:\n",
    "        color = colors[3]\n",
    "        \n",
    "    fig, ax = plt.subplots(figsize=(4,3.6))\n",
    "\n",
    "    for model, data in zip(models, datas):\n",
    "        x_new = np.linspace(np.max(data[X_label]), np.min(data[X_label]), num=100).reshape(-1, 1)\n",
    "        y_new = model.predict(x_new)\n",
    "        ax.scatter(data[X_label], data[y_label], color=color)\n",
    "        ax.plot(x_new, y_new, color=color, linestyle='--')\n",
    "    \n",
    "    ax.set_xlabel('Num CPU')\n",
    "    ax.set_ylabel('Throughput')\n",
    "    \n",
    "    ax.axis('tight')\n",
    "    plt.savefig(f'figs/prediction/gb_pair_{workload_name}_{group_type}_{groupping_id}.pdf', bbox_inches = 'tight')\n",
    "    if show_fig:\n",
    "        plt.show()\n",
    "    else:\n",
    "        plt.close() "
   ]
  },
  {
   "cell_type": "code",
   "execution_count": 47,
   "id": "c5e6435a-0067-4fb7-8954-6eca30479a97",
   "metadata": {},
   "outputs": [],
   "source": [
    "def build_gb_model_indi(X, y, wl_name, grouping_type, groupping_id, plot=True, show_fig=True):  \n",
    "    metrics = [X_label, y_label]\n",
    "    zipped = zip(X, y)\n",
    "    \n",
    "    # append fixed effect and random effect to data\n",
    "    overall_data = pd.DataFrame(zipped, columns=metrics)\n",
    "\n",
    "    train_scores, test_scores = [], []\n",
    "\n",
    "    models, datas = [], []\n",
    "    model_dict = {}\n",
    "\n",
    "    tuned_parameters = {\n",
    "        # \"loss\":[\"deviance\"],\n",
    "        \"learning_rate\": [0.01, 0.025, 0.05, 0.075, 0.1, 0.15, 0.2],\n",
    "        # \"min_samples_split\": np.linspace(0.1, 0.5, 12),\n",
    "        # \"min_samples_leaf\": np.linspace(0.1, 0.5, 12),\n",
    "        \"max_depth\":[3,5,8],\n",
    "        \"max_features\":[\"log2\",\"sqrt\"],\n",
    "        # \"criterion\": [\"friedman_mse\",  \"mae\"],\n",
    "        \"subsample\":[0.5, 0.618, 0.8, 0.85, 0.9, 0.95, 1.0],\n",
    "        \"n_estimators\":[10, 50, 100]\n",
    "    }\n",
    "\n",
    "    num_cpus = np.sort(np.unique(X))\n",
    "    prev_cpu = num_cpus[0]\n",
    "    \n",
    "    train_time = 0\n",
    "\n",
    "    for i in range(len(num_cpus)):\n",
    "        for j in range(i, len(num_cpus)):\n",
    "            if i == j:\n",
    "                continue\n",
    "            cpu_a = num_cpus[i] # smaller\n",
    "            cpu_b = num_cpus[j] # larger\n",
    "            curr_data = overall_data[ (overall_data[X_label] == cpu_a) | (overall_data[X_label] == cpu_b) ]\n",
    "            \n",
    "            datas.append(curr_data)\n",
    "            model = GradientBoostingRegressor()\n",
    "            clf = GridSearchCV(model, param_grid=tuned_parameters,verbose=0, n_jobs=-1,\n",
    "                               cv=5, \n",
    "                               scoring=score_func, #'neg_root_mean_squared_error', #'r2', \n",
    "                               return_train_score=True)\n",
    "            clf.fit(curr_data[[X_label]], curr_data[y_label])\n",
    "\n",
    "            best_params = clf.best_params_\n",
    "            results = pd.DataFrame.from_dict(clf.cv_results_)\n",
    "            results_best = results[results['params'] == best_params].reset_index()\n",
    "            train_time += results_best['mean_fit_time'][0]\n",
    "            \n",
    "            test_scores.append(results_best.iloc[0]['mean_test_score'])\n",
    "            train_scores.append(results_best.iloc[0]['mean_train_score'])\n",
    "            models.append(clf)\n",
    "            model_dict[(cpu_a, cpu_b)] = clf\n",
    "\n",
    "    if plot:\n",
    "        # plot the last one as example\n",
    "        plot_gbs_indi(models, datas, wl_name, grouping_type, groupping_id, show_fig)\n",
    "\n",
    "    overall_test = np.mean(test_scores)\n",
    "    overall_train = np.mean(train_scores)\n",
    "    return overall_test, overall_train, model_dict, train_time"
   ]
  },
  {
   "cell_type": "code",
   "execution_count": 48,
   "id": "9c60f268-3248-4664-bec0-338b61d217b1",
   "metadata": {},
   "outputs": [
    {
     "name": "stdout",
     "output_type": "stream",
     "text": [
      "Group Id: 1, wl name tpcc, terminal num 32\n",
      "Test rmse = -0.2597282654079814, Train rmse = -0.22754033622006556\n",
      "Group Id: 2, wl name tpch, terminal num 1\n",
      "Test rmse = -0.2420672869554749, Train rmse = -0.1909058057258006\n",
      "Group Id: 3, wl name twitter, terminal num 32\n",
      "Test rmse = -0.28649613464647955, Train rmse = -0.2310870477314644\n",
      "Group Id: 4, wl name twitter, terminal num 8\n",
      "Test rmse = -0.27539126523680585, Train rmse = -0.23869340108116818\n",
      "Group Id: 7, wl name tpcc, terminal num 8\n",
      "Test rmse = -0.28679793177798363, Train rmse = -0.2557303714775531\n",
      "Group Id: 8, wl name tpcc, terminal num 4\n",
      "Test rmse = -0.25807991008096026, Train rmse = -0.22550635005767938\n",
      "Group Id: 9, wl name twitter, terminal num 4\n",
      "Test rmse = -0.2921515681985976, Train rmse = -0.2755362135691352\n",
      "Overall test nrmse: -0.2715303374720405, train -0.07446193940269562\n"
     ]
    }
   ],
   "source": [
    "all_tests, all_train = [], []\n",
    "group_to_model_dict = {} \n",
    "all_results['GB'] = {}\n",
    "all_times['GB'] = {}\n",
    "for ty, curr_data in data_by_type.items():\n",
    "    name = curr_data.wl_names[0]\n",
    "    term = curr_data.terminal_num[0]\n",
    "    if name not in all_results['GB']:\n",
    "        all_results['GB'][name] = {}\n",
    "        all_times['GB'][name] = {}\n",
    "    print(f'Group Id: {ty}, wl name {name}, terminal num {term}')\n",
    "    \n",
    "    X = get_cpu_nums_as_X(curr_data.cpu_nums)\n",
    "    y = np.array(curr_data.wl_throughput)\n",
    "    test_r2_mean, train_r2_mean, model_dict, train_time = build_gb_model_indi(X, y, curr_data.wl_names[0], 'group', \n",
    "                                                                              curr_data.wl_groups[0], \n",
    "                                                                              plot=OVERALL_PLOT, show_fig=True)\n",
    "    print('Test rmse = {}, Train rmse = {}'.format(test_r2_mean, train_r2_mean))    \n",
    "\n",
    "    group_to_model_dict[ty] = model_dict\n",
    "    all_tests.append(test_r2_mean)\n",
    "    all_trains.append(train_r2_mean)\n",
    "    all_results['GB'][name][term] = test_r2_mean\n",
    "    all_times['GB'][name][term] = train_time\n",
    "\n",
    "print('Overall test nrmse: {}, train {}'.format(np.mean(all_tests), np.mean(all_trains)))"
   ]
  },
  {
   "cell_type": "code",
   "execution_count": 49,
   "id": "40c318ec-8b6b-4154-94c0-68b17234f0c9",
   "metadata": {},
   "outputs": [
    {
     "name": "stdout",
     "output_type": "stream",
     "text": [
      "[0.0742233909399722, 0.07862467792606198, 0.8309393602638515, 0.05197281744066103, 0.7005349147829487, 0.6402801555827226]\n"
     ]
    },
    {
     "data": {
      "image/png": "[encoded data removed]",
      "text/plain": [
       "<Figure size 400x360 with 1 Axes>"
      ]
     },
     "metadata": {},
     "output_type": "display_data"
    },
    {
     "name": "stdout",
     "output_type": "stream",
     "text": [
      "298.8083333333334\n",
      "Overall ycsb nrmse: 0.39609588615603636\n"
     ]
    }
   ],
   "source": [
    "# most similar expr idx\n",
    "min_run_idx = 0\n",
    "# min_group = '1'\n",
    "\n",
    "model_dict = [group_to_model_dict[min_group] for min_group in min_groups]\n",
    "simi_expr = data_all.get_by_run_idx(min_run_idx)\n",
    "\n",
    "overall_score = predict(model_dict, ycsb_X, ycsb_y, ycsb_expr, 'gb', True)\n",
    "\n",
    "print('Overall ycsb nrmse: {}'.format(overall_score))"
   ]
  },
  {
   "cell_type": "code",
   "execution_count": 50,
   "id": "9e5dd482-5eb6-4b56-906a-f4666c4138f1",
   "metadata": {},
   "outputs": [
    {
     "name": "stdout",
     "output_type": "stream",
     "text": [
      "& Regression &  0.0357 &  0.283 & 0.305 & 0.292 & 0.343 & 0.289 & 0.328 & 0.243 & 0.298 \\\\ \\cline{2-11}\n",
      "& SVM &  0.0194 &  0.265 & 0.291 & 0.280 & 0.308 & 0.277 & 0.294 & 0.245 & 0.28 \\\\ \\cline{2-11}\n",
      "& LMM &  1.9422 &  0.283 & 0.295 & 0.279 & 0.305 & 0.282 & 0.306 & 0.237 & 0.284 \\\\ \\cline{2-11}\n",
      "& GB &  0.5876 &  0.258 & 0.287 & 0.260 & 0.292 & 0.275 & 0.286 & 0.242 & 0.272 \\\\ \\cline{2-11}\n"
     ]
    }
   ],
   "source": [
    "terminals = [4, 8, 32]\n",
    "workloads = ['tpcc', 'twitter', 'tpch']\n",
    "methods = ['Regression', 'SVM', 'LMM', 'GB']\n",
    "\n",
    "for me in methods:\n",
    "    curr_line = ''\n",
    "    scs = []\n",
    "    times = []\n",
    "    for wl in workloads:\n",
    "        if wl == 'tpch':\n",
    "            sc = abs(all_results[me][wl][1])\n",
    "            curr_line += f' {sc:.3f} &'\n",
    "            scs.append(sc)\n",
    "            times.append(all_times[me][wl][1])\n",
    "        else:\n",
    "            for ter in terminals:\n",
    "                sc = abs(all_results[me][wl][ter])\n",
    "                curr_line += f' {sc:.3f} &'\n",
    "                scs.append(sc)\n",
    "                times.append(all_times[me][wl][ter])\n",
    "    curr_line += f' {np.mean(scs):.3}'\n",
    "    curr_line += \" \\\\\\\\ \\cline{2-11}\"\n",
    "    curr_line = f'& {me} & ' + f' {np.mean(times):.4f} & ' + curr_line\n",
    "    print(curr_line)"
   ]
  },
  {
   "cell_type": "code",
   "execution_count": null,
   "id": "88c4d806-04e4-4de9-8f9f-285d4ec6bdd0",
   "metadata": {},
   "outputs": [],
   "source": []
  }
 ],
 "metadata": {
  "kernelspec": {
   "display_name": "workload_insights",
   "language": "python",
   "name": "workload_insights"
  },
  "language_info": {
   "codemirror_mode": {
    "name": "ipython",
    "version": 3
   },
   "file_extension": ".py",
   "mimetype": "text/x-python",
   "name": "python",
   "nbconvert_exporter": "python",
   "pygments_lexer": "ipython3",
   "version": "3.9.13"
  }
 },
 "nbformat": 4,
 "nbformat_minor": 5
}
