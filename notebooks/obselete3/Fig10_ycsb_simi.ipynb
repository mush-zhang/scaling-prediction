{
 "cells": [
  {
   "cell_type": "code",
   "execution_count": 1,
   "id": "d6f46a6e-e57c-441e-a27e-60ebaf5a9ecd",
   "metadata": {},
   "outputs": [],
   "source": [
    "import os\n",
    "import matplotlib.pyplot as plt\n",
    "import datetime\n",
    "import json\n",
    "import matplotlib.gridspec as gridspec\n",
    "\n",
    "import numpy as np\n",
    "import pandas as pd\n",
    "import seaborn as sns\n",
    "\n",
    "from itertools import compress\n",
    "\n",
    "from helpers.expr_data import ExprData\n",
    "from helpers.scale_data import ScaleData\n",
    "from helpers.similarity import Similarity\n",
    "from helpers.feature_selection import FeatureSelection\n",
    "\n",
    "from sklearn.metrics import accuracy_score, f1_score, precision_score, recall_score, classification_report, confusion_matrix\n",
    "\n",
    "import warnings\n",
    "warnings.filterwarnings(\"ignore\")"
   ]
  },
  {
   "cell_type": "code",
   "execution_count": 40,
   "id": "7147807b-f5a4-46f6-b5ac-4b331824c00c",
   "metadata": {
    "tags": []
   },
   "outputs": [],
   "source": [
    "SMALL_SIZE = 15\n",
    "MEDIUM_SIZE = 18\n",
    "BIGGER_SIZE = 22\n",
    "SMALL_SMALL_SIZE = 12\n",
    "\n",
    "plt.rc('font', size=SMALL_SIZE)          # controls default text sizes\n",
    "plt.rc('axes', titlesize=SMALL_SIZE)     # fontsize of the axes title\n",
    "plt.rc('axes', labelsize=MEDIUM_SIZE)    # fontsize of the x and y labels\n",
    "plt.rc('xtick', labelsize=SMALL_SMALL_SIZE)    # fontsize of the tick labels\n",
    "plt.rc('ytick', labelsize=SMALL_SIZE)    # fontsize of the tick labels\n",
    "\n",
    "plt.rc('legend', fontsize=SMALL_SMALL_SIZE)    # legend fontsize\n",
    "plt.rc('figure', titlesize=BIGGER_SIZE)  # fontsize of the figure title"
   ]
  },
  {
   "cell_type": "code",
   "execution_count": 2,
   "id": "b2a1bd26-d2b1-454b-8086-3b8826cef17c",
   "metadata": {},
   "outputs": [],
   "source": [
    "import random\n",
    "np.random.seed(47907)\n",
    "random.seed(15213)"
   ]
  },
  {
   "cell_type": "code",
   "execution_count": 3,
   "id": "867121d9-7099-4aa8-bf74-3454e8dc4a16",
   "metadata": {},
   "outputs": [],
   "source": [
    "all_groups = ['10', '11', '12']\n",
    "candidate_group = '10'\n",
    "\n",
    "from_sku = 'cpu2'\n",
    "to_sku = 'cpu8'"
   ]
  },
  {
   "cell_type": "code",
   "execution_count": 4,
   "id": "d35bfa4e-fcb2-4df5-be61-63e0b05fd998",
   "metadata": {},
   "outputs": [],
   "source": [
    "'''\n",
    "Generate scatter plot by similarity\n",
    "Attributes:\n",
    "    simi_mtxs : list of simi_mtxs or simi_col_mtxs using different number of features\n",
    "    simi_data : should be same for all simi_mtxs\n",
    "    feature_groups: labels of the feature group: top3, top7, plan, resource, all\n",
    "    root_idx: the i-th experiment as the base run, will plot pairwise distance between the base run and other runs\n",
    "    method_type: Type of method used to calculate similarity\n",
    "    colwise: True if the calculation is columnwised, False if not\n",
    "'''\n",
    "def plot_scores_diff_feature_num(simi_mtxs, simi_data, feature_groups, root_idx, method_type, colwise=False, note=''):\n",
    "    fig, ax = plt.subplots(figsize=(3*len(feature_groups), 2.8))\n",
    "    zipped = []\n",
    "    for simi_mtx, feature_group in zip(simi_mtxs, feature_groups):       \n",
    "        curr_zipped = list(zip(simi_data.wl_groups, simi_data.wl_names, [feature_group]*simi_data.get_num_exprs(), simi_mtx[root_idx]))\n",
    "        del curr_zipped[root_idx]\n",
    "        zipped += curr_zipped\n",
    "    X_p = pd.DataFrame(zipped, columns=['run', 'workload','feature_group', 'distance'])\n",
    "    X_p = X_p.astype({'distance': float})\n",
    "    X_p.drop([root_idx],inplace=True)\n",
    "\n",
    "    order=['tpcc', 'tpch', 'twitter']\n",
    "    if X_p['workload'].nunique() == 4:\n",
    "        order.append('ycsb')\n",
    "    \n",
    "    sns.barplot(y=\"distance\", x=\"feature_group\", hue_order=order,\n",
    "                hue=\"workload\", data=X_p, ax=ax, \n",
    "                palette=sns.color_palette()[:X_p['workload'].nunique()])\n",
    "    plt.xlabel('')\n",
    "    plt.ylabel('Normalized Distance')\n",
    "    \n",
    "    expr_idx = simi_data.wl_groups[root_idx]\n",
    "    wl_name = simi_data.wl_names[root_idx] \n",
    "    cpu_num_val = simi_data.cpu_nums[root_idx]\n",
    "    if colwise:\n",
    "        colwise_label = 'Independent'\n",
    "    else:\n",
    "        colwise_label = 'Dependent'\n",
    "    title = 'Base Workload: {}, Method: {} {}.{}'.format(\n",
    "        wl_name, cpu_num_val, colwise_label, method_type, note)\n",
    "    fname = '{}{}_cpu{}_{}_{}{}.pdf'.format(wl_name, expr_idx, cpu_num_val, colwise_label, method_type, note)\n",
    "    plt.legend(bbox_to_anchor=(0, 1, 1, 0), loc='lower left', ncol=4, mode=\"expand\")\n",
    "    print(title)\n",
    "    plt.savefig(f'figs/ycsb_{fname}', bbox_inches = 'tight')\n",
    "    plt.show()"
   ]
  },
  {
   "cell_type": "code",
   "execution_count": 42,
   "id": "2719c8f3-fbfa-4632-a033-ab44383264cc",
   "metadata": {},
   "outputs": [],
   "source": [
    "def plot_scores_single(simi_mtx, simi_data, root_idx, data_type, method_type, note=''):\n",
    "    # fig, ax = plt.subplots(figsize=(3.2,1.3))\n",
    "    fig, ax = plt.subplots(figsize=(3,4))\n",
    "\n",
    "    zipped = list(zip(simi_data.wl_groups, simi_data.wl_names, simi_data.cpu_nums, simi_mtx[root_idx]))\n",
    "    X_p = pd.DataFrame(zipped, columns=['run', 'workload','cpu_num', 'distance'])\n",
    "    X_p = X_p.astype({'distance': float})\n",
    "    X_p.drop([root_idx],inplace=True)\n",
    "    \n",
    "    order=['tpcc', 'tpch', 'twitter']\n",
    "    if X_p['workload'].nunique() == 4:\n",
    "        order.append('ycsb')\n",
    "\n",
    "    sns.barplot(y=\"distance\", x=\"workload\", order=order,\n",
    "                data=X_p, ax=ax, errorbar=\"sd\",\n",
    "                palette=sns.color_palette()[:X_p['workload'].nunique()])\n",
    "    ax.set_xticklabels(['TPC-C', 'TPC-H', 'Twitter', 'YCSB'])\n",
    "\n",
    "    ax.set_xlabel('')\n",
    "    ax.set_ylabel('Distance')\n",
    "\n",
    "    expr_idx = simi_data.wl_groups[root_idx]\n",
    "    wl_name = simi_data.wl_names[root_idx] \n",
    "    candid = f'Ycsb{candidate_group}'\n",
    "\n",
    "    plt.savefig(f'figs/Test_Single_{candid}_2.pdf', bbox_inches = 'tight')\n",
    "    plt.show()"
   ]
  },
  {
   "cell_type": "code",
   "execution_count": 6,
   "id": "8e4371f5-3823-4014-9142-b939159e3684",
   "metadata": {},
   "outputs": [],
   "source": [
    "def get_simis(simi_data, simi_mtx, candid_idx):\n",
    "    print(simi_data.cpu_nums[candid_idx])\n",
    "    arr = []\n",
    "    true_idx = []\n",
    "    for idx, val in enumerate(simi_mtx[candid_idx][:-12]):\n",
    "        if simi_data.cpu_nums[idx] == simi_data.cpu_nums[candid_idx]:\n",
    "            arr.append(val)\n",
    "            true_idx.append(idx)\n",
    "   \n",
    "    nearest = np.argsort(arr)\n",
    "    nearest_wls = np.array([simi_data.wl_groups[true_idx[i]] for i in nearest])\n",
    "    _, idx = np.unique(nearest_wls, return_index=True)\n",
    "    tops = nearest_wls[np.sort(idx)]\n",
    "    return tops"
   ]
  },
  {
   "cell_type": "code",
   "execution_count": 7,
   "id": "73ed32e7-f78c-4c6d-a191-1bcf9cfe8b44",
   "metadata": {},
   "outputs": [],
   "source": [
    "data = ExprData()\n",
    "data.load_pickle()\n",
    "data.fix_tpch()\n",
    "\n",
    "data = data.remove_by_group([g for g in all_groups if g != candidate_group])\n",
    "data = data.remove_by_wlname(['xml'])"
   ]
  },
  {
   "cell_type": "code",
   "execution_count": 8,
   "id": "c4a9119d-30aa-4f9a-acad-9f0f5a6c5f1f",
   "metadata": {},
   "outputs": [],
   "source": [
    "data_by_sku = data.split_by_sku()\n",
    "known_data = data_by_sku[from_sku]\n",
    "pred_data = data_by_sku[to_sku]"
   ]
  },
  {
   "cell_type": "code",
   "execution_count": 9,
   "id": "47948c17-72e6-4b1a-adc2-8e769f64f315",
   "metadata": {},
   "outputs": [],
   "source": [
    "# similarity for all\n",
    "scaler = ScaleData()\n",
    "plan_mtxs, plan_col_ranges = scaler.scale(known_data.plan_mtxs)\n",
    "perf_mtxs, perf_col_ranges = scaler.scale(known_data.perf_mtxs)\n",
    "\n",
    "simi_calc = Similarity(known_data, plan_mtxs, plan_col_ranges, perf_mtxs, perf_col_ranges)\n",
    "simi_calc.calc_bined_mtx() # all features"
   ]
  },
  {
   "cell_type": "code",
   "execution_count": 10,
   "id": "36592813-8906-4e09-9a80-768be25278fe",
   "metadata": {},
   "outputs": [],
   "source": [
    "fs = FeatureSelection(simi_calc)"
   ]
  },
  {
   "cell_type": "code",
   "execution_count": 11,
   "id": "e2d9cd5a-f35a-4141-8fac-6185c84d75b1",
   "metadata": {},
   "outputs": [
    {
     "name": "stdout",
     "output_type": "stream",
     "text": [
      "(30, 30, 29)\n",
      "(30, 30, 29)\n",
      "(30, 30, 22)\n",
      "(30, 30, 7)\n",
      "(30, 30, 22)\n",
      "(30, 30, 7)\n"
     ]
    }
   ],
   "source": [
    "# use for later distinguish btw plan and system metrics\n",
    "perf_features = known_data.perf_feature_cols\n",
    "plan_features = known_data.plan_feature_cols\n",
    "all_features = known_data.feature_cols\n",
    "\n",
    "feature_group_all = ['plan_3', 'plan_7', 'plan', 'resource_3', 'resource_5', 'resource', 'all_3', 'all_7', 'all']\n",
    "feature_group_plan = ['plan_3', 'plan_7', 'plan']\n",
    "feature_group_perf = ['resource_3', 'resource_5', 'resource']\n",
    "\n",
    "top_3 = fs.select_features(3, 'fANOVA', est_name=None, direction=None, feature_type=None)\n",
    "top_7 = fs.select_features(7, 'fANOVA', est_name=None, direction=None, feature_type=None)\n",
    "plan_top_3 = fs.select_features(3, 'fANOVA', est_name=None, direction=None, feature_type='plan')\n",
    "perf_top_3 = fs.select_features(3, 'fANOVA', est_name=None, direction=None, feature_type='perf')\n",
    "plan_top_7 = fs.select_features(7, 'fANOVA', est_name=None, direction=None, feature_type='plan')\n",
    "perf_top_7 = fs.select_features(5, 'fANOVA', est_name=None, direction=None, feature_type='perf')\n",
    "\n",
    "features_all = [plan_top_3, plan_top_7, plan_features, perf_top_3, perf_top_7, perf_features, top_3, top_7, all_features]\n",
    "features_plan = [plan_top_3, plan_top_7, plan_features]\n",
    "features_perf = [perf_top_3, perf_top_7, perf_features]"
   ]
  },
  {
   "cell_type": "code",
   "execution_count": 12,
   "id": "d143c588-3aca-438d-a293-5603d494b3ed",
   "metadata": {},
   "outputs": [
    {
     "data": {
      "text/plain": [
       "['AvgRowSize', 'MaxCompileMemory', 'CachedPlanSize']"
      ]
     },
     "execution_count": 12,
     "metadata": {},
     "output_type": "execute_result"
    }
   ],
   "source": [
    "top_3"
   ]
  },
  {
   "cell_type": "code",
   "execution_count": 13,
   "id": "f669a7d8-d669-4765-820d-c52a51ceeb9e",
   "metadata": {},
   "outputs": [
    {
     "data": {
      "text/plain": [
       "['AvgRowSize',\n",
       " 'MaxCompileMemory',\n",
       " 'CachedPlanSize',\n",
       " 'EstimateRows',\n",
       " 'StatementEstRows',\n",
       " 'MEM_UTILIZATION',\n",
       " 'SerialRequiredMemory']"
      ]
     },
     "execution_count": 13,
     "metadata": {},
     "output_type": "execute_result"
    }
   ],
   "source": [
    "top_7"
   ]
  },
  {
   "cell_type": "code",
   "execution_count": 14,
   "id": "ef7f38d4-17b3-4402-b565-771c54c8040f",
   "metadata": {},
   "outputs": [
    {
     "data": {
      "text/plain": [
       "['AvgRowSize', 'MaxCompileMemory', 'StatementEstRows']"
      ]
     },
     "execution_count": 14,
     "metadata": {},
     "output_type": "execute_result"
    }
   ],
   "source": [
    "plan_top_3"
   ]
  },
  {
   "cell_type": "code",
   "execution_count": 15,
   "id": "28fffdfc-262a-4802-a69c-07ca217bbd41",
   "metadata": {},
   "outputs": [
    {
     "data": {
      "text/plain": [
       "['AvgRowSize',\n",
       " 'MaxCompileMemory',\n",
       " 'StatementEstRows',\n",
       " 'CachedPlanSize',\n",
       " 'SerialRequiredMemory',\n",
       " 'EstimateRows',\n",
       " 'TableCardinality']"
      ]
     },
     "execution_count": 15,
     "metadata": {},
     "output_type": "execute_result"
    }
   ],
   "source": [
    "plan_top_7"
   ]
  },
  {
   "cell_type": "code",
   "execution_count": 16,
   "id": "a7d334c4-ccf5-4174-b3c4-1e5e436d431d",
   "metadata": {},
   "outputs": [
    {
     "data": {
      "text/plain": [
       "['MEM_UTILIZATION', 'LOCK_REQ_ABS', 'READ_WRITE_RATIO']"
      ]
     },
     "execution_count": 16,
     "metadata": {},
     "output_type": "execute_result"
    }
   ],
   "source": [
    "perf_top_3"
   ]
  },
  {
   "cell_type": "code",
   "execution_count": 17,
   "id": "8eb0388f-244d-40e4-bcc2-557c2afa7210",
   "metadata": {},
   "outputs": [
    {
     "data": {
      "text/plain": [
       "['MEM_UTILIZATION',\n",
       " 'LOCK_REQ_ABS',\n",
       " 'READ_WRITE_RATIO',\n",
       " 'CPU_UTILIZATION',\n",
       " 'CPU_EFFECTIVE']"
      ]
     },
     "execution_count": 17,
     "metadata": {},
     "output_type": "execute_result"
    }
   ],
   "source": [
    "perf_top_7"
   ]
  },
  {
   "cell_type": "code",
   "execution_count": 18,
   "id": "0c255fe3-8115-478f-862d-e7bb615263aa",
   "metadata": {},
   "outputs": [],
   "source": [
    "simi_mtxs = []\n",
    "for feature_group in features_all:\n",
    "    simi_calc.calc_dist_simi_matrix(cumulative=True, feature_names=feature_group, norm_type='l21')#, normalize=False)\n",
    "    simi_mtxs.append(simi_calc.simi_mtx)"
   ]
  },
  {
   "cell_type": "code",
   "execution_count": 19,
   "id": "c96eb41c-e850-49d9-b7ee-c6f5f4841e99",
   "metadata": {},
   "outputs": [],
   "source": [
    "candid_idx = len(known_data.wl_names) - 3"
   ]
  },
  {
   "cell_type": "code",
   "execution_count": 20,
   "id": "269354b7-be2d-46eb-aab9-063bd50a45be",
   "metadata": {},
   "outputs": [
    {
     "name": "stdout",
     "output_type": "stream",
     "text": [
      "Base Workload: ycsb, Method: cpu2 Independent.cumHistL21\n"
     ]
    },
    {
     "data": {
      "image/png": "[encoded data removed]",
      "text/plain": [
       "<Figure size 2700x280 with 1 Axes>"
      ]
     },
     "metadata": {},
     "output_type": "display_data"
    }
   ],
   "source": [
    "plot_scores_diff_feature_num(simi_mtxs, simi_calc.data, feature_group_all, candid_idx, 'cumHistL21', colwise=True, note='')"
   ]
  },
  {
   "cell_type": "code",
   "execution_count": 33,
   "id": "b3025163-6c8b-47a8-b91c-f0dc944125e7",
   "metadata": {},
   "outputs": [
    {
     "data": {
      "image/png": "[encoded data removed]",
      "text/plain": [
       "<Figure size 220x280 with 1 Axes>"
      ]
     },
     "metadata": {},
     "output_type": "display_data"
    }
   ],
   "source": [
    "simi_calc.calc_dist_simi_matrix(cumulative=True, feature_names=top_7, norm_type='l21', normalize=False)"
   ]
  },
  {
   "cell_type": "code",
   "execution_count": 43,
   "id": "1c74b97b-3878-44c6-8953-deaadff233bb",
   "metadata": {},
   "outputs": [
    {
     "data": {
      "image/png": "[encoded data removed]",
      "text/plain": [
       "<Figure size 300x400 with 1 Axes>"
      ]
     },
     "metadata": {},
     "output_type": "display_data"
    }
   ],
   "source": [
    "plot_scores_single(simi_calc.simi_mtx, simi_calc.data, candid_idx, 'Top7', 'Cumulative Histogram L21 Norm', note='')"
   ]
  },
  {
   "cell_type": "code",
   "execution_count": 22,
   "id": "2422bdd1-3ba3-4265-984e-a7c4a161fc90",
   "metadata": {},
   "outputs": [
    {
     "name": "stdout",
     "output_type": "stream",
     "text": [
      "cpu2\n"
     ]
    }
   ],
   "source": [
    "tops = get_simis(simi_calc.data, simi_calc.simi_mtx, candid_idx)"
   ]
  },
  {
   "cell_type": "code",
   "execution_count": 23,
   "id": "e731d180-2281-4a1d-aa8f-9abcbdd19c0d",
   "metadata": {},
   "outputs": [
    {
     "name": "stdout",
     "output_type": "stream",
     "text": [
      "['8' '7' '1' '2' '6' '5']\n",
      "['tpcc'] cpu2 [4] ['8']\n",
      "['tpcc'] cpu2 [8] ['7']\n",
      "['tpcc'] cpu2 [32] ['1']\n",
      "['tpch'] cpu2 [32] ['2']\n",
      "['tpch'] cpu2 [4] ['6']\n",
      "['tpch'] cpu2 [8] ['5']\n"
     ]
    }
   ],
   "source": [
    "print(tops)\n",
    "simi_data = simi_calc.data\n",
    "for wl in tops:\n",
    "    min_idx, = np.where(np.array(simi_data.wl_groups) == wl)\n",
    "    print(np.unique(np.array(simi_data.wl_names)[min_idx]), simi_data.cpu_nums[candid_idx], \n",
    "          np.unique(np.array(simi_data.terminal_num)[min_idx]), \n",
    "          np.unique(np.array(simi_data.wl_groups)[min_idx])) "
   ]
  }
 ],
 "metadata": {
  "kernelspec": {
   "display_name": "workload_insights",
   "language": "python",
   "name": "workload_insights"
  },
  "language_info": {
   "codemirror_mode": {
    "name": "ipython",
    "version": 3
   },
   "file_extension": ".py",
   "mimetype": "text/x-python",
   "name": "python",
   "nbconvert_exporter": "python",
   "pygments_lexer": "ipython3",
   "version": "3.9.13"
  }
 },
 "nbformat": 4,
 "nbformat_minor": 5
}
