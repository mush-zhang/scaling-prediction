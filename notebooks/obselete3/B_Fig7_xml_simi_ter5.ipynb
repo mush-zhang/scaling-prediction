{
 "cells": [
  {
   "cell_type": "code",
   "execution_count": 1,
   "id": "d6f46a6e-e57c-441e-a27e-60ebaf5a9ecd",
   "metadata": {},
   "outputs": [],
   "source": [
    "import os\n",
    "import matplotlib.pyplot as plt\n",
    "import datetime\n",
    "import json\n",
    "import matplotlib.gridspec as gridspec\n",
    "\n",
    "import numpy as np\n",
    "import pandas as pd\n",
    "import seaborn as sns\n",
    "\n",
    "from itertools import compress\n",
    "\n",
    "from helpers.expr_data2 import ExprData2\n",
    "from helpers.scale_data import ScaleData\n",
    "from helpers.similarity import Similarity\n",
    "from helpers.feature_selection import FeatureSelection\n",
    "\n",
    "from sklearn.metrics import accuracy_score, f1_score, precision_score, recall_score, classification_report, confusion_matrix\n",
    "\n",
    "import warnings\n",
    "warnings.filterwarnings(\"ignore\")"
   ]
  },
  {
   "cell_type": "code",
   "execution_count": 2,
   "id": "4e1ff40a-9e46-4c65-9706-e5c3fd00ae4f",
   "metadata": {
    "tags": []
   },
   "outputs": [],
   "source": [
    "SMALL_SIZE = 15\n",
    "MEDIUM_SIZE = 18\n",
    "BIGGER_SIZE = 22\n",
    "SMALL_SMALL_SIZE = 10\n",
    "\n",
    "plt.rc('font', size=SMALL_SIZE)          # controls default text sizes\n",
    "plt.rc('axes', titlesize=SMALL_SIZE)     # fontsize of the axes title\n",
    "plt.rc('axes', labelsize=MEDIUM_SIZE)    # fontsize of the x and y labels\n",
    "plt.rc('xtick', labelsize=SMALL_SIZE)    # fontsize of the tick labels\n",
    "plt.rc('ytick', labelsize=SMALL_SIZE)    # fontsize of the tick labels\n",
    "plt.rc('legend', fontsize=SMALL_SIZE)    # legend fontsize\n",
    "\n",
    "plt.rc('figure', titlesize=BIGGER_SIZE)  # fontsize of the figure title"
   ]
  },
  {
   "cell_type": "code",
   "execution_count": 3,
   "id": "b2a1bd26-d2b1-454b-8086-3b8826cef17c",
   "metadata": {},
   "outputs": [],
   "source": [
    "import random\n",
    "np.random.seed(42)\n",
    "random.seed(15213)"
   ]
  },
  {
   "cell_type": "code",
   "execution_count": 4,
   "id": "d5e466c4-fec2-49f5-b3ee-87c2b6028fe3",
   "metadata": {},
   "outputs": [],
   "source": [
    "name_map = {\n",
    "    'tpcc': 'TPC-C',\n",
    "    'tpch': 'TPC-H',\n",
    "    'twitter': 'Twitter',\n",
    "    'ycsb': 'YCSB',\n",
    "    'tpcds': 'TPC-DS',\n",
    "    'wmc': 'PW'\n",
    "}"
   ]
  },
  {
   "cell_type": "code",
   "execution_count": 5,
   "id": "310e3d4d-1199-4ba6-81e1-a98390722d03",
   "metadata": {},
   "outputs": [],
   "source": [
    "method='MutualInfoGain'#'RFE' \n",
    "est_name = 'LogisticRegression'"
   ]
  },
  {
   "cell_type": "code",
   "execution_count": 6,
   "id": "2b86b71e-c291-4935-8992-971c51be0961",
   "metadata": {},
   "outputs": [],
   "source": [
    "xml_wl_wls = ['18', '19', '20']\n",
    "candid = '20'"
   ]
  },
  {
   "cell_type": "code",
   "execution_count": 7,
   "id": "d35bfa4e-fcb2-4df5-be61-63e0b05fd998",
   "metadata": {},
   "outputs": [],
   "source": [
    "def plot_scores_diff_feature_num(simi_mtxs, simi_data, feature_groups, root_idx, method_type, colwise=False, note=''):\n",
    "    fig, ax = plt.subplots(figsize=(3*len(feature_groups), 2.8))\n",
    "    zipped = []\n",
    "    for simi_mtx, feature_group in zip(simi_mtxs, feature_groups):       \n",
    "        curr_labels = [name_map[name] for name in simi_data.wl_names]\n",
    "        curr_zipped = list(zip(simi_data.wl_groups, curr_labels, [feature_group]*simi_data.get_num_exprs(), simi_mtx[root_idx]))\n",
    "        del curr_zipped[root_idx]\n",
    "        zipped += curr_zipped\n",
    "    X_p = pd.DataFrame(zipped, columns=['run', 'workload','feature_group', 'distance'])\n",
    "    X_p = X_p.astype({'distance': float})\n",
    "    X_p.drop([root_idx],inplace=True)\n",
    "\n",
    "    order=['TPC-C', 'TPC-H', 'Twitter']\n",
    "    if X_p['workload'].nunique() == 4:\n",
    "        order.append('TPC-DS')\n",
    "    \n",
    "    # sns.barplot(x=\"distance\", y=\"feature_group\", hue_order=order, orient = 'h',\n",
    "    sns.barplot(y=\"distance\", x=\"feature_group\", hue_order=order,\n",
    "                hue=\"workload\", data=X_p, ax=ax, \n",
    "                palette=sns.color_palette()[:X_p['workload'].nunique()])\n",
    "    plt.xlabel('')\n",
    "    plt.ylabel('Normalized Distance')\n",
    "    # plt.ylabel('')\n",
    "    # plt.xlabel('Normalized Distance')\n",
    "    \n",
    "    expr_idx = simi_data.wl_groups[root_idx]\n",
    "    wl_name = simi_data.wl_names[root_idx] \n",
    "    cpu_num_val = simi_data.cpu_nums[root_idx]\n",
    "    if colwise:\n",
    "        colwise_label = 'Independent'\n",
    "    else:\n",
    "        colwise_label = 'Dependent'\n",
    "    title = 'Base Workload: {}, Method: {} {}.{}'.format(\n",
    "        wl_name, cpu_num_val, colwise_label, method_type, note)\n",
    "    fname = '{}{}_cpu{}_{}_{}{}.pdf'.format(wl_name, expr_idx, cpu_num_val, colwise_label, method_type, note)\n",
    "    # plt.legend(bbox_to_anchor=(1.02, 1), loc='upper left', borderaxespad=0)\n",
    "    plt.legend(bbox_to_anchor=(0, 1, 1, 0), loc='lower left', ncol=4, mode=\"expand\")\n",
    "               #, borderaxespad=0., fontsize=9) # \n",
    "    print(title)\n",
    "    # plt.title(title)\n",
    "    plt.savefig(f'figs/new_wmc_{fname}', bbox_inches = 'tight')\n",
    "    plt.show()"
   ]
  },
  {
   "cell_type": "code",
   "execution_count": 8,
   "id": "2719c8f3-fbfa-4632-a033-ab44383264cc",
   "metadata": {},
   "outputs": [],
   "source": [
    "def plot_scores_single(simi_mtx, simi_data, root_idx, data_type, method_type, note=''):\n",
    "    fig, ax = plt.subplots(figsize=(5.2,2))\n",
    "    curr_labels = [name_map[name] for name in simi_data.wl_names]\n",
    "\n",
    "    zipped = list(zip(simi_data.wl_groups, curr_labels, simi_data.cpu_nums, simi_mtx[root_idx]))\n",
    "    X_p = pd.DataFrame(zipped, columns=['run', 'workload','cpu_num', 'distance'])\n",
    "    X_p = X_p.astype({'distance': float})\n",
    "    X_p.drop([root_idx],inplace=True)\n",
    "    \n",
    "    order=['TPC-C', 'TPC-H', 'Twitter']\n",
    "    if X_p['workload'].nunique() == 4:\n",
    "        order.append('TPC-DS')\n",
    "\n",
    "    sns.barplot(y=\"distance\", x=\"workload\", order=order, orient = 'h',\n",
    "    # sns.barplot(x=\"distance\", y=\"workload\", order=order, orient = 'h',\n",
    "                data=X_p, ax=ax, errorbar=\"sd\",\n",
    "                palette=sns.color_palette()[:X_p['workload'].nunique()])\n",
    "    ax.set_xlabel('')\n",
    "    # handles, labels = ax.get_legend_handles_labels()\n",
    "    # ax.get_legend().set_visible(False)\n",
    "\n",
    "    expr_idx = simi_data.wl_groups[root_idx]\n",
    "    wl_name = simi_data.wl_names[root_idx] \n",
    "\n",
    "    plt.savefig(f'figs/Test_Single_{candid}_2', bbox_inches = 'tight')\n",
    "    plt.show()"
   ]
  },
  {
   "cell_type": "code",
   "execution_count": 9,
   "id": "73ed32e7-f78c-4c6d-a191-1bcf9cfe8b44",
   "metadata": {},
   "outputs": [],
   "source": [
    "data = ExprData2()\n",
    "data.load_pickle(exclude_wl=[ter for ter in xml_wl_wls if ter != candid ])"
   ]
  },
  {
   "cell_type": "code",
   "execution_count": 10,
   "id": "a3711276-9089-49fc-a034-7287b3b06177",
   "metadata": {},
   "outputs": [
    {
     "name": "stdout",
     "output_type": "stream",
     "text": [
      "[('1', 'tpcc', '80'), ('2', 'tpcc', '80'), ('3', 'tpcc', '80'), ('4', 'tpcc', '80'), ('1', 'tpcds', '80'), ('2', 'tpcds', '80'), ('3', 'tpcds', '80'), ('4', 'tpcds', '80'), ('5', 'tpcds', '80'), ('6', 'tpcds', '80'), ('7', 'tpcds', '80'), ('8', 'tpcds', '80'), ('10', 'tpch', '80'), ('11', 'tpch', '80'), ('12', 'tpch', '80'), ('13', 'tpch', '80'), ('5', 'tpch', '80'), ('6', 'tpch', '80'), ('7', 'tpch', '80'), ('8', 'tpch', '80'), ('9', 'tpch', '80'), ('10', 'twitter', '80'), ('11', 'twitter', '80'), ('12', 'twitter', '80'), ('13', 'twitter', '80'), ('14', 'twitter', '80'), ('15', 'twitter', '80'), ('16', 'twitter', '80'), ('17', 'twitter', '80'), ('20', 'wmc', '80')]\n"
     ]
    }
   ],
   "source": [
    "print(list(zip(data.wl_groups, data.wl_names, data.cpu_nums)))"
   ]
  },
  {
   "cell_type": "code",
   "execution_count": 11,
   "id": "f0bf3da9-b7c5-455f-83aa-1a1bf9f1d8a4",
   "metadata": {},
   "outputs": [],
   "source": [
    "candid_idx = data.wl_groups.index(candid)"
   ]
  },
  {
   "cell_type": "code",
   "execution_count": 12,
   "id": "47948c17-72e6-4b1a-adc2-8e769f64f315",
   "metadata": {},
   "outputs": [],
   "source": [
    "# similarity for all\n",
    "scaler = ScaleData()\n",
    "plan_mtxs, plan_col_ranges = scaler.scale(data.plan_mtxs)\n",
    "\n",
    "simi_calc_all = Similarity(data, plan_mtxs, plan_col_ranges, None, [])\n",
    "simi_calc_all.calc_bined_mtx(plan_only=True) # all plan features"
   ]
  },
  {
   "cell_type": "code",
   "execution_count": 13,
   "id": "6d4c0870-0faf-4fe9-9773-988f57ad557f",
   "metadata": {},
   "outputs": [
    {
     "name": "stdout",
     "output_type": "stream",
     "text": [
      "(30, 30, 22)\n",
      "(30, 30, 22)\n",
      "['EstimateIO', 'StatementSubTreeCost', 'AvgRowSize', 'CachedPlanSize', 'CompileMemory', 'StatementEstRows', 'SerialRequiredMemory']\n"
     ]
    }
   ],
   "source": [
    "simi_calc = simi_calc_all\n",
    "fs = FeatureSelection(simi_calc)\n",
    "plan_features = data.plan_feature_cols\n",
    "plan_top_7 = fs.select_features(7, method, est_name=est_name, direction=None, feature_type='plan')\n",
    "plan_top_3 = fs.select_features(3, method, est_name=est_name, direction=None, feature_type='plan')\n",
    "print(plan_top_7)\n",
    "feature_group_plan = ['plan_3', 'plan_7', 'plan']\n",
    "features_plan = [plan_top_3, plan_top_7, plan_features]"
   ]
  },
  {
   "cell_type": "code",
   "execution_count": 14,
   "id": "0c255fe3-8115-478f-862d-e7bb615263aa",
   "metadata": {},
   "outputs": [],
   "source": [
    "simi_mtxs = []\n",
    "for feature_group in features_plan:\n",
    "    simi_calc.calc_dist_simi_matrix(cumulative=True, feature_names=feature_group, norm_type='canb', normalize=True)\n",
    "    simi_mtxs.append(simi_calc.simi_mtx)"
   ]
  },
  {
   "cell_type": "code",
   "execution_count": 15,
   "id": "269354b7-be2d-46eb-aab9-063bd50a45be",
   "metadata": {},
   "outputs": [
    {
     "name": "stdout",
     "output_type": "stream",
     "text": [
      "Base Workload: wmc, Method: 80 Independent.Cumulative Histogram Canb Norm\n"
     ]
    },
    {
     "data": {
      "image/png": "[encoded data removed]",
      "text/plain": [
       "<Figure size 900x280 with 1 Axes>"
      ]
     },
     "metadata": {},
     "output_type": "display_data"
    }
   ],
   "source": [
    "plot_scores_diff_feature_num(simi_mtxs, simi_calc.data, feature_group_plan, candid_idx, 'Cumulative Histogram Canb Norm', colwise=True, note='')"
   ]
  },
  {
   "cell_type": "code",
   "execution_count": 16,
   "id": "b3025163-6c8b-47a8-b91c-f0dc944125e7",
   "metadata": {},
   "outputs": [
    {
     "ename": "TypeError",
     "evalue": "Horizontal orientation requires numeric `x` variable.",
     "output_type": "error",
     "traceback": [
      "\u001b[0;31m---------------------------------------------------------------------------\u001b[0m",
      "\u001b[0;31mTypeError\u001b[0m                                 Traceback (most recent call last)",
      "Cell \u001b[0;32mIn[16], line 4\u001b[0m\n\u001b[1;32m      1\u001b[0m simi_calc\u001b[38;5;241m.\u001b[39mcalc_dist_simi_matrix(cumulative\u001b[38;5;241m=\u001b[39m\u001b[38;5;28;01mTrue\u001b[39;00m, feature_names\u001b[38;5;241m=\u001b[39mplan_top_7, norm_type\u001b[38;5;241m=\u001b[39m\u001b[38;5;124m'\u001b[39m\u001b[38;5;124ml21\u001b[39m\u001b[38;5;124m'\u001b[39m, normalize\u001b[38;5;241m=\u001b[39m\u001b[38;5;28;01mFalse\u001b[39;00m)\n\u001b[1;32m      3\u001b[0m \u001b[38;5;28;01massert\u001b[39;00m(simi_calc\u001b[38;5;241m.\u001b[39mdata\u001b[38;5;241m.\u001b[39mwl_names[candid_idx] \u001b[38;5;241m==\u001b[39m \u001b[38;5;124m'\u001b[39m\u001b[38;5;124mwmc\u001b[39m\u001b[38;5;124m'\u001b[39m)\n\u001b[0;32m----> 4\u001b[0m \u001b[43mplot_scores_single\u001b[49m\u001b[43m(\u001b[49m\u001b[43msimi_calc\u001b[49m\u001b[38;5;241;43m.\u001b[39;49m\u001b[43msimi_mtx\u001b[49m\u001b[43m,\u001b[49m\u001b[43m \u001b[49m\u001b[43msimi_calc\u001b[49m\u001b[38;5;241;43m.\u001b[39;49m\u001b[43mdata\u001b[49m\u001b[43m,\u001b[49m\u001b[43m \u001b[49m\u001b[43mcandid_idx\u001b[49m\u001b[43m,\u001b[49m\u001b[43m \u001b[49m\u001b[38;5;124;43m'\u001b[39;49m\u001b[38;5;124;43mTop7 Plan\u001b[39;49m\u001b[38;5;124;43m'\u001b[39;49m\u001b[43m,\u001b[49m\u001b[43m \u001b[49m\u001b[38;5;124;43m'\u001b[39;49m\u001b[38;5;124;43mCumulative Histogram L21 Norm\u001b[39;49m\u001b[38;5;124;43m'\u001b[39;49m\u001b[43m,\u001b[49m\u001b[43m \u001b[49m\u001b[43mnote\u001b[49m\u001b[38;5;241;43m=\u001b[39;49m\u001b[38;5;124;43m'\u001b[39;49m\u001b[38;5;124;43m-1\u001b[39;49m\u001b[38;5;124;43m'\u001b[39;49m\u001b[43m)\u001b[49m\n",
      "Cell \u001b[0;32mIn[8], line 14\u001b[0m, in \u001b[0;36mplot_scores_single\u001b[0;34m(simi_mtx, simi_data, root_idx, data_type, method_type, note)\u001b[0m\n\u001b[1;32m     11\u001b[0m \u001b[38;5;28;01mif\u001b[39;00m X_p[\u001b[38;5;124m'\u001b[39m\u001b[38;5;124mworkload\u001b[39m\u001b[38;5;124m'\u001b[39m]\u001b[38;5;241m.\u001b[39mnunique() \u001b[38;5;241m==\u001b[39m \u001b[38;5;241m4\u001b[39m:\n\u001b[1;32m     12\u001b[0m     order\u001b[38;5;241m.\u001b[39mappend(\u001b[38;5;124m'\u001b[39m\u001b[38;5;124mTPC-DS\u001b[39m\u001b[38;5;124m'\u001b[39m)\n\u001b[0;32m---> 14\u001b[0m \u001b[43msns\u001b[49m\u001b[38;5;241;43m.\u001b[39;49m\u001b[43mbarplot\u001b[49m\u001b[43m(\u001b[49m\u001b[43my\u001b[49m\u001b[38;5;241;43m=\u001b[39;49m\u001b[38;5;124;43m\"\u001b[39;49m\u001b[38;5;124;43mdistance\u001b[39;49m\u001b[38;5;124;43m\"\u001b[39;49m\u001b[43m,\u001b[49m\u001b[43m \u001b[49m\u001b[43mx\u001b[49m\u001b[38;5;241;43m=\u001b[39;49m\u001b[38;5;124;43m\"\u001b[39;49m\u001b[38;5;124;43mworkload\u001b[39;49m\u001b[38;5;124;43m\"\u001b[39;49m\u001b[43m,\u001b[49m\u001b[43m \u001b[49m\u001b[43morder\u001b[49m\u001b[38;5;241;43m=\u001b[39;49m\u001b[43morder\u001b[49m\u001b[43m,\u001b[49m\u001b[43m \u001b[49m\u001b[43morient\u001b[49m\u001b[43m \u001b[49m\u001b[38;5;241;43m=\u001b[39;49m\u001b[43m \u001b[49m\u001b[38;5;124;43m'\u001b[39;49m\u001b[38;5;124;43mh\u001b[39;49m\u001b[38;5;124;43m'\u001b[39;49m\u001b[43m,\u001b[49m\n\u001b[1;32m     15\u001b[0m \u001b[43m\u001b[49m\u001b[38;5;66;43;03m# sns.barplot(x=\"distance\", y=\"workload\", order=order, orient = 'h',\u001b[39;49;00m\n\u001b[1;32m     16\u001b[0m \u001b[43m            \u001b[49m\u001b[43mdata\u001b[49m\u001b[38;5;241;43m=\u001b[39;49m\u001b[43mX_p\u001b[49m\u001b[43m,\u001b[49m\u001b[43m \u001b[49m\u001b[43max\u001b[49m\u001b[38;5;241;43m=\u001b[39;49m\u001b[43max\u001b[49m\u001b[43m,\u001b[49m\u001b[43m \u001b[49m\u001b[43merrorbar\u001b[49m\u001b[38;5;241;43m=\u001b[39;49m\u001b[38;5;124;43m\"\u001b[39;49m\u001b[38;5;124;43msd\u001b[39;49m\u001b[38;5;124;43m\"\u001b[39;49m\u001b[43m,\u001b[49m\n\u001b[1;32m     17\u001b[0m \u001b[43m            \u001b[49m\u001b[43mpalette\u001b[49m\u001b[38;5;241;43m=\u001b[39;49m\u001b[43msns\u001b[49m\u001b[38;5;241;43m.\u001b[39;49m\u001b[43mcolor_palette\u001b[49m\u001b[43m(\u001b[49m\u001b[43m)\u001b[49m\u001b[43m[\u001b[49m\u001b[43m:\u001b[49m\u001b[43mX_p\u001b[49m\u001b[43m[\u001b[49m\u001b[38;5;124;43m'\u001b[39;49m\u001b[38;5;124;43mworkload\u001b[39;49m\u001b[38;5;124;43m'\u001b[39;49m\u001b[43m]\u001b[49m\u001b[38;5;241;43m.\u001b[39;49m\u001b[43mnunique\u001b[49m\u001b[43m(\u001b[49m\u001b[43m)\u001b[49m\u001b[43m]\u001b[49m\u001b[43m)\u001b[49m\n\u001b[1;32m     18\u001b[0m ax\u001b[38;5;241m.\u001b[39mset_xlabel(\u001b[38;5;124m'\u001b[39m\u001b[38;5;124m'\u001b[39m)\n\u001b[1;32m     19\u001b[0m \u001b[38;5;66;03m# handles, labels = ax.get_legend_handles_labels()\u001b[39;00m\n\u001b[1;32m     20\u001b[0m \u001b[38;5;66;03m# ax.get_legend().set_visible(False)\u001b[39;00m\n",
      "File \u001b[0;32m~/anaconda3/envs/workload_insights/lib/python3.9/site-packages/seaborn/categorical.py:2755\u001b[0m, in \u001b[0;36mbarplot\u001b[0;34m(data, x, y, hue, order, hue_order, estimator, errorbar, n_boot, units, seed, orient, color, palette, saturation, width, errcolor, errwidth, capsize, dodge, ci, ax, **kwargs)\u001b[0m\n\u001b[1;32m   2752\u001b[0m \u001b[38;5;28;01mif\u001b[39;00m estimator \u001b[38;5;129;01mis\u001b[39;00m \u001b[38;5;28mlen\u001b[39m:\n\u001b[1;32m   2753\u001b[0m     estimator \u001b[38;5;241m=\u001b[39m \u001b[38;5;124m\"\u001b[39m\u001b[38;5;124msize\u001b[39m\u001b[38;5;124m\"\u001b[39m\n\u001b[0;32m-> 2755\u001b[0m plotter \u001b[38;5;241m=\u001b[39m \u001b[43m_BarPlotter\u001b[49m\u001b[43m(\u001b[49m\u001b[43mx\u001b[49m\u001b[43m,\u001b[49m\u001b[43m \u001b[49m\u001b[43my\u001b[49m\u001b[43m,\u001b[49m\u001b[43m \u001b[49m\u001b[43mhue\u001b[49m\u001b[43m,\u001b[49m\u001b[43m \u001b[49m\u001b[43mdata\u001b[49m\u001b[43m,\u001b[49m\u001b[43m \u001b[49m\u001b[43morder\u001b[49m\u001b[43m,\u001b[49m\u001b[43m \u001b[49m\u001b[43mhue_order\u001b[49m\u001b[43m,\u001b[49m\n\u001b[1;32m   2756\u001b[0m \u001b[43m                      \u001b[49m\u001b[43mestimator\u001b[49m\u001b[43m,\u001b[49m\u001b[43m \u001b[49m\u001b[43merrorbar\u001b[49m\u001b[43m,\u001b[49m\u001b[43m \u001b[49m\u001b[43mn_boot\u001b[49m\u001b[43m,\u001b[49m\u001b[43m \u001b[49m\u001b[43munits\u001b[49m\u001b[43m,\u001b[49m\u001b[43m \u001b[49m\u001b[43mseed\u001b[49m\u001b[43m,\u001b[49m\n\u001b[1;32m   2757\u001b[0m \u001b[43m                      \u001b[49m\u001b[43morient\u001b[49m\u001b[43m,\u001b[49m\u001b[43m \u001b[49m\u001b[43mcolor\u001b[49m\u001b[43m,\u001b[49m\u001b[43m \u001b[49m\u001b[43mpalette\u001b[49m\u001b[43m,\u001b[49m\u001b[43m \u001b[49m\u001b[43msaturation\u001b[49m\u001b[43m,\u001b[49m\n\u001b[1;32m   2758\u001b[0m \u001b[43m                      \u001b[49m\u001b[43mwidth\u001b[49m\u001b[43m,\u001b[49m\u001b[43m \u001b[49m\u001b[43merrcolor\u001b[49m\u001b[43m,\u001b[49m\u001b[43m \u001b[49m\u001b[43merrwidth\u001b[49m\u001b[43m,\u001b[49m\u001b[43m \u001b[49m\u001b[43mcapsize\u001b[49m\u001b[43m,\u001b[49m\u001b[43m \u001b[49m\u001b[43mdodge\u001b[49m\u001b[43m)\u001b[49m\n\u001b[1;32m   2760\u001b[0m \u001b[38;5;28;01mif\u001b[39;00m ax \u001b[38;5;129;01mis\u001b[39;00m \u001b[38;5;28;01mNone\u001b[39;00m:\n\u001b[1;32m   2761\u001b[0m     ax \u001b[38;5;241m=\u001b[39m plt\u001b[38;5;241m.\u001b[39mgca()\n",
      "File \u001b[0;32m~/anaconda3/envs/workload_insights/lib/python3.9/site-packages/seaborn/categorical.py:1530\u001b[0m, in \u001b[0;36m_BarPlotter.__init__\u001b[0;34m(self, x, y, hue, data, order, hue_order, estimator, errorbar, n_boot, units, seed, orient, color, palette, saturation, width, errcolor, errwidth, capsize, dodge)\u001b[0m\n\u001b[1;32m   1525\u001b[0m \u001b[38;5;28;01mdef\u001b[39;00m \u001b[38;5;21m__init__\u001b[39m(\u001b[38;5;28mself\u001b[39m, x, y, hue, data, order, hue_order,\n\u001b[1;32m   1526\u001b[0m              estimator, errorbar, n_boot, units, seed,\n\u001b[1;32m   1527\u001b[0m              orient, color, palette, saturation, width,\n\u001b[1;32m   1528\u001b[0m              errcolor, errwidth, capsize, dodge):\n\u001b[1;32m   1529\u001b[0m \u001b[38;5;250m    \u001b[39m\u001b[38;5;124;03m\"\"\"Initialize the plotter.\"\"\"\u001b[39;00m\n\u001b[0;32m-> 1530\u001b[0m     \u001b[38;5;28;43mself\u001b[39;49m\u001b[38;5;241;43m.\u001b[39;49m\u001b[43mestablish_variables\u001b[49m\u001b[43m(\u001b[49m\u001b[43mx\u001b[49m\u001b[43m,\u001b[49m\u001b[43m \u001b[49m\u001b[43my\u001b[49m\u001b[43m,\u001b[49m\u001b[43m \u001b[49m\u001b[43mhue\u001b[49m\u001b[43m,\u001b[49m\u001b[43m \u001b[49m\u001b[43mdata\u001b[49m\u001b[43m,\u001b[49m\u001b[43m \u001b[49m\u001b[43morient\u001b[49m\u001b[43m,\u001b[49m\n\u001b[1;32m   1531\u001b[0m \u001b[43m                             \u001b[49m\u001b[43morder\u001b[49m\u001b[43m,\u001b[49m\u001b[43m \u001b[49m\u001b[43mhue_order\u001b[49m\u001b[43m,\u001b[49m\u001b[43m \u001b[49m\u001b[43munits\u001b[49m\u001b[43m)\u001b[49m\n\u001b[1;32m   1532\u001b[0m     \u001b[38;5;28mself\u001b[39m\u001b[38;5;241m.\u001b[39mestablish_colors(color, palette, saturation)\n\u001b[1;32m   1533\u001b[0m     \u001b[38;5;28mself\u001b[39m\u001b[38;5;241m.\u001b[39mestimate_statistic(estimator, errorbar, n_boot, seed)\n",
      "File \u001b[0;32m~/anaconda3/envs/workload_insights/lib/python3.9/site-packages/seaborn/categorical.py:544\u001b[0m, in \u001b[0;36m_CategoricalPlotter.establish_variables\u001b[0;34m(self, x, y, hue, data, orient, order, hue_order, units)\u001b[0m\n\u001b[1;32m    541\u001b[0m         \u001b[38;5;28;01mraise\u001b[39;00m \u001b[38;5;167;01mValueError\u001b[39;00m(err)\n\u001b[1;32m    543\u001b[0m \u001b[38;5;66;03m# Figure out the plotting orientation\u001b[39;00m\n\u001b[0;32m--> 544\u001b[0m orient \u001b[38;5;241m=\u001b[39m \u001b[43minfer_orient\u001b[49m\u001b[43m(\u001b[49m\n\u001b[1;32m    545\u001b[0m \u001b[43m    \u001b[49m\u001b[43mx\u001b[49m\u001b[43m,\u001b[49m\u001b[43m \u001b[49m\u001b[43my\u001b[49m\u001b[43m,\u001b[49m\u001b[43m \u001b[49m\u001b[43morient\u001b[49m\u001b[43m,\u001b[49m\u001b[43m \u001b[49m\u001b[43mrequire_numeric\u001b[49m\u001b[38;5;241;43m=\u001b[39;49m\u001b[38;5;28;43mself\u001b[39;49m\u001b[38;5;241;43m.\u001b[39;49m\u001b[43mrequire_numeric\u001b[49m\n\u001b[1;32m    546\u001b[0m \u001b[43m\u001b[49m\u001b[43m)\u001b[49m\n\u001b[1;32m    548\u001b[0m \u001b[38;5;66;03m# Option 2a:\u001b[39;00m\n\u001b[1;32m    549\u001b[0m \u001b[38;5;66;03m# We are plotting a single set of data\u001b[39;00m\n\u001b[1;32m    550\u001b[0m \u001b[38;5;66;03m# ------------------------------------\u001b[39;00m\n\u001b[1;32m    551\u001b[0m \u001b[38;5;28;01mif\u001b[39;00m x \u001b[38;5;129;01mis\u001b[39;00m \u001b[38;5;28;01mNone\u001b[39;00m \u001b[38;5;129;01mor\u001b[39;00m y \u001b[38;5;129;01mis\u001b[39;00m \u001b[38;5;28;01mNone\u001b[39;00m:\n\u001b[1;32m    552\u001b[0m \n\u001b[1;32m    553\u001b[0m     \u001b[38;5;66;03m# Determine where the data are\u001b[39;00m\n",
      "File \u001b[0;32m~/anaconda3/envs/workload_insights/lib/python3.9/site-packages/seaborn/_oldcore.py:1611\u001b[0m, in \u001b[0;36minfer_orient\u001b[0;34m(x, y, orient, require_numeric)\u001b[0m\n\u001b[1;32m   1609\u001b[0m \u001b[38;5;28;01melif\u001b[39;00m \u001b[38;5;28mstr\u001b[39m(orient)\u001b[38;5;241m.\u001b[39mstartswith(\u001b[38;5;124m\"\u001b[39m\u001b[38;5;124mh\u001b[39m\u001b[38;5;124m\"\u001b[39m):\n\u001b[1;32m   1610\u001b[0m     \u001b[38;5;28;01mif\u001b[39;00m require_numeric \u001b[38;5;129;01mand\u001b[39;00m x_type \u001b[38;5;241m!=\u001b[39m \u001b[38;5;124m\"\u001b[39m\u001b[38;5;124mnumeric\u001b[39m\u001b[38;5;124m\"\u001b[39m:\n\u001b[0;32m-> 1611\u001b[0m         \u001b[38;5;28;01mraise\u001b[39;00m \u001b[38;5;167;01mTypeError\u001b[39;00m(nonnumeric_dv_error\u001b[38;5;241m.\u001b[39mformat(\u001b[38;5;124m\"\u001b[39m\u001b[38;5;124mHorizontal\u001b[39m\u001b[38;5;124m\"\u001b[39m, \u001b[38;5;124m\"\u001b[39m\u001b[38;5;124mx\u001b[39m\u001b[38;5;124m\"\u001b[39m))\n\u001b[1;32m   1612\u001b[0m     \u001b[38;5;28;01mreturn\u001b[39;00m \u001b[38;5;124m\"\u001b[39m\u001b[38;5;124mh\u001b[39m\u001b[38;5;124m\"\u001b[39m\n\u001b[1;32m   1614\u001b[0m \u001b[38;5;28;01melif\u001b[39;00m orient \u001b[38;5;129;01mis\u001b[39;00m \u001b[38;5;129;01mnot\u001b[39;00m \u001b[38;5;28;01mNone\u001b[39;00m:\n",
      "\u001b[0;31mTypeError\u001b[0m: Horizontal orientation requires numeric `x` variable."
     ]
    },
    {
     "data": {
      "image/png": "[encoded data removed]",
      "text/plain": [
       "<Figure size 520x200 with 1 Axes>"
      ]
     },
     "metadata": {},
     "output_type": "display_data"
    }
   ],
   "source": [
    "simi_calc.calc_dist_simi_matrix(cumulative=True, feature_names=plan_top_7, norm_type='l21', normalize=False)\n",
    "\n",
    "assert(simi_calc.data.wl_names[candid_idx] == 'wmc')\n",
    "plot_scores_single(simi_calc.simi_mtx, simi_calc.data, candid_idx, 'Top7 Plan', 'Cumulative Histogram L21 Norm', note='-1')"
   ]
  },
  {
   "cell_type": "code",
   "execution_count": null,
   "id": "21a7cdb1-f4f9-4f31-8649-553c1e917f4b",
   "metadata": {},
   "outputs": [],
   "source": [
    "plan_top_7 = ['MaxCompileMemory',\n",
    " 'CachedPlanSize',\n",
    " 'AvgRowSize',\n",
    " 'EstimateIO',\n",
    " 'StatementSubTreeCost',\n",
    " 'SerialRequiredMemory',\n",
    " 'CompileMemory']\n",
    "\n",
    "plan_top_3 = ['MaxCompileMemory', 'CachedPlanSize', 'AvgRowSize']"
   ]
  },
  {
   "cell_type": "code",
   "execution_count": null,
   "id": "26298359-bd20-4bc2-af31-cd6c9679f2a9",
   "metadata": {},
   "outputs": [],
   "source": [
    "simi_mtxs = []\n",
    "for feature_group in features_plan:\n",
    "    simi_calc.calc_dist_simi_matrix(cumulative=True, feature_names=feature_group, norm_type='canb', normalize=False)\n",
    "    simi_mtxs.append(simi_calc.simi_mtx)"
   ]
  },
  {
   "cell_type": "code",
   "execution_count": null,
   "id": "6b8fd7af-55c5-4bfd-83c1-673d58906ae9",
   "metadata": {},
   "outputs": [],
   "source": [
    "plot_scores_diff_feature_num(simi_mtxs, simi_calc.data, feature_group_plan, candid_idx, 'Cumulative Histogram Canb Norm', colwise=True, note='')"
   ]
  },
  {
   "cell_type": "code",
   "execution_count": null,
   "id": "62dfc554-70a5-44dc-9a28-abf34087f5a0",
   "metadata": {},
   "outputs": [],
   "source": [
    "simi_calc.calc_dist_simi_matrix(cumulative=True, feature_names=plan_top_7, norm_type='l21', normalize=False)\n",
    "\n",
    "assert(simi_calc.data.wl_names[candid_idx] == 'wmc')\n",
    "plot_scores_single(simi_calc.simi_mtx, simi_calc.data, candid_idx, 'Top7 Plan', 'Cumulative Histogram L21 Norm', note='-2')"
   ]
  },
  {
   "cell_type": "code",
   "execution_count": null,
   "id": "33b2b4e1-6cc5-44ac-82c4-91cbb4b9eb34",
   "metadata": {},
   "outputs": [],
   "source": [
    "plan_top_7 = fs.select_features(7, 'SFS', est_name='LinearRegression', direction='backward', feature_type='plan')\n",
    "plan_top_3 = fs.select_features(3, 'SFS', est_name='LinearRegression', direction='backward', feature_type='plan')\n",
    "print(plan_top_7)\n",
    "feature_group_plan = ['plan_3', 'plan_7', 'plan']\n",
    "features_plan = [plan_top_3, plan_top_7, plan_features]"
   ]
  },
  {
   "cell_type": "code",
   "execution_count": null,
   "id": "b3c7c439-035f-4397-a2fb-4609dff7fdf4",
   "metadata": {},
   "outputs": [],
   "source": [
    "simi_mtxs = []\n",
    "for feature_group in features_plan:\n",
    "    simi_calc.calc_dist_simi_matrix(cumulative=True, feature_names=feature_group, norm_type='canb', normalize=False)\n",
    "    simi_mtxs.append(simi_calc.simi_mtx)"
   ]
  },
  {
   "cell_type": "code",
   "execution_count": null,
   "id": "91570b65-6e38-4a0f-8141-297282ef61d8",
   "metadata": {},
   "outputs": [],
   "source": [
    "plot_scores_diff_feature_num(simi_mtxs, simi_calc.data, feature_group_plan, candid_idx, 'Cumulative Histogram Canb Norm', colwise=True, note='')"
   ]
  },
  {
   "cell_type": "code",
   "execution_count": null,
   "id": "8c8b8db6-8060-4e02-ba9a-21bc3fdd8e3f",
   "metadata": {},
   "outputs": [],
   "source": [
    "simi_calc.calc_dist_simi_matrix(cumulative=True, feature_names=plan_top_7, norm_type='l21', normalize=False)\n",
    "\n",
    "assert(simi_calc.data.wl_names[candid_idx] == 'wmc')\n",
    "plot_scores_single(simi_calc.simi_mtx, simi_calc.data, candid_idx, 'Top7 Plan', 'Cumulative Histogram L21 Norm', note='-3')"
   ]
  },
  {
   "cell_type": "code",
   "execution_count": null,
   "id": "6bec9106-164e-4bbd-bef2-4113cbf4b685",
   "metadata": {},
   "outputs": [],
   "source": []
  },
  {
   "cell_type": "code",
   "execution_count": null,
   "id": "e0295806-308a-4db6-ac49-80573e71988d",
   "metadata": {},
   "outputs": [],
   "source": []
  }
 ],
 "metadata": {
  "kernelspec": {
   "display_name": "workload_insights",
   "language": "python",
   "name": "workload_insights"
  },
  "language_info": {
   "codemirror_mode": {
    "name": "ipython",
    "version": 3
   },
   "file_extension": ".py",
   "mimetype": "text/x-python",
   "name": "python",
   "nbconvert_exporter": "python",
   "pygments_lexer": "ipython3",
   "version": "3.9.13"
  }
 },
 "nbformat": 4,
 "nbformat_minor": 5
}
