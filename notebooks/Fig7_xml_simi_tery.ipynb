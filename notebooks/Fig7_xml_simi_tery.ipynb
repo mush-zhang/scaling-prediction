{
 "cells": [
  {
   "cell_type": "code",
   "execution_count": 1,
   "id": "d6f46a6e-e57c-441e-a27e-60ebaf5a9ecd",
   "metadata": {},
   "outputs": [
    {
     "name": "stdout",
     "output_type": "stream",
     "text": [
      "The history saving thread hit an unexpected error (DatabaseError('database disk image is malformed')).History will not be written to the database.\n"
     ]
    }
   ],
   "source": [
    "import os\n",
    "import matplotlib.pyplot as plt\n",
    "import datetime\n",
    "import json\n",
    "import matplotlib.gridspec as gridspec\n",
    "\n",
    "import numpy as np\n",
    "import pandas as pd\n",
    "import seaborn as sns\n",
    "\n",
    "from itertools import compress\n",
    "\n",
    "from helpers.expr_data2 import ExprData2\n",
    "from helpers.scale_data import ScaleData\n",
    "from helpers.similarity import Similarity\n",
    "from helpers.feature_selection import FeatureSelection\n",
    "\n",
    "from sklearn.metrics import accuracy_score, f1_score, precision_score, recall_score, classification_report, confusion_matrix\n",
    "\n",
    "import warnings\n",
    "warnings.filterwarnings(\"ignore\")"
   ]
  },
  {
   "cell_type": "code",
   "execution_count": 2,
   "id": "4e1ff40a-9e46-4c65-9706-e5c3fd00ae4f",
   "metadata": {
    "tags": []
   },
   "outputs": [],
   "source": [
    "SMALL_SIZE = 15\n",
    "MEDIUM_SIZE = 18\n",
    "BIGGER_SIZE = 22\n",
    "SMALL_SMALL_SIZE = 10\n",
    "\n",
    "plt.rc('font', size=SMALL_SIZE)          # controls default text sizes\n",
    "plt.rc('axes', titlesize=SMALL_SIZE)     # fontsize of the axes title\n",
    "plt.rc('axes', labelsize=MEDIUM_SIZE)    # fontsize of the x and y labels\n",
    "plt.rc('xtick', labelsize=SMALL_SIZE)    # fontsize of the tick labels\n",
    "plt.rc('ytick', labelsize=SMALL_SIZE)    # fontsize of the tick labels\n",
    "plt.rc('legend', fontsize=SMALL_SIZE)    # legend fontsize\n",
    "\n",
    "plt.rc('figure', titlesize=BIGGER_SIZE)  # fontsize of the figure title"
   ]
  },
  {
   "cell_type": "code",
   "execution_count": 3,
   "id": "b2a1bd26-d2b1-454b-8086-3b8826cef17c",
   "metadata": {},
   "outputs": [],
   "source": [
    "import random\n",
    "np.random.seed(47907)\n",
    "random.seed(15213)"
   ]
  },
  {
   "cell_type": "code",
   "execution_count": 4,
   "id": "867121d9-7099-4aa8-bf74-3454e8dc4a16",
   "metadata": {},
   "outputs": [],
   "source": [
    "xml_wl_cpus = ['ter5', 'terx', 'tery']\n",
    "candid = 'tery'"
   ]
  },
  {
   "cell_type": "code",
   "execution_count": 5,
   "id": "d35bfa4e-fcb2-4df5-be61-63e0b05fd998",
   "metadata": {},
   "outputs": [],
   "source": [
    "'''\n",
    "Generate scatter plot by similarity\n",
    "Attributes:\n",
    "    simi_mtxs : list of simi_mtxs or simi_col_mtxs using different number of features\n",
    "    simi_data : should be same for all simi_mtxs\n",
    "    feature_groups: labels of the feature group: top3, top7, plan, resource, all\n",
    "    root_idx: the i-th experiment as the base run, will plot pairwise distance between the base run and other runs\n",
    "    method_type: Type of method used to calculate similarity\n",
    "    colwise: True if the calculation is columnwised, False if not\n",
    "'''\n",
    "def plot_scores_diff_feature_num(simi_mtxs, simi_data, feature_groups, root_idx, method_type, colwise=False, note=''):\n",
    "    fig, ax = plt.subplots(figsize=(3*len(feature_groups), 2.8))\n",
    "    zipped = []\n",
    "    for simi_mtx, feature_group in zip(simi_mtxs, feature_groups):       \n",
    "        curr_zipped = list(zip(simi_data.wl_groups, simi_data.wl_names, [feature_group]*simi_data.get_num_exprs(), simi_mtx[root_idx]))\n",
    "        del curr_zipped[root_idx]\n",
    "        zipped += curr_zipped\n",
    "    X_p = pd.DataFrame(zipped, columns=['run', 'workload','feature_group', 'distance'])\n",
    "    X_p = X_p.astype({'distance': float})\n",
    "    X_p.drop([root_idx],inplace=True)\n",
    "\n",
    "    order=['tpcc', 'tpch', 'twitter']\n",
    "    if X_p['workload'].nunique() == 4:\n",
    "        order.append('tpcds')\n",
    "    \n",
    "    sns.barplot(y=\"distance\", x=\"feature_group\", hue_order=order,\n",
    "                hue=\"workload\", data=X_p, ax=ax, \n",
    "                palette=sns.color_palette()[:X_p['workload'].nunique()])\n",
    "    plt.xlabel('')\n",
    "    plt.ylabel('Normalized Distance')\n",
    "    \n",
    "    expr_idx = simi_data.wl_groups[root_idx]\n",
    "    wl_name = simi_data.wl_names[root_idx] \n",
    "    cpu_num_val = simi_data.cpu_nums[root_idx]\n",
    "    if colwise:\n",
    "        colwise_label = 'Independent'\n",
    "    else:\n",
    "        colwise_label = 'Dependent'\n",
    "    title = 'Base Workload: {}, Method: {} {}.{}'.format(\n",
    "        wl_name, cpu_num_val, colwise_label, method_type, note)\n",
    "    fname = '{}{}_cpu{}_{}_{}{}.pdf'.format(wl_name, expr_idx, cpu_num_val, colwise_label, method_type, note)\n",
    "    plt.legend(bbox_to_anchor=(0, 1, 1, 0), loc='lower left', ncol=4, mode=\"expand\")\n",
    "    print(title)\n",
    "    plt.savefig(f'figs/new_wmc_{fname}', bbox_inches = 'tight')\n",
    "    plt.show()"
   ]
  },
  {
   "cell_type": "code",
   "execution_count": 6,
   "id": "2719c8f3-fbfa-4632-a033-ab44383264cc",
   "metadata": {},
   "outputs": [],
   "source": [
    "def plot_scores_single(simi_mtx, simi_data, root_idx, data_type, method_type, note=''):\n",
    "    fig, ax = plt.subplots(figsize=(4.8,2))\n",
    "\n",
    "    zipped = list(zip(simi_data.wl_groups, simi_data.wl_names, simi_data.cpu_nums, simi_mtx[root_idx]))\n",
    "    X_p = pd.DataFrame(zipped, columns=['run', 'workload','cpu_num', 'distance'])\n",
    "    X_p = X_p.astype({'distance': float})\n",
    "    X_p.drop([root_idx],inplace=True)\n",
    "    \n",
    "    order=['tpcc', 'tpch', 'twitter']\n",
    "    if X_p['workload'].nunique() == 4:\n",
    "        order.append('tpcds')\n",
    "\n",
    "    sns.barplot(y=\"distance\", x=\"workload\", order=order,\n",
    "                data=X_p, ax=ax, errorbar=\"sd\",\n",
    "                palette=sns.color_palette()[:X_p['workload'].nunique()])\n",
    "    ax.set_xlabel('')\n",
    "    expr_idx = simi_data.wl_groups[root_idx]\n",
    "    wl_name = simi_data.wl_names[root_idx] \n",
    "\n",
    "    plt.savefig(f'figs/Test_Single_{candid}_2', bbox_inches = 'tight')\n",
    "    plt.show()"
   ]
  },
  {
   "cell_type": "code",
   "execution_count": 7,
   "id": "73ed32e7-f78c-4c6d-a191-1bcf9cfe8b44",
   "metadata": {},
   "outputs": [],
   "source": [
    "data = ExprData2()\n",
    "data.load_pickle(exclude_cpu=[ter for ter in xml_wl_cpus if ter != candid ])\n",
    "candid_idx = data.cpu_nums.index(candid)"
   ]
  },
  {
   "cell_type": "code",
   "execution_count": 8,
   "id": "47948c17-72e6-4b1a-adc2-8e769f64f315",
   "metadata": {},
   "outputs": [],
   "source": [
    "# similarity for all\n",
    "scaler = ScaleData()\n",
    "plan_mtxs, plan_col_ranges = scaler.scale(data.plan_mtxs)\n",
    "\n",
    "simi_calc_all = Similarity(data, plan_mtxs, plan_col_ranges, None, [])\n",
    "simi_calc_all.calc_bined_mtx(plan_only=True) # all plan features"
   ]
  },
  {
   "cell_type": "code",
   "execution_count": 9,
   "id": "6d4c0870-0faf-4fe9-9773-988f57ad557f",
   "metadata": {},
   "outputs": [
    {
     "name": "stdout",
     "output_type": "stream",
     "text": [
      "(18, 18, 22)\n",
      "(18, 18, 22)\n",
      "['EstimateIO', 'AvgRowSize', 'CompileMemory', 'SerialRequiredMemory', 'EstimateRows', 'CachedPlanSize', 'StatementSubTreeCost']\n"
     ]
    }
   ],
   "source": [
    "simi_calc = simi_calc_all\n",
    "fs = FeatureSelection(simi_calc)\n",
    "plan_features = data.plan_feature_cols\n",
    "plan_top_7 = fs.select_features(7, 'MutualInfoGain', est_name=None, direction=None, feature_type='plan')\n",
    "plan_top_3 = fs.select_features(3, 'MutualInfoGain', est_name=None, direction=None, feature_type='plan')\n",
    "print(plan_top_7)\n",
    "feature_group_plan = ['plan_3', 'plan_7', 'plan']\n",
    "features_plan = [plan_top_3, plan_top_7, plan_features]"
   ]
  },
  {
   "cell_type": "code",
   "execution_count": 10,
   "id": "0c255fe3-8115-478f-862d-e7bb615263aa",
   "metadata": {},
   "outputs": [],
   "source": [
    "simi_mtxs = []\n",
    "for feature_group in features_plan:\n",
    "    simi_calc.calc_dist_simi_matrix(cumulative=True, feature_names=feature_group, norm_type='canb')#, normalize=False)\n",
    "    simi_mtxs.append(simi_calc.simi_mtx)"
   ]
  },
  {
   "cell_type": "code",
   "execution_count": 11,
   "id": "269354b7-be2d-46eb-aab9-063bd50a45be",
   "metadata": {},
   "outputs": [
    {
     "name": "stdout",
     "output_type": "stream",
     "text": [
      "Base Workload: xml, Method: tery Independent.Cumulative Histogram Canb Norm\n"
     ]
    },
    {
     "data": {
      "image/png": "[encoded data removed]",
      "text/plain": [
       "<Figure size 900x280 with 1 Axes>"
      ]
     },
     "metadata": {},
     "output_type": "display_data"
    }
   ],
   "source": [
    "plot_scores_diff_feature_num(simi_mtxs, simi_calc.data, feature_group_plan, candid_idx, 'Cumulative Histogram Canb Norm', colwise=True, note='')"
   ]
  },
  {
   "cell_type": "code",
   "execution_count": 12,
   "id": "b3025163-6c8b-47a8-b91c-f0dc944125e7",
   "metadata": {},
   "outputs": [
    {
     "data": {
      "image/png": "[encoded data removed]",
      "text/plain": [
       "<Figure size 480x200 with 1 Axes>"
      ]
     },
     "metadata": {},
     "output_type": "display_data"
    }
   ],
   "source": [
    "simi_calc.calc_dist_simi_matrix(cumulative=True, feature_names=plan_top_7, norm_type='canb', normalize=False)\n",
    "\n",
    "assert(simi_calc.data.wl_names[candid_idx] == 'xml')\n",
    "plot_scores_single(simi_calc.simi_mtx, simi_calc.data, candid_idx, 'Top7 Plan', 'Cumulative Histogram Canb Norm', note='')"
   ]
  }
 ],
 "metadata": {
  "kernelspec": {
   "display_name": "workload_insights",
   "language": "python",
   "name": "workload_insights"
  },
  "language_info": {
   "codemirror_mode": {
    "name": "ipython",
    "version": 3
   },
   "file_extension": ".py",
   "mimetype": "text/x-python",
   "name": "python",
   "nbconvert_exporter": "python",
   "pygments_lexer": "ipython3",
   "version": "3.9.13"
  }
 },
 "nbformat": 4,
 "nbformat_minor": 5
}
