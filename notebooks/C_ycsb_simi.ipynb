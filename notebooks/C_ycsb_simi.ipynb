{
 "cells": [
  {
   "cell_type": "code",
   "execution_count": 1,
   "id": "d6f46a6e-e57c-441e-a27e-60ebaf5a9ecd",
   "metadata": {},
   "outputs": [],
   "source": [
    "import os\n",
    "import matplotlib.pyplot as plt\n",
    "import datetime\n",
    "import json\n",
    "import matplotlib.gridspec as gridspec\n",
    "\n",
    "import numpy as np\n",
    "import pandas as pd\n",
    "import seaborn as sns\n",
    "\n",
    "from itertools import compress\n",
    "\n",
    "from helpers.expr_data_mem_cpu import ExprDataMemCPU\n",
    "from helpers.scale_data import ScaleData\n",
    "from helpers.similarity import Similarity\n",
    "from helpers.feature_selection import FeatureSelection\n",
    "\n",
    "from sklearn.metrics import accuracy_score, f1_score, precision_score, recall_score, classification_report, confusion_matrix\n",
    "\n",
    "import warnings\n",
    "warnings.filterwarnings(\"ignore\")"
   ]
  },
  {
   "cell_type": "code",
   "execution_count": 2,
   "id": "7147807b-f5a4-46f6-b5ac-4b331824c00c",
   "metadata": {
    "tags": []
   },
   "outputs": [],
   "source": [
    "SMALL_SIZE = 15\n",
    "MEDIUM_SIZE = 18\n",
    "BIGGER_SIZE = 22\n",
    "SMALL_SMALL_SIZE = 12\n",
    "\n",
    "plt.rc('font', size=SMALL_SIZE)          # controls default text sizes\n",
    "plt.rc('axes', titlesize=SMALL_SIZE)     # fontsize of the axes title\n",
    "plt.rc('axes', labelsize=MEDIUM_SIZE)    # fontsize of the x and y labels\n",
    "plt.rc('xtick', labelsize=SMALL_SMALL_SIZE)    # fontsize of the tick labels\n",
    "plt.rc('ytick', labelsize=SMALL_SIZE)    # fontsize of the tick labels\n",
    "# plt.rc('legend', fontsize=SMALL_SIZE)    # legend fontsize\n",
    "\n",
    "plt.rc('legend', fontsize=SMALL_SMALL_SIZE)    # legend fontsize\n",
    "plt.rc('figure', titlesize=BIGGER_SIZE)  # fontsize of the figure title"
   ]
  },
  {
   "cell_type": "code",
   "execution_count": 3,
   "id": "b2a1bd26-d2b1-454b-8086-3b8826cef17c",
   "metadata": {},
   "outputs": [],
   "source": [
    "import random\n",
    "np.random.seed(42)\n",
    "random.seed(42)"
   ]
  },
  {
   "cell_type": "code",
   "execution_count": 4,
   "id": "867121d9-7099-4aa8-bf74-3454e8dc4a16",
   "metadata": {},
   "outputs": [],
   "source": [
    "# all_groups = ['10', '11', '12', '20', '21', '22']\n",
    "# candidate_group = '22'\n",
    "\n",
    "# from_sku = ('cpu2', 32)\n",
    "# to_sku = ('cpu8', 64)"
   ]
  },
  {
   "cell_type": "code",
   "execution_count": 5,
   "id": "d35bfa4e-fcb2-4df5-be61-63e0b05fd998",
   "metadata": {},
   "outputs": [],
   "source": [
    "def plot_scores_diff_feature_num(simi_mtxs, simi_data, feature_groups, root_idx, method_type, colwise=False, note=''):\n",
    "    fig, ax = plt.subplots(figsize=(3*len(feature_groups), 2.8))\n",
    "    zipped = []\n",
    "    for simi_mtx, feature_group in zip(simi_mtxs, feature_groups):       \n",
    "        curr_zipped = list(zip(simi_data.wl_groups, simi_data.wl_names, [feature_group]*simi_data.get_num_exprs(), simi_mtx[root_idx]))\n",
    "        del curr_zipped[root_idx]\n",
    "        zipped += curr_zipped\n",
    "    X_p = pd.DataFrame(zipped, columns=['run', 'workload','feature_group', 'distance'])\n",
    "    X_p = X_p.astype({'distance': float})\n",
    "    X_p.drop([root_idx],inplace=True)\n",
    "    colors = sns.color_palette()[:X_p['workload'].nunique()+1]\n",
    "    colors = colors[:-2]+colors[-1:]\n",
    "\n",
    "    order=['tpcc', 'tpch', 'twitter']\n",
    "    if X_p['workload'].nunique() == 4:\n",
    "        order.append('ycsb')\n",
    "    \n",
    "    sns.barplot(y=\"distance\", x=\"feature_group\", hue_order=order,\n",
    "                hue=\"workload\", data=X_p, ax=ax, \n",
    "                palette=colors)\n",
    "    plt.xlabel('')\n",
    "    plt.ylabel('Normalized Distance')\n",
    "    \n",
    "    expr_idx = simi_data.wl_groups[root_idx]\n",
    "    wl_name = simi_data.wl_names[root_idx] \n",
    "    cpu_num_val = simi_data.cpu_nums[root_idx]\n",
    "    if colwise:\n",
    "        colwise_label = 'Independent'\n",
    "    else:\n",
    "        colwise_label = 'Dependent'\n",
    "    title = 'Base Workload: {}, Method: {} {}.{}'.format(\n",
    "        wl_name, cpu_num_val, colwise_label, method_type, note)\n",
    "    fname = '{}{}_cpu{}_{}_{}{}.pdf'.format(wl_name, expr_idx, cpu_num_val, colwise_label, method_type, note)\n",
    "    # plt.legend(bbox_to_anchor=(1.02, 1), loc='upper left', borderaxespad=0)\n",
    "    plt.legend(bbox_to_anchor=(0, 1, 1, 0), loc='lower left', ncol=4, mode=\"expand\")\n",
    "               #, borderaxespad=0., fontsize=9) # \n",
    "    print(title)\n",
    "    plt.savefig(f'figs/ycsb_{fname}', bbox_inches = 'tight')\n",
    "    plt.show()"
   ]
  },
  {
   "cell_type": "code",
   "execution_count": 6,
   "id": "2719c8f3-fbfa-4632-a033-ab44383264cc",
   "metadata": {},
   "outputs": [],
   "source": [
    "def plot_scores_single(simi_mtx, simi_data, root_idx, data_type, method_type, note=''):\n",
    "    # fig, ax = plt.subplots(figsize=(3.2,1.3))\n",
    "    # fig, ax = plt.subplots(figsize=(2.4, 3.2))\n",
    "    fig, ax = plt.subplots(figsize=(4.8, 1.6))\n",
    "    \n",
    "\n",
    "    zipped = list(zip(simi_data.wl_groups, simi_data.wl_names, simi_data.cpu_nums, simi_mtx[root_idx]))\n",
    "    X_p = pd.DataFrame(zipped, columns=['run', 'workload','cpu_num', 'distance'])\n",
    "    X_p = X_p.astype({'distance': float})\n",
    "    X_p.drop([root_idx],inplace=True)\n",
    "    colors = sns.color_palette()[:X_p['workload'].nunique()+1]\n",
    "    colors = colors[:-2]+colors[-1:]\n",
    "    \n",
    "    order=['tpcc', 'tpch', 'twitter']\n",
    "    if X_p['workload'].nunique() == 4:\n",
    "        order.append('ycsb')\n",
    "\n",
    "    sns.barplot(y=\"distance\", x=\"workload\", order=order,\n",
    "                data=X_p, ax=ax, errorbar=\"sd\",\n",
    "                palette=colors)\n",
    "    ax.set_xticklabels(['TPC-C', 'TPC-H', 'Twitter', 'YCSB'])\n",
    "\n",
    "    ax.set_xlabel('')\n",
    "    ax.set_ylabel('Distance')\n",
    "    # ax.tick_params(axis='x', labelrotation=45)\n",
    "    # handles, labels = ax.get_legend_handles_labels()\n",
    "    # ax.get_legend().set_visible(False)\n",
    "\n",
    "    expr_idx = simi_data.wl_groups[root_idx]\n",
    "    wl_name = simi_data.wl_names[root_idx] \n",
    "    candid = f'Ycsb{candidate_group}'\n",
    "    # plt.legend(bbox_to_anchor=(0, 1, 1, 0), loc='lower left', ncol=4, mode=\"expand\")\n",
    "\n",
    "    plt.savefig(f'figs/Test_Single_{candid}_2.pdf', bbox_inches = 'tight')\n",
    "    plt.show()"
   ]
  },
  {
   "cell_type": "code",
   "execution_count": 7,
   "id": "8e4371f5-3823-4014-9142-b939159e3684",
   "metadata": {},
   "outputs": [],
   "source": [
    "def get_simis(simi_data, simi_mtx, candid_idx):\n",
    "    print(simi_data.cpu_nums[candid_idx], len(simi_mtx[candid_idx]))\n",
    "    arr = []\n",
    "    true_idx = []\n",
    "    wl_g = []\n",
    "    for idx, val in enumerate(simi_mtx[candid_idx]):\n",
    "        if simi_data.wl_names[idx] != simi_data.wl_names[candid_idx] and simi_data.cpu_nums[idx] == simi_data.cpu_nums[candid_idx]:\n",
    "            arr.append(val)\n",
    "            true_idx.append(idx)\n",
    "            wl_g.append(simi_data.wl_groups[idx])\n",
    "   \n",
    "    df = pd.DataFrame({'dist': arr, 'true_idx': true_idx, 'wl_groups': wl_g} )\n",
    "    df.sort_values(by=['dist'], ascending=True, inplace=True)\n",
    "    wls = df['wl_groups'].to_list()\n",
    "    tops = []\n",
    "    for wln in wls:\n",
    "        if wln not in tops:\n",
    "            tops.append(wln)\n",
    "    return tops"
   ]
  },
  {
   "cell_type": "code",
   "execution_count": 10,
   "id": "73ed32e7-f78c-4c6d-a191-1bcf9cfe8b44",
   "metadata": {},
   "outputs": [
    {
     "name": "stdout",
     "output_type": "stream",
     "text": [
      "<zip object at 0x7fc5db401d40>\n"
     ]
    }
   ],
   "source": [
    "data = ExprDataMemCPU()\n",
    "data.load_pickle()\n",
    "data.fix_tpch()\n",
    "\n",
    "data = data.remove_by_wlname(['xml', 'chbenchmark'])\n",
    "# data = data.remove_by_group([g for g in all_groups if g != candidate_group])\n",
    "all_ycsb_groups = [ # name terminal pair\n",
    "    ('ycsb', 32), ('ycsb', 8), ('ycsb', 4)\n",
    "]\n",
    "candidate_group = ('ycsb', 8)\n",
    "\n",
    "from_sku = ('cpu2', 32)\n",
    "to_sku = ('cpu8', 64)\n",
    "\n",
    "data = data.remove_by_config([g for g in all_ycsb_groups if g != candidate_group])\n",
    "print(zip(data.wl_names, data.cpu_nums))"
   ]
  },
  {
   "cell_type": "code",
   "execution_count": 11,
   "id": "c4a9119d-30aa-4f9a-acad-9f0f5a6c5f1f",
   "metadata": {},
   "outputs": [],
   "source": [
    "data_by_sku = data.split_by_sku()\n",
    "known_data = data_by_sku[from_sku]\n",
    "pred_data = data_by_sku[to_sku]"
   ]
  },
  {
   "cell_type": "code",
   "execution_count": 12,
   "id": "47948c17-72e6-4b1a-adc2-8e769f64f315",
   "metadata": {},
   "outputs": [],
   "source": [
    "# similarity for all\n",
    "scaler = ScaleData()\n",
    "plan_mtxs, plan_col_ranges = scaler.scale(known_data.plan_mtxs)\n",
    "# perf_mtxs, perf_col_ranges = scaler.scale(known_data.perf_mtxs)\n",
    "\n",
    "# simi_calc = Similarity(known_data, plan_mtxs, plan_col_ranges, perf_mtxs, perf_col_ranges)\n",
    "simi_calc = Similarity(known_data, plan_mtxs, plan_col_ranges, None, [])\n",
    "simi_calc.calc_bined_mtx(plan_only=True) # all features"
   ]
  },
  {
   "cell_type": "code",
   "execution_count": 13,
   "id": "36592813-8906-4e09-9a80-768be25278fe",
   "metadata": {},
   "outputs": [],
   "source": [
    "fs = FeatureSelection(simi_calc)"
   ]
  },
  {
   "cell_type": "code",
   "execution_count": 14,
   "id": "99561fb1-9bc3-4cfa-83c5-508161ed9d83",
   "metadata": {},
   "outputs": [],
   "source": [
    "method = 'RFE' # 'fANOVA' #'Variance' #\n",
    "est_name='LogisticRegression'"
   ]
  },
  {
   "cell_type": "code",
   "execution_count": 15,
   "id": "e2d9cd5a-f35a-4141-8fac-6185c84d75b1",
   "metadata": {},
   "outputs": [
    {
     "name": "stdout",
     "output_type": "stream",
     "text": [
      "(24, 24, 22)\n",
      "(24, 24, 22)\n"
     ]
    }
   ],
   "source": [
    "# use for later distinguish btw plan and system metrics\n",
    "plan_features = known_data.plan_feature_cols\n",
    "\n",
    "feature_group_plan = ['plan_3', 'plan_7', 'plan']\n",
    "\n",
    "plan_top_3 = fs.select_features(3, method, est_name=est_name, direction=None, feature_type='plan')\n",
    "plan_top_7 = fs.select_features(7, method, est_name=est_name, direction=None, feature_type='plan')\n",
    "\n",
    "features_plan = [plan_top_3, plan_top_7, plan_features]"
   ]
  },
  {
   "cell_type": "code",
   "execution_count": 16,
   "id": "06f080cc-ea40-41b2-aacb-8da0e7761f0d",
   "metadata": {},
   "outputs": [
    {
     "name": "stdout",
     "output_type": "stream",
     "text": [
      "['EstimateIO', 'CachedPlanSize', 'AvgRowSize', 'SerialDesiredMemory', 'StatementSubTreeCost', 'SerialRequiredMemory', 'MaxCompileMemory']\n"
     ]
    }
   ],
   "source": [
    "print(plan_top_7)"
   ]
  },
  {
   "cell_type": "code",
   "execution_count": 17,
   "id": "0c255fe3-8115-478f-862d-e7bb615263aa",
   "metadata": {},
   "outputs": [],
   "source": [
    "simi_mtxs = []\n",
    "for feature_group in features_plan:\n",
    "    # simi_calc.calc_dist_simi_matrix(cumulative=True, feature_names=feature_group, norm_type='canb')#, normalize=False)\n",
    "    simi_calc.calc_dist_simi_matrix(cumulative=True, feature_names=feature_group, norm_type='l21')#, normalize=False)\n",
    "    simi_mtxs.append(simi_calc.simi_mtx)"
   ]
  },
  {
   "cell_type": "code",
   "execution_count": 19,
   "id": "c96eb41c-e850-49d9-b7ee-c6f5f4841e99",
   "metadata": {},
   "outputs": [
    {
     "name": "stdout",
     "output_type": "stream",
     "text": [
      "ycsb cpu2\n"
     ]
    }
   ],
   "source": [
    "candid_idx = len(known_data.wl_names) - 3\n",
    "print(known_data.wl_names[candid_idx], known_data.cpu_nums[candid_idx])"
   ]
  },
  {
   "cell_type": "code",
   "execution_count": 21,
   "id": "b3025163-6c8b-47a8-b91c-f0dc944125e7",
   "metadata": {},
   "outputs": [],
   "source": [
    "simi_calc.calc_dist_simi_matrix(cumulative=True, feature_names=plan_top_7, norm_type='l21', normalize=False)"
   ]
  },
  {
   "cell_type": "code",
   "execution_count": 23,
   "id": "2422bdd1-3ba3-4265-984e-a7c4a161fc90",
   "metadata": {},
   "outputs": [
    {
     "name": "stdout",
     "output_type": "stream",
     "text": [
      "cpu2 24\n"
     ]
    }
   ],
   "source": [
    "tops = get_simis(simi_calc.data, simi_calc.simi_mtx, candid_idx)"
   ]
  },
  {
   "cell_type": "code",
   "execution_count": 24,
   "id": "e731d180-2281-4a1d-aa8f-9abcbdd19c0d",
   "metadata": {},
   "outputs": [
    {
     "name": "stdout",
     "output_type": "stream",
     "text": [
      "['13', '14', '15', '17', '19', '18', '16']\n",
      "['tpcc'] cpu2 [32] [32] ['35' '36' '37']\n",
      "['tpcc'] cpu2 [4] [32] ['38' '39' '40']\n",
      "['tpcc'] cpu2 [8] [32] ['41' '42' '43']\n",
      "['twitter'] cpu2 [32] [32] ['47' '48' '49']\n",
      "['twitter'] cpu2 [8] [32] ['53' '54' '55']\n",
      "['twitter'] cpu2 [4] [32] ['50' '51' '52']\n",
      "['tpch'] cpu2 [32] [32] ['44' '45' '46']\n"
     ]
    }
   ],
   "source": [
    "print(tops)\n",
    "simi_data = simi_calc.data\n",
    "for wl in tops:\n",
    "    min_idx, = np.where(np.array(simi_data.wl_groups) == wl)\n",
    "    print(np.unique(np.array(simi_data.wl_names)[min_idx]), simi_data.cpu_nums[candid_idx], \n",
    "          np.unique(np.array(simi_data.terminal_num)[min_idx]), \n",
    "          np.unique(np.array(simi_data.mem_sizes)[min_idx]),\n",
    "          np.unique(np.array(simi_data.run_idx)[min_idx])) "
   ]
  },
  {
   "cell_type": "code",
   "execution_count": null,
   "id": "84ea20d3-277c-4ced-888a-40fd12e0641a",
   "metadata": {},
   "outputs": [],
   "source": []
  }
 ],
 "metadata": {
  "kernelspec": {
   "display_name": "workload_insights",
   "language": "python",
   "name": "workload_insights"
  },
  "language_info": {
   "codemirror_mode": {
    "name": "ipython",
    "version": 3
   },
   "file_extension": ".py",
   "mimetype": "text/x-python",
   "name": "python",
   "nbconvert_exporter": "python",
   "pygments_lexer": "ipython3",
   "version": "3.9.13"
  }
 },
 "nbformat": 4,
 "nbformat_minor": 5
}
