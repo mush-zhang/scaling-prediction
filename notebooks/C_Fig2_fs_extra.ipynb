{
 "cells": [
  {
   "cell_type": "code",
   "execution_count": 1,
   "id": "2ddc07ed-a9e1-4257-83ef-5b758666bd21",
   "metadata": {},
   "outputs": [],
   "source": [
    "# Copy for plotting\n",
    "\n",
    "import numpy as np\n",
    "import matplotlib.pyplot as plt\n",
    "import seaborn as sns\n",
    "import pandas as pd\n",
    "from itertools import compress\n",
    "import time\n",
    "\n",
    "from sklearn.linear_model import lasso_path, enet_path, LogisticRegression, Lasso, ElasticNet\n",
    "from sklearn.tree import DecisionTreeClassifier\n",
    "from sklearn.svm import SVR, LinearSVC\n",
    "from sklearn.ensemble import RandomForestRegressor, RandomForestClassifier\n",
    "from sklearn.metrics.pairwise import rbf_kernel, polynomial_kernel\n",
    "from sklearn.feature_selection import VarianceThreshold, SelectKBest, RFE, SequentialFeatureSelector, SelectFromModel\n",
    "from sklearn.feature_selection import f_classif, chi2, mutual_info_classif, r_regression\n",
    "from sklearn.decomposition import PCA\n",
    "from sklearn.discriminant_analysis import LinearDiscriminantAnalysis\n",
    "from sklearn.decomposition import TruncatedSVD\n",
    "\n",
    "import scipy.stats as ss\n",
    "\n",
    "from helpers import expr_data\n",
    "from helpers import scale_data\n",
    "from helpers import similarity\n",
    "\n",
    "import warnings\n",
    "warnings.filterwarnings(\"ignore\")"
   ]
  },
  {
   "cell_type": "code",
   "execution_count": 2,
   "id": "993a3523-c757-454a-8293-9aa28dcf34c8",
   "metadata": {
    "tags": []
   },
   "outputs": [],
   "source": [
    "SMALL_SIZE = 15\n",
    "MEDIUM_SIZE = 18\n",
    "BIGGER_SIZE = 22\n",
    "SMALL_SMALL_SIZE = 10\n",
    "\n",
    "plt.rc('font', size=SMALL_SIZE)          # controls default text sizes\n",
    "plt.rc('axes', titlesize=SMALL_SIZE)     # fontsize of the axes title\n",
    "plt.rc('axes', labelsize=MEDIUM_SIZE)    # fontsize of the x and y labels\n",
    "plt.rc('xtick', labelsize=SMALL_SIZE)    # fontsize of the tick labels\n",
    "plt.rc('ytick', labelsize=SMALL_SIZE)    # fontsize of the tick labels\n",
    "# plt.rc('legend', fontsize=SMALL_SIZE)    # legend fontsize\n",
    "\n",
    "plt.rc('legend', fontsize=SMALL_SMALL_SIZE)    # legend fontsize\n",
    "plt.rc('figure', titlesize=BIGGER_SIZE)  # fontsize of the figure title"
   ]
  },
  {
   "cell_type": "code",
   "execution_count": 3,
   "id": "b11b96fb-66df-492d-ab4b-08f7e96e94f5",
   "metadata": {},
   "outputs": [],
   "source": [
    "# import random\n",
    "# np.random.seed(47906)\n",
    "# random.seed(15231)"
   ]
  },
  {
   "cell_type": "code",
   "execution_count": 4,
   "id": "72f968ba-a705-4465-9926-e98a873af1dd",
   "metadata": {},
   "outputs": [],
   "source": [
    "import random\n",
    "np.random.seed(42)\n",
    "random.seed(42)"
   ]
  },
  {
   "cell_type": "code",
   "execution_count": 5,
   "id": "4082395c-6c8a-401d-8cd3-8898fb690893",
   "metadata": {},
   "outputs": [],
   "source": [
    "SKU='cpu4'"
   ]
  },
  {
   "cell_type": "markdown",
   "id": "37663de8-c366-46b6-95ad-e0c5cbc432bf",
   "metadata": {},
   "source": [
    "## Load all data"
   ]
  },
  {
   "cell_type": "code",
   "execution_count": 6,
   "id": "35d781e6-951b-4f76-ab71-2fb8d5963c7c",
   "metadata": {},
   "outputs": [],
   "source": [
    "data = expr_data.ExprData()\n",
    "data.load_pickle()\n",
    "# data = data.remove_by_wlname(['xml'])\n",
    "data = data.fix_tpch()\n",
    "# data = data.sample_data()"
   ]
  },
  {
   "cell_type": "markdown",
   "id": "a05f438a-632d-4486-bd01-deea57cd02fc",
   "metadata": {
    "tags": []
   },
   "source": [
    "#### Split by SKU"
   ]
  },
  {
   "cell_type": "code",
   "execution_count": 7,
   "id": "fbbdbae2-b3b0-4309-8945-330f41be72d4",
   "metadata": {},
   "outputs": [],
   "source": [
    "data_by_sku = data.split_by_sku()\n",
    "curr_data = data_by_sku[SKU]"
   ]
  },
  {
   "cell_type": "code",
   "execution_count": 8,
   "id": "e2ba01de-a32f-4c20-8ddc-3ec15bb751c1",
   "metadata": {},
   "outputs": [
    {
     "name": "stdout",
     "output_type": "stream",
     "text": [
      "[(32, 'tpcc'), (32, 'tpcc'), (32, 'tpcc'), (8, 'tpcc'), (8, 'tpcc'), (8, 'tpcc'), (4, 'tpcc'), (4, 'tpcc'), (4, 'tpcc'), (1, 'tpch'), (1, 'tpch'), (1, 'tpch'), (1, 'tpch'), (1, 'tpch'), (1, 'tpch'), (1, 'tpch'), (1, 'tpch'), (1, 'tpch'), (32, 'twitter'), (32, 'twitter'), (32, 'twitter'), (8, 'twitter'), (8, 'twitter'), (8, 'twitter'), (4, 'twitter'), (4, 'twitter'), (4, 'twitter'), (32, 'ycsb'), (4, 'ycsb'), (8, 'ycsb'), (32, 'ycsb'), (4, 'ycsb'), (8, 'ycsb'), (32, 'ycsb'), (4, 'ycsb'), (8, 'ycsb')]\n"
     ]
    }
   ],
   "source": [
    "print(list(zip(curr_data.terminal_num, curr_data.wl_names)))"
   ]
  },
  {
   "cell_type": "markdown",
   "id": "383cc264-c8ee-4a29-b419-d668be0bd37a",
   "metadata": {
    "tags": []
   },
   "source": [
    "#### Calculate Distance"
   ]
  },
  {
   "cell_type": "code",
   "execution_count": 9,
   "id": "cce2a954-220e-4a39-8b69-30afe288e525",
   "metadata": {},
   "outputs": [
    {
     "name": "stdout",
     "output_type": "stream",
     "text": [
      "cpu_num=cpu16\n",
      "(36, 36)\n",
      "(36, 36, 29)\n",
      "(36, 36, 29)\n",
      "cpu_num=cpu2\n",
      "(36, 36)\n",
      "(36, 36, 29)\n",
      "(36, 36, 29)\n",
      "cpu_num=cpu4\n",
      "(36, 36)\n",
      "(36, 36, 29)\n",
      "(36, 36, 29)\n",
      "cpu_num=cpu8\n",
      "(36, 36)\n",
      "(36, 36, 29)\n",
      "(36, 36, 29)\n"
     ]
    }
   ],
   "source": [
    "# the result sku_result is a dict with its key the SKU,\n",
    "# the value a list, the classification accuracy for each f_num\n",
    "data_dist = {}\n",
    "\n",
    "for sku in data_by_sku.keys():\n",
    "    curr_data = data_by_sku[sku]\n",
    "    if 'ter' in sku:\n",
    "        continue\n",
    "    print(f'cpu_num={sku}')\n",
    "    scaler = scale_data.ScaleData()\n",
    "    plan_mtxs_splitted, plan_col_ranges = scaler.scale(curr_data.plan_mtxs)\n",
    "    perf_mtxs_splitted, perf_col_ranges = scaler.scale(curr_data.perf_mtxs)\n",
    "    simi_calc = similarity.Similarity(curr_data, plan_mtxs_splitted, plan_col_ranges, perf_mtxs_splitted, perf_col_ranges, num_bins=10)\n",
    "    # simi_calc.num_bins=100\n",
    "    # simi_calc.num_bins=50\n",
    "\n",
    "    simi_calc.calc_bined_mtx() # all features\n",
    "    simi_calc.calc_dist_simi_matrix(normalize=True)\n",
    "    print(simi_calc.simi_mtx.shape)\n",
    "    # feature wise distance\n",
    "    simi_calc.calc_featurewise_dist_by_col()\n",
    "    print(simi_calc.simi_col_mtx.shape)\n",
    "    # calc_col_dist_simi_matrix(normalize=False) # all features\n",
    "    \n",
    "    data_dist[sku] = simi_calc"
   ]
  },
  {
   "cell_type": "markdown",
   "id": "82729bef-d6fe-4137-97db-ac81ced0bc11",
   "metadata": {
    "tags": []
   },
   "source": [
    "## Select Top K Features"
   ]
  },
  {
   "cell_type": "code",
   "execution_count": 10,
   "id": "525bfc84-5958-495a-a2ff-2bde2ede6049",
   "metadata": {},
   "outputs": [],
   "source": [
    "# return non-zero index in descending order\n",
    "def sparse_argsort(arr):\n",
    "    arr = np.where(np.isnan(arr), 0, arr)\n",
    "    arr = arr * -1\n",
    "    indices = np.nonzero(arr)[0]\n",
    "    result = indices[np.argsort(arr[indices])]\n",
    "    return result\n",
    "\n",
    "def all_argsort(arr):\n",
    "    arr = np.where(np.isnan(arr), 0, arr)\n",
    "    arr = arr * -1\n",
    "    result = np.argsort(arr)\n",
    "    return result"
   ]
  },
  {
   "cell_type": "code",
   "execution_count": 11,
   "id": "003b606f-9b02-4594-852e-9ba6cbbc6c54",
   "metadata": {},
   "outputs": [],
   "source": [
    "def rand_forest_orders(X, y):\n",
    "    selector = RandomForestClassifier(random_state=42, \n",
    "                                      n_jobs=-1, \n",
    "                                      n_estimators=100, \n",
    "                                      max_depth=5)\n",
    "    selector.fit(X,y)\n",
    "    scores = np.abs(selector.feature_importances_)\n",
    "    return sparse_argsort(scores)"
   ]
  },
  {
   "cell_type": "markdown",
   "id": "49ce8a93-ffc5-4852-83e1-268ca1eb087a",
   "metadata": {
    "tags": []
   },
   "source": [
    "### Feature select main function"
   ]
  },
  {
   "cell_type": "code",
   "execution_count": 12,
   "id": "5806b74d-8a98-4634-84fa-ad2a7bd6a677",
   "metadata": {},
   "outputs": [],
   "source": [
    "def get_top_features(curr_data, expr_num, simi_calc, method, note=None):\n",
    "\n",
    "    # create dict for all features\n",
    "    num_features = len(curr_data.feature_cols)\n",
    "    feature_importance = np.array([0]*num_features)\n",
    "    \n",
    "    for i in range(expr_num):\n",
    "        # calculate label\n",
    "        curr_name = curr_data.wl_names[i]\n",
    "        y = [curr_name == name for name in curr_data.wl_names]\n",
    "        # X = simi_calc.dist_by_col_cube[i]\n",
    "        X = simi_calc.simi_col_mtx[i]\n",
    "        \n",
    "        mask = np.ones(X.shape[0], dtype=bool)  \n",
    "        X = X[mask]#.reshape(-1, 1)\n",
    "                \n",
    "        orders = rand_forest_orders(X, y)\n",
    "\n",
    "        for idx in range(len(orders)):\n",
    "            # from 0 to last idx of orders\n",
    "            # the score = num_features - idx\n",
    "            #   for a entry with feature_idx important order idx idx\n",
    "            # the higher the order, the more the score\n",
    "            feature_importance[orders[idx]] += num_features-idx\n",
    "    final_orders = all_argsort(feature_importance)\n",
    "    top_features = [curr_data.feature_cols[j] for j in final_orders]\n",
    "    return top_features"
   ]
  },
  {
   "cell_type": "markdown",
   "id": "e0aaeaf3-3190-4a44-a65e-8fb0dbd067c7",
   "metadata": {
    "tags": []
   },
   "source": [
    "## Compare Feature Selection with Similarity Calculation"
   ]
  },
  {
   "cell_type": "markdown",
   "id": "8aa76e37-9eef-48a0-a450-eb9ba846edc9",
   "metadata": {
    "tags": []
   },
   "source": [
    "#### Experiment Setup"
   ]
  },
  {
   "cell_type": "code",
   "execution_count": 13,
   "id": "cf2cedaf-4df1-4d1f-be62-aa5879ee0dbf",
   "metadata": {},
   "outputs": [],
   "source": [
    "main_dict = {}\n",
    "time_dict = {}"
   ]
  },
  {
   "cell_type": "code",
   "execution_count": 14,
   "id": "6f588563-bde0-4c63-825d-f799d0fbe40a",
   "metadata": {},
   "outputs": [],
   "source": [
    "all_features = data_by_sku[list(data_by_sku.keys())[0]].feature_cols\n",
    "feature_num = len(all_features)\n",
    "\n",
    "knn_thresholds = [1, 2, 3]\n",
    "direct_methods = ['RandomForest']\n",
    "simi_method = 'KNN'\n",
    "\n",
    "f_nums = [1, 3, 7, 15, feature_num]"
   ]
  },
  {
   "cell_type": "code",
   "execution_count": 15,
   "id": "f44d0b4c-6956-40a8-ba82-585884704bf8",
   "metadata": {},
   "outputs": [
    {
     "name": "stdout",
     "output_type": "stream",
     "text": [
      "1\n",
      "RandomForest\n",
      "8.980920195579529\n",
      "2\n",
      "RandomForest\n",
      "9.456942200660706\n",
      "3\n",
      "RandomForest\n",
      "9.626041829586029\n"
     ]
    }
   ],
   "source": [
    "for knn_threshold in knn_thresholds:\n",
    "    print(knn_threshold)\n",
    "    \n",
    "    if knn_threshold not in main_dict:\n",
    "        main_dict[knn_threshold] = {}\n",
    "        time_dict[knn_threshold] = {}\n",
    "    for fs_method in direct_methods:\n",
    "        print(fs_method)\n",
    "        curr_method = {}\n",
    "\n",
    "        for f_num in f_nums:\n",
    "            curr_method[f_num] = []\n",
    "        elapsed = []\n",
    "        for sku in data_by_sku.keys():    \n",
    "            if 'ter' in sku:\n",
    "                continue\n",
    "            curr_data = data_by_sku[sku]\n",
    "            curr_calc = data_dist[sku]\n",
    "            expr_num = curr_data.get_num_exprs()\n",
    "        \n",
    "            all_accs = []\n",
    "            # run 10 times to get the average\n",
    "            num_repeats = 1\n",
    "            for i in range(num_repeats):       \n",
    "                curr_accs = []\n",
    "                start_time = time.time()\n",
    "                top_features = get_top_features(curr_data, expr_num, curr_calc, fs_method, None)\n",
    "                f_features = [top_features[:n] for n in f_nums]\n",
    "                elapsed.append(time.time() - start_time)\n",
    "\n",
    "                for f_num, curr_f in zip(f_nums, f_features):\n",
    "                    curr_calc.calc_dist_simi_matrix(feature_names=curr_f)\n",
    "                    pen, pens = curr_calc.simi_penalty(n=knn_threshold, dependent=True)\n",
    "\n",
    "                    acc = 1 - (np.sum(pens)/(len(pens)*10))\n",
    "                    curr_accs.append(acc)\n",
    "                all_accs.append(curr_accs)\n",
    "            all_accs = np.average(np.array(all_accs), axis=0)\n",
    "            for f_num, acc in zip(f_nums, all_accs):\n",
    "                curr_method[f_num].append(acc)\n",
    "        main_dict[knn_threshold][fs_method] = curr_method\n",
    "        time_dict[knn_threshold][fs_method] = np.mean(elapsed)\n",
    "        print(np.mean(elapsed))"
   ]
  },
  {
   "cell_type": "code",
   "execution_count": 30,
   "id": "4a1fe982-ed5b-41a4-985e-c045497189b6",
   "metadata": {},
   "outputs": [],
   "source": [
    "def pretty_print_table(k=3, sku=None):\n",
    "    name_trans_dict = {\n",
    "        'Forward_SFS_Linear': 'Fw SFS Linear',\n",
    "        'Backward_SFS_Linear': 'Bw SFS Linear',\n",
    "        'Forward_SFS_DecisionTree': 'Fw SFS DecTree',\n",
    "        'Backward_SFS_DecisionTree': 'Bw SFS DecTree',\n",
    "        'Forward_SFS_LogisticRegression': 'Fw SFS LogReg',\n",
    "        'Backward_SFS_LogisticRegression': 'Bw SFS LogReg',\n",
    "        'MutualInfoGain': 'MIGain',\n",
    "        'RFE_Linear': 'RFE Linear',\n",
    "        'RFE_DecisionTree': 'RFE DecTree',\n",
    "        'RFE_LogisticRegression': 'RFE LogReg',\n",
    "        'RandomForest': 'RandForest'\n",
    "    }\n",
    "    \n",
    "    sku_trans_dict = {\n",
    "        'cpu2': 0,\n",
    "        'cpu4': 1,\n",
    "        'cpu8': 2,\n",
    "        'cpu16': 3,\n",
    "    }\n",
    "    \n",
    "    for method, subval in main_dict[k].items():\n",
    "        outstr = '\\\\textcolor{}{'\n",
    "        print_name = method if method not in name_trans_dict else name_trans_dict[method]\n",
    "        outstr += print_name\n",
    "        outstr += '} & '\n",
    "        for fnum, subsubval in subval.items():\n",
    "            if fnum == 29:\n",
    "                continue\n",
    "            outstr += '\\hlrfive{'\n",
    "            if sku is None:\n",
    "                outstr += f'{np.mean(subsubval):.3f}'\n",
    "            else:\n",
    "                outstr += f'{subsubval[sku_trans_dict[sku]]:.3f}'\n",
    "            outstr += '} & '\n",
    "        if method == 'Variance':\n",
    "            if sku is None:\n",
    "                all_acc = np.mean(subval[29])\n",
    "            else:\n",
    "                all_acc = subval[29][sku_trans_dict[sku]]\n",
    "            outstr += '\\multirow{17}{*}{'\n",
    "            outstr += '{:.3f}'.format(all_acc)\n",
    "            outstr += '}'\n",
    "        outstr += ' & \\hlrfive{'        \n",
    "        outstr += f'{time_dict[k][method]:.3f}'\n",
    "        outstr += '} \\\\\\\\'\n",
    "        print(outstr)"
   ]
  },
  {
   "cell_type": "code",
   "execution_count": 22,
   "id": "8a2faf21-860f-452f-a1cb-12cedca8ad34",
   "metadata": {},
   "outputs": [],
   "source": [
    "def calc_mtx_dist(curr_data, curr_calc, f_num, method):\n",
    "    accs = []\n",
    "    expr_num = curr_data.get_num_exprs()\n",
    "    for expr in range(expr_num):\n",
    "        # calculate label\n",
    "        curr_name = curr_data.wl_names[expr]\n",
    "        y = [curr_name == name for name in curr_data.wl_names]\n",
    "        # X = simi_calc.dist_by_col_cube[i]\n",
    "        X = simi_calc.simi_col_mtx[expr]\n",
    "        mask = np.ones(X.shape[0], dtype=bool)\n",
    "        if method == 'PCA':\n",
    "            X = X[mask]#.reshape(-1, 1)\n",
    "            model = PCA(n_components=f_num)\n",
    "            model.fit(X)\n",
    "        elif method == 'LDA':\n",
    "            model = LinearDiscriminantAnalysis(n_components=f_num)\n",
    "            model.fit(X, y)\n",
    "        elif method == 'SVD':\n",
    "            model = TruncatedSVD(n_components=f_num, random_state=42)\n",
    "            model.fit(X)\n",
    "            \n",
    "        simi_mtx = np.zeros((expr_num, expr_num))\n",
    "        \n",
    "        # calculate distance\n",
    "        for i in range(expr_num): # for each experiment with idx i\n",
    "            for j in range(i+1): # for each experiment idx <- i\n",
    "                if i == j:\n",
    "                    continue\n",
    "                else:\n",
    "                    ndarri = model.transform(simi_calc.bined[i])\n",
    "                    ndarrj = model.transform(simi_calc.bined[j])\n",
    "                    simi_mtx[i][j] = np.linalg.norm(np.absolute(ndarri - ndarrj), ord='nuc')/expr_num\n",
    "\n",
    "        for i in range(expr_num):\n",
    "            for j in range(expr_num):\n",
    "                if i < j:\n",
    "                    simi_mtx[i][j] = simi_mtx[j][i]\n",
    "        pen, pens = curr_calc.simi_penalty(n=knn_threshold, simi=simi_mtx)\n",
    "\n",
    "        acc = 1 - (np.sum(pens)/(len(pens)*10))\n",
    "        accs.append(acc)\n",
    "    return accs"
   ]
  },
  {
   "cell_type": "code",
   "execution_count": 24,
   "id": "3912e291-9042-4aa8-a449-39ff59e4d241",
   "metadata": {},
   "outputs": [
    {
     "name": "stdout",
     "output_type": "stream",
     "text": [
      "1\n",
      "PCA\n",
      "cpu16\n",
      "cpu2\n",
      "cpu4\n",
      "cpu8\n",
      "11.218974813818932\n",
      "SVD\n",
      "cpu16\n",
      "cpu2\n",
      "cpu4\n",
      "cpu8\n",
      "11.7953981757164\n",
      "2\n",
      "PCA\n",
      "cpu16\n",
      "cpu2\n",
      "cpu4\n",
      "cpu8\n",
      "9.216870456933975\n",
      "SVD\n",
      "cpu16\n",
      "cpu2\n",
      "cpu4\n",
      "cpu8\n",
      "86.3998896330595\n",
      "3\n",
      "PCA\n",
      "cpu16\n",
      "cpu2\n",
      "cpu4\n",
      "cpu8\n",
      "10.632197946310043\n",
      "SVD\n",
      "cpu16\n",
      "cpu2\n",
      "cpu4\n",
      "cpu8\n",
      "10.247445732355118\n"
     ]
    }
   ],
   "source": [
    "for knn_threshold in knn_thresholds:\n",
    "    print(knn_threshold)\n",
    "    \n",
    "    if knn_threshold not in main_dict:\n",
    "        main_dict[knn_threshold] = {}\n",
    "        time_dict[knn_threshold] = {}\n",
    "    for fs_method in ['PCA', 'SVD']:\n",
    "        print(fs_method)\n",
    "        curr_method = {}\n",
    "\n",
    "        for f_num in f_nums:\n",
    "            curr_method[f_num] = []\n",
    "        elapsed = []\n",
    "        for sku in data_by_sku.keys():    \n",
    "            if 'ter' in sku:\n",
    "                continue\n",
    "            print(sku)\n",
    "            curr_data = data_by_sku[sku]\n",
    "            curr_calc = data_dist[sku]\n",
    "            expr_num = curr_data.get_num_exprs()\n",
    "        \n",
    "            all_accs = []\n",
    "            # run 10 times to get the average\n",
    "            num_repeats = 1\n",
    "            for i in range(num_repeats):       \n",
    "                curr_accs = []\n",
    "                \n",
    "                for f_num in f_nums:\n",
    "                    if f_num > 15:\n",
    "                        curr_accs.append(0)\n",
    "                        continue\n",
    "                    start_time = time.time()\n",
    "                    accs = calc_mtx_dist(curr_data, curr_calc, int(f_num), fs_method)\n",
    "                    elapsed.append(time.time() - start_time)\n",
    "\n",
    "                    curr_accs.append(np.mean(accs))\n",
    "                all_accs.append(curr_accs)\n",
    "            all_accs = np.average(np.array(all_accs), axis=0)\n",
    "            for f_num, acc in zip(f_nums, all_accs):\n",
    "                curr_method[f_num].append(acc)\n",
    "        main_dict[knn_threshold][fs_method] = curr_method\n",
    "        time_dict[knn_threshold][fs_method] = np.mean(elapsed)\n",
    "        print(np.mean(elapsed))"
   ]
  },
  {
   "cell_type": "code",
   "execution_count": 31,
   "id": "27498fb5-a4ab-4859-9e6f-4c499f3ad2a3",
   "metadata": {},
   "outputs": [
    {
     "name": "stdout",
     "output_type": "stream",
     "text": [
      "1 -----overall-----\n",
      "\\textcolor{}{RandForest} & \\hlrfive{0.979} & \\hlrfive{0.990} & \\hlrfive{0.993} & \\hlrfive{0.992} &  & \\hlrfive{8.981} \\\\\n",
      "\\textcolor{}{PCA} & \\hlrfive{0.981} & \\hlrfive{0.997} & \\hlrfive{0.997} & \\hlrfive{0.997} &  & \\hlrfive{11.219} \\\\\n",
      "\\textcolor{}{SVD} & \\hlrfive{0.997} & \\hlrfive{0.997} & \\hlrfive{0.997} & \\hlrfive{0.997} &  & \\hlrfive{11.795} \\\\\n",
      "-----cpu2-----\n",
      "\\textcolor{}{RandForest} & \\hlrfive{0.981} & \\hlrfive{0.972} & \\hlrfive{0.989} & \\hlrfive{0.989} &  & \\hlrfive{8.981} \\\\\n",
      "\\textcolor{}{PCA} & \\hlrfive{0.981} & \\hlrfive{0.997} & \\hlrfive{0.997} & \\hlrfive{0.997} &  & \\hlrfive{11.219} \\\\\n",
      "\\textcolor{}{SVD} & \\hlrfive{0.997} & \\hlrfive{0.997} & \\hlrfive{0.997} & \\hlrfive{0.997} &  & \\hlrfive{11.795} \\\\\n",
      "-----cpu4-----\n",
      "\\textcolor{}{RandForest} & \\hlrfive{0.994} & \\hlrfive{0.994} & \\hlrfive{0.994} & \\hlrfive{0.994} &  & \\hlrfive{8.981} \\\\\n",
      "\\textcolor{}{PCA} & \\hlrfive{0.981} & \\hlrfive{0.997} & \\hlrfive{0.997} & \\hlrfive{0.997} &  & \\hlrfive{11.219} \\\\\n",
      "\\textcolor{}{SVD} & \\hlrfive{0.997} & \\hlrfive{0.997} & \\hlrfive{0.997} & \\hlrfive{0.997} &  & \\hlrfive{11.795} \\\\\n",
      "-----cpu8-----\n",
      "\\textcolor{}{RandForest} & \\hlrfive{0.953} & \\hlrfive{0.997} & \\hlrfive{0.994} & \\hlrfive{0.997} &  & \\hlrfive{8.981} \\\\\n",
      "\\textcolor{}{PCA} & \\hlrfive{0.981} & \\hlrfive{0.997} & \\hlrfive{0.997} & \\hlrfive{0.997} &  & \\hlrfive{11.219} \\\\\n",
      "\\textcolor{}{SVD} & \\hlrfive{0.997} & \\hlrfive{0.997} & \\hlrfive{0.997} & \\hlrfive{0.997} &  & \\hlrfive{11.795} \\\\\n",
      "-----cpu16-----\n",
      "\\textcolor{}{RandForest} & \\hlrfive{0.989} & \\hlrfive{0.997} & \\hlrfive{0.994} & \\hlrfive{0.989} &  & \\hlrfive{8.981} \\\\\n",
      "\\textcolor{}{PCA} & \\hlrfive{0.981} & \\hlrfive{0.997} & \\hlrfive{0.997} & \\hlrfive{0.997} &  & \\hlrfive{11.219} \\\\\n",
      "\\textcolor{}{SVD} & \\hlrfive{0.997} & \\hlrfive{0.997} & \\hlrfive{0.997} & \\hlrfive{0.997} &  & \\hlrfive{11.795} \\\\\n",
      "2 -----overall-----\n",
      "\\textcolor{}{RandForest} & \\hlrfive{0.979} & \\hlrfive{0.990} & \\hlrfive{0.993} & \\hlrfive{0.992} &  & \\hlrfive{9.457} \\\\\n",
      "\\textcolor{}{PCA} & \\hlrfive{0.981} & \\hlrfive{0.997} & \\hlrfive{0.997} & \\hlrfive{0.997} &  & \\hlrfive{9.217} \\\\\n",
      "\\textcolor{}{SVD} & \\hlrfive{0.997} & \\hlrfive{0.997} & \\hlrfive{0.997} & \\hlrfive{0.997} &  & \\hlrfive{86.400} \\\\\n",
      "-----cpu2-----\n",
      "\\textcolor{}{RandForest} & \\hlrfive{0.981} & \\hlrfive{0.972} & \\hlrfive{0.989} & \\hlrfive{0.989} &  & \\hlrfive{9.457} \\\\\n",
      "\\textcolor{}{PCA} & \\hlrfive{0.981} & \\hlrfive{0.997} & \\hlrfive{0.997} & \\hlrfive{0.997} &  & \\hlrfive{9.217} \\\\\n",
      "\\textcolor{}{SVD} & \\hlrfive{0.997} & \\hlrfive{0.997} & \\hlrfive{0.997} & \\hlrfive{0.997} &  & \\hlrfive{86.400} \\\\\n",
      "-----cpu4-----\n",
      "\\textcolor{}{RandForest} & \\hlrfive{0.994} & \\hlrfive{0.994} & \\hlrfive{0.994} & \\hlrfive{0.994} &  & \\hlrfive{9.457} \\\\\n",
      "\\textcolor{}{PCA} & \\hlrfive{0.981} & \\hlrfive{0.997} & \\hlrfive{0.997} & \\hlrfive{0.997} &  & \\hlrfive{9.217} \\\\\n",
      "\\textcolor{}{SVD} & \\hlrfive{0.997} & \\hlrfive{0.997} & \\hlrfive{0.997} & \\hlrfive{0.997} &  & \\hlrfive{86.400} \\\\\n",
      "-----cpu8-----\n",
      "\\textcolor{}{RandForest} & \\hlrfive{0.953} & \\hlrfive{0.997} & \\hlrfive{0.994} & \\hlrfive{0.997} &  & \\hlrfive{9.457} \\\\\n",
      "\\textcolor{}{PCA} & \\hlrfive{0.981} & \\hlrfive{0.997} & \\hlrfive{0.997} & \\hlrfive{0.997} &  & \\hlrfive{9.217} \\\\\n",
      "\\textcolor{}{SVD} & \\hlrfive{0.997} & \\hlrfive{0.997} & \\hlrfive{0.997} & \\hlrfive{0.997} &  & \\hlrfive{86.400} \\\\\n",
      "-----cpu16-----\n",
      "\\textcolor{}{RandForest} & \\hlrfive{0.989} & \\hlrfive{0.997} & \\hlrfive{0.994} & \\hlrfive{0.989} &  & \\hlrfive{9.457} \\\\\n",
      "\\textcolor{}{PCA} & \\hlrfive{0.981} & \\hlrfive{0.997} & \\hlrfive{0.997} & \\hlrfive{0.997} &  & \\hlrfive{9.217} \\\\\n",
      "\\textcolor{}{SVD} & \\hlrfive{0.997} & \\hlrfive{0.997} & \\hlrfive{0.997} & \\hlrfive{0.997} &  & \\hlrfive{86.400} \\\\\n",
      "3 -----overall-----\n",
      "\\textcolor{}{RandForest} & \\hlrfive{0.947} & \\hlrfive{0.984} & \\hlrfive{0.989} & \\hlrfive{0.990} &  & \\hlrfive{9.626} \\\\\n",
      "\\textcolor{}{PCA} & \\hlrfive{0.955} & \\hlrfive{0.993} & \\hlrfive{0.993} & \\hlrfive{0.993} &  & \\hlrfive{10.632} \\\\\n",
      "\\textcolor{}{SVD} & \\hlrfive{0.996} & \\hlrfive{0.993} & \\hlrfive{0.992} & \\hlrfive{0.993} &  & \\hlrfive{10.247} \\\\\n",
      "-----cpu2-----\n",
      "\\textcolor{}{RandForest} & \\hlrfive{0.972} & \\hlrfive{0.961} & \\hlrfive{0.989} & \\hlrfive{0.989} &  & \\hlrfive{9.626} \\\\\n",
      "\\textcolor{}{PCA} & \\hlrfive{0.955} & \\hlrfive{0.993} & \\hlrfive{0.993} & \\hlrfive{0.993} &  & \\hlrfive{10.632} \\\\\n",
      "\\textcolor{}{SVD} & \\hlrfive{0.996} & \\hlrfive{0.993} & \\hlrfive{0.992} & \\hlrfive{0.993} &  & \\hlrfive{10.247} \\\\\n",
      "-----cpu4-----\n",
      "\\textcolor{}{RandForest} & \\hlrfive{0.878} & \\hlrfive{0.992} & \\hlrfive{0.989} & \\hlrfive{0.989} &  & \\hlrfive{9.626} \\\\\n",
      "\\textcolor{}{PCA} & \\hlrfive{0.955} & \\hlrfive{0.993} & \\hlrfive{0.993} & \\hlrfive{0.993} &  & \\hlrfive{10.632} \\\\\n",
      "\\textcolor{}{SVD} & \\hlrfive{0.996} & \\hlrfive{0.993} & \\hlrfive{0.992} & \\hlrfive{0.993} &  & \\hlrfive{10.247} \\\\\n",
      "-----cpu8-----\n",
      "\\textcolor{}{RandForest} & \\hlrfive{0.950} & \\hlrfive{0.992} & \\hlrfive{0.986} & \\hlrfive{0.989} &  & \\hlrfive{9.626} \\\\\n",
      "\\textcolor{}{PCA} & \\hlrfive{0.955} & \\hlrfive{0.993} & \\hlrfive{0.993} & \\hlrfive{0.993} &  & \\hlrfive{10.632} \\\\\n",
      "\\textcolor{}{SVD} & \\hlrfive{0.996} & \\hlrfive{0.993} & \\hlrfive{0.992} & \\hlrfive{0.993} &  & \\hlrfive{10.247} \\\\\n",
      "-----cpu16-----\n",
      "\\textcolor{}{RandForest} & \\hlrfive{0.986} & \\hlrfive{0.992} & \\hlrfive{0.992} & \\hlrfive{0.992} &  & \\hlrfive{9.626} \\\\\n",
      "\\textcolor{}{PCA} & \\hlrfive{0.955} & \\hlrfive{0.993} & \\hlrfive{0.993} & \\hlrfive{0.993} &  & \\hlrfive{10.632} \\\\\n",
      "\\textcolor{}{SVD} & \\hlrfive{0.996} & \\hlrfive{0.993} & \\hlrfive{0.992} & \\hlrfive{0.993} &  & \\hlrfive{10.247} \\\\\n"
     ]
    }
   ],
   "source": [
    "for k in [1,2,3]:\n",
    "    print(k, \"-----overall-----\")\n",
    "    pretty_print_table(k=k)\n",
    "    for sku in [f'cpu{num}' for num in [2, 4, 8, 16]]:\n",
    "        print(f\"-----{sku}-----\")\n",
    "        pretty_print_table(k=k, sku=sku)"
   ]
  },
  {
   "cell_type": "code",
   "execution_count": null,
   "id": "223ddec1-fe0e-43f8-af58-1b23140cea1a",
   "metadata": {},
   "outputs": [],
   "source": []
  }
 ],
 "metadata": {
  "kernelspec": {
   "display_name": "workload_insights",
   "language": "python",
   "name": "workload_insights"
  },
  "language_info": {
   "codemirror_mode": {
    "name": "ipython",
    "version": 3
   },
   "file_extension": ".py",
   "mimetype": "text/x-python",
   "name": "python",
   "nbconvert_exporter": "python",
   "pygments_lexer": "ipython3",
   "version": "3.9.13"
  }
 },
 "nbformat": 4,
 "nbformat_minor": 5
}
