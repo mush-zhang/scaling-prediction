{
 "cells": [
  {
   "cell_type": "code",
   "execution_count": null,
   "id": "d6f46a6e-e57c-441e-a27e-60ebaf5a9ecd",
   "metadata": {},
   "outputs": [],
   "source": [
    "import os\n",
    "import matplotlib.pyplot as plt\n",
    "import datetime\n",
    "import json\n",
    "import matplotlib.gridspec as gridspec\n",
    "\n",
    "import numpy as np\n",
    "import pandas as pd\n",
    "import seaborn as sns\n",
    "\n",
    "from itertools import compress\n",
    "\n",
    "from helpers.expr_data2 import ExprData2\n",
    "from helpers.scale_data import ScaleData\n",
    "from helpers.similarity import Similarity\n",
    "from helpers.feature_selection import FeatureSelection\n",
    "\n",
    "from sklearn.metrics import accuracy_score, f1_score, precision_score, recall_score, classification_report, confusion_matrix\n",
    "\n",
    "import warnings\n",
    "warnings.filterwarnings(\"ignore\")"
   ]
  },
  {
   "cell_type": "code",
   "execution_count": null,
   "id": "4e1ff40a-9e46-4c65-9706-e5c3fd00ae4f",
   "metadata": {
    "tags": []
   },
   "outputs": [],
   "source": [
    "SMALL_SIZE = 15\n",
    "MEDIUM_SIZE = 18\n",
    "BIGGER_SIZE = 22\n",
    "SMALL_SMALL_SIZE = 10\n",
    "\n",
    "plt.rc('font', size=SMALL_SIZE)          # controls default text sizes\n",
    "plt.rc('axes', titlesize=SMALL_SIZE)     # fontsize of the axes title\n",
    "plt.rc('axes', labelsize=MEDIUM_SIZE)    # fontsize of the x and y labels\n",
    "plt.rc('xtick', labelsize=SMALL_SIZE)    # fontsize of the tick labels\n",
    "plt.rc('ytick', labelsize=SMALL_SIZE)    # fontsize of the tick labels\n",
    "plt.rc('legend', fontsize=SMALL_SIZE)    # legend fontsize\n",
    "\n",
    "plt.rc('figure', titlesize=BIGGER_SIZE)  # fontsize of the figure title"
   ]
  },
  {
   "cell_type": "code",
   "execution_count": null,
   "id": "b2a1bd26-d2b1-454b-8086-3b8826cef17c",
   "metadata": {},
   "outputs": [],
   "source": [
    "import random\n",
    "np.random.seed(42)\n",
    "random.seed(15213)"
   ]
  },
  {
   "cell_type": "code",
   "execution_count": null,
   "id": "d5e466c4-fec2-49f5-b3ee-87c2b6028fe3",
   "metadata": {},
   "outputs": [],
   "source": [
    "name_map = {\n",
    "    'tpcc': 'TPC-C',\n",
    "    'tpch': 'TPC-H',\n",
    "    'twitter': 'Twitter',\n",
    "    'ycsb': 'YCSB',\n",
    "    'tpcds': 'TPC-DS',\n",
    "    'wmc': 'PW'\n",
    "}"
   ]
  },
  {
   "cell_type": "code",
   "execution_count": null,
   "id": "310e3d4d-1199-4ba6-81e1-a98390722d03",
   "metadata": {},
   "outputs": [],
   "source": [
    "method='MutualInfoGain'#'RFE' \n",
    "est_name = 'LogisticRegression'"
   ]
  },
  {
   "cell_type": "code",
   "execution_count": null,
   "id": "2b86b71e-c291-4935-8992-971c51be0961",
   "metadata": {},
   "outputs": [],
   "source": [
    "xml_wl_wls = ['18', '19', '20']\n",
    "candid = '20'"
   ]
  },
  {
   "cell_type": "code",
   "execution_count": null,
   "id": "d35bfa4e-fcb2-4df5-be61-63e0b05fd998",
   "metadata": {},
   "outputs": [],
   "source": [
    "def plot_scores_diff_feature_num(simi_mtxs, simi_data, feature_groups, root_idx, method_type, colwise=False, note=''):\n",
    "    fig, ax = plt.subplots(figsize=(3*len(feature_groups), 2.8))\n",
    "    zipped = []\n",
    "    for simi_mtx, feature_group in zip(simi_mtxs, feature_groups):       \n",
    "        curr_labels = [name_map[name] for name in simi_data.wl_names]\n",
    "        curr_zipped = list(zip(simi_data.wl_groups, curr_labels, [feature_group]*simi_data.get_num_exprs(), simi_mtx[root_idx]))\n",
    "        del curr_zipped[root_idx]\n",
    "        zipped += curr_zipped\n",
    "    X_p = pd.DataFrame(zipped, columns=['run', 'workload','feature_group', 'distance'])\n",
    "    X_p = X_p.astype({'distance': float})\n",
    "    X_p.drop([root_idx],inplace=True)\n",
    "\n",
    "    order=['TPC-C', 'TPC-H', 'Twitter']\n",
    "    if X_p['workload'].nunique() == 4:\n",
    "        order.append('TPC-DS')\n",
    "    \n",
    "    # sns.barplot(x=\"distance\", y=\"feature_group\", hue_order=order, orient = 'h',\n",
    "    sns.barplot(y=\"distance\", x=\"feature_group\", hue_order=order,\n",
    "                hue=\"workload\", data=X_p, ax=ax, \n",
    "                palette=sns.color_palette()[:X_p['workload'].nunique()])\n",
    "    plt.xlabel('')\n",
    "    plt.ylabel('Normalized Distance')\n",
    "    # plt.ylabel('')\n",
    "    # plt.xlabel('Normalized Distance')\n",
    "    \n",
    "    expr_idx = simi_data.wl_groups[root_idx]\n",
    "    wl_name = simi_data.wl_names[root_idx] \n",
    "    cpu_num_val = simi_data.cpu_nums[root_idx]\n",
    "    if colwise:\n",
    "        colwise_label = 'Independent'\n",
    "    else:\n",
    "        colwise_label = 'Dependent'\n",
    "    title = 'Base Workload: {}, Method: {} {}.{}'.format(\n",
    "        wl_name, cpu_num_val, colwise_label, method_type, note)\n",
    "    fname = '{}{}_cpu{}_{}_{}{}.pdf'.format(wl_name, expr_idx, cpu_num_val, colwise_label, method_type, note)\n",
    "    # plt.legend(bbox_to_anchor=(1.02, 1), loc='upper left', borderaxespad=0)\n",
    "    plt.legend(bbox_to_anchor=(0, 1, 1, 0), loc='lower left', ncol=4, mode=\"expand\")\n",
    "               #, borderaxespad=0., fontsize=9) # \n",
    "    print(title)\n",
    "    # plt.title(title)\n",
    "    plt.savefig(f'figs/new_wmc_{fname}', bbox_inches = 'tight')\n",
    "    plt.show()"
   ]
  },
  {
   "cell_type": "code",
   "execution_count": null,
   "id": "2719c8f3-fbfa-4632-a033-ab44383264cc",
   "metadata": {},
   "outputs": [],
   "source": [
    "def plot_scores_single(simi_mtx, simi_data, root_idx, data_type, method_type, note=''):\n",
    "    fig, ax = plt.subplots(figsize=(5.2,2))\n",
    "    curr_labels = [name_map[name] for name in simi_data.wl_names]\n",
    "\n",
    "    zipped = list(zip(simi_data.wl_groups, curr_labels, simi_data.cpu_nums, simi_mtx[root_idx]))\n",
    "    X_p = pd.DataFrame(zipped, columns=['run', 'workload','cpu_num', 'distance'])\n",
    "    X_p = X_p.astype({'distance': float})\n",
    "    X_p.drop([root_idx],inplace=True)\n",
    "    \n",
    "    order=['TPC-C', 'TPC-H', 'Twitter']\n",
    "    if X_p['workload'].nunique() == 4:\n",
    "        order.append('TPC-DS')\n",
    "\n",
    "    sns.barplot(y=\"distance\", x=\"workload\", order=order, orient = 'h',\n",
    "    # sns.barplot(x=\"distance\", y=\"workload\", order=order, orient = 'h',\n",
    "                data=X_p, ax=ax, errorbar=\"sd\",\n",
    "                palette=sns.color_palette()[:X_p['workload'].nunique()])\n",
    "    ax.set_xlabel('')\n",
    "    # handles, labels = ax.get_legend_handles_labels()\n",
    "    # ax.get_legend().set_visible(False)\n",
    "\n",
    "    expr_idx = simi_data.wl_groups[root_idx]\n",
    "    wl_name = simi_data.wl_names[root_idx] \n",
    "\n",
    "    plt.savefig(f'figs/Test_Single_{candid}_2', bbox_inches = 'tight')\n",
    "    plt.show()"
   ]
  },
  {
   "cell_type": "code",
   "execution_count": null,
   "id": "73ed32e7-f78c-4c6d-a191-1bcf9cfe8b44",
   "metadata": {},
   "outputs": [],
   "source": [
    "data = ExprData2()\n",
    "data.load_pickle(exclude_wl=[ter for ter in xml_wl_wls if ter != candid ])"
   ]
  },
  {
   "cell_type": "code",
   "execution_count": null,
   "id": "a3711276-9089-49fc-a034-7287b3b06177",
   "metadata": {},
   "outputs": [
    {
     "name": "stdout",
     "output_type": "stream",
     "text": [
      "[('1', 'tpcc', '80'), ('2', 'tpcc', '80'), ('3', 'tpcc', '80'), ('4', 'tpcc', '80'), ('1', 'tpcds', '80'), ('2', 'tpcds', '80'), ('3', 'tpcds', '80'), ('4', 'tpcds', '80'), ('5', 'tpcds', '80'), ('6', 'tpcds', '80'), ('7', 'tpcds', '80'), ('8', 'tpcds', '80'), ('10', 'tpch', '80'), ('11', 'tpch', '80'), ('12', 'tpch', '80'), ('13', 'tpch', '80'), ('5', 'tpch', '80'), ('6', 'tpch', '80'), ('7', 'tpch', '80'), ('8', 'tpch', '80'), ('9', 'tpch', '80'), ('10', 'twitter', '80'), ('11', 'twitter', '80'), ('12', 'twitter', '80'), ('13', 'twitter', '80'), ('14', 'twitter', '80'), ('15', 'twitter', '80'), ('16', 'twitter', '80'), ('17', 'twitter', '80'), ('20', 'wmc', '80')]\n"
     ]
    }
   ],
   "source": [
    "print(list(zip(data.wl_groups, data.wl_names, data.cpu_nums)))"
   ]
  },
  {
   "cell_type": "code",
   "execution_count": null,
   "id": "f0bf3da9-b7c5-455f-83aa-1a1bf9f1d8a4",
   "metadata": {},
   "outputs": [],
   "source": [
    "candid_idx = data.wl_groups.index(candid)"
   ]
  },
  {
   "cell_type": "code",
   "execution_count": null,
   "id": "47948c17-72e6-4b1a-adc2-8e769f64f315",
   "metadata": {},
   "outputs": [],
   "source": [
    "# similarity for all\n",
    "scaler = ScaleData()\n",
    "plan_mtxs, plan_col_ranges = scaler.scale(data.plan_mtxs)\n",
    "\n",
    "simi_calc_all = Similarity(data, plan_mtxs, plan_col_ranges, None, [])\n",
    "simi_calc_all.calc_bined_mtx(plan_only=True) # all plan features"
   ]
  },
  {
   "cell_type": "code",
   "execution_count": null,
   "id": "6d4c0870-0faf-4fe9-9773-988f57ad557f",
   "metadata": {},
   "outputs": [
    {
     "name": "stdout",
     "output_type": "stream",
     "text": [
      "(30, 30, 22)\n",
      "(30, 30, 22)\n",
      "['EstimateIO', 'StatementSubTreeCost', 'AvgRowSize', 'CachedPlanSize', 'CompileMemory', 'StatementEstRows', 'SerialRequiredMemory']\n",
      "(30, 30, 22)\n",
      "['EstimateIO', 'AvgRowSize', 'StatementSubTreeCost', 'SerialRequiredMemory', 'StatementEstRows', 'EstimateRows', 'CompileMemory', 'CachedPlanSize', 'EstimateCPU', 'MaxUsedMemory']\n"
     ]
    }
   ],
   "source": [
    "simi_calc = simi_calc_all\n",
    "fs = FeatureSelection(simi_calc)\n",
    "plan_features = data.plan_feature_cols\n",
    "plan_top_7 = fs.select_features(7, method, est_name=est_name, direction=None, feature_type='plan')\n",
    "plan_top_3 = fs.select_features(3, method, est_name=est_name, direction=None, feature_type='plan')\n",
    "print(plan_top_7)\n",
    "feature_group_plan = ['plan_3', 'plan_7', 'plan']\n",
    "features_plan = [plan_top_3, plan_top_7, plan_features]"
   ]
  },
  {
   "cell_type": "code",
   "execution_count": null,
   "id": "0c255fe3-8115-478f-862d-e7bb615263aa",
   "metadata": {},
   "outputs": [],
   "source": [
    "simi_mtxs = []\n",
    "for feature_group in features_plan:\n",
    "    simi_calc.calc_dist_simi_matrix(cumulative=True, feature_names=feature_group, norm_type='canb', normalize=True)\n",
    "    simi_mtxs.append(simi_calc.simi_mtx)"
   ]
  },
  {
   "cell_type": "code",
   "execution_count": 15,
   "id": "269354b7-be2d-46eb-aab9-063bd50a45be",
   "metadata": {},
   "outputs": [
    {
     "name": "stdout",
     "output_type": "stream",
     "text": [
      "Base Workload: wmc, Method: 80 Independent.Cumulative Histogram Canb Norm\n"
     ]
    },
    {
     "data": {
      "image/png": "[encoded data removed]",
      "text/plain": [
       "<Figure size 900x280 with 1 Axes>"
      ]
     },
     "metadata": {},
     "output_type": "display_data"
    }
   ],
   "source": [
    "plot_scores_diff_feature_num(simi_mtxs, simi_calc.data, feature_group_plan, candid_idx, 'Cumulative Histogram Canb Norm', colwise=True, note='')"
   ]
  }
 ],
 "metadata": {
  "kernelspec": {
   "display_name": "workload_insights",
   "language": "python",
   "name": "workload_insights"
  },
  "language_info": {
   "codemirror_mode": {
    "name": "ipython",
    "version": 3
   },
   "file_extension": ".py",
   "mimetype": "text/x-python",
   "name": "python",
   "nbconvert_exporter": "python",
   "pygments_lexer": "ipython3",
   "version": "3.9.13"
  }
 },
 "nbformat": 4,
 "nbformat_minor": 5
}
