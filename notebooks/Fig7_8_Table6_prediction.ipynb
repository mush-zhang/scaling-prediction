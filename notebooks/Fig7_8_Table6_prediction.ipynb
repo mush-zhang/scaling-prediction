{
 "cells": [
  {
   "cell_type": "code",
   "execution_count": 1,
   "id": "b040608c-b6b2-484a-97ec-0d2c3ae19811",
   "metadata": {},
   "outputs": [
    {
     "name": "stdout",
     "output_type": "stream",
     "text": [
      "The history saving thread hit an unexpected error (DatabaseError('database disk image is malformed')).History will not be written to the database.\n"
     ]
    }
   ],
   "source": [
    "import os\n",
    "import matplotlib.pyplot as plt\n",
    "import datetime\n",
    "import time\n",
    "import matplotlib.gridspec as gridspec\n",
    "\n",
    "import pickle\n",
    "import numpy as np\n",
    "import pandas as pd\n",
    "import seaborn as sns\n",
    "\n",
    "from itertools import compress\n",
    "\n",
    "from helpers.expr_data import ExprData\n",
    "from helpers.scale_data import ScaleData\n",
    "from helpers.similarity import Similarity\n",
    "from helpers.feature_selection import FeatureSelection\n",
    "\n",
    "from sklearn.metrics import accuracy_score, f1_score, precision_score, recall_score, classification_report, confusion_matrix\n",
    "from sklearn.metrics import root_mean_squared_error as rmse_score\n",
    "from sklearn.metrics import make_scorer\n",
    "\n",
    "import warnings\n",
    "warnings.filterwarnings(\"ignore\")"
   ]
  },
  {
   "cell_type": "code",
   "execution_count": 2,
   "id": "d19d30e8-774c-4feb-b1d8-e7e260fc16ef",
   "metadata": {},
   "outputs": [],
   "source": [
    "SMALL_SIZE = 15\n",
    "MEDIUM_SIZE = 18\n",
    "BIGGER_SIZE = 22\n",
    "SMALL_SMALL_SIZE = 10\n",
    "\n",
    "plt.rc('font', size=SMALL_SIZE)          # controls default text sizes\n",
    "plt.rc('axes', titlesize=SMALL_SIZE)     # fontsize of the axes title\n",
    "plt.rc('axes', labelsize=MEDIUM_SIZE)    # fontsize of the x and y labels\n",
    "plt.rc('xtick', labelsize=SMALL_SIZE)    # fontsize of the tick labels\n",
    "plt.rc('ytick', labelsize=SMALL_SIZE)    # fontsize of the tick labels\n",
    "\n",
    "plt.rc('legend', fontsize=SMALL_SMALL_SIZE)    # legend fontsize\n",
    "plt.rc('figure', titlesize=BIGGER_SIZE)  # fontsize of the figure title"
   ]
  },
  {
   "cell_type": "code",
   "execution_count": 3,
   "id": "e29ae11c-eee0-4d6a-b83e-c6c0a2835925",
   "metadata": {},
   "outputs": [],
   "source": [
    "OVERALL_PLOT = True"
   ]
  },
  {
   "cell_type": "code",
   "execution_count": 4,
   "id": "6e2ffc80-d57c-4347-9191-6897c280625b",
   "metadata": {},
   "outputs": [],
   "source": [
    "X_label = 'SKU'\n",
    "expr_label = 'EXPR'\n",
    "y_true_label = 'Y_TRUE'\n",
    "y_pred_label = 'Y_PRED'\n",
    "suffix_labels = ['_small', '_large']"
   ]
  },
  {
   "cell_type": "code",
   "execution_count": 5,
   "id": "9bfa50a2-27bc-4d9e-bac2-fd57b5e49124",
   "metadata": {},
   "outputs": [],
   "source": [
    "import random\n",
    "np.random.seed(47907)\n",
    "random.seed(47907)"
   ]
  },
  {
   "cell_type": "code",
   "execution_count": 6,
   "id": "8849241e-37b3-4345-b1da-d6572aa243a6",
   "metadata": {},
   "outputs": [],
   "source": [
    "def nrmse_score(y_true, y_pred):\n",
    "    return rmse_score(y_true, y_pred)/(np.max(y_true)-np.min(y_true))\n",
    "score_func = make_scorer(nrmse_score, greater_is_better=False)"
   ]
  },
  {
   "cell_type": "code",
   "execution_count": 7,
   "id": "69b597f4-f58e-480c-9856-b48fa0de744b",
   "metadata": {},
   "outputs": [],
   "source": [
    "# read in the performance metrics for each experiment\n",
    "data_all = ExprData()\n",
    "data_all.load_pickle()\n",
    "data = data_all.remove_by_wlname(['xml', 'ycsb'])\n",
    "ycsb_data = data_all.remove_by_wlname(['xml', 'tpcc', 'tpch', 'twitter'])"
   ]
  },
  {
   "cell_type": "code",
   "execution_count": 8,
   "id": "22ade028-0568-4894-a9f1-b3e844c0c3ba",
   "metadata": {},
   "outputs": [],
   "source": [
    "data = data.merge_tpch()"
   ]
  },
  {
   "cell_type": "code",
   "execution_count": 9,
   "id": "f74f5e95-30ac-42ce-b1d8-6310c9b7a4c5",
   "metadata": {},
   "outputs": [
    {
     "name": "stdout",
     "output_type": "stream",
     "text": [
      "(108, 108, 29)\n"
     ]
    }
   ],
   "source": [
    "# similarity for all\n",
    "new_data = data.keep_complete_exprs()\n",
    "\n",
    "scaler = ScaleData()\n",
    "plan_mtxs, plan_col_ranges = scaler.scale(new_data.plan_mtxs)\n",
    "perf_mtxs, perf_col_ranges = scaler.scale(new_data.perf_mtxs)\n",
    "\n",
    "simi_calc_all = Similarity(new_data, plan_mtxs, plan_col_ranges, perf_mtxs, perf_col_ranges)\n",
    "simi_calc_all.calc_bined_mtx() # all plan features\n",
    "\n",
    "simi_calc = simi_calc_all\n",
    "fs = FeatureSelection(simi_calc)\n",
    "\n",
    "all_top_7 = fs.select_features(7, 'fANOVA', est_name=None, direction=None, feature_type=None)"
   ]
  },
  {
   "cell_type": "code",
   "execution_count": 10,
   "id": "0df02f90-bcd6-4342-9a00-cfce693deb80",
   "metadata": {},
   "outputs": [],
   "source": [
    "sampled_data = new_data.sample_data()"
   ]
  },
  {
   "cell_type": "code",
   "execution_count": 11,
   "id": "71e5e309-a1d7-4819-897b-4ce9d1c27e91",
   "metadata": {},
   "outputs": [],
   "source": [
    "data_by_type = sampled_data.split_by_type()"
   ]
  },
  {
   "cell_type": "code",
   "execution_count": 12,
   "id": "c0ec1e18-1336-4752-9197-e588b9cc17a5",
   "metadata": {},
   "outputs": [],
   "source": [
    "sampled_by_type = sampled_data.split_by_type()\n",
    "for ty, expr_set in sampled_by_type.items():\n",
    "    sub_by_term = expr_set.split_by_term()\n",
    "    sampled_by_type[ty] = sub_by_term"
   ]
  },
  {
   "cell_type": "code",
   "execution_count": 13,
   "id": "86f50be2-f21d-46ce-b20b-65eed7e96283",
   "metadata": {},
   "outputs": [],
   "source": [
    "def get_cpu_nums_as_X(l):\n",
    "    return np.array([int(e[3:]) for e in l]).reshape(-1, 1)"
   ]
  },
  {
   "cell_type": "code",
   "execution_count": 14,
   "id": "ef55cdf6-8994-4a3f-b4b8-c047f866c930",
   "metadata": {},
   "outputs": [],
   "source": [
    "all_results = {}\n",
    "all_times = {}"
   ]
  },
  {
   "cell_type": "markdown",
   "id": "00318153-e6bc-457a-8723-c789810864bb",
   "metadata": {},
   "source": [
    "## Regression\n",
    "\n",
    "Use only CPU number and target (throughput)"
   ]
  },
  {
   "cell_type": "code",
   "execution_count": 15,
   "id": "b4fb0f65-42ff-4b7b-91eb-3379ad6aa832",
   "metadata": {},
   "outputs": [],
   "source": [
    "from sklearn.linear_model import LinearRegression\n",
    "from sklearn.model_selection import KFold\n",
    "from sklearn.metrics import r2_score\n",
    "\n",
    "X_label = 'cpu_num'\n",
    "y_label = 'throughput'"
   ]
  },
  {
   "cell_type": "code",
   "execution_count": 16,
   "id": "80d85743-29e1-4d7c-954b-a48f4cce6972",
   "metadata": {},
   "outputs": [],
   "source": [
    "def plot_regeression(model, X, y, workload_name, group_type, groupping_id, show_fig=False):\n",
    "    colors = sns.color_palette()\n",
    "    if workload_name == 'tpcc':\n",
    "        color = colors[0]\n",
    "    elif workload_name == 'tpch':\n",
    "        color = colors[1]\n",
    "    elif workload_name == 'twitter':\n",
    "        color = colors[2]\n",
    "    else:\n",
    "        color = colors[3]\n",
    "    x_new = np.linspace(0, np.max(X)*1.1, 100)\n",
    "    y_new = model.predict(x_new[:, np.newaxis])\n",
    "    \n",
    "    plt.figure(figsize=(4,3.6))\n",
    "    ax = plt.axes()\n",
    "    ax.scatter(X.reshape(-1,1), y, color=color)\n",
    "    ax.plot(x_new, y_new, color=color)\n",
    "    \n",
    "    ax.set_xlabel('Num CPU')\n",
    "    ax.set_ylabel('Throughput')\n",
    "    \n",
    "    ax.axis('tight')\n",
    "    plt.savefig(f'figs/prediction/regr_all_{workload_name}_{group_type}_{groupping_id}.pdf', bbox_inches = 'tight')\n",
    "    if show_fig:\n",
    "        plt.show()\n",
    "    else:\n",
    "        plt.close() "
   ]
  },
  {
   "cell_type": "code",
   "execution_count": 17,
   "id": "f301f1b1-1168-4faa-87b3-d4c4dd10671f",
   "metadata": {},
   "outputs": [],
   "source": [
    "def build_regression_model(X, y, wl_name, grouping_type, groupping_id, plot=False, show_fig=False):  \n",
    "    train_rmses, test_rmses = [], []\n",
    "    k = 5\n",
    "    num_cpus = np.sort(np.unique(X))\n",
    "    train_time = 0\n",
    "\n",
    "    kf = KFold(n_splits=k, shuffle=True)\n",
    "    for train_index, test_index in kf.split(X):\n",
    "        start = time.time()\n",
    "\n",
    "        X_train = X[train_index]\n",
    "        y_train = y[train_index]\n",
    "        X_test = X[test_index]\n",
    "        y_test = y[test_index]\n",
    "        reg = LinearRegression()\n",
    "        reg.fit(X_train, y_train)\n",
    "        test_pred = reg.predict(X_test)\n",
    "        train_pred = reg.predict(X_train)\n",
    "        end = time.time()\n",
    "        train_time += end - start\n",
    "        for i in range(len(num_cpus)):\n",
    "            for j in range(i, len(num_cpus)):\n",
    "                if i == j:\n",
    "                    continue\n",
    "                cpu_a = num_cpus[i] # smaller\n",
    "                cpu_b = num_cpus[j] # larger\n",
    "                curr_mask = [x_lab == cpu_a or x_lab == cpu_b for x_lab in X_test.flatten()]\n",
    "\n",
    "                curr_y_true = y_test[curr_mask]\n",
    "                rmse = np.sqrt(((curr_y_true-test_pred[curr_mask])**2).mean())\n",
    "                n_rmse = rmse / (np.max(curr_y_true)-np.min(curr_y_true))\n",
    "                test_rmses.append(n_rmse)\n",
    "                \n",
    "                curr_mask = [x_lab == cpu_a or x_lab == cpu_b for x_lab in X_train.flatten()]\n",
    "                \n",
    "                curr_y_true = y_train[curr_mask]\n",
    "                rmse = np.sqrt(((curr_y_true-train_pred[curr_mask])**2).mean())\n",
    "                n_rmse = rmse / (np.max(curr_y_true)-np.min(curr_y_true))\n",
    "                train_rmses.append(n_rmse)\n",
    "    \n",
    "    train_time /= k\n",
    "    \n",
    "    if plot:\n",
    "        # plot the last one as example\n",
    "        plot_regeression(reg, X_train, y_train, wl_name,grouping_type, groupping_id, show_fig)\n",
    "\n",
    "    overall_test_rmse = np.mean(test_rmses)\n",
    "    overall_train_rmse = np.mean(train_rmses)\n",
    "    return overall_test_rmse, overall_train_rmse, train_time"
   ]
  },
  {
   "cell_type": "code",
   "execution_count": 18,
   "id": "69f11589-139d-4d11-a87d-c09e344d2775",
   "metadata": {},
   "outputs": [
    {
     "name": "stdout",
     "output_type": "stream",
     "text": [
      "Group Id: 1, wl name tpcc, terminal num 32\n",
      "Test rmse = 0.2913453501127001, Train rmse = 0.2337208497007384\n",
      "Group Id: 2, wl name tpch, terminal num 1\n",
      "Test rmse = 0.25346617548886174, Train rmse = 0.21361955311692993\n",
      "Group Id: 3, wl name twitter, terminal num 32\n",
      "Test rmse = 0.31295941100214036, Train rmse = 0.23525483021524307\n",
      "Group Id: 4, wl name twitter, terminal num 8\n",
      "Test rmse = 0.3856023057402724, Train rmse = 0.30633770385484066\n",
      "Group Id: 7, wl name tpcc, terminal num 8\n",
      "Test rmse = 0.31123098579181724, Train rmse = 0.2615524089327868\n",
      "Group Id: 8, wl name tpcc, terminal num 4\n",
      "Test rmse = 0.29596456353321987, Train rmse = 0.24552746101987175\n",
      "Group Id: 9, wl name twitter, terminal num 4\n",
      "Test rmse = 0.36314812916608574, Train rmse = 0.29450384350676656\n",
      "Overall test nrmse: 0.3162452744050139, train 0.2557880929067396\n"
     ]
    }
   ],
   "source": [
    "all_tests, all_trains = [], []\n",
    "all_results['Regression'] = {}\n",
    "all_times['Regression'] = {}\n",
    "\n",
    "for ty, curr_data in data_by_type.items():\n",
    "    name = curr_data.wl_names[0]\n",
    "    term = curr_data.terminal_num[0]\n",
    "    if name not in all_results['Regression']:\n",
    "        all_results['Regression'][name] = {}\n",
    "        all_times['Regression'][name] = {}\n",
    "    print(f'Group Id: {ty}, wl name {name}, terminal num {term}')\n",
    "    \n",
    "    X = get_cpu_nums_as_X(curr_data.cpu_nums)\n",
    "    y = np.array(curr_data.wl_throughput)\n",
    "    test_r2_mean, train_r2_mean, train_time = build_regression_model(X, y, \n",
    "                                                                     curr_data.wl_names[0], 'group', \n",
    "                                                                     curr_data.wl_groups[0], \n",
    "                                                                     plot=OVERALL_PLOT, show_fig=False)\n",
    "    print('Test rmse = {}, Train rmse = {}'.format(test_r2_mean, train_r2_mean))\n",
    "    all_tests.append(test_r2_mean)\n",
    "    all_trains.append(train_r2_mean)\n",
    "    all_results['Regression'][name][term] = test_r2_mean\n",
    "    all_times['Regression'][name][term] = train_time\n",
    "print('Overall test nrmse: {}, train {}'.format(np.mean(all_tests), np.mean(all_trains)))"
   ]
  },
  {
   "cell_type": "markdown",
   "id": "7971e759-904e-40c9-a868-ef8ecd40128e",
   "metadata": {},
   "source": [
    "## SVM\n",
    "\n",
    "Use only CPU number and target (throughput)"
   ]
  },
  {
   "cell_type": "code",
   "execution_count": 19,
   "id": "14c11db2-f1be-4d03-a4fc-ca035c0291f1",
   "metadata": {},
   "outputs": [],
   "source": [
    "from sklearn.svm import SVR\n",
    "from sklearn.model_selection import GridSearchCV\n",
    "import time"
   ]
  },
  {
   "cell_type": "code",
   "execution_count": 20,
   "id": "755db352-96ed-4a6c-8dc5-49d8e3ac83c5",
   "metadata": {},
   "outputs": [],
   "source": [
    "def plot_svr(model, X, y, workload_name, group_type, groupping_id, show_fig=False):\n",
    "    colors = sns.color_palette()\n",
    "    if workload_name == 'tpcc':\n",
    "        color = colors[0]\n",
    "    elif workload_name == 'tpch':\n",
    "        color = colors[1]\n",
    "    elif workload_name == 'twitter':\n",
    "        color = colors[2]\n",
    "    else:\n",
    "        color = colors[3]\n",
    "    x_new = np.linspace(0, np.max(X)*1.1, 100)\n",
    "    y_new = model.predict(x_new[:, np.newaxis])\n",
    "    \n",
    "    plt.figure(figsize=(4,3.6))\n",
    "    ax = plt.axes()\n",
    "    ax.scatter(X.reshape(-1,1), y, color=color)\n",
    "    ax.plot(x_new, y_new, color=color)\n",
    "    \n",
    "    ax.set_xlabel('Num CPU')\n",
    "    ax.set_ylabel('Throughput')\n",
    "    \n",
    "    ax.axis('tight')\n",
    "    plt.savefig(f'figs/prediction/svr_all_{workload_name}_{group_type}_{groupping_id}.pdf', bbox_inches = 'tight')\n",
    "    if show_fig:\n",
    "        plt.show()\n",
    "    else:\n",
    "        plt.close() "
   ]
  },
  {
   "cell_type": "code",
   "execution_count": 21,
   "id": "8de6d524-55a2-4a5a-9014-429ea2ab199a",
   "metadata": {},
   "outputs": [],
   "source": [
    "def build_svm_model(X, y, wl_name, grouping_type, groupping_id, plot=False, show_fig=False):  \n",
    "    # epsilon range: according to this paper: http://adrem.uantwerpen.be/bibrem/pubs/IJCNN2007.pdf\n",
    "    # C range: https://www.csie.ntu.edu.tw/~cjlin/papers/guide/guide.pdf\n",
    "    \n",
    "    # Cross validation grid search (best parameters) \n",
    "    c_range = np.logspace(-5, 5, base=2.0, num=5) # 1 and 100\n",
    "    epsilon_range = np.linspace(10 ** -3, 1, 5) # 1-e3 and 1\n",
    "    degree_range = np.array(list(range(1, 5)))\n",
    "    tuned_parameters = [{'kernel': ['rbf'],'C': c_range, 'epsilon': epsilon_range}, \n",
    "                        {'kernel': ['linear'], 'C': c_range, 'epsilon': epsilon_range}, \n",
    "                        {'kernel': ['poly'], 'C': c_range, 'degree': degree_range, 'epsilon': epsilon_range} \n",
    "                       ]\n",
    "\n",
    "    svr = SVR()\n",
    "    clf = GridSearchCV(svr,param_grid=tuned_parameters,verbose=0, n_jobs=4,\n",
    "                       cv=5, \n",
    "                       scoring=score_func, #'neg_root_mean_squared_error',# score_func #'r2', \n",
    "                       return_train_score=True)\n",
    "    clf.fit(X, y)\n",
    "    \n",
    "    best_params = clf.best_params_\n",
    "    results = pd.DataFrame.from_dict(clf.cv_results_)\n",
    "    results_best = results[results['params'] == best_params].reset_index()\n",
    "    train_time = results_best['mean_fit_time'][0]\n",
    "\n",
    "\n",
    "    # use the selected model to repredict\n",
    "    train_rmses, test_rmses = [], []\n",
    "    k = 5\n",
    "    models = []   \n",
    "    num_cpus = np.sort(np.unique(X))\n",
    "    \n",
    "    err_dict = {}\n",
    "    \n",
    "    metrics = [X_label, y_label]\n",
    "    zipped = zip(X, y)\n",
    "    # append fixed effect and random effect to data\n",
    "    overall_data = pd.DataFrame(zipped, columns=metrics)\n",
    "    \n",
    "    kf = KFold(n_splits=k, shuffle=False)\n",
    "    for i in range(len(num_cpus)):\n",
    "        for j in range(i, len(num_cpus)):\n",
    "            if i == j:\n",
    "                continue\n",
    "            cpu_a = num_cpus[i] # smaller\n",
    "            cpu_b = num_cpus[j] # larger\n",
    "            curr_data = overall_data[ (overall_data[X_label] == cpu_a) | (overall_data[X_label] == cpu_b) ]\n",
    "            for train_index, test_index in kf.split(curr_data):\n",
    "                data = curr_data.iloc[train_index]\n",
    "                test = curr_data.iloc[test_index]\n",
    "                X_train = data[X_label].to_numpy().reshape(-1,1)\n",
    "                y_train = data[y_label].to_numpy()\n",
    "                X_test = test[X_label].to_numpy().reshape(-1,1)\n",
    "                y_test = test[y_label].to_numpy()\n",
    "                test_pred = clf.predict(X_test)\n",
    "                train_pred = clf.predict(X_train)\n",
    "                rmse = np.sqrt(((y_test-test_pred)**2).mean())\n",
    "                n_rmse = rmse / (np.max(y_test)-np.min(y_test))\n",
    "                test_rmses.append(n_rmse)\n",
    "\n",
    "                rmse = np.sqrt(((y_train-train_pred)**2).mean())\n",
    "                n_rmse = rmse / (np.max(y_train)-np.min(y_train))\n",
    "                train_rmses.append(n_rmse)\n",
    "            print(test_rmses[-k:])\n",
    "            print(f'NRMSE from {num_cpus[i]} to {num_cpus[j]} is {np.mean(test_rmses[-k:])}')\n",
    "            \n",
    "    if plot:\n",
    "        plot_svr(clf, X, y, wl_name, grouping_type, groupping_id, show_fig)\n",
    "\n",
    "    overall_train_rmse = np.mean(train_rmses)\n",
    "    overall_test_rmse = np.mean(test_rmses)\n",
    "\n",
    "    # with open(f\"model_pkl/svm_single{groupping_id}.pkl\", \"wb\") as f:\n",
    "    #     pickle.dump(clf, f)\n",
    "    return overall_test_rmse, overall_train_rmse, train_time"
   ]
  },
  {
   "cell_type": "code",
   "execution_count": 22,
   "id": "d60dd21c-05cc-4c4b-927b-0367378c9d80",
   "metadata": {},
   "outputs": [
    {
     "name": "stdout",
     "output_type": "stream",
     "text": [
      "Group Id: 1, wl name tpcc, terminal num 32\n",
      "[0.3097869599676964, 0.44231865704561935, 0.34365399200907104, 0.3181194625506907, 0.38487613476560406]\n",
      "NRMSE from 2 to 4 is 0.3597510412677363\n",
      "[0.3412427522918049, 0.30237389332125075, 0.28788936928079084, 0.2522669234390178, 0.2813671706661492]\n",
      "NRMSE from 2 to 8 is 0.2930280217998027\n",
      "[0.2551071524521237, 0.22592918000582066, 0.2413136025535123, 0.20987739721137227, 0.22784170477032484]\n",
      "NRMSE from 2 to 16 is 0.23201380739863078\n",
      "[0.3160696803850576, 0.30774988325997493, 0.2890057198657137, 0.2855036069821495, 0.3192173297428609]\n",
      "NRMSE from 4 to 8 is 0.3035092440471513\n",
      "[0.25097454427065324, 0.2288172402389606, 0.24163584410646158, 0.2412278346488753, 0.24687454296242942]\n",
      "NRMSE from 4 to 16 is 0.24190600124547604\n",
      "[0.2855174828527376, 0.23443139130649124, 0.29125949779274535, 0.2755867744877426, 0.26921314565205645]\n",
      "NRMSE from 8 to 16 is 0.27120165841835464\n"
     ]
    },
    {
     "data": {
      "image/png": "[encoded data removed]",
      "text/plain": [
       "<Figure size 400x360 with 1 Axes>"
      ]
     },
     "metadata": {},
     "output_type": "display_data"
    },
    {
     "name": "stdout",
     "output_type": "stream",
     "text": [
      "Test rmse = 0.2835682956961919, Train rmse = 0.2464373389425038\n",
      "Group Id: 2, wl name tpch, terminal num 1\n",
      "[0.3217342433471444, 0.24201532650016824, 0.21931258236255613, 0.2695105178203119, 0.226800209251154]\n",
      "NRMSE from 2 to 4 is 0.25587457585626694\n",
      "[0.27853370075390094, 0.244320511560665, 0.2427323982429166, 0.22186024983314556, 0.27003776181398587]\n",
      "NRMSE from 2 to 8 is 0.25149692444092275\n",
      "[0.22830131163740314, 0.2197101534501302, 0.23300300920662673, 0.31372017264523683, 0.240862573579186]\n",
      "NRMSE from 2 to 16 is 0.2471194441037166\n",
      "[0.2748523152280318, 0.2543525763829543, 0.23910896492257352, 0.27471649726073616, 0.22112005760996356]\n",
      "NRMSE from 4 to 8 is 0.2528300822808519\n",
      "[0.2580841332854187, 0.22336149598679303, 0.25875125773662155, 0.3087076451395288, 0.26287235330373976]\n",
      "NRMSE from 4 to 16 is 0.2623553770904204\n",
      "[0.22452776264379246, 0.2655403454969143, 0.25234616158933754, 0.25919870176113535, 0.23983072726526172]\n",
      "NRMSE from 8 to 16 is 0.2482887397512883\n"
     ]
    },
    {
     "data": {
      "image/png": "[encoded data removed]",
      "text/plain": [
       "<Figure size 400x360 with 1 Axes>"
      ]
     },
     "metadata": {},
     "output_type": "display_data"
    },
    {
     "name": "stdout",
     "output_type": "stream",
     "text": [
      "Test rmse = 0.2529941905872445, Train rmse = 0.21692663553049643\n",
      "Group Id: 3, wl name twitter, terminal num 32\n",
      "[0.29943276961777415, 0.3025078262112681, 0.2872045785822178, 0.29933263602207183, 0.3134667361213183]\n",
      "NRMSE from 2 to 4 is 0.30038890931093004\n",
      "[0.24513105694690804, 0.29818500276764265, 0.3148169992334371, 0.29791064558611513, 0.31852122351930945]\n",
      "NRMSE from 2 to 8 is 0.29491298561068247\n",
      "[0.2605682922472182, 0.295780845331265, 0.3412594351446251, 0.28201601749117317, 0.2197872035532849]\n",
      "NRMSE from 2 to 16 is 0.27988235875351325\n",
      "[0.31404067794659923, 0.29951378937949236, 0.28461813343857145, 0.3162160612837794, 0.3339207802764246]\n",
      "NRMSE from 4 to 8 is 0.3096618884649734\n",
      "[0.2594678728689674, 0.2817232915957416, 0.2547815201559771, 0.27354051894754416, 0.24460739352251848]\n",
      "NRMSE from 4 to 16 is 0.26282411941814976\n",
      "[0.2567106470277488, 0.28229851759888486, 0.26327842378091604, 0.27292720394407405, 0.2287306693349966]\n",
      "NRMSE from 8 to 16 is 0.26078909233732406\n"
     ]
    },
    {
     "data": {
      "image/png": "[encoded data removed]",
      "text/plain": [
       "<Figure size 400x360 with 1 Axes>"
      ]
     },
     "metadata": {},
     "output_type": "display_data"
    },
    {
     "name": "stdout",
     "output_type": "stream",
     "text": [
      "Test rmse = 0.2847432256492622, Train rmse = 0.22994291824619936\n",
      "Group Id: 4, wl name twitter, terminal num 8\n",
      "[0.2998301316626845, 0.2959982218947085, 0.2956717946259572, 0.3010524453978746, 0.27993602803870665]\n",
      "NRMSE from 2 to 4 is 0.2944977243239863\n",
      "[0.3558527121353591, 0.3427396351800071, 0.34238468244867587, 0.343235034720496, 0.36004330955657876]\n",
      "NRMSE from 2 to 8 is 0.3488510748082233\n",
      "[0.29080764300855727, 0.28829155196148976, 0.28684716900515606, 0.2919435221742785, 0.2849045734607922]\n",
      "NRMSE from 2 to 16 is 0.28855889192205475\n",
      "[0.25890009730207453, 0.2609126413584002, 0.2591305900379078, 0.2571296608955933, 0.2532758562073442]\n",
      "NRMSE from 4 to 8 is 0.257869769160264\n",
      "[0.30772086079506267, 0.3803249383359674, 0.301569236945016, 0.29783998574735243, 0.33731040545688834]\n",
      "NRMSE from 4 to 16 is 0.32495308545605733\n",
      "[0.26221360852636577, 0.2402831672887496, 0.24966091596875337, 0.23355055552794654, 0.25604918923453396]\n",
      "NRMSE from 8 to 16 is 0.24835148730926987\n"
     ]
    },
    {
     "data": {
      "image/png": "[encoded data removed]",
      "text/plain": [
       "<Figure size 400x360 with 1 Axes>"
      ]
     },
     "metadata": {},
     "output_type": "display_data"
    },
    {
     "name": "stdout",
     "output_type": "stream",
     "text": [
      "Test rmse = 0.29384700549664267, Train rmse = 0.26197074632259565\n",
      "Group Id: 7, wl name tpcc, terminal num 8\n",
      "[0.33966781030621385, 0.371600758783714, 0.33539432460688956, 0.3179914428799145, 0.34270628609084514]\n",
      "NRMSE from 2 to 4 is 0.3414721245335154\n",
      "[0.37814567669111776, 0.32974074714408275, 0.3422680661897033, 0.34091159574842916, 0.3354282765381755]\n",
      "NRMSE from 2 to 8 is 0.34529887246230173\n",
      "[0.2606640585649457, 0.22502386191683596, 0.24292264094739133, 0.2735554371897942, 0.21743177455254017]\n",
      "NRMSE from 2 to 16 is 0.2439195546343015\n",
      "[0.3337063494715189, 0.33082085058293514, 0.34166344374878954, 0.3180801471444495, 0.367857787411707]\n",
      "NRMSE from 4 to 8 is 0.33842571567188\n",
      "[0.27412312302692854, 0.23225729851522273, 0.2532831420027137, 0.25081563036709176, 0.23474901829693035]\n",
      "NRMSE from 4 to 16 is 0.24904564244177743\n",
      "[0.24226197196294172, 0.21921107783326324, 0.271304769003291, 0.2798865643614699, 0.22176127518634295]\n",
      "NRMSE from 8 to 16 is 0.24688513166946174\n"
     ]
    },
    {
     "data": {
      "image/png": "[encoded data removed]",
      "text/plain": [
       "<Figure size 400x360 with 1 Axes>"
      ]
     },
     "metadata": {},
     "output_type": "display_data"
    },
    {
     "name": "stdout",
     "output_type": "stream",
     "text": [
      "Test rmse = 0.2941745069022063, Train rmse = 0.26043716908344616\n",
      "Group Id: 8, wl name tpcc, terminal num 4\n",
      "[0.3064750166683742, 0.2856735442166605, 0.2399354218746177, 0.32448929629218737, 0.27032225891455536]\n",
      "NRMSE from 2 to 4 is 0.285379107593279\n",
      "[0.3012800553859637, 0.34148750804345007, 0.28321868666684474, 0.29152784262228176, 0.27470163138381865]\n",
      "NRMSE from 2 to 8 is 0.2984431448204718\n",
      "[0.2338520904721612, 0.23745444148172518, 0.24626994835644975, 0.25305167461459765, 0.27729023909780565]\n",
      "NRMSE from 2 to 16 is 0.24958367880454788\n",
      "[0.31062940386140847, 0.37294586083835646, 0.31825630743667105, 0.33276944578188805, 0.3228666509784028]\n",
      "NRMSE from 4 to 8 is 0.3314935337793453\n",
      "[0.22022550952296524, 0.20299086162196614, 0.20788209668871416, 0.24105012620846347, 0.2310143159667627]\n",
      "NRMSE from 4 to 16 is 0.22063258200177432\n",
      "[0.26204177785575866, 0.2443326475933408, 0.25176917919187436, 0.2647290903093705, 0.24814505993886984]\n",
      "NRMSE from 8 to 16 is 0.25420355097784286\n"
     ]
    },
    {
     "data": {
      "image/png": "[encoded data removed]",
      "text/plain": [
       "<Figure size 400x360 with 1 Axes>"
      ]
     },
     "metadata": {},
     "output_type": "display_data"
    },
    {
     "name": "stdout",
     "output_type": "stream",
     "text": [
      "Test rmse = 0.27328926632954353, Train rmse = 0.23260889159261566\n",
      "Group Id: 9, wl name twitter, terminal num 4\n",
      "[0.3166747898161676, 0.3272550626407938, 0.31511587270875757, 0.3133283857792623, 0.3381873282197727]\n",
      "NRMSE from 2 to 4 is 0.3221122878329508\n",
      "[0.2994778057168007, 0.29285187787573, 0.2894817077422263, 0.2804884195551127, 0.2875236533930144]\n",
      "NRMSE from 2 to 8 is 0.2899646928565768\n",
      "[0.3447335410540111, 0.34925215189063974, 0.3415670510798526, 0.3212277617613897, 0.33172638306749247]\n",
      "NRMSE from 2 to 16 is 0.3377013777706771\n",
      "[0.25178359359775393, 0.2425227589586608, 0.23614535828115052, 0.25842619590321053, 0.26533170831188635]\n",
      "NRMSE from 4 to 8 is 0.25084192301053243\n",
      "[0.29698345392503445, 0.308171021124685, 0.29765742205363455, 0.2889714108370155, 0.3057557081322712]\n",
      "NRMSE from 4 to 16 is 0.29950780321452813\n",
      "[0.34533534457628606, 0.3365301267173768, 0.3262258001857098, 0.35202469485160215, 0.3331882849675732]\n",
      "NRMSE from 8 to 16 is 0.3386608502597096\n"
     ]
    },
    {
     "data": {
      "image/png": "[encoded data removed]",
      "text/plain": [
       "<Figure size 400x360 with 1 Axes>"
      ]
     },
     "metadata": {},
     "output_type": "display_data"
    },
    {
     "name": "stdout",
     "output_type": "stream",
     "text": [
      "Test rmse = 0.3064648224908292, Train rmse = 0.28923816268645375\n",
      "Overall test nrmse: 0.2841544733074172, train 0.24822312320061585\n"
     ]
    }
   ],
   "source": [
    "all_tests, all_trains = [], []\n",
    "all_results['SVM'] = {}\n",
    "all_times['SVM'] = {}\n",
    "\n",
    "for ty, curr_data in data_by_type.items():\n",
    "    name = curr_data.wl_names[0]\n",
    "    term = curr_data.terminal_num[0]\n",
    "    if name not in all_results['SVM']:\n",
    "        all_results['SVM'][name] = {}\n",
    "        all_times['SVM'][name] = {}\n",
    "    print(f'Group Id: {ty}, wl name {name}, terminal num {term}')\n",
    "    X = get_cpu_nums_as_X(curr_data.cpu_nums)\n",
    "    y = np.array(curr_data.wl_throughput)\n",
    "    test_r2_mean, train_r2_mean, train_time = build_svm_model(X, y, curr_data.wl_names[0], 'group', \n",
    "                                                              curr_data.wl_groups[0], \n",
    "                                                              plot=OVERALL_PLOT, show_fig=True)\n",
    "    print('Test rmse = {}, Train rmse = {}'.format(test_r2_mean, train_r2_mean))   \n",
    "    all_tests.append(test_r2_mean)\n",
    "    all_trains.append(train_r2_mean)\n",
    "    all_results['SVM'][name][term] = test_r2_mean\n",
    "    all_times['SVM'][name][term] = train_time\n",
    "\n",
    "print('Overall test nrmse: {}, train {}'.format(np.mean(all_tests), np.mean(all_trains)))"
   ]
  },
  {
   "cell_type": "markdown",
   "id": "a17da977-a020-4817-8895-4f9fac2cdda4",
   "metadata": {},
   "source": [
    "## LME"
   ]
  },
  {
   "cell_type": "code",
   "execution_count": 23,
   "id": "6faf7365-a1fd-4677-b1c4-ae37deced173",
   "metadata": {},
   "outputs": [],
   "source": [
    "random_effect = 'EXPR_ID'\n",
    "fixed_effect = 'SKU_VALUE'\n",
    "target_metric = 'throughput'"
   ]
  },
  {
   "cell_type": "code",
   "execution_count": 24,
   "id": "94e4c457-25e3-4144-badc-088491341f6c",
   "metadata": {},
   "outputs": [
    {
     "name": "stdout",
     "output_type": "stream",
     "text": [
      "0.14.0\n"
     ]
    }
   ],
   "source": [
    "import statsmodels\n",
    "print(statsmodels.__version__)\n",
    "import statsmodels.api as sm\n",
    "import statsmodels.formula.api as smf\n",
    "from statsmodels.tools.sm_exceptions import ConvergenceWarning"
   ]
  },
  {
   "cell_type": "code",
   "execution_count": 25,
   "id": "70a26ca1-7a32-47f2-a8fc-1d34cd2bacec",
   "metadata": {},
   "outputs": [],
   "source": [
    "def plot_lmm_graphs_all(model_parameters_df, fixed_effects_cov, data, groups, metric, fig_name, show_fig=False):\n",
    "    n_groups = groups.size\n",
    "    fig, ax = plt.subplots(figsize=(4,3.6))\n",
    "    \n",
    "    t = np.linspace(np.max(data[fixed_effect]), np.min(data[fixed_effect]), num=100)\n",
    "    # t = np.linspace(np.max(data['RUN_TIME']), np.min(data['RUN_TIME']), num=100)\n",
    "    color_map = [\"darkorange\", \"limegreen\", \"royalblue\"] #, \"#2ecc71\"]\n",
    "\n",
    "    for expr_idx, c in zip(groups, color_map):\n",
    "        group_data = data.loc[data[random_effect] == expr_idx]\n",
    "        # ax.scatter(group_data[fixed_effect], group_data[metric], color=c)\n",
    "        group_data.plot.scatter(fixed_effect, metric, ax=ax, color=c)\n",
    "        group_params = model_parameters_df.loc[expr_idx]\n",
    "        # group_params = model_parameters_df.loc[model_parameters_df[random_effect] == expr_idx]|\n",
    "        regression_line = group_params['alpha'] + group_params['beta'] * t\n",
    "        ax.plot(t, regression_line, color=c, linestyle='--')\n",
    "\n",
    "        # This is derived by expanding the following expression using the bi-linearity of covariance:\n",
    "        #     var(alpha_fe + alpha_re + (beta_fe + beta_re) * t)\n",
    "        # We're assuming that cov(fe, re) = 0, which I believe is true?\n",
    "        prediction_sd = np.sqrt(\n",
    "            group_params['var_alpha'] + 2 * t * group_params['cov_alpha_beta'] + group_params['var_beta'] * t**2\n",
    "            + fixed_effects_cov['intercept'] + 2 * t * fixed_effects_cov['intercept_slope'] + fixed_effects_cov['slope'] * t**2\n",
    "        )\n",
    "        upper_band, lower_band = regression_line + 2 * prediction_sd, regression_line - 2 * prediction_sd\n",
    "        ax.fill_between(t, upper_band, lower_band, alpha=0.05, color=c)\n",
    "    # ax.set_title(fig_name)\n",
    "    plt.savefig(f'figs/prediction/lmm_all_{fig_name}.pdf', bbox_inches = 'tight')\n",
    "    if show_fig:\n",
    "        plt.show()\n",
    "    else:\n",
    "        plt.close()"
   ]
  },
  {
   "cell_type": "code",
   "execution_count": 26,
   "id": "16b5d5d0-a915-49d7-a8e4-021f30ac072a",
   "metadata": {},
   "outputs": [],
   "source": [
    "def build_lmm_models(X, y, expr_ids, feature_names, fig_name, plot=True, num_bins=10):\n",
    "\n",
    "    metrics = [fixed_effect, random_effect, target_metric]\n",
    "    zipped = zip(X, expr_ids, y)\n",
    "    \n",
    "    # append fixed effect and random effect to data\n",
    "    curr_data = pd.DataFrame(zipped, columns=metrics)\n",
    "\n",
    "    train_rmses, test_rmses = [], []\n",
    "    num_cpus = np.sort(np.unique(X))\n",
    "    \n",
    "    k = 5\n",
    "    train_time = 0\n",
    "        \n",
    "    kf = KFold(n_splits=k, shuffle=True)\n",
    "    for train_index, test_index in kf.split(curr_data):\n",
    "        start = time.time()\n",
    "        \n",
    "        data = curr_data.iloc[train_index]\n",
    "        test = curr_data.iloc[test_index]\n",
    "        with warnings.catch_warnings():\n",
    "            # Parameter is often on the boundary\n",
    "            warnings.simplefilter(\"ignore\", ConvergenceWarning)\n",
    "            md = smf.mixedlm(\"{} ~ SKU_VALUE\".format(target_metric), data, groups=data[random_effect], re_formula=\"~SKU_VALUE\")\n",
    "            # groups to sku type and \n",
    "            mdf = md.fit(method=[\"cg\"])#, max_iter=1000)\n",
    "        y_predict = mdf.fittedvalues\n",
    "        test_pred = mdf.predict(exog=test)\n",
    "        end = time.time()\n",
    "        train_time += end - start\n",
    "\n",
    "        for i in range(len(num_cpus)):\n",
    "            for j in range(i, len(num_cpus)):\n",
    "                if i == j:\n",
    "                    continue\n",
    "                cpu_a = num_cpus[i] # smaller\n",
    "                cpu_b = num_cpus[j] # larger\n",
    "                curr_mask = [x_lab == cpu_a or x_lab == cpu_b for x_lab in test[fixed_effect].to_list()]\n",
    "                \n",
    "                curr_y_true = test[target_metric].to_numpy()[curr_mask]\n",
    "                rmse = np.sqrt(((curr_y_true-test_pred[curr_mask])**2).mean())\n",
    "                n_rmse = rmse / (np.max(curr_y_true)-np.min(curr_y_true))\n",
    "                test_rmses.append(n_rmse)\n",
    "                \n",
    "                curr_mask = [x_lab == cpu_a or x_lab == cpu_b for x_lab in data[fixed_effect].to_list()]\n",
    "                \n",
    "                curr_y_true = data[target_metric].to_numpy()[curr_mask]\n",
    "                rmse = np.sqrt(((curr_y_true-y_predict[curr_mask])**2).mean())\n",
    "                n_rmse = rmse / (np.max(curr_y_true)-np.min(curr_y_true))\n",
    "                train_rmses.append(n_rmse)\n",
    "    \n",
    "    train_time /= k\n",
    "    \n",
    "    # calculate overall rmse\n",
    "    overall_train_rmse = np.mean(train_rmses)\n",
    "    overall_test_rmse = np.mean(test_rmses)\n",
    "\n",
    "    fe, re, recov = mdf.fe_params, mdf.random_effects, mdf.random_effects_cov\n",
    "\n",
    "    groups = data[random_effect].unique()\n",
    "\n",
    "    model_parameters_df = pd.DataFrame([\n",
    "        [fe[0] + re[idx][0], fe[1] + re[idx][1], recov[idx].iloc[0, 0], recov[idx].iloc[0, 1], recov[idx].iloc[1, 1]]\n",
    "        for idx in groups\n",
    "    ], columns=['alpha', 'beta', 'var_alpha', 'cov_alpha_beta', 'var_beta'], index=groups)\n",
    "    \n",
    "    fixed_effects_cov = {\n",
    "        'intercept': mdf.cov_params().loc['Intercept', 'Intercept'],\n",
    "        'slope': mdf.cov_params().loc[fixed_effect, fixed_effect],\n",
    "        'intercept_slope': mdf.cov_params().loc['Intercept', fixed_effect],\n",
    "    }\n",
    "\n",
    "    if plot:\n",
    "        plot_lmm_graphs_all(model_parameters_df, fixed_effects_cov, curr_data, groups, target_metric, fig_name+\"_\"+target_metric, show_fig=False)\n",
    "    # return overall_test_r2, overall_train_r2\n",
    "    return overall_test_rmse, overall_train_rmse, train_time"
   ]
  },
  {
   "cell_type": "code",
   "execution_count": 27,
   "id": "25124d17-bc6f-4d9b-ae14-0a87e571e19f",
   "metadata": {},
   "outputs": [
    {
     "name": "stdout",
     "output_type": "stream",
     "text": [
      "Group Id: 1, wl name tpcc, terminal num 32\n",
      "Test r2 = 0.31284057627164485, Train r2 = 0.15581374212928195\n",
      "Group Id: 2, wl name tpch, terminal num 1\n",
      "Test r2 = 0.2588710460412208, Train r2 = 0.20784686995062499\n",
      "Group Id: 3, wl name twitter, terminal num 32\n",
      "Test r2 = 0.3003893005300201, Train r2 = 0.17584545697067763\n",
      "Group Id: 4, wl name twitter, terminal num 8\n",
      "Test r2 = 0.35680301563365646, Train r2 = 0.2756004458781281\n",
      "Group Id: 7, wl name tpcc, terminal num 8\n",
      "Test r2 = 0.32338331774191603, Train r2 = 0.15156430632611684\n",
      "Group Id: 8, wl name tpcc, terminal num 4\n",
      "Test r2 = 0.2996974131501722, Train r2 = 0.16215349521802633\n",
      "Group Id: 9, wl name twitter, terminal num 4\n",
      "Test r2 = 0.3314579104556632, Train r2 = 0.23273355246611338\n",
      "Overall test nrmse: 0.3119203685463277, train 0.1945082669912813\n"
     ]
    }
   ],
   "source": [
    "all_tests, all_trains = [], []\n",
    "all_results['LMM'] = {}\n",
    "all_times['LMM'] = {}\n",
    "for ty, curr_data in data_by_type.items():\n",
    "    name = curr_data.wl_names[0]\n",
    "    term = curr_data.terminal_num[0]\n",
    "    if name not in all_results['LMM']:\n",
    "        all_results['LMM'][name] = {}\n",
    "        all_times['LMM'][name] = {}\n",
    "    print(f'Group Id: {ty}, wl name {name}, terminal num {term}')\n",
    "    \n",
    "    X = get_cpu_nums_as_X(curr_data.cpu_nums).flatten()\n",
    "    y = curr_data.wl_throughput\n",
    "    out_name = '{}_group{}_term{}'.format(curr_data.wl_names[0], ty, curr_data.terminal_num[0])\n",
    "    \n",
    "    expr_idxs = list(map(int, curr_data.run_idx))\n",
    "\n",
    "    test_r2_mean, train_r2_mean, train_time = build_lmm_models(X, y,expr_idxs, all_top_7, \n",
    "                                                   out_name, plot=OVERALL_PLOT, num_bins=10)\n",
    "    print('Test r2 = {}, Train r2 = {}'.format(test_r2_mean, train_r2_mean))\n",
    "    \n",
    "    all_tests.append(test_r2_mean)\n",
    "    all_trains.append(train_r2_mean)\n",
    "    all_results['LMM'][name][term] = test_r2_mean\n",
    "    all_times['LMM'][name][term] = train_time\n",
    "print('Overall test nrmse: {}, train {}'.format(np.mean(all_tests), np.mean(all_trains)))"
   ]
  },
  {
   "cell_type": "markdown",
   "id": "d0b8e81b-2658-4cd8-aea9-a3bcd20e4b93",
   "metadata": {},
   "source": [
    "## Gradient Boosting"
   ]
  },
  {
   "cell_type": "code",
   "execution_count": 28,
   "id": "fd969d89-9ead-4954-adae-b3c5ddb3a5b4",
   "metadata": {},
   "outputs": [],
   "source": [
    "from sklearn.ensemble import GradientBoostingRegressor"
   ]
  },
  {
   "cell_type": "code",
   "execution_count": 29,
   "id": "ca3e3ab4-14ba-4b4c-a8d1-e0d0a2140724",
   "metadata": {},
   "outputs": [],
   "source": [
    "def plot_gb(model, X, y, workload_name, group_type, groupping_id, show_fig=False):\n",
    "    colors = sns.color_palette()\n",
    "    if workload_name == 'tpcc':\n",
    "        color = colors[0]\n",
    "    elif workload_name == 'tpch':\n",
    "        color = colors[1]\n",
    "    elif workload_name == 'twitter':\n",
    "        color = colors[2]\n",
    "    else:\n",
    "        color = colors[3]\n",
    "    x_new = np.linspace(0, np.max(X)*1.1, 100)\n",
    "    y_new = model.predict(x_new[:, np.newaxis])\n",
    "    \n",
    "    plt.figure(figsize=(4,3.6))\n",
    "    ax = plt.axes()\n",
    "    ax.scatter(X.reshape(-1,1), y, color=color)\n",
    "    ax.plot(x_new, y_new, color=color)\n",
    "    \n",
    "    ax.set_xlabel('Num CPU')\n",
    "    ax.set_ylabel('Throughput')\n",
    "    \n",
    "    ax.axis('tight')\n",
    "    plt.savefig(f'figs/prediction/gb_all_{workload_name}_{group_type}_{groupping_id}.pdf', bbox_inches = 'tight')\n",
    "    if show_fig:\n",
    "        plt.show()\n",
    "    else:\n",
    "        plt.close() "
   ]
  },
  {
   "cell_type": "code",
   "execution_count": 30,
   "id": "c5e6435a-0067-4fb7-8954-6eca30479a97",
   "metadata": {},
   "outputs": [],
   "source": [
    "def build_gb_model(X, y, wl_name, grouping_type, groupping_id, plot=False, show_fig=False):  \n",
    "\n",
    "    tuned_parameters = {\n",
    "        \"learning_rate\": [0.01, 0.025, 0.05, 0.075, 0.1, 0.15, 0.2],\n",
    "        \"max_depth\":[3,5,8],\n",
    "        \"max_features\":[\"log2\",\"sqrt\"],\n",
    "        \"subsample\":[0.5, 0.618, 0.8, 0.85, 0.9, 0.95, 1.0],\n",
    "        \"n_estimators\":[10, 50, 100]\n",
    "    }\n",
    "\n",
    "    model = GradientBoostingRegressor()\n",
    "    clf = GridSearchCV(model, param_grid=tuned_parameters,verbose=0, n_jobs=-1,\n",
    "                       cv=5, \n",
    "                       scoring=score_func, #'neg_root_mean_squared_error', #score_func, #'r2', \n",
    "                       return_train_score=True)\n",
    "    clf.fit(X, y)\n",
    "    \n",
    "    best_params = clf.best_params_\n",
    "    results = pd.DataFrame.from_dict(clf.cv_results_)\n",
    "    results_best = results[results['params'] == best_params].reset_index()\n",
    "    train_time = results_best['mean_fit_time'][0]\n",
    "    \n",
    "    # use the selected model to repredict\n",
    "    train_rmses, test_rmses = [], []\n",
    "    k = 5\n",
    "    models = []   \n",
    "    num_cpus = np.sort(np.unique(X))\n",
    "    metrics = [X_label, y_label]\n",
    "    zipped = zip(X, y)\n",
    "    # append fixed effect and random effect to data\n",
    "    overall_data = pd.DataFrame(zipped, columns=metrics)  \n",
    "                \n",
    "    kf = KFold(n_splits=k, shuffle=False)\n",
    "    for i in range(len(num_cpus)):\n",
    "        for j in range(i, len(num_cpus)):\n",
    "            if i == j:\n",
    "                continue\n",
    "            cpu_a = num_cpus[i] # smaller\n",
    "            cpu_b = num_cpus[j] # larger\n",
    "            curr_data = overall_data[ (overall_data[X_label] == cpu_a) | (overall_data[X_label] == cpu_b) ]\n",
    "            for train_index, test_index in kf.split(curr_data):\n",
    "                data = curr_data.iloc[train_index]\n",
    "                test = curr_data.iloc[test_index]\n",
    "                X_train = data[X_label].to_numpy().reshape(-1,1)\n",
    "                y_train = data[y_label].to_numpy()\n",
    "                X_test = test[X_label].to_numpy().reshape(-1,1)\n",
    "                y_test = test[y_label].to_numpy()\n",
    "                test_pred = clf.predict(X_test)\n",
    "                train_pred = clf.predict(X_train)\n",
    "                rmse = np.sqrt(((y_test-test_pred)**2).mean())\n",
    "                n_rmse = rmse / (np.max(y_test)-np.min(y_test))\n",
    "                test_rmses.append(n_rmse)\n",
    "\n",
    "                rmse = np.sqrt(((y_train-train_pred)**2).mean())\n",
    "                n_rmse = rmse / (np.max(y_train)-np.min(y_train))\n",
    "                train_rmses.append(n_rmse)            \n",
    "            print(f'NRMSE from {num_cpus[i]} to {num_cpus[j]} is {np.mean(test_rmses[-k:])}')\n",
    "\n",
    "    if plot:\n",
    "        # plot the last one as example\n",
    "        plot_gb(clf, X, y, wl_name, grouping_type, groupping_id, show_fig)\n",
    "    overall_train_rmse = np.mean(train_rmses)\n",
    "    overall_test_rmse = np.mean(test_rmses)\n",
    "    \n",
    "    return overall_test_rmse, overall_train_rmse, train_time"
   ]
  },
  {
   "cell_type": "code",
   "execution_count": 31,
   "id": "9c60f268-3248-4664-bec0-338b61d217b1",
   "metadata": {},
   "outputs": [
    {
     "name": "stdout",
     "output_type": "stream",
     "text": [
      "Group Id: 1, wl name tpcc, terminal num 32\n",
      "NRMSE from 2 to 4 is 0.33710401026965353\n",
      "NRMSE from 2 to 8 is 0.2805009680720654\n",
      "NRMSE from 2 to 16 is 0.21763210199961475\n",
      "NRMSE from 4 to 8 is 0.28835828816290593\n",
      "NRMSE from 4 to 16 is 0.22681280958576272\n",
      "NRMSE from 8 to 16 is 0.25686730439956407\n",
      "Test r2 = 0.2678792470815944, Train r2 = 0.23329468531219058\n",
      "Group Id: 2, wl name tpch, terminal num 1\n",
      "NRMSE from 2 to 4 is 0.25304980703180774\n",
      "NRMSE from 2 to 8 is 0.25149533422896536\n",
      "NRMSE from 2 to 16 is 0.24484863417750796\n",
      "NRMSE from 4 to 8 is 0.24753971616466272\n",
      "NRMSE from 4 to 16 is 0.2561397483619824\n",
      "NRMSE from 8 to 16 is 0.24255741868664557\n",
      "Test r2 = 0.24927177644192863, Train r2 = 0.2135811087902083\n",
      "Group Id: 3, wl name twitter, terminal num 32\n",
      "NRMSE from 2 to 4 is 0.28667281913138654\n",
      "NRMSE from 2 to 8 is 0.29329830907346766\n",
      "NRMSE from 2 to 16 is 0.2791590316452039\n",
      "NRMSE from 4 to 8 is 0.295444207995275\n",
      "NRMSE from 4 to 16 is 0.2523174528670569\n",
      "NRMSE from 8 to 16 is 0.26075474586348546\n",
      "Test r2 = 0.27794109442931264, Train r2 = 0.2239291164809289\n",
      "Group Id: 4, wl name twitter, terminal num 8\n",
      "NRMSE from 2 to 4 is 0.2893708486805234\n",
      "NRMSE from 2 to 8 is 0.3479289884990613\n",
      "NRMSE from 2 to 16 is 0.28785990569232767\n",
      "NRMSE from 4 to 8 is 0.2504822483866263\n",
      "NRMSE from 4 to 16 is 0.28988418089206236\n",
      "NRMSE from 8 to 16 is 0.24754786871770498\n",
      "Test r2 = 0.2855123401447176, Train r2 = 0.25519685068418413\n",
      "Group Id: 7, wl name tpcc, terminal num 8\n",
      "NRMSE from 2 to 4 is 0.3395768107973128\n",
      "NRMSE from 2 to 8 is 0.3430507884498418\n",
      "NRMSE from 2 to 16 is 0.242998808986169\n",
      "NRMSE from 4 to 8 is 0.33709688188428166\n",
      "NRMSE from 4 to 16 is 0.24827798293316877\n",
      "NRMSE from 8 to 16 is 0.24651127328568787\n",
      "Test r2 = 0.2929187577227437, Train r2 = 0.25948570908473007\n",
      "Group Id: 8, wl name tpcc, terminal num 4\n",
      "NRMSE from 2 to 4 is 0.2837158330394801\n",
      "NRMSE from 2 to 8 is 0.29223801481330036\n",
      "NRMSE from 2 to 16 is 0.23037176014606003\n",
      "NRMSE from 4 to 8 is 0.3268600068583741\n",
      "NRMSE from 4 to 16 is 0.20829937010761573\n",
      "NRMSE from 8 to 16 is 0.24162234787151088\n",
      "Test r2 = 0.26385122213939016, Train r2 = 0.22445277829254764\n",
      "Group Id: 9, wl name twitter, terminal num 4\n",
      "NRMSE from 2 to 4 is 0.32101599591187935\n",
      "NRMSE from 2 to 8 is 0.2888945578664631\n",
      "NRMSE from 2 to 16 is 0.31250997634189775\n",
      "NRMSE from 4 to 8 is 0.24914858893723987\n",
      "NRMSE from 4 to 16 is 0.2729432139002942\n",
      "NRMSE from 8 to 16 is 0.3034641086355259\n",
      "Test r2 = 0.2913294069322167, Train r2 = 0.27481593745244004\n",
      "Overall test nrmse: 0.2755291206988434, train 0.2406794551567471\n"
     ]
    }
   ],
   "source": [
    "all_tests, all_trains = [], []\n",
    "all_results['GB'] = {}\n",
    "all_times['GB'] = {}\n",
    "for ty, curr_data in data_by_type.items():\n",
    "    name = curr_data.wl_names[0]\n",
    "    term = curr_data.terminal_num[0]\n",
    "    if name not in all_results['GB']:\n",
    "        all_results['GB'][name] = {}\n",
    "        all_times['GB'][name] = {}\n",
    "    print(f'Group Id: {ty}, wl name {name}, terminal num {term}')\n",
    "    X = get_cpu_nums_as_X(curr_data.cpu_nums)\n",
    "    y = np.array(curr_data.wl_throughput)\n",
    "    test_r2_mean, train_r2_mean, train_time = build_gb_model(X, y, curr_data.wl_names[0], \n",
    "                                                             'group', curr_data.wl_groups[0], \n",
    "                                                             plot=False, show_fig=False)\n",
    "    print('Test r2 = {}, Train r2 = {}'.format(test_r2_mean, train_r2_mean))   \n",
    "    all_tests.append(test_r2_mean)\n",
    "    all_trains.append(train_r2_mean)\n",
    "    all_results['GB'][name][term] = test_r2_mean\n",
    "    all_times['GB'][name][term] = train_time\n",
    "print('Overall test nrmse: {}, train {}'.format(np.mean(all_tests), np.mean(all_trains)))"
   ]
  },
  {
   "cell_type": "code",
   "execution_count": 32,
   "id": "71ad0b07-363b-44cc-8c15-808b37817886",
   "metadata": {},
   "outputs": [
    {
     "name": "stdout",
     "output_type": "stream",
     "text": [
      "& Regression &  0.0016 &  0.296 & 0.311 & 0.291 & 0.363 & 0.386 & 0.313 & 0.253 & 0.316 \\\\ \\cline{2-11}\n",
      "& SVM &  0.0027 &  0.273 & 0.294 & 0.284 & 0.306 & 0.294 & 0.285 & 0.253 & 0.284 \\\\ \\cline{2-11}\n",
      "& LMM &  0.2481 &  0.300 & 0.323 & 0.313 & 0.331 & 0.357 & 0.300 & 0.259 & 0.312 \\\\ \\cline{2-11}\n",
      "& GB &  0.0858 &  0.264 & 0.293 & 0.268 & 0.291 & 0.286 & 0.278 & 0.249 & 0.276 \\\\ \\cline{2-11}\n"
     ]
    }
   ],
   "source": [
    "terminals = [4, 8, 32]\n",
    "workloads = ['tpcc', 'twitter', 'tpch']\n",
    "methods = ['Regression', 'SVM', 'LMM', 'GB']\n",
    "\n",
    "for me in methods:\n",
    "    curr_line = ''\n",
    "    scs = []\n",
    "    times = []\n",
    "    for wl in workloads:\n",
    "        if wl == 'tpch':\n",
    "            sc = abs(all_results[me][wl][1])\n",
    "            curr_line += f' {sc:.3f} &'\n",
    "            scs.append(sc)\n",
    "            times.append(all_times[me][wl][1])\n",
    "        else:\n",
    "            for ter in terminals:\n",
    "                sc = abs(all_results[me][wl][ter])\n",
    "                curr_line += f' {sc:.3f} &'\n",
    "                scs.append(sc)\n",
    "                times.append(all_times[me][wl][ter])\n",
    "    curr_line += f' {np.mean(scs):.3}'\n",
    "    curr_line += \" \\\\\\\\ \\cline{2-11}\"\n",
    "    curr_line = f'& {me} & ' + f' {np.mean(times):.4f} & ' + curr_line\n",
    "    print(curr_line)"
   ]
  }
 ],
 "metadata": {
  "kernelspec": {
   "display_name": "workload_insights",
   "language": "python",
   "name": "workload_insights"
  },
  "language_info": {
   "codemirror_mode": {
    "name": "ipython",
    "version": 3
   },
   "file_extension": ".py",
   "mimetype": "text/x-python",
   "name": "python",
   "nbconvert_exporter": "python",
   "pygments_lexer": "ipython3",
   "version": "3.9.13"
  }
 },
 "nbformat": 4,
 "nbformat_minor": 5
}
