{
 "cells": [
  {
   "cell_type": "code",
   "execution_count": 1,
   "id": "d6f46a6e-e57c-441e-a27e-60ebaf5a9ecd",
   "metadata": {},
   "outputs": [
    {
     "data": {
      "text/plain": [
       "{'divide': 'warn', 'over': 'warn', 'under': 'ignore', 'invalid': 'warn'}"
      ]
     },
     "execution_count": 1,
     "metadata": {},
     "output_type": "execute_result"
    }
   ],
   "source": [
    "# for table 1\n",
    "import os\n",
    "import matplotlib.pyplot as plt\n",
    "import datetime\n",
    "import time\n",
    "import json\n",
    "import matplotlib.gridspec as gridspec\n",
    "\n",
    "import numpy as np\n",
    "import pandas as pd\n",
    "import seaborn as sns\n",
    "\n",
    "from itertools import compress\n",
    "\n",
    "from helpers.expr_query import ExprDataQuery\n",
    "from helpers.scale_data import ScaleData\n",
    "from helpers.similarity import Similarity\n",
    "from helpers.feature_selection import FeatureSelection\n",
    "\n",
    "from sklearn.metrics import accuracy_score, f1_score, precision_score, recall_score, classification_report, confusion_matrix\n",
    "from sklearn.model_selection import KFold\n",
    "from sklearn.metrics import r2_score\n",
    "from sklearn.metrics import root_mean_squared_error as rmse_score\n",
    "from sklearn.metrics import mean_squared_error\n",
    "from sklearn.metrics import make_scorer\n",
    "from sklearn.svm import SVR\n",
    "from sklearn.model_selection import GridSearchCV\n",
    "from sklearn.linear_model import LinearRegression\n",
    "from sklearn.ensemble import GradientBoostingRegressor\n",
    "\n",
    "import warnings\n",
    "warnings.filterwarnings(\"ignore\")\n",
    "np.seterr(divide='ignore', invalid='ignore')"
   ]
  },
  {
   "cell_type": "code",
   "execution_count": 2,
   "id": "b2a1bd26-d2b1-454b-8086-3b8826cef17c",
   "metadata": {},
   "outputs": [],
   "source": [
    "import random\n",
    "np.random.seed(47906)\n",
    "random.seed(47906)"
   ]
  },
  {
   "cell_type": "code",
   "execution_count": 3,
   "id": "4e362fff-5003-4ad1-8af8-d7f47518a787",
   "metadata": {},
   "outputs": [],
   "source": [
    "fs_method = 'MutualInfoGain' #'Variance' #\n",
    "est_name = 'DecisionTree'"
   ]
  },
  {
   "cell_type": "code",
   "execution_count": 4,
   "id": "f37fbc46-edf7-4642-9af9-75955a70df0a",
   "metadata": {},
   "outputs": [],
   "source": [
    "SMALL_SIZE = 15\n",
    "MEDIUM_SIZE = 18\n",
    "BIGGER_SIZE = 22\n",
    "SMALL_SMALL_SIZE = 10\n",
    "\n",
    "plt.rc('font', size=SMALL_SIZE)          # controls default text sizes\n",
    "plt.rc('axes', titlesize=SMALL_SIZE)     # fontsize of the axes title\n",
    "plt.rc('axes', labelsize=MEDIUM_SIZE)    # fontsize of the x and y labels\n",
    "plt.rc('xtick', labelsize=SMALL_SIZE)    # fontsize of the tick labels\n",
    "plt.rc('ytick', labelsize=SMALL_SIZE)    # fontsize of the tick labels\n",
    "# plt.rc('legend', fontsize=SMALL_SIZE)    # legend fontsize\n",
    "\n",
    "plt.rc('legend', fontsize=SMALL_SMALL_SIZE)    # legend fontsize\n",
    "plt.rc('figure', titlesize=BIGGER_SIZE)  # fontsize of the figure title"
   ]
  },
  {
   "cell_type": "markdown",
   "id": "680253e6-4705-442b-85d8-245751a099e9",
   "metadata": {},
   "source": [
    "### Data preparation"
   ]
  },
  {
   "cell_type": "code",
   "execution_count": 45,
   "id": "13549f6e-d1af-4660-a7ce-90f612c48cdd",
   "metadata": {},
   "outputs": [],
   "source": [
    "ALL_CPUS = [2, 4, 8, 16]\n",
    "ALL_PAIRS = [(0, 1), (0, 2), (0,3), (1, 2), (1, 3), (2, 3)]\n",
    "K_RANGE = [3]\n",
    "PAIR = (2, 3)\n",
    "if PAIR is None:\n",
    "    candid_idx = 0\n",
    "else:\n",
    "    candid_idx = PAIR[0]\n",
    "temp_candid_idx = 0"
   ]
  },
  {
   "cell_type": "code",
   "execution_count": 7,
   "id": "a79eeac9-a05c-45d9-9f33-4dc9383be5dd",
   "metadata": {},
   "outputs": [],
   "source": [
    "data = ExprDataQuery()\n",
    "data.load_pickle()\n",
    "data = data.remove_empty_plan()"
   ]
  },
  {
   "cell_type": "code",
   "execution_count": 8,
   "id": "1fb723cf-051c-49cc-aa4f-52982bcdcb32",
   "metadata": {},
   "outputs": [],
   "source": [
    "all_queries = [g for g, n in zip(data.wl_groups, data.wl_names) if 'twitter-' in n]\n",
    "all_groups = [g for g, n in zip(data.wl_groups, data.wl_names) if 'twitter' in n]\n",
    "all_groups = np.unique(all_groups)"
   ]
  },
  {
   "cell_type": "code",
   "execution_count": 9,
   "id": "867121d9-7099-4aa8-bf74-3454e8dc4a16",
   "metadata": {},
   "outputs": [],
   "source": [
    "candidate_query_groups =  [f'{num}' for num in list(range(3, 8))] # TODO: update range to correct: this is the set of all query groups for prediction\n",
    "candidate_wl_group = '2' # TODO: candidate workload select \n",
    "all_candid_groups = [candidate_wl_group] + candidate_query_groups # this is the set of all wl and query groups for prediction"
   ]
  },
  {
   "cell_type": "code",
   "execution_count": 10,
   "id": "e15e5689-ed98-4739-a5db-79bd78faad9e",
   "metadata": {},
   "outputs": [
    {
     "name": "stdout",
     "output_type": "stream",
     "text": [
      "['19', '19', '19', '19', '9', '9', '9', '9', '11', '11', '11', '11', '21', '21', '21', '21', '10', '10', '10', '10', '20', '20', '20', '20', '12', '12', '12', '12', '22', '22', '22', '22', '13', '13', '13', '13', '23', '23', '23', '23']\n"
     ]
    }
   ],
   "source": [
    "remove_g = [g for g in all_queries if g not in candidate_query_groups]\n",
    "print(remove_g)\n",
    "data_all = data.remove_by_group(remove_g)"
   ]
  },
  {
   "cell_type": "code",
   "execution_count": 11,
   "id": "3e3b78c4-f86d-4240-b291-396736ae92c9",
   "metadata": {},
   "outputs": [
    {
     "name": "stdout",
     "output_type": "stream",
     "text": [
      "['2', '2', '2', '2']\n"
     ]
    }
   ],
   "source": [
    "chwl_data = data_all.remove_by_wlname([ 'tpcc', 'tpch', 'xml', 'ycsb']) \n",
    "chwl_data = chwl_data.remove_by_group([g for g in all_groups if g != candidate_wl_group])\n",
    "print(chwl_data.wl_groups)"
   ]
  },
  {
   "cell_type": "code",
   "execution_count": 12,
   "id": "73ed32e7-f78c-4c6d-a191-1bcf9cfe8b44",
   "metadata": {},
   "outputs": [],
   "source": [
    "osq_datas = []\n",
    "for candidate_query_group in candidate_query_groups:\n",
    "    osq_data = data_all.remove_by_wlname([ 'tpcc', 'tpch', 'xml', 'ycsb']) # remove known data\n",
    "    osq_data = osq_data.remove_by_group([g for g in all_groups if g != candidate_query_group])\n",
    "    osq_data = osq_data.sample_data()\n",
    "    if len(osq_data.wl_names) == 0:\n",
    "        continue\n",
    "    idx, = np.where(np.array(osq_data.wl_groups) == candidate_query_group)\n",
    "    osq_datas.append({'data': osq_data, 'name': osq_data.wl_names[0], 'wl_group': candidate_query_group})\n",
    "\n",
    "# keep tpch as it is as it provides some other behavior pattern when using different cpu number (const)\n",
    "known_data = data_all.remove_by_wlname(['xml'])\n",
    "known_data = known_data.remove_by_group(all_candid_groups + remove_g)"
   ]
  },
  {
   "cell_type": "code",
   "execution_count": 13,
   "id": "1ea717a9-99f0-4960-baab-b9d651a3015b",
   "metadata": {},
   "outputs": [],
   "source": [
    "sampled_data = known_data.sample_data()\n",
    "data_by_type = sampled_data.split_by_type()"
   ]
  },
  {
   "cell_type": "code",
   "execution_count": 14,
   "id": "f9adbd2b-852e-4c0a-bb8b-44f995dd8055",
   "metadata": {},
   "outputs": [],
   "source": [
    "# osq_data = osq_data.sample_data()\n",
    "# X_label = 'SKU'\n",
    "X_label = 'cpu_num'\n",
    "y_label = 'latency'\n",
    "\n",
    "expr_label = 'EXPR'\n",
    "y_true_label = 'Y_TRUE'\n",
    "y_pred_label = 'Y_PRED'\n",
    "suffix_labels = ['_small', '_large']"
   ]
  },
  {
   "cell_type": "code",
   "execution_count": 15,
   "id": "ec7a1f14-2670-4609-beac-95cc7c4389d4",
   "metadata": {},
   "outputs": [],
   "source": [
    "def get_cpu_nums_as_X(l):\n",
    "    return np.array([int(e[3:]) for e in l]).reshape(-1, 1)"
   ]
  },
  {
   "cell_type": "code",
   "execution_count": 16,
   "id": "cd44556f-8ab0-4c44-9bfc-3ef9e9a86774",
   "metadata": {},
   "outputs": [],
   "source": [
    "for i in range(len(osq_datas)):\n",
    "    osq_data = osq_datas[i]['data']\n",
    "    osq_X = get_cpu_nums_as_X(osq_data.cpu_nums)\n",
    "    osq_y = np.array(osq_data.wl_latency)\n",
    "    osq_expr = np.array(osq_data.sampled_run_idx)\n",
    "    osq_datas[i]['x'] = osq_X\n",
    "    osq_datas[i]['y'] = osq_y\n",
    "    osq_datas[i]['expr'] = osq_expr"
   ]
  },
  {
   "cell_type": "code",
   "execution_count": 17,
   "id": "03068288-adbd-4b22-9bc7-57a58454d132",
   "metadata": {},
   "outputs": [],
   "source": [
    "chwl_data = chwl_data.sample_data()\n",
    "chwl_X = get_cpu_nums_as_X(chwl_data.cpu_nums)\n",
    "chwl_y = np.array(chwl_data.wl_latency)\n",
    "chwl_expr = np.array(chwl_data.sampled_run_idx)"
   ]
  },
  {
   "cell_type": "markdown",
   "id": "f73ac9fa-48f4-4556-a4c4-83124bf73fd2",
   "metadata": {},
   "source": [
    "### Feature selection"
   ]
  },
  {
   "cell_type": "code",
   "execution_count": 18,
   "id": "47948c17-72e6-4b1a-adc2-8e769f64f315",
   "metadata": {},
   "outputs": [],
   "source": [
    "# Feature selection using ONLYknow data\n",
    "scaler = ScaleData()\n",
    "plan_mtxs, plan_col_ranges = scaler.scale(known_data.plan_mtxs, scale=False)\n",
    "\n",
    "ksimi_calc = Similarity(known_data, plan_mtxs, plan_col_ranges,[], [], num_bins=100)\n",
    "ksimi_calc.calc_bined_mtx(plan_only=True) # all features"
   ]
  },
  {
   "cell_type": "code",
   "execution_count": 19,
   "id": "36592813-8906-4e09-9a80-768be25278fe",
   "metadata": {},
   "outputs": [],
   "source": [
    "fs = FeatureSelection(ksimi_calc)"
   ]
  },
  {
   "cell_type": "code",
   "execution_count": 20,
   "id": "bddef7e5-bfab-4af0-9df4-61f84193dd95",
   "metadata": {},
   "outputs": [
    {
     "name": "stdout",
     "output_type": "stream",
     "text": [
      "(44, 44, 22)\n",
      "['CachedPlanSize', 'AvgRowSize', 'SerialRequiredMemory', 'TableCardinality', 'CompileMemory', 'StatementSubTreeCost', 'StatementEstRows']\n"
     ]
    }
   ],
   "source": [
    "top_7 = fs.select_features(7, fs_method, est_name=est_name, direction='backward', feature_type='plan')\n",
    "print(top_7)"
   ]
  },
  {
   "cell_type": "markdown",
   "id": "3a9b3d32-c7c3-4bc2-b903-f22943ab78a9",
   "metadata": {},
   "source": [
    "# Same model different scope"
   ]
  },
  {
   "cell_type": "code",
   "execution_count": 21,
   "id": "3f8b9999-566d-47e6-880f-12809b798076",
   "metadata": {},
   "outputs": [],
   "source": [
    "def get_simis(simi_data, simi_mtx, candid_group):\n",
    "    \n",
    "    groups = list(np.unique(simi_data.wl_groups))\n",
    "    vals = [0]*len(groups)\n",
    "    counts = [0]*len(groups)\n",
    "    for i in range(len(simi_mtx)):\n",
    "        if simi_data.wl_groups[i] != candid_group:\n",
    "            continue\n",
    "        for j, val in enumerate(simi_mtx[i]):\n",
    "            curr_g = simi_data.wl_groups[j]\n",
    "            if curr_g != candid_group:\n",
    "                vals[groups.index(curr_g)] += val\n",
    "                counts[groups.index(curr_g)] += 1\n",
    "            else:\n",
    "                vals[groups.index(curr_g)] = float('inf')\n",
    "                counts[groups.index(curr_g)] = 1\n",
    "    mean_dists = [v / c for (v, c) in zip(vals, counts)]\n",
    "\n",
    "    df = pd.DataFrame({'dist': mean_dists, 'wl_groups': groups} )\n",
    "\n",
    "    df.sort_values(by=['dist'], ascending=True, inplace=True)\n",
    "    return df['wl_groups']"
   ]
  },
  {
   "cell_type": "markdown",
   "id": "a6b3229c-8eb0-48c7-85b6-be09b6fbc62e",
   "metadata": {},
   "source": [
    "### Build models for existing workloads"
   ]
  },
  {
   "cell_type": "code",
   "execution_count": 22,
   "id": "b9b89f9b-1704-46c8-8eff-b32b7e2c49f9",
   "metadata": {},
   "outputs": [],
   "source": [
    "def nrmse_score(y_true, y_pred):\n",
    "    return rmse_score(y_true, y_pred)/(1+np.max(y_true)-np.min(y_true))\n",
    "\n",
    "score_func = make_scorer(nrmse_score, greater_is_better=False)"
   ]
  },
  {
   "cell_type": "code",
   "execution_count": 23,
   "id": "94269c8f-e816-4eec-8eda-3ab91a260ceb",
   "metadata": {
    "tags": []
   },
   "outputs": [],
   "source": [
    "'''\n",
    "Use a dictionary of models\n",
    "- key: (lower SKU, higher SKU)\n",
    "- value: model\n",
    "'''\n",
    "def trend_predict(model_dicts, X, y_true, expr_idxs, method, k, sku_pair=None, show_fig=True):\n",
    "    overall_data = pd.DataFrame(zip(X, expr_idxs, y_true), columns=[X_label, expr_label, y_true_label])\n",
    "    # for each pair of SKU\n",
    "    num_cpus = np.sort(np.unique(X))\n",
    "    test_scores = []\n",
    "    models, datas_big, datas_small = [], [], []\n",
    "    dfs = []\n",
    "        \n",
    "    for i in range(len(num_cpus)):\n",
    "        for j in range(i, len(num_cpus)):\n",
    "            if i == j:\n",
    "                continue\n",
    "            if sku_pair is not None and (i != sku_pair[0] or j != sku_pair[1]):\n",
    "                continue\n",
    "            cpu_a = num_cpus[i] # smaller\n",
    "            cpu_b = num_cpus[j] # larger\n",
    "            \n",
    "            curr_smaller = overall_data[overall_data[X_label] == cpu_a]\n",
    "            curr_bigger = overall_data[overall_data[X_label] == cpu_b]\n",
    "            \n",
    "            new_preds = []\n",
    "            \n",
    "            for model_dict in model_dicts:            \n",
    "                new_y_true, new_y_pred = [], []\n",
    "\n",
    "                curr_smaller_pred = model_dict[(cpu_a, cpu_b)].predict(curr_smaller[X_label].to_numpy().reshape(-1, 1))\n",
    "                curr_bigger_pred = model_dict[(cpu_a, cpu_b)].predict(curr_bigger[X_label].to_numpy().reshape(-1, 1))\n",
    "                curr_smaller = curr_smaller.assign(Y_PRED=curr_smaller_pred)\n",
    "                curr_bigger = curr_bigger.assign(Y_PRED=curr_bigger_pred)\n",
    "\n",
    "                for _, smaller_row in curr_smaller.iterrows():\n",
    "                    curr_expr_idx = smaller_row[expr_label]\n",
    "                    curr_diff = smaller_row[y_true_label] - smaller_row[y_pred_label]\n",
    "                    bigger_row = curr_bigger[curr_bigger[expr_label] == curr_expr_idx]\n",
    "                    assert(bigger_row.shape[0] == 1)\n",
    "                    bigger_row = bigger_row.iloc[0]\n",
    "                    new_y_true.append(bigger_row[y_true_label])\n",
    "                    new_y_pred.append(bigger_row[y_pred_label] + curr_diff)\n",
    "                new_preds.append(new_y_pred)\n",
    "\n",
    "            curr_bigger = curr_bigger.assign(Y_PRED=np.mean(np.array(new_preds), axis=0))\n",
    "            df = pd.merge(curr_smaller, curr_bigger, on=[expr_label], suffixes=suffix_labels)\n",
    "            dfs.append(df)\n",
    "            \n",
    "            if len(new_y_true) == 1:\n",
    "                print(\"only 1\")\n",
    "                score = rmse_score(new_y_true, new_y_pred)/new_y_true[0]\n",
    "            else:\n",
    "                score = rmse_score(new_y_true, new_y_pred)/(1+np.max(new_y_true) - np.min(new_y_true))\n",
    "            test_scores.append(score)\n",
    "                \n",
    "            models.append(model_dict[(cpu_a, cpu_b)])\n",
    "            datas_small.append(curr_smaller)\n",
    "            datas_big.append(curr_bigger)\n",
    "\n",
    "    overall_score = np.mean(test_scores)\n",
    "    return overall_score, dfs"
   ]
  },
  {
   "cell_type": "code",
   "execution_count": 24,
   "id": "102bc9bc-e711-46cc-b665-6832a386f5fd",
   "metadata": {},
   "outputs": [],
   "source": [
    "def build_regression_model(X, y, wl_name, grouping_type, groupping_id, plot=False, show_fig=False):  \n",
    "    train_rmses, test_rmses = [], []\n",
    "    k = 5\n",
    "    num_cpus = np.sort(np.unique(X))\n",
    "    train_time = 0\n",
    "    model_dict = {}\n",
    "    models = []\n",
    "    fold_test_rmses = []\n",
    "    \n",
    "    kf = KFold(n_splits=k, shuffle=True)\n",
    "    for train_index, test_index in kf.split(X):\n",
    "        start = time.time()\n",
    "\n",
    "        X_train = X[train_index]\n",
    "        y_train = y[train_index]\n",
    "        X_test = X[test_index]\n",
    "        y_test = y[test_index]\n",
    "        reg = LinearRegression()\n",
    "        reg.fit(X_train, y_train)\n",
    "        test_pred = reg.predict(X_test)\n",
    "        train_pred = reg.predict(X_train)\n",
    "        end = time.time()\n",
    "        train_time += end - start\n",
    "        \n",
    "        num_pairs = 0\n",
    "        for i in range(len(num_cpus)):\n",
    "            for j in range(i, len(num_cpus)):\n",
    "                if i == j:\n",
    "                    continue\n",
    "                cpu_a = num_cpus[i] # smaller\n",
    "                cpu_b = num_cpus[j] # larger\n",
    "                curr_mask = [x_lab == cpu_a or x_lab == cpu_b for x_lab in X_test.flatten()]\n",
    "\n",
    "                curr_y_true = y_test[curr_mask]\n",
    "                # rmse = np.sqrt(((curr_y_true-test_pred[curr_mask])**2).mean())\n",
    "                rmse = rmse_score(curr_y_true, test_pred[curr_mask])\n",
    "                if len(curr_y_true) == 1:\n",
    "                    n_rmse = rmse/curr_y_true[0]\n",
    "                else:\n",
    "                    n_rmse = rmse / (1+np.max(curr_y_true)-np.min(curr_y_true))\n",
    "                # n_rmse = rmse / (1+np.max(curr_y_true)-np.min(curr_y_true))\n",
    "                test_rmses.append(n_rmse)\n",
    "                \n",
    "                curr_mask = [x_lab == cpu_a or x_lab == cpu_b for x_lab in X_train.flatten()]\n",
    "                \n",
    "                curr_y_true = y_train[curr_mask]\n",
    "                rmse = rmse_score(curr_y_true, train_pred[curr_mask])\n",
    "                # rmse = np.sqrt(((curr_y_true-train_pred[curr_mask])**2).mean())\n",
    "                if len(curr_y_true) == 1:\n",
    "                    n_rmse = rmse/curr_y_true[0]\n",
    "                else:\n",
    "                    n_rmse = rmse / (1+np.max(curr_y_true)-np.min(curr_y_true))\n",
    "                train_rmses.append(n_rmse)\n",
    "                num_pairs == 1\n",
    "                \n",
    "        fold_test_rmses.append(np.mean(test_rmses[-num_pairs:]))\n",
    "        models.append(reg)\n",
    "    \n",
    "    train_time /= k\n",
    "    \n",
    "    best_model = models[np.argmin(fold_test_rmses)]\n",
    "    for i in range(len(num_cpus)):\n",
    "        for j in range(i, len(num_cpus)):\n",
    "            if i == j:\n",
    "                continue\n",
    "            cpu_a = num_cpus[i] # smaller\n",
    "            cpu_b = num_cpus[j] # larger\n",
    "            model_dict[(cpu_a, cpu_b)] = best_model\n",
    "\n",
    "    overall_test_rmse = np.mean(test_rmses)\n",
    "    overall_train_rmse = np.mean(train_rmses)\n",
    "    return overall_test_rmse, overall_train_rmse, model_dict, train_time"
   ]
  },
  {
   "cell_type": "code",
   "execution_count": 25,
   "id": "52cb86cd-62e1-4a5f-94ea-022b209ac8df",
   "metadata": {},
   "outputs": [],
   "source": [
    "def build_svm_model_indi(X, y, wl_name, grouping_type, groupping_id, show_fig=True):  \n",
    "    metrics = [X_label, y_label]\n",
    "    zipped = zip(X, y)\n",
    "\n",
    "    # append fixed effect and random effect to data\n",
    "    overall_data = pd.DataFrame(zipped, columns=metrics)\n",
    "    \n",
    "    train_scores, test_scores = [], []\n",
    "\n",
    "    models, datas = [], []\n",
    "    model_dict = {}\n",
    "    \n",
    "    # epsilon range: according to this paper: http://adrem.uantwerpen.be/bibrem/pubs/IJCNN2007.pdf\n",
    "    # C range: https://www.csie.ntu.edu.tw/~cjlin/papers/guide/guide.pdf\n",
    "    \n",
    "    # Cross validation grid search (best parameters) \n",
    "    # c_range = np.logspace(1, 100, 10) # 1 and 100\n",
    "    c_range = np.logspace(-5, 5, base=2.0, num=5) # 1 and 100\n",
    "    epsilon_range = np.linspace(10 ** -3, 1, 5) # 1-e3 and 1\n",
    "    # gamma_range = np.logspace(-4, 0, 20) # 2^{-15} to 2^3\n",
    "    degree_range = np.array(list(range(1, 5)))\n",
    "    tuned_parameters = [{'kernel': ['rbf'],'C': c_range, 'epsilon': epsilon_range}, # 'gamma':gamma_range,\n",
    "                        {'kernel': ['linear'], 'C': c_range, 'epsilon': epsilon_range}, # 'gamma':gamma_range,\n",
    "                        {'kernel': ['poly'], 'C': c_range, 'degree': degree_range, 'epsilon': epsilon_range} # 'gamma':gamma_range,\n",
    "                       ]\n",
    "\n",
    "    num_cpus = np.sort(np.unique(X))\n",
    "    prev_cpu = num_cpus[0]\n",
    "\n",
    "    train_time = 0\n",
    "    for i in range(len(num_cpus)):\n",
    "        for j in range(i, len(num_cpus)):\n",
    "            if i == j:\n",
    "                continue\n",
    "            cpu_a = num_cpus[i] # smaller\n",
    "            cpu_b = num_cpus[j] # larger\n",
    "            curr_data = overall_data[ (overall_data[X_label] == cpu_a) | (overall_data[X_label] == cpu_b) ]\n",
    "            \n",
    "            svr = SVR()\n",
    "            datas.append(curr_data)\n",
    "            clf = GridSearchCV(svr,param_grid=tuned_parameters,verbose=0, n_jobs=4,\n",
    "                               cv=5, \n",
    "                               scoring=score_func, \n",
    "                               return_train_score=True)\n",
    "            clf.fit(curr_data[[X_label]], curr_data[y_label])           \n",
    "            best_params = clf.best_params_\n",
    "            results = pd.DataFrame.from_dict(clf.cv_results_)\n",
    "            results_best = results[results['params'] == best_params].reset_index()\n",
    "            train_time += results_best['mean_fit_time'][0]\n",
    "\n",
    "            test_scores.append(results_best.iloc[0]['mean_test_score'])\n",
    "            train_scores.append(results_best.iloc[0]['mean_train_score'])\n",
    "            models.append(clf)\n",
    "            model_dict[(cpu_a, cpu_b)] = clf\n",
    "    \n",
    "    # plot the last one as example\n",
    "    overall_test = np.mean(test_scores)\n",
    "    overall_train = np.mean(train_scores)\n",
    "    return overall_test, overall_train, model_dict, train_time"
   ]
  },
  {
   "cell_type": "code",
   "execution_count": 26,
   "id": "c41b2b88-edae-4454-b2bd-07c9fe96a4d9",
   "metadata": {},
   "outputs": [],
   "source": [
    "def chose_and_pred(group_to_model_dict, tops, k, name, X, y, expr, specify_pair=None, show_fig=True):\n",
    "    min_groups = tops[:k]\n",
    "    model_dict = [group_to_model_dict[min_group] for min_group in min_groups]\n",
    "    rd = {}\n",
    "    if specify_pair is not None:\n",
    "        p = specify_pair\n",
    "        pair_score, dfs = trend_predict(model_dict, X, y, expr, f'name-{p[0]}-{p[1]}', k, p, show_fig)\n",
    "        rd[p] = (pair_score, dfs)\n",
    "        print('{} pairwise nrmse: {}'.format(p, pair_score))\n",
    "        return rd\n",
    "\n",
    "    overall_score, _ = trend_predict(model_dict, X, y, expr, name, k, None, show_fig)\n",
    "\n",
    "    print('{} Overall nrmse: {}'.format(name, overall_score))\n",
    "    for p in [(0, 1), (0, 2), (0, 3), (1, 2), (1, 3), (2, 3)]:\n",
    "        pair_score, _ = trend_predict(model_dict, X, y, expr, f'name-{p[0]}-{p[1]}', k, p, show_fig)\n",
    "        rd[p] = (pair_score, dfs)\n",
    "        print('{} pairwise nrmse: {}'.format(p, pair_score))\n",
    "    return rd"
   ]
  },
  {
   "cell_type": "code",
   "execution_count": 27,
   "id": "1f533178-da70-4efa-a25d-49e83298e2f4",
   "metadata": {},
   "outputs": [],
   "source": [
    "all_results = {}"
   ]
  },
  {
   "cell_type": "code",
   "execution_count": 28,
   "id": "a0b54596-18e2-4f2f-89d3-66ea1de9ed3a",
   "metadata": {},
   "outputs": [],
   "source": [
    "all_tests, all_trains = [], []\n",
    "svm_model_dict = {}\n",
    "\n",
    "for ty, curr_data in data_by_type.items():\n",
    "    # # if ty not in tops:\n",
    "    # #     continue\n",
    "    # min_idx, = np.where(np.array(known_data.wl_groups) == ty)\n",
    "    # print(np.unique(np.array(known_data.wl_names)[min_idx]))\n",
    "    X = get_cpu_nums_as_X(curr_data.cpu_nums)\n",
    "    y = np.array(curr_data.wl_latency)\n",
    "    _, _, model_dict, _ = build_svm_model_indi(X, y, curr_data.wl_names[0], 'group', \n",
    "                                               curr_data.wl_groups[0], show_fig=True)\n",
    "    svm_model_dict[ty] = model_dict"
   ]
  },
  {
   "cell_type": "code",
   "execution_count": 29,
   "id": "dfd8a18d-cc48-4f9a-b82d-3ceb1f9ea0d0",
   "metadata": {},
   "outputs": [],
   "source": [
    "result_dict = {\n",
    "    1: { # k\n",
    "        # wl_name: {\n",
    "        #     (0, 1): {}\n",
    "        # }\n",
    "    },\n",
    "    2: {},\n",
    "    3: {}\n",
    "}"
   ]
  },
  {
   "cell_type": "markdown",
   "id": "5239143f-1199-422e-a6b5-83d5a6cf1417",
   "metadata": {},
   "source": [
    "# Use workload"
   ]
  },
  {
   "cell_type": "markdown",
   "id": "4ebb0f89-2f60-4627-bd56-03aef28428c7",
   "metadata": {},
   "source": [
    "### Similarity computation"
   ]
  },
  {
   "cell_type": "code",
   "execution_count": 30,
   "id": "43047184-48db-4ba9-8bc1-7962ca56ec59",
   "metadata": {},
   "outputs": [],
   "source": [
    "# Similarity computation using known data and experiment data\n",
    "simi_wl_data_all = data_all.remove_by_wlname(['xml'])\n",
    "simi_wl_data_all = simi_wl_data_all.remove_by_group(all_queries)\n",
    "simi_wl_data_all = simi_wl_data_all.sample_data()"
   ]
  },
  {
   "cell_type": "code",
   "execution_count": 31,
   "id": "df59b5f4-95c2-4c84-96f0-6c7931a9a705",
   "metadata": {},
   "outputs": [],
   "source": [
    "# keep_idx = []\n",
    "# for run_idx, cpu_num in zip(simi_wl_data_all.sampled_run_idx, simi_wl_data_all.cpu_nums):\n",
    "#     if int(cpu_num[3:]) == ALL_CPUS[candid_idx]:\n",
    "#         keep_idx.append(run_idx)\n",
    "simi_wl_data = simi_wl_data_all.get_by_cpus([ALL_CPUS[candid_idx]])\n",
    "scaler = ScaleData()\n",
    "\n",
    "plan_mtxs, plan_col_ranges = scaler.scale(simi_wl_data.plan_mtxs, scale=False)\n",
    "\n",
    "simi_calc = Similarity(simi_wl_data, plan_mtxs, plan_col_ranges, [], [], num_bins=100)\n",
    "simi_calc.calc_bined_mtx(plan_only=True) "
   ]
  },
  {
   "cell_type": "code",
   "execution_count": 32,
   "id": "e53d4101-7ec2-4522-96e8-6bd2d30e94dc",
   "metadata": {},
   "outputs": [
    {
     "name": "stdout",
     "output_type": "stream",
     "text": [
      "Simi calculation time 0.06934666633605957\n"
     ]
    }
   ],
   "source": [
    "simi_calc.calc_dist_simi_matrix(cumulative=True, feature_names=top_7, norm_type='fro', timeit=True)\n",
    "simi_mtx = simi_calc.simi_mtx"
   ]
  },
  {
   "cell_type": "code",
   "execution_count": 33,
   "id": "c0248789-bc80-445e-b023-f28271d3f4b4",
   "metadata": {},
   "outputs": [
    {
     "name": "stdout",
     "output_type": "stream",
     "text": [
      "2 8\n"
     ]
    }
   ],
   "source": [
    "print(candid_idx, ALL_CPUS[candid_idx])"
   ]
  },
  {
   "cell_type": "code",
   "execution_count": 34,
   "id": "b3746e38-51a5-4ec9-88dd-203d6fe71386",
   "metadata": {},
   "outputs": [],
   "source": [
    "tops = get_simis(simi_wl_data, simi_mtx, candidate_wl_group)"
   ]
  },
  {
   "cell_type": "code",
   "execution_count": 35,
   "id": "85db62d8-afba-4306-93dd-b0bd1617a2fc",
   "metadata": {},
   "outputs": [
    {
     "name": "stdout",
     "output_type": "stream",
     "text": [
      "['twitter'] ['cpu8'] [8] ['8']\n",
      "['twitter'] ['cpu8'] [4] ['18']\n",
      "['tpcc'] ['cpu8'] [8] ['16']\n",
      "['tpcc'] ['cpu8'] [4] ['17']\n",
      "['tpcc'] ['cpu8'] [32] ['0']\n"
     ]
    }
   ],
   "source": [
    "tops = tops[:5]\n",
    "\n",
    "for wl in tops:\n",
    "    min_idx, = np.where(np.array(simi_wl_data.wl_groups) == wl)\n",
    "    print(np.unique(np.array(simi_wl_data.wl_names)[min_idx]), \n",
    "          np.unique(np.array(simi_wl_data.cpu_nums)[min_idx]),\n",
    "          np.unique(np.array(simi_wl_data.terminal_num)[min_idx]), \n",
    "          np.unique(np.array(simi_wl_data.wl_groups)[min_idx])) "
   ]
  },
  {
   "cell_type": "code",
   "execution_count": 36,
   "id": "39fac35d-968a-4c85-a9c4-d5a9e42be7f0",
   "metadata": {},
   "outputs": [
    {
     "name": "stdout",
     "output_type": "stream",
     "text": [
      "dict_keys(['0', '1', '14', '15', '16', '17', '18', '24', '25', '26', '8'])\n"
     ]
    }
   ],
   "source": [
    "print(svm_model_dict.keys())"
   ]
  },
  {
   "cell_type": "code",
   "execution_count": 37,
   "id": "728b2cbd-9091-44b5-8155-69f24fb12a3c",
   "metadata": {},
   "outputs": [
    {
     "name": "stdout",
     "output_type": "stream",
     "text": [
      "(2, 3) pairwise nrmse: 0.3263608604581459\n"
     ]
    }
   ],
   "source": [
    "for k in K_RANGE:\n",
    "    rd = chose_and_pred(svm_model_dict, tops, k, 'svm', chwl_X, chwl_y, chwl_expr, specify_pair=PAIR, show_fig=True)\n",
    "\n",
    "    result_dict[k]['Workload'] = rd"
   ]
  },
  {
   "cell_type": "code",
   "execution_count": 38,
   "id": "28bfe593-bf5c-4220-b682-78f0c30113ef",
   "metadata": {},
   "outputs": [
    {
     "name": "stdout",
     "output_type": "stream",
     "text": [
      "11     8\n",
      "6     18\n",
      "Name: wl_groups, dtype: object\n",
      "  cpu_num_small  EXPR  Y_TRUE_small  Y_PRED_small cpu_num_large  Y_TRUE_large  \\\n",
      "7           [8]     7      7536.125   2968.983822          [16]   7510.155556   \n",
      "\n",
      "   Y_PRED_large    Diff  Perc_Diff  \n",
      "7   7506.562256  3.5933   0.000478  \n"
     ]
    }
   ],
   "source": [
    "min_groups = tops[:2]\n",
    "model_dict = [svm_model_dict[min_group] for min_group in min_groups]\n",
    "print(min_groups)\n",
    "\n",
    "pair_score, dfs = trend_predict(model_dict, chwl_X, chwl_y, chwl_expr, f'svm{PAIR}', 2, PAIR, False)\n",
    "\n",
    "# pair_score, dfs = trend_predict(model_dict, chwl_X, chwl_y, chwl_expr, f'svm13',  (1, 3), 2, False)\n",
    "for curr_df in dfs:\n",
    "    # curr_df = dfs[0]\n",
    "    curr_df['Diff'] = abs(curr_df['Y_TRUE_large']-curr_df['Y_PRED_large'])\n",
    "    curr_df['Perc_Diff'] = curr_df['Diff']/curr_df['Y_TRUE_large']\n",
    "    temp = curr_df[['Y_TRUE_small', 'Y_TRUE_large', 'Y_PRED_large', 'Diff', 'Perc_Diff']]\n",
    "    print(curr_df[curr_df['Diff'] == curr_df['Diff'].min()])"
   ]
  },
  {
   "cell_type": "markdown",
   "id": "4f87093d-7e15-4b31-8baa-6ffceab6799b",
   "metadata": {},
   "source": [
    "# Use Query"
   ]
  },
  {
   "cell_type": "code",
   "execution_count": 39,
   "id": "cd8d11d6-652f-48c2-8940-d755593fd562",
   "metadata": {},
   "outputs": [],
   "source": [
    "def per_query_pipeline(osq_data_dict):\n",
    "    candidate_query_group = osq_data_dict['wl_group']\n",
    "    print(candidate_query_group)\n",
    "    # Similarity computation using known data and experiment data\n",
    "    simi_query_data_all = data_all.remove_by_wlname(['xml', 'chbenchmark'])\n",
    "    simi_query_data_all = simi_query_data_all.remove_by_group(remove_g + [g for g in all_candid_groups if g != candidate_query_group])\n",
    "    simi_query_data_all = simi_query_data_all.sample_data()\n",
    "\n",
    "    simi_query_data = simi_query_data_all.get_by_cpus([ALL_CPUS[candid_idx]])\n",
    "\n",
    "    scaler = ScaleData()\n",
    "    plan_mtxs, plan_col_ranges = scaler.scale(simi_query_data.plan_mtxs, scale=False)\n",
    "\n",
    "    simi_calc = Similarity(simi_query_data, plan_mtxs, plan_col_ranges, [], [], num_bins=100)\n",
    "    simi_calc.calc_bined_mtx(plan_only=True) \n",
    "    simi_calc.calc_dist_simi_matrix(cumulative=True, feature_names=top_7, norm_type='fro', timeit=True)\n",
    "    simi_mtx = simi_calc.simi_mtx\n",
    "    # print(simi_query_data.wl_names)\n",
    "\n",
    "    tops = get_simis(simi_query_data, simi_mtx, candidate_query_group)\n",
    "    \n",
    "    tops = tops[:5]\n",
    "\n",
    "    for wl in tops:\n",
    "        min_idx, = np.where(np.array(known_data.wl_groups) == wl)\n",
    "        print(np.unique(np.array(known_data.wl_names)[min_idx]), simi_query_data.cpu_nums[temp_candid_idx], \n",
    "              np.unique(np.array(known_data.terminal_num)[min_idx]), \n",
    "              np.unique(np.array(known_data.wl_groups)[min_idx])) \n",
    "\n",
    "    osq_X = osq_data_dict['x']\n",
    "    osq_y = osq_data_dict['y']\n",
    "    osq_expr = osq_data_dict['expr']        \n",
    "\n",
    "    for k in K_RANGE:\n",
    "        print(f\"k={k}\", end=' ')\n",
    "        rd = chose_and_pred(svm_model_dict, tops, k, 'svm', osq_X, osq_y, osq_expr, specify_pair=PAIR, show_fig=True)\n",
    "        result_dict[k][f\"{osq_dict['name']}\"] = rd\n",
    "        \n",
    "    min_groups = tops[:2]\n",
    "    model_dict = [svm_model_dict[min_group] for min_group in min_groups]\n",
    "\n",
    "    # pair_score, dfs = trend_predict(model_dict, chwl_X, chwl_y, chwl_expr, f'svm{PAIR}', PAIR,  False)\n",
    "\n",
    "    pair_score, dfs = trend_predict(model_dict, osq_X, osq_y, osq_expr, f'svm{PAIR}', 2, PAIR, False)\n",
    "    curr_df = dfs[0]\n",
    "    curr_df['Diff'] = abs(curr_df['Y_TRUE_large']-curr_df['Y_PRED_large'])\n",
    "    curr_df['Perc_Diff'] = curr_df['Diff']/curr_df['Y_TRUE_large']\n",
    "    temp = curr_df[['Y_TRUE_small', 'Y_TRUE_large', 'Y_PRED_large', 'Diff', 'Perc_Diff']]\n",
    "    print(curr_df[curr_df['Diff'] == curr_df['Diff'].min()])"
   ]
  },
  {
   "cell_type": "markdown",
   "id": "d00ef248-b39a-4543-ac7b-1a7fec1f69ad",
   "metadata": {},
   "source": [
    "### Prediction"
   ]
  },
  {
   "cell_type": "code",
   "execution_count": 40,
   "id": "cc59b550-d5bb-409a-8955-c9aee150913c",
   "metadata": {},
   "outputs": [
    {
     "name": "stdout",
     "output_type": "stream",
     "text": [
      "twitter-GetFollowers\n",
      "3\n",
      "Simi calculation time 0.053293704986572266\n",
      "['twitter'] cpu8 [4] ['18']\n",
      "['twitter'] cpu8 [8] ['8']\n",
      "['tpcc'] cpu8 [8] ['16']\n",
      "['tpcc'] cpu8 [4] ['17']\n",
      "['tpcc'] cpu8 [32] ['0']\n",
      "k=3 (2, 3) pairwise nrmse: 1.02316480484088\n",
      "  cpu_num_small  EXPR  Y_TRUE_small  Y_PRED_small cpu_num_large  Y_TRUE_large  \\\n",
      "3           [8]     3    529.980556   4745.866667          [16]    522.013889   \n",
      "\n",
      "   Y_PRED_large       Diff  Perc_Diff  \n",
      "3    500.417811  21.596077   0.041371  \n",
      "twitter-GetTweet\n",
      "4\n",
      "Simi calculation time 0.04969310760498047\n",
      "['twitter'] cpu8 [8] ['8']\n",
      "['twitter'] cpu8 [4] ['18']\n",
      "['tpcc'] cpu8 [8] ['16']\n",
      "['tpcc'] cpu8 [32] ['0']\n",
      "['tpcc'] cpu8 [4] ['17']\n",
      "k=3 (2, 3) pairwise nrmse: 3.4553173114477254\n",
      "  cpu_num_small  EXPR  Y_TRUE_small  Y_PRED_small cpu_num_large  Y_TRUE_large  \\\n",
      "2           [8]     2     75.588889   2968.983822          [16]     75.055556   \n",
      "\n",
      "   Y_PRED_large       Diff  Perc_Diff  \n",
      "2     46.026145  29.029411   0.386772  \n",
      "twitter-GetTweetsFromFollowing\n",
      "5\n",
      "Simi calculation time 0.04715704917907715\n",
      "['twitter'] cpu8 [8] ['8']\n",
      "['twitter'] cpu8 [4] ['18']\n",
      "['tpcc'] cpu8 [8] ['16']\n",
      "['tpcc'] cpu8 [4] ['17']\n",
      "['tpcc'] cpu8 [32] ['0']\n",
      "k=3 (2, 3) pairwise nrmse: 4.12063538166996\n",
      "  cpu_num_small  EXPR  Y_TRUE_small  Y_PRED_small cpu_num_large  Y_TRUE_large  \\\n",
      "5           [8]     5     75.477778   2968.983822          [16]     74.566667   \n",
      "\n",
      "   Y_PRED_large       Diff  Perc_Diff  \n",
      "5     45.915034  28.651633   0.384242  \n",
      "twitter-GetUserTweets\n",
      "6\n",
      "Simi calculation time 0.049273014068603516\n",
      "['twitter'] cpu8 [8] ['8']\n",
      "['twitter'] cpu8 [4] ['18']\n",
      "['tpcc'] cpu8 [8] ['16']\n",
      "['tpcc'] cpu8 [4] ['17']\n",
      "['tpcc'] cpu8 [32] ['0']\n",
      "k=3 (2, 3) pairwise nrmse: 0.5431818383610999\n",
      "  cpu_num_small  EXPR  Y_TRUE_small  Y_PRED_small cpu_num_large  Y_TRUE_large  \\\n",
      "3           [8]     3       6784.55   2968.983822          [16]   6746.058333   \n",
      "\n",
      "   Y_PRED_large      Diff  Perc_Diff  \n",
      "3   6754.987256  8.928923   0.001324  \n",
      "twitter-InsertTweet\n",
      "7\n",
      "Simi calculation time 0.04787158966064453\n",
      "['tpcc'] cpu8 [4] ['17']\n",
      "['tpcc'] cpu8 [8] ['16']\n",
      "['tpcc'] cpu8 [32] ['0']\n",
      "['twitter'] cpu8 [8] ['8']\n",
      "['twitter'] cpu8 [4] ['18']\n",
      "k=3 (2, 3) pairwise nrmse: 2.143094823538532\n",
      "  cpu_num_small  EXPR  Y_TRUE_small  Y_PRED_small cpu_num_large  Y_TRUE_large  \\\n",
      "7           [8]     7     74.430556    404.398611          [16]     75.513889   \n",
      "\n",
      "   Y_PRED_large      Diff  Perc_Diff  \n",
      "7     76.930556  1.416667    0.01876  \n"
     ]
    }
   ],
   "source": [
    "for osq_dict in osq_datas:\n",
    "    print(f\"{osq_dict['name']}\")\n",
    "    per_query_pipeline(osq_dict)"
   ]
  },
  {
   "cell_type": "code",
   "execution_count": 41,
   "id": "62e5794e-3736-42ff-9f88-00a658e6b289",
   "metadata": {},
   "outputs": [
    {
     "name": "stdout",
     "output_type": "stream",
     "text": [
      "[(0.3263608604581459, 'Workload'), (1.02316480484088, 'GetFollowers'), (3.4553173114477254, 'GetTweet'), (4.12063538166996, 'GetTweetsFromFollowing'), (0.5431818383610999, 'GetUserTweets'), (2.143094823538532, 'InsertTweet')]\n",
      "twitter-InsertTweet2-3_3\n"
     ]
    },
    {
     "data": {
      "image/png": "[encoded data removed]",
      "text/plain": [
       "<Figure size 1000x400 with 1 Axes>"
      ]
     },
     "metadata": {},
     "output_type": "display_data"
    }
   ],
   "source": [
    "labs = [\"Workload\"]\n",
    "labs += [osq_dict['name'] for osq_dict in osq_datas]\n",
    "\n",
    "for k in K_RANGE:\n",
    "    for p in ALL_PAIRS:\n",
    "        if p not in result_dict[k][\"Workload\"]:\n",
    "            continue\n",
    "        heights = []\n",
    "        x_labs = []\n",
    "        for l in labs:\n",
    "            heights.append(result_dict[k][l][p][0])\n",
    "            r = l.split('-')\n",
    "            if len(r) > 1:\n",
    "                x_labs.append(r[1])\n",
    "            else:\n",
    "                x_labs.append(r[0])\n",
    "        print(list(zip(heights, x_labs)))\n",
    "        fig = plt.figure(figsize =(10, 4))\n",
    "        plt.barh(x_labs, heights)\n",
    "        print(f'{l}{p[0]}-{p[1]}_{k}')\n",
    "        plt.savefig(f\"figs/twitter_bar{p[0]}-{p[1]}_{k}.png\", bbox_inches=\"tight\")\n",
    "        plt.show()"
   ]
  },
  {
   "cell_type": "code",
   "execution_count": null,
   "id": "89fc4c17-19e0-4409-b0fa-23b5bfa0dc4c",
   "metadata": {},
   "outputs": [],
   "source": [
    "# calculate APE ean absolute percentage error\n",
    "# 100*|y_true - y_pred|/y_true"
   ]
  },
  {
   "cell_type": "code",
   "execution_count": 59,
   "id": "c70da340-4ffe-4b3f-ba44-c075d060919c",
   "metadata": {},
   "outputs": [
    {
     "data": {
      "image/png": "[encoded data removed]",
      "text/plain": [
       "<Figure size 1000x400 with 1 Axes>"
      ]
     },
     "metadata": {},
     "output_type": "display_data"
    }
   ],
   "source": [
    "labs = [\"Workload\"]\n",
    "labs += [osq_dict['name'] for osq_dict in osq_datas]\n",
    "\n",
    "for k in K_RANGE:\n",
    "    for p in ALL_PAIRS:\n",
    "        if p not in result_dict[k][\"Workload\"]:\n",
    "            continue\n",
    "        x_labs = []\n",
    "        apes = []\n",
    "        for l in labs:\n",
    "            r = l.split('-')\n",
    "\n",
    "            curr_df = result_dict[k][l][p][1][0]\n",
    "            y_true = curr_df['Y_TRUE_large'].to_numpy()\n",
    "            y_pred = curr_df['Y_PRED_large'].to_numpy()\n",
    "            apes.append(100*np.abs(y_true - y_pred)/y_true)\n",
    "            if len(r) > 1:\n",
    "                x_labs.append(r[1])\n",
    "            else:\n",
    "                x_labs.append(r[0])\n",
    "        fig = plt.figure(figsize =(10, 4))\n",
    "        bplot = plt.boxplot(apes, vert=False, labels=x_labs, patch_artist=True)\n",
    "        # plt.boxplot(mapes, vert=False, tick_labels=x_labs, patch_artist=True)\n",
    "        # fill with colors\n",
    "        for i, patch in enumerate(bplot['boxes']):\n",
    "            if i == 0:\n",
    "                color = '#66c2a5'\n",
    "            else:\n",
    "                color = '#8da0cb'\n",
    "            bplot['boxes'][i].set_facecolor(color)\n",
    "        plt.xlabel('Absolute Percentage Error (%)')\n",
    "        plt.savefig(f\"figs/twitter_box{p[0]}-{p[1]}_{k}.png\", bbox_inches=\"tight\")\n",
    "        plt.show()"
   ]
  },
  {
   "cell_type": "code",
   "execution_count": 61,
   "id": "b9225b0e-9ca2-4231-aa18-1dfcfc5056e9",
   "metadata": {},
   "outputs": [
    {
     "name": "stdout",
     "output_type": "stream",
     "text": [
      "[0.57463779 0.27578368 0.64347269 0.67667776 0.21788091 0.27342879\n",
      " 0.23636339 0.12331234 0.58311321 0.32849796]\n",
      "0.3933168511628901\n",
      "[3.09450371 3.50639986 3.2275932  1.67463541 4.11689687 2.91263183\n",
      " 2.51664929 3.49231634 3.66956777 2.98607283]\n",
      "3.119726711862319\n",
      "[23.09454579 23.6024716  21.55092005 23.22698963 23.26902772 23.0567238\n",
      " 22.9346913  22.9762177  21.63472536 22.59438861]\n",
      "22.79407015595913\n",
      "[21.97276437 21.25246882 21.80039816 22.75627199 22.4765536  21.1855856\n",
      " 22.65104956 22.41700321 22.12101512 22.68387582]\n",
      "22.131698624779098\n",
      "[0.34123951 0.33251122 0.72492138 0.3229022  1.84975376 0.67316067\n",
      " 0.26629162 0.83540645 0.68845625 1.81846341]\n",
      "0.7853106465499006\n",
      "[4.02160719 5.08071473 5.35778231 6.059262   6.31031091 4.95893325\n",
      " 3.87124411 3.59511986 4.72260431 4.16111522]\n",
      "4.813869387812702\n"
     ]
    }
   ],
   "source": [
    "for temp in apes:\n",
    "    print(temp)\n",
    "    print(np.mean(temp))"
   ]
  },
  {
   "cell_type": "code",
   "execution_count": 43,
   "id": "1d710ead-91da-4f3a-83f5-888a7fe242f8",
   "metadata": {},
   "outputs": [],
   "source": [
    "def plot_prediction(dfs, labs, k):\n",
    "    # plot all trends \n",
    "    colors = ['#1b9e77','#7570b3','#d95f02','#e7298a']\n",
    "    # fig, ax = plt.subplots(figsize=(6,2))\n",
    "    # ax = lin_axs[idx]\n",
    "    pred_color = colors[0]\n",
    "    \n",
    "    true_colors = sns.color_palette(\"flare\", len(labs))\n",
    "    pred_colors = sns.color_palette(\"crest\", len(labs))\n",
    "    \n",
    "    all_true_tracker = {}\n",
    "        \n",
    "    for df, lab, run_color in zip(dfs, labs, true_colors):\n",
    "        expr_label_add = False\n",
    "        for _, row in df.iterrows():\n",
    "            curr_x = [row[f'{X_label}{suffix}'] for suffix in suffix_labels]\n",
    "            true_y = [row[f'{y_true_label}{suffix}'] for suffix in suffix_labels]\n",
    "\n",
    "            for x, y in zip(np.array(curr_x).flatten(), true_y):\n",
    "                if x not in all_true_tracker:\n",
    "                    all_true_tracker[x] = []\n",
    "                all_true_tracker[x].append(y)\n",
    "\n",
    "            if not expr_label_add:\n",
    "                expr = ax.plot(curr_x, true_y, '-', color=run_color, alpha=0.5, linewidth=0.5, label=f'True')\n",
    "                expr_label_add = True\n",
    "            else:\n",
    "                ax.plot(curr_x, true_y, '-', color=run_color, alpha=0.5, linewidth=0.5)\n",
    "        \n",
    "    for df, lab, run_color in zip(dfs, labs, pred_colors):\n",
    "        pred_label_add = False\n",
    "        for _, row in df.iterrows():\n",
    "            curr_x = [row[f'{X_label}{suffix}'] for suffix in suffix_labels]\n",
    "            pred_y = [row[f'{y_true_label}{suffix_labels[0]}'], row[f'{y_pred_label}{suffix_labels[1]}']]\n",
    "\n",
    "            if not pred_label_add:\n",
    "                pred_label_add = True\n",
    "                pred_l = ax.plot(curr_x, pred_y, '-o', color=pred_color, linewidth=0.5, label=f'Predict')\n",
    "            else:\n",
    "                ax.plot(curr_x, pred_y, '-o', color=pred_color, linewidth=0.5)\n",
    "    \n",
    "    ax.axis('tight')\n",
    "    ax.set_xlabel('')#'Num CPUs')\n",
    "    ax.set_ylabel('')#'Latency')\n",
    "    max_true_y = np.max([ np.max(\n",
    "        df['Y_PRED_large'].to_list() + df['Y_TRUE_small'].to_list() + df['Y_TRUE_large'].to_list()\n",
    "    ) for df in dfs])\n",
    "\n",
    "    ax.set_ylim(ymin=0, ymax=1.1*max_true_y)\n",
    "    ax.title.set_text('-'.join(labs))\n",
    "    # ax.set_xticks([4, 16]) # TODO remove hard code\n",
    "\n",
    "    ax.legend(loc='best')"
   ]
  },
  {
   "cell_type": "code",
   "execution_count": 44,
   "id": "dcc460fd-1e6b-48d1-95d2-3996a39889b4",
   "metadata": {},
   "outputs": [
    {
     "name": "stdout",
     "output_type": "stream",
     "text": [
      "pred_twitter_2-3_3\n"
     ]
    },
    {
     "data": {
      "image/png": "[encoded data removed]",
      "text/plain": [
       "<Figure size 1200x800 with 7 Axes>"
      ]
     },
     "metadata": {},
     "output_type": "display_data"
    }
   ],
   "source": [
    "labs = [\"Workload\"]\n",
    "labs += [osq_dict['name'] for osq_dict in osq_datas]\n",
    "\n",
    "for k in K_RANGE:\n",
    "    for p in [(0, 1), (0, 2), (0, 3), (1, 2), (1, 3), (2, 3)]:\n",
    "        if p not in result_dict[k][\"Workload\"]:\n",
    "            continue\n",
    "        fig, axs = plt.subplots(nrows=3, ncols=2, sharex=True, figsize=(12, 8))\n",
    "\n",
    "        for l, ax in zip(labs, axs.reshape(-1)):\n",
    "            dfs = result_dict[k][l][p][1]\n",
    "            plot_prediction(dfs, [l], k)\n",
    "        plt.xticks([ALL_CPUS[p[0]], ALL_CPUS[p[1]]]) # TODO remove hard code\n",
    "\n",
    "        fig.add_subplot(111, frameon=False)        \n",
    "        plt.tick_params(labelcolor='none', which='both', top=False, bottom=False, left=False, right=False)\n",
    "        plt.xlabel('Num CPUs')\n",
    "        plt.ylabel('Latency')\n",
    "\n",
    "        p_substr = f'{p[0]}-{p[1]}'\n",
    "        print(f'pred_twitter_{p_substr}_{k}')\n",
    "        plt.savefig(f\"figs/pred_twitter_{p_substr}_{k}.png\", bbox_inches=\"tight\")\n",
    "        plt.show()\n",
    "        \n",
    "#         # plot workload \n",
    "#         dfs = result_dict[k]['Workload'][p][1]\n",
    "#         assert(len(dfs) == 1)\n",
    "#         plot_prediction(dfs, ['Workload'], k, True)\n",
    "        \n",
    "#         q_dfs = []\n",
    "#         for l in labs:\n",
    "#             dfs = result_dict[k][l][p][1]\n",
    "#             assert(len(dfs) == 1)\n",
    "#             plot_prediction(dfs, [l], k, True)\n",
    "#         # plot_prediction(q_dfs, labs, k, True)"
   ]
  },
  {
   "cell_type": "code",
   "execution_count": null,
   "id": "8fb10441-ea73-42cc-95bc-eade8bc9e049",
   "metadata": {},
   "outputs": [],
   "source": []
  },
  {
   "cell_type": "code",
   "execution_count": null,
   "id": "f77b9bc6-6298-41ee-8c3a-4747323938e8",
   "metadata": {},
   "outputs": [],
   "source": []
  }
 ],
 "metadata": {
  "kernelspec": {
   "display_name": "workload_insights",
   "language": "python",
   "name": "workload_insights"
  },
  "language_info": {
   "codemirror_mode": {
    "name": "ipython",
    "version": 3
   },
   "file_extension": ".py",
   "mimetype": "text/x-python",
   "name": "python",
   "nbconvert_exporter": "python",
   "pygments_lexer": "ipython3",
   "version": "3.9.13"
  }
 },
 "nbformat": 4,
 "nbformat_minor": 5
}
